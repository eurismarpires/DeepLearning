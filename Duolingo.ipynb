{
 "cells": [
  {
   "cell_type": "code",
   "execution_count": 52,
   "metadata": {},
   "outputs": [],
   "source": [
    "a = \"She is going to set the table\"\n",
    "b = \"Are you not going to arrive there\"\n",
    "c = \"I am going to add salt\"\n",
    "d = \"He is going to ask for water\"\n",
    "e = \"We are going to allow this\"\n",
    "f = \"You are going to achieve that goal\"\n",
    "g = \"They are going to arrive in Rome\"\n",
    "h  = \"The ladies are going to arrive soon\"\n",
    "i = \"I am not going to ask again\"\n",
    "j = \"We are not going to allow this\"\n",
    "k = \"I am going to add sugar\"\n",
    "l = \"She is going to achieve her goal\"\n",
    "m = \"What are you going to add\"\n",
    "n = \"You are never to achieve this\"\n",
    "o = \"We are going to allow this\""
   ]
  },
  {
   "cell_type": "code",
   "execution_count": 53,
   "metadata": {
    "collapsed": true
   },
   "outputs": [],
   "source": [
    "frases = set([a,b,c,d,e,f,g,h,i,j,k,l,m,n,o])"
   ]
  },
  {
   "cell_type": "code",
   "execution_count": 54,
   "metadata": {},
   "outputs": [
    {
     "data": {
      "text/plain": [
       "{'Are you not going to arrive there',\n",
       " 'He is going to ask for water',\n",
       " 'I am going to add salt',\n",
       " 'I am going to add sugar',\n",
       " 'I am not going to ask again',\n",
       " 'She is going to achieve her goal',\n",
       " 'She is going to set the table',\n",
       " 'The ladies are going to arrive soon',\n",
       " 'They are going to arrive in Rome',\n",
       " 'We are going to allow this',\n",
       " 'We are not going to allow this',\n",
       " 'What are you going to add',\n",
       " 'You are going to achieve that goal',\n",
       " 'You are never to achieve this'}"
      ]
     },
     "execution_count": 54,
     "metadata": {},
     "output_type": "execute_result"
    }
   ],
   "source": [
    "frases"
   ]
  },
  {
   "cell_type": "code",
   "execution_count": 55,
   "metadata": {
    "collapsed": true
   },
   "outputs": [],
   "source": [
    "lista_palavras = []"
   ]
  },
  {
   "cell_type": "code",
   "execution_count": 56,
   "metadata": {},
   "outputs": [],
   "source": [
    "for frase in frases:\n",
    "    palavras = frase.split(' ')\n",
    "    for palavra in palavras:\n",
    "        lista_palavras.append(palavra)\n",
    "        "
   ]
  },
  {
   "cell_type": "code",
   "execution_count": 57,
   "metadata": {},
   "outputs": [
    {
     "name": "stdout",
     "output_type": "stream",
     "text": [
      "{'You', 'to', 'The', 'there', 'that', 'water', 'in', 'am', 'What', 'Rome', 'again', 'going', 'table', 'ladies', 'sugar', 'not', 'Are', 'this', 'her', 'you', 'arrive', 'We', 'never', 'is', 'He', 'I', 'add', 'salt', 'allow', 'for', 'soon', 'set', 'goal', 'They', 'ask', 'She', 'the', 'are', 'achieve'}\n"
     ]
    }
   ],
   "source": [
    "print(set(lista_palavras))"
   ]
  },
  {
   "cell_type": "code",
   "execution_count": 58,
   "metadata": {},
   "outputs": [],
   "source": [
    "palavras_to_int = [a for a in enumerate(set(lista_palavras))]"
   ]
  },
  {
   "cell_type": "code",
   "execution_count": 59,
   "metadata": {},
   "outputs": [
    {
     "data": {
      "text/plain": [
       "[(0, 'You'),\n",
       " (1, 'to'),\n",
       " (2, 'The'),\n",
       " (3, 'there'),\n",
       " (4, 'that'),\n",
       " (5, 'water'),\n",
       " (6, 'in'),\n",
       " (7, 'am'),\n",
       " (8, 'What'),\n",
       " (9, 'Rome'),\n",
       " (10, 'again'),\n",
       " (11, 'going'),\n",
       " (12, 'table'),\n",
       " (13, 'ladies'),\n",
       " (14, 'sugar'),\n",
       " (15, 'not'),\n",
       " (16, 'Are'),\n",
       " (17, 'this'),\n",
       " (18, 'her'),\n",
       " (19, 'you'),\n",
       " (20, 'arrive'),\n",
       " (21, 'We'),\n",
       " (22, 'never'),\n",
       " (23, 'is'),\n",
       " (24, 'He'),\n",
       " (25, 'I'),\n",
       " (26, 'add'),\n",
       " (27, 'salt'),\n",
       " (28, 'allow'),\n",
       " (29, 'for'),\n",
       " (30, 'soon'),\n",
       " (31, 'set'),\n",
       " (32, 'goal'),\n",
       " (33, 'They'),\n",
       " (34, 'ask'),\n",
       " (35, 'She'),\n",
       " (36, 'the'),\n",
       " (37, 'are'),\n",
       " (38, 'achieve')]"
      ]
     },
     "execution_count": 59,
     "metadata": {},
     "output_type": "execute_result"
    }
   ],
   "source": [
    "palavras_to_int"
   ]
  },
  {
   "cell_type": "code",
   "execution_count": null,
   "metadata": {
    "collapsed": true
   },
   "outputs": [],
   "source": []
  },
  {
   "cell_type": "code",
   "execution_count": null,
   "metadata": {
    "collapsed": true
   },
   "outputs": [],
   "source": []
  }
 ],
 "metadata": {
  "anaconda-cloud": {},
  "kernelspec": {
   "display_name": "Python [default]",
   "language": "python",
   "name": "python3"
  },
  "language_info": {
   "codemirror_mode": {
    "name": "ipython",
    "version": 3
   },
   "file_extension": ".py",
   "mimetype": "text/x-python",
   "name": "python",
   "nbconvert_exporter": "python",
   "pygments_lexer": "ipython3",
   "version": "3.5.2"
  }
 },
 "nbformat": 4,
 "nbformat_minor": 1
}
