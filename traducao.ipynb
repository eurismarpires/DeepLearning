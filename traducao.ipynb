{
  "nbformat": 4,
  "nbformat_minor": 0,
  "metadata": {
    "colab": {
      "name": "traducao.ipynb",
      "version": "0.3.2",
      "provenance": [],
      "collapsed_sections": []
    },
    "kernelspec": {
      "name": "python3",
      "display_name": "Python 3"
    }
  },
  "cells": [
    {
      "cell_type": "markdown",
      "metadata": {
        "id": "view-in-github",
        "colab_type": "text"
      },
      "source": [
        "[View in Colaboratory](https://colab.research.google.com/github/eurismarpires/DeepLearning/blob/master/traducao.ipynb)"
      ]
    },
    {
      "metadata": {
        "id": "Q4CJlJwbe-rG",
        "colab_type": "code",
        "colab": {
          "base_uri": "https://localhost:8080/",
          "height": 217
        },
        "outputId": "8090de41-a09c-4c0d-96a1-5a5be5c13548"
      },
      "cell_type": "code",
      "source": [
        "!wget http://www.manythings.org/anki/por-eng.zip"
      ],
      "execution_count": 1,
      "outputs": [
        {
          "output_type": "stream",
          "text": [
            "--2018-05-03 00:53:25--  http://www.manythings.org/anki/por-eng.zip\n",
            "Resolving www.manythings.org (www.manythings.org)... 104.24.108.196, 104.24.109.196, 2400:cb00:2048:1::6818:6cc4, ...\n",
            "Connecting to www.manythings.org (www.manythings.org)|104.24.108.196|:80... connected.\n",
            "HTTP request sent, awaiting response... 200 OK\n",
            "Length: 2372218 (2.3M) [application/zip]\n",
            "Saving to: ‘por-eng.zip’\n",
            "\n",
            "por-eng.zip         100%[===================>]   2.26M  2.74MB/s    in 0.8s    \n",
            "\n",
            "2018-05-03 00:53:26 (2.74 MB/s) - ‘por-eng.zip’ saved [2372218/2372218]\n",
            "\n"
          ],
          "name": "stdout"
        }
      ]
    },
    {
      "metadata": {
        "id": "NOhNCrGGfFgp",
        "colab_type": "code",
        "colab": {
          "base_uri": "https://localhost:8080/",
          "height": 35
        },
        "outputId": "2ad2d1ab-3e73-45a1-f015-9f323ea0537f"
      },
      "cell_type": "code",
      "source": [
        "!ls"
      ],
      "execution_count": 2,
      "outputs": [
        {
          "output_type": "stream",
          "text": [
            "datalab  por-eng.zip\r\n"
          ],
          "name": "stdout"
        }
      ]
    },
    {
      "metadata": {
        "id": "TpQRy7YrfcuY",
        "colab_type": "code",
        "colab": {
          "base_uri": "https://localhost:8080/",
          "height": 72
        },
        "outputId": "f12f056f-9d0a-4a05-c4b3-d7f6fd670401"
      },
      "cell_type": "code",
      "source": [
        "!unzip por-eng.zip"
      ],
      "execution_count": 3,
      "outputs": [
        {
          "output_type": "stream",
          "text": [
            "Archive:  por-eng.zip\r\n",
            "  inflating: _about.txt              \n",
            "  inflating: por.txt                 \n"
          ],
          "name": "stdout"
        }
      ]
    },
    {
      "metadata": {
        "id": "6Ob5ftmrff5B",
        "colab_type": "code",
        "colab": {
          "base_uri": "https://localhost:8080/",
          "height": 35
        },
        "outputId": "0e5987e4-b31d-464e-c73a-330c89d7dc18"
      },
      "cell_type": "code",
      "source": [
        "!ls"
      ],
      "execution_count": 4,
      "outputs": [
        {
          "output_type": "stream",
          "text": [
            "_about.txt  datalab  por-eng.zip  por.txt\r\n"
          ],
          "name": "stdout"
        }
      ]
    },
    {
      "metadata": {
        "id": "1gGE1hgdfh5-",
        "colab_type": "code",
        "colab": {}
      },
      "cell_type": "code",
      "source": [
        "import pandas as pd"
      ],
      "execution_count": 0,
      "outputs": []
    },
    {
      "metadata": {
        "id": "3pf0VKAmfvys",
        "colab_type": "code",
        "colab": {}
      },
      "cell_type": "code",
      "source": [
        "filename = \"por.txt\"\n",
        "raw_text = open(filename).read()"
      ],
      "execution_count": 0,
      "outputs": []
    },
    {
      "metadata": {
        "id": "7hBBIm5tfxys",
        "colab_type": "code",
        "colab": {}
      },
      "cell_type": "code",
      "source": [
        "text = raw_text.split('\\n')"
      ],
      "execution_count": 0,
      "outputs": []
    },
    {
      "metadata": {
        "id": "J8bBOtb6fzjl",
        "colab_type": "code",
        "colab": {}
      },
      "cell_type": "code",
      "source": [
        "pt = []\n",
        "en = []\n",
        "idt = []"
      ],
      "execution_count": 0,
      "outputs": []
    },
    {
      "metadata": {
        "id": "9Is2v4Myf0rZ",
        "colab_type": "code",
        "colab": {
          "base_uri": "https://localhost:8080/",
          "height": 35
        },
        "outputId": "2d400445-2b89-495a-bf28-e4abdec5144b"
      },
      "cell_type": "code",
      "source": [
        "for i,linha in enumerate(text):\n",
        "    a = linha.split('\\t')\n",
        "    try:\n",
        "        b = a[0]\n",
        "        c = a[1] \n",
        "        if a != '' and b != '':\n",
        "            idt.append(i)\n",
        "            en.append(b)\n",
        "            pt.append(c)\n",
        "    except:\n",
        "        print(i,a)"
      ],
      "execution_count": 17,
      "outputs": [
        {
          "output_type": "stream",
          "text": [
            "120958 ['']\n"
          ],
          "name": "stdout"
        }
      ]
    },
    {
      "metadata": {
        "id": "kJpCf8CHf17p",
        "colab_type": "code",
        "colab": {}
      },
      "cell_type": "code",
      "source": [
        "data = {'id':idt,'portugues':pt,'ingles':en}"
      ],
      "execution_count": 0,
      "outputs": []
    },
    {
      "metadata": {
        "id": "IAbqcIf1f44K",
        "colab_type": "code",
        "colab": {}
      },
      "cell_type": "code",
      "source": [
        "df = pd.DataFrame(data)"
      ],
      "execution_count": 0,
      "outputs": []
    },
    {
      "metadata": {
        "id": "L4FtYUVef6lC",
        "colab_type": "code",
        "colab": {
          "base_uri": "https://localhost:8080/",
          "height": 198
        },
        "outputId": "57ed8975-9cad-4cd6-b0fb-e7fd872da0fa"
      },
      "cell_type": "code",
      "source": [
        "df.head()"
      ],
      "execution_count": 20,
      "outputs": [
        {
          "output_type": "execute_result",
          "data": {
            "text/html": [
              "<div>\n",
              "<style scoped>\n",
              "    .dataframe tbody tr th:only-of-type {\n",
              "        vertical-align: middle;\n",
              "    }\n",
              "\n",
              "    .dataframe tbody tr th {\n",
              "        vertical-align: top;\n",
              "    }\n",
              "\n",
              "    .dataframe thead th {\n",
              "        text-align: right;\n",
              "    }\n",
              "</style>\n",
              "<table border=\"1\" class=\"dataframe\">\n",
              "  <thead>\n",
              "    <tr style=\"text-align: right;\">\n",
              "      <th></th>\n",
              "      <th>id</th>\n",
              "      <th>ingles</th>\n",
              "      <th>portugues</th>\n",
              "    </tr>\n",
              "  </thead>\n",
              "  <tbody>\n",
              "    <tr>\n",
              "      <th>0</th>\n",
              "      <td>0</td>\n",
              "      <td>Go.</td>\n",
              "      <td>Vai.</td>\n",
              "    </tr>\n",
              "    <tr>\n",
              "      <th>1</th>\n",
              "      <td>1</td>\n",
              "      <td>Go.</td>\n",
              "      <td>Vá.</td>\n",
              "    </tr>\n",
              "    <tr>\n",
              "      <th>2</th>\n",
              "      <td>2</td>\n",
              "      <td>Hi.</td>\n",
              "      <td>Oi.</td>\n",
              "    </tr>\n",
              "    <tr>\n",
              "      <th>3</th>\n",
              "      <td>3</td>\n",
              "      <td>Run!</td>\n",
              "      <td>Corre!</td>\n",
              "    </tr>\n",
              "    <tr>\n",
              "      <th>4</th>\n",
              "      <td>4</td>\n",
              "      <td>Run!</td>\n",
              "      <td>Corra!</td>\n",
              "    </tr>\n",
              "  </tbody>\n",
              "</table>\n",
              "</div>"
            ],
            "text/plain": [
              "   id ingles portugues\n",
              "0   0    Go.      Vai.\n",
              "1   1    Go.       Vá.\n",
              "2   2    Hi.       Oi.\n",
              "3   3   Run!    Corre!\n",
              "4   4   Run!    Corra!"
            ]
          },
          "metadata": {
            "tags": []
          },
          "execution_count": 20
        }
      ]
    },
    {
      "metadata": {
        "id": "Sbyh_Arpf7gj",
        "colab_type": "code",
        "colab": {
          "base_uri": "https://localhost:8080/",
          "height": 198
        },
        "outputId": "c6e2f16b-1f03-4505-ec4f-7c0cf0103c7b"
      },
      "cell_type": "code",
      "source": [
        "df.tail()"
      ],
      "execution_count": 21,
      "outputs": [
        {
          "output_type": "execute_result",
          "data": {
            "text/html": [
              "<div>\n",
              "<style scoped>\n",
              "    .dataframe tbody tr th:only-of-type {\n",
              "        vertical-align: middle;\n",
              "    }\n",
              "\n",
              "    .dataframe tbody tr th {\n",
              "        vertical-align: top;\n",
              "    }\n",
              "\n",
              "    .dataframe thead th {\n",
              "        text-align: right;\n",
              "    }\n",
              "</style>\n",
              "<table border=\"1\" class=\"dataframe\">\n",
              "  <thead>\n",
              "    <tr style=\"text-align: right;\">\n",
              "      <th></th>\n",
              "      <th>id</th>\n",
              "      <th>ingles</th>\n",
              "      <th>portugues</th>\n",
              "    </tr>\n",
              "  </thead>\n",
              "  <tbody>\n",
              "    <tr>\n",
              "      <th>120953</th>\n",
              "      <td>120953</td>\n",
              "      <td>The Tatoeba Project, which can be found online...</td>\n",
              "      <td>O Projeto Tatoeba, que se pode encontrar on-li...</td>\n",
              "    </tr>\n",
              "    <tr>\n",
              "      <th>120954</th>\n",
              "      <td>120954</td>\n",
              "      <td>No matter how much you try to convince people ...</td>\n",
              "      <td>Não importa o quanto você tenta convencer os o...</td>\n",
              "    </tr>\n",
              "    <tr>\n",
              "      <th>120955</th>\n",
              "      <td>120955</td>\n",
              "      <td>Some movies make such an impact that one never...</td>\n",
              "      <td>Alguns filmes são tão marcantes que jamais nos...</td>\n",
              "    </tr>\n",
              "    <tr>\n",
              "      <th>120956</th>\n",
              "      <td>120956</td>\n",
              "      <td>A child who is a native speaker usually knows ...</td>\n",
              "      <td>Uma criança que é falante nativa geralmente sa...</td>\n",
              "    </tr>\n",
              "    <tr>\n",
              "      <th>120957</th>\n",
              "      <td>120957</td>\n",
              "      <td>We recommend adding sentences and translations...</td>\n",
              "      <td>Recomendamos acrescentar frases e traduções na...</td>\n",
              "    </tr>\n",
              "  </tbody>\n",
              "</table>\n",
              "</div>"
            ],
            "text/plain": [
              "            id                                             ingles  \\\n",
              "120953  120953  The Tatoeba Project, which can be found online...   \n",
              "120954  120954  No matter how much you try to convince people ...   \n",
              "120955  120955  Some movies make such an impact that one never...   \n",
              "120956  120956  A child who is a native speaker usually knows ...   \n",
              "120957  120957  We recommend adding sentences and translations...   \n",
              "\n",
              "                                                portugues  \n",
              "120953  O Projeto Tatoeba, que se pode encontrar on-li...  \n",
              "120954  Não importa o quanto você tenta convencer os o...  \n",
              "120955  Alguns filmes são tão marcantes que jamais nos...  \n",
              "120956  Uma criança que é falante nativa geralmente sa...  \n",
              "120957  Recomendamos acrescentar frases e traduções na...  "
            ]
          },
          "metadata": {
            "tags": []
          },
          "execution_count": 21
        }
      ]
    },
    {
      "metadata": {
        "id": "HfX8ODjof9Jl",
        "colab_type": "code",
        "colab": {}
      },
      "cell_type": "code",
      "source": [
        "csv = df[['ingles', 'portugues']]"
      ],
      "execution_count": 0,
      "outputs": []
    },
    {
      "metadata": {
        "id": "QT3WDIiyxU36",
        "colab_type": "code",
        "colab": {
          "base_uri": "https://localhost:8080/",
          "height": 198
        },
        "outputId": "976b3124-f74a-4722-9f43-a719f5bbf2eb"
      },
      "cell_type": "code",
      "source": [
        "csv.head()"
      ],
      "execution_count": 23,
      "outputs": [
        {
          "output_type": "execute_result",
          "data": {
            "text/html": [
              "<div>\n",
              "<style scoped>\n",
              "    .dataframe tbody tr th:only-of-type {\n",
              "        vertical-align: middle;\n",
              "    }\n",
              "\n",
              "    .dataframe tbody tr th {\n",
              "        vertical-align: top;\n",
              "    }\n",
              "\n",
              "    .dataframe thead th {\n",
              "        text-align: right;\n",
              "    }\n",
              "</style>\n",
              "<table border=\"1\" class=\"dataframe\">\n",
              "  <thead>\n",
              "    <tr style=\"text-align: right;\">\n",
              "      <th></th>\n",
              "      <th>ingles</th>\n",
              "      <th>portugues</th>\n",
              "    </tr>\n",
              "  </thead>\n",
              "  <tbody>\n",
              "    <tr>\n",
              "      <th>0</th>\n",
              "      <td>Go.</td>\n",
              "      <td>Vai.</td>\n",
              "    </tr>\n",
              "    <tr>\n",
              "      <th>1</th>\n",
              "      <td>Go.</td>\n",
              "      <td>Vá.</td>\n",
              "    </tr>\n",
              "    <tr>\n",
              "      <th>2</th>\n",
              "      <td>Hi.</td>\n",
              "      <td>Oi.</td>\n",
              "    </tr>\n",
              "    <tr>\n",
              "      <th>3</th>\n",
              "      <td>Run!</td>\n",
              "      <td>Corre!</td>\n",
              "    </tr>\n",
              "    <tr>\n",
              "      <th>4</th>\n",
              "      <td>Run!</td>\n",
              "      <td>Corra!</td>\n",
              "    </tr>\n",
              "  </tbody>\n",
              "</table>\n",
              "</div>"
            ],
            "text/plain": [
              "  ingles portugues\n",
              "0    Go.      Vai.\n",
              "1    Go.       Vá.\n",
              "2    Hi.       Oi.\n",
              "3   Run!    Corre!\n",
              "4   Run!    Corra!"
            ]
          },
          "metadata": {
            "tags": []
          },
          "execution_count": 23
        }
      ]
    },
    {
      "metadata": {
        "id": "2XMgFKFXxYHJ",
        "colab_type": "code",
        "colab": {}
      },
      "cell_type": "code",
      "source": [
        "csv.to_csv('traducao.csv',index=False)"
      ],
      "execution_count": 0,
      "outputs": []
    },
    {
      "metadata": {
        "id": "qF13ecvIx8Cm",
        "colab_type": "code",
        "colab": {
          "base_uri": "https://localhost:8080/",
          "height": 35
        },
        "outputId": "f18f050f-f412-4fed-a76d-cfe9cd47bb04"
      },
      "cell_type": "code",
      "source": [
        "!ls"
      ],
      "execution_count": 25,
      "outputs": [
        {
          "output_type": "stream",
          "text": [
            "_about.txt  datalab  por-eng.zip  por.txt  traducao.csv\r\n"
          ],
          "name": "stdout"
        }
      ]
    },
    {
      "metadata": {
        "id": "AsMzgmO1x8xU",
        "colab_type": "code",
        "colab": {}
      },
      "cell_type": "code",
      "source": [
        ""
      ],
      "execution_count": 0,
      "outputs": []
    }
  ]
}