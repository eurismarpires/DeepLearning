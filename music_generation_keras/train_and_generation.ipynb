{
 "cells": [
  {
   "cell_type": "code",
   "execution_count": 82,
   "metadata": {
    "collapsed": false
   },
   "outputs": [],
   "source": [
    "import pickle\n",
    "import numpy as np\n",
    "from pathlib import Path\n",
    "from music21 import converter, clef, stream, pitch, note, meter, midi, instrument\n",
    "from keras.models import Sequential, load_model\n",
    "from keras.layers.core import Dense, Activation, Dropout\n",
    "from keras.layers.recurrent import LSTM\n",
    "from keras.callbacks import History, ModelCheckpoint\n",
    "from keras.optimizers import RMSprop\n",
    "from utils import unpack_corpus, create_png_from_stream, create_midi_from_stream, upload_to_s3_bucket"
   ]
  },
  {
   "cell_type": "code",
   "execution_count": 39,
   "metadata": {
    "collapsed": true
   },
   "outputs": [],
   "source": [
    "KEY_SIG_OFFSET = 0"
   ]
  },
  {
   "cell_type": "code",
   "execution_count": 40,
   "metadata": {
    "collapsed": true
   },
   "outputs": [],
   "source": [
    "midi_files = []\n",
    "#for suite in ['1007', '1008', '1009', '1010', '1011', '1012']:\n",
    "for suite in ['1007']:\n",
    "    for mvt in ['1', '2', '3', '4', '5', '6']:\n",
    "        filename = 'bach_suites/bwv{}_0{}.mid'.format(suite, mvt)\n",
    "        midi_files.append(filename)\n",
    "\n",
    "phrase_lengths = [10, 20, 35, 50]\n",
    "layer_size = 512\n",
    "step_size = 3\n",
    "batch_size = 256\n",
    "#nb_epoch = 700\n",
    "nb_epoch = 10\n",
    "\n",
    "corpus_data = {}"
   ]
  },
  {
   "cell_type": "code",
   "execution_count": 41,
   "metadata": {
    "collapsed": true
   },
   "outputs": [],
   "source": [
    "def parse_notes(midi_stream):\n",
    "    melody_corpus = []\n",
    "\n",
    "    last_pitch = 1\n",
    "    chord_buffer = []\n",
    "    prev_offset = 0.0\n",
    "    for m in midi_stream.measures(1, None):\n",
    "        time_sig = m.timeSignature\n",
    "        for nr in m.flat.notesAndRests:\n",
    "            offset_loc = nr.offset\n",
    "            # pitch = nr.pitch.pitchClass + 1  if isinstance(nr, note.Note) else 0\n",
    "            pitch = nr.pitch.midi  if isinstance(nr, note.Note) else 0\n",
    "            beat_strength = round(nr.beatStrength * 4.0, 0)\n",
    "            duration = float(nr.quarterLength)\n",
    "\n",
    "            note_repr = (pitch, beat_strength, duration)\n",
    "            # note_repr = (pitch, duration)\n",
    "            # Handle chords\n",
    "            if nr.offset == prev_offset:\n",
    "                if note_repr[0] > 0:\n",
    "                    chord_buffer.append(note_repr)\n",
    "            else:\n",
    "                if chord_buffer: # Choose tone from chord buffer closest to current note\n",
    "                    chord_melody_tone = sorted(chord_buffer, key=lambda x: abs(x[0] - pitch))[0]\n",
    "                    melody_corpus.append(chord_melody_tone)\n",
    "                melody_corpus.append(note_repr)\n",
    "                chord_buffer = []\n",
    "            prev_offset = nr.offset\n",
    "\n",
    "    return melody_corpus"
   ]
  },
  {
   "cell_type": "code",
   "execution_count": 42,
   "metadata": {
    "collapsed": true
   },
   "outputs": [],
   "source": [
    "def build_corpus(midi_files):\n",
    "    melody_corpus = []\n",
    "    for file in midi_files:\n",
    "        midi_stream = converter.parse(file)\n",
    "        midi_stream = midi_stream[0]\n",
    "        if '1008' in file or '1011' in file:\n",
    "            midi_stream.keySignature = midi_stream.keySignature.relative\n",
    "        key_sig = midi_stream.keySignature\n",
    "        print('Input file: {} ({})'.format(file, str(key_sig)))\n",
    "        midi_stream.transpose(KEY_SIG_OFFSET - key_sig.tonic.pitchClass, inPlace=True)\n",
    "        melody_corpus.extend(parse_notes(midi_stream))\n",
    "    # map indices for constructing matrix representations\n",
    "    melody_set = set(melody_corpus)\n",
    "    notes_indices = {note: i for i, note in enumerate(melody_set)}\n",
    "    indices_notes = {i: note for i, note in enumerate(melody_set)}\n",
    "\n",
    "    return melody_corpus, melody_set, notes_indices, indices_notes"
   ]
  },
  {
   "cell_type": "code",
   "execution_count": 46,
   "metadata": {
    "collapsed": true
   },
   "outputs": [],
   "source": [
    "def train_model(midi_files, save_path, model_path=None, step_size=3, phrase_len=20, layer_size=128, batch_size=128, nb_epoch=1):\n",
    "\n",
    "    melody_corpus, melody_set, notes_indices, indices_notes = build_corpus(midi_files)\n",
    "\n",
    "    corpus_size = len(melody_set)\n",
    "\n",
    "    # cut the corpus into semi-redundant sequences of max_len values\n",
    "    # step_size = 3\n",
    "    # phrase_len = 20\n",
    "    phrases = []\n",
    "    next_notes = []\n",
    "    for i in range(0, len(melody_corpus) - phrase_len, step_size):\n",
    "        phrases.append(melody_corpus[i: i + phrase_len])\n",
    "        next_notes.append(melody_corpus[i + phrase_len])\n",
    "    print('nb sequences:', len(phrases))\n",
    "\n",
    "    # transform data into binary matrices\n",
    "    X = np.zeros((len(phrases), phrase_len, corpus_size), dtype=np.bool)\n",
    "    y = np.zeros((len(phrases), corpus_size), dtype=np.bool)\n",
    "    for i, phrase in enumerate(phrases):\n",
    "        for j, note in enumerate(phrase):\n",
    "            X[i, j, notes_indices[note]] = 1\n",
    "        y[i, notes_indices[next_notes[i]]] = 1\n",
    "    if model_path is None:\n",
    "        model = Sequential()\n",
    "        model.add(LSTM(layer_size, return_sequences=True, input_shape=(phrase_len, corpus_size)))\n",
    "        model.add(Dropout(0.2))\n",
    "        model.add(LSTM(layer_size, return_sequences=False))\n",
    "        model.add(Dropout(0.2))\n",
    "        model.add(Dense(corpus_size))\n",
    "        model.add(Activation('softmax'))\n",
    "\n",
    "        model.compile(loss='categorical_crossentropy', optimizer=RMSprop())\n",
    "\n",
    "    else:\n",
    "        model = load_model(model_path)\n",
    "\n",
    "    checkpoint = ModelCheckpoint(filepath=save_path,\n",
    "        verbose=1, save_best_only=False)\n",
    "    history = History()\n",
    "    model.fit(X, y, batch_size=batch_size, epochs=nb_epoch, callbacks=[checkpoint, history])\n",
    "\n",
    "    return model, melody_corpus, melody_set, notes_indices, indices_notes"
   ]
  },
  {
   "cell_type": "code",
   "execution_count": 49,
   "metadata": {
    "collapsed": false
   },
   "outputs": [
    {
     "name": "stdout",
     "output_type": "stream",
     "text": [
      "Input file: bach_suites/bwv1007_01.mid (G major)\n",
      "Input file: bach_suites/bwv1007_02.mid (G major)\n",
      "Input file: bach_suites/bwv1007_03.mid (G major)\n",
      "Input file: bach_suites/bwv1007_04.mid (G major)\n",
      "Input file: bach_suites/bwv1007_05.mid (G major)\n",
      "Input file: bach_suites/bwv1007_06.mid (G major)\n",
      "nb sequences: 748\n",
      "Epoch 1/10\n",
      "512/748 [===================>..........] - ETA: 1s - loss: 3.7762Epoch 00000: saving model to model_save/bach_model_3_10_512.h5\n",
      "748/748 [==============================] - 3s - loss: 3.7605     \n",
      "Epoch 2/10\n",
      "512/748 [===================>..........] - ETA: 1s - loss: 3.7445Epoch 00001: saving model to model_save/bach_model_3_10_512.h5\n",
      "748/748 [==============================] - 3s - loss: 3.7893     \n",
      "Epoch 3/10\n",
      "512/748 [===================>..........] - ETA: 1s - loss: 3.7176Epoch 00002: saving model to model_save/bach_model_3_10_512.h5\n",
      "748/748 [==============================] - 3s - loss: 3.7002     \n",
      "Epoch 4/10\n",
      "512/748 [===================>..........] - ETA: 1s - loss: 3.6179Epoch 00003: saving model to model_save/bach_model_3_10_512.h5\n",
      "748/748 [==============================] - 3s - loss: 3.6568     \n",
      "Epoch 5/10\n",
      "512/748 [===================>..........] - ETA: 1s - loss: 3.6448Epoch 00004: saving model to model_save/bach_model_3_10_512.h5\n",
      "748/748 [==============================] - 3s - loss: 3.6635     \n",
      "Epoch 6/10\n",
      "512/748 [===================>..........] - ETA: 1s - loss: 3.5118Epoch 00005: saving model to model_save/bach_model_3_10_512.h5\n",
      "748/748 [==============================] - 3s - loss: 3.5921     \n",
      "Epoch 7/10\n",
      "512/748 [===================>..........] - ETA: 1s - loss: 3.5895Epoch 00006: saving model to model_save/bach_model_3_10_512.h5\n",
      "748/748 [==============================] - 3s - loss: 3.5538     \n",
      "Epoch 8/10\n",
      "512/748 [===================>..........] - ETA: 1s - loss: 3.3470Epoch 00007: saving model to model_save/bach_model_3_10_512.h5\n",
      "748/748 [==============================] - 3s - loss: 3.4075     \n",
      "Epoch 9/10\n",
      "512/748 [===================>..........] - ETA: 1s - loss: 3.2807Epoch 00008: saving model to model_save/bach_model_3_10_512.h5\n",
      "748/748 [==============================] - 3s - loss: 3.3152     \n",
      "Epoch 10/10\n",
      "512/748 [===================>..........] - ETA: 1s - loss: 3.2574Epoch 00009: saving model to model_save/bach_model_3_10_512.h5\n",
      "748/748 [==============================] - 3s - loss: 3.2478     \n",
      "Input file: bach_suites/bwv1007_01.mid (G major)\n",
      "Input file: bach_suites/bwv1007_02.mid (G major)\n",
      "Input file: bach_suites/bwv1007_03.mid (G major)\n",
      "Input file: bach_suites/bwv1007_04.mid (G major)\n",
      "Input file: bach_suites/bwv1007_05.mid (G major)\n",
      "Input file: bach_suites/bwv1007_06.mid (G major)\n",
      "nb sequences: 745\n",
      "Epoch 1/10\n",
      "512/745 [===================>..........] - ETA: 3s - loss: 5.4164Epoch 00000: saving model to model_save/bach_model_3_20_512.h5\n",
      "745/745 [==============================] - 9s - loss: 5.4168     \n",
      "Epoch 2/10\n",
      "512/745 [===================>..........] - ETA: 2s - loss: 5.2942Epoch 00001: saving model to model_save/bach_model_3_20_512.h5\n",
      "745/745 [==============================] - 7s - loss: 5.1476     \n",
      "Epoch 3/10\n",
      "512/745 [===================>..........] - ETA: 2s - loss: 4.6096Epoch 00002: saving model to model_save/bach_model_3_20_512.h5\n",
      "745/745 [==============================] - 7s - loss: 4.5869     \n",
      "Epoch 4/10\n",
      "512/745 [===================>..........] - ETA: 2s - loss: 4.4456Epoch 00003: saving model to model_save/bach_model_3_20_512.h5\n",
      "745/745 [==============================] - 8s - loss: 4.5815     \n",
      "Epoch 5/10\n",
      "512/745 [===================>..........] - ETA: 2s - loss: 4.2973Epoch 00004: saving model to model_save/bach_model_3_20_512.h5\n",
      "745/745 [==============================] - 7s - loss: 4.2496     \n",
      "Epoch 6/10\n",
      "512/745 [===================>..........] - ETA: 2s - loss: 4.0671Epoch 00005: saving model to model_save/bach_model_3_20_512.h5\n",
      "745/745 [==============================] - 7s - loss: 4.1114     \n",
      "Epoch 7/10\n",
      "512/745 [===================>..........] - ETA: 2s - loss: 4.0465Epoch 00006: saving model to model_save/bach_model_3_20_512.h5\n",
      "745/745 [==============================] - 7s - loss: 4.0123     \n",
      "Epoch 8/10\n",
      "512/745 [===================>..........] - ETA: 2s - loss: 3.9403Epoch 00007: saving model to model_save/bach_model_3_20_512.h5\n",
      "745/745 [==============================] - 7s - loss: 3.9597     \n",
      "Epoch 9/10\n",
      "512/745 [===================>..........] - ETA: 2s - loss: 3.9228Epoch 00008: saving model to model_save/bach_model_3_20_512.h5\n",
      "745/745 [==============================] - 7s - loss: 3.9173     \n",
      "Epoch 10/10\n",
      "512/745 [===================>..........] - ETA: 2s - loss: 3.9486Epoch 00009: saving model to model_save/bach_model_3_20_512.h5\n",
      "745/745 [==============================] - 8s - loss: 3.9442     \n",
      "Input file: bach_suites/bwv1007_01.mid (G major)\n",
      "Input file: bach_suites/bwv1007_02.mid (G major)\n",
      "Input file: bach_suites/bwv1007_03.mid (G major)\n",
      "Input file: bach_suites/bwv1007_04.mid (G major)\n",
      "Input file: bach_suites/bwv1007_05.mid (G major)\n",
      "Input file: bach_suites/bwv1007_06.mid (G major)\n",
      "nb sequences: 740\n",
      "Epoch 1/10\n",
      "512/740 [===================>..........] - ETA: 4s - loss: 5.4176 Epoch 00000: saving model to model_save/bach_model_3_35_512.h5\n",
      "740/740 [==============================] - 14s - loss: 5.4619    \n",
      "Epoch 2/10\n",
      "512/740 [===================>..........] - ETA: 3s - loss: 4.7656Epoch 00001: saving model to model_save/bach_model_3_35_512.h5\n",
      "740/740 [==============================] - 12s - loss: 4.7303    \n",
      "Epoch 3/10\n",
      "512/740 [===================>..........] - ETA: 3s - loss: 4.3872Epoch 00002: saving model to model_save/bach_model_3_35_512.h5\n",
      "740/740 [==============================] - 12s - loss: 4.4700    \n",
      "Epoch 4/10\n",
      "512/740 [===================>..........] - ETA: 3s - loss: 4.4085Epoch 00003: saving model to model_save/bach_model_3_35_512.h5\n",
      "740/740 [==============================] - 12s - loss: 4.4804    \n",
      "Epoch 5/10\n",
      "512/740 [===================>..........] - ETA: 3s - loss: 4.4097Epoch 00004: saving model to model_save/bach_model_3_35_512.h5\n",
      "740/740 [==============================] - 12s - loss: 4.3986    \n",
      "Epoch 6/10\n",
      "512/740 [===================>..........] - ETA: 3s - loss: 4.3321Epoch 00005: saving model to model_save/bach_model_3_35_512.h5\n",
      "740/740 [==============================] - 12s - loss: 4.7254    \n",
      "Epoch 7/10\n",
      "512/740 [===================>..........] - ETA: 3s - loss: 4.4384Epoch 00006: saving model to model_save/bach_model_3_35_512.h5\n",
      "740/740 [==============================] - 12s - loss: 4.3965    \n",
      "Epoch 8/10\n",
      "512/740 [===================>..........] - ETA: 3s - loss: 4.3116Epoch 00007: saving model to model_save/bach_model_3_35_512.h5\n",
      "740/740 [==============================] - 12s - loss: 4.2674    \n",
      "Epoch 9/10\n",
      "512/740 [===================>..........] - ETA: 3s - loss: 4.1202Epoch 00008: saving model to model_save/bach_model_3_35_512.h5\n",
      "740/740 [==============================] - 12s - loss: 4.1037    \n",
      "Epoch 10/10\n",
      "512/740 [===================>..........] - ETA: 3s - loss: 4.1160Epoch 00009: saving model to model_save/bach_model_3_35_512.h5\n",
      "740/740 [==============================] - 12s - loss: 4.0903    \n",
      "Input file: bach_suites/bwv1007_01.mid (G major)\n",
      "Input file: bach_suites/bwv1007_02.mid (G major)\n",
      "Input file: bach_suites/bwv1007_03.mid (G major)\n",
      "Input file: bach_suites/bwv1007_04.mid (G major)\n",
      "Input file: bach_suites/bwv1007_05.mid (G major)\n",
      "Input file: bach_suites/bwv1007_06.mid (G major)\n",
      "nb sequences: 735\n",
      "Epoch 1/10\n",
      "512/735 [===================>..........] - ETA: 6s - loss: 5.4204 Epoch 00000: saving model to model_save/bach_model_3_50_512.h5\n",
      "735/735 [==============================] - 19s - loss: 5.4248    \n",
      "Epoch 2/10\n",
      "512/735 [===================>..........] - ETA: 5s - loss: 4.7754 Epoch 00001: saving model to model_save/bach_model_3_50_512.h5\n",
      "735/735 [==============================] - 18s - loss: 4.7665    \n",
      "Epoch 3/10\n",
      "512/735 [===================>..........] - ETA: 5s - loss: 4.4945 Epoch 00002: saving model to model_save/bach_model_3_50_512.h5\n",
      "735/735 [==============================] - 18s - loss: 4.4856    \n",
      "Epoch 4/10\n",
      "512/735 [===================>..........] - ETA: 5s - loss: 4.4597 Epoch 00003: saving model to model_save/bach_model_3_50_512.h5\n",
      "735/735 [==============================] - 19s - loss: 4.4325    \n",
      "Epoch 5/10\n",
      "512/735 [===================>..........] - ETA: 5s - loss: 4.3292 Epoch 00004: saving model to model_save/bach_model_3_50_512.h5\n",
      "735/735 [==============================] - 18s - loss: 4.3876    \n",
      "Epoch 6/10\n",
      "512/735 [===================>..........] - ETA: 5s - loss: 4.1825 Epoch 00005: saving model to model_save/bach_model_3_50_512.h5\n",
      "735/735 [==============================] - 18s - loss: 4.2197    \n",
      "Epoch 7/10\n",
      "512/735 [===================>..........] - ETA: 5s - loss: 4.2275 Epoch 00006: saving model to model_save/bach_model_3_50_512.h5\n",
      "735/735 [==============================] - 17s - loss: 4.2123    \n",
      "Epoch 8/10\n",
      "512/735 [===================>..........] - ETA: 5s - loss: 4.0654 Epoch 00007: saving model to model_save/bach_model_3_50_512.h5\n",
      "735/735 [==============================] - 17s - loss: 4.1154    \n",
      "Epoch 9/10\n",
      "512/735 [===================>..........] - ETA: 5s - loss: 4.0621 Epoch 00008: saving model to model_save/bach_model_3_50_512.h5\n",
      "735/735 [==============================] - 18s - loss: 4.0666    \n",
      "Epoch 10/10\n",
      "512/735 [===================>..........] - ETA: 5s - loss: 4.0871 Epoch 00009: saving model to model_save/bach_model_3_50_512.h5\n",
      "735/735 [==============================] - 17s - loss: 4.0482    \n"
     ]
    }
   ],
   "source": [
    "for phrase_len in phrase_lengths:\n",
    "    param_str = '{}_{}_{}'.format(step_size, phrase_len, layer_size)\n",
    "    save_path = 'model_save/bach_model_{}.h5'.format(param_str)\n",
    "    model_path = save_path if Path(save_path).is_file() else None\n",
    "\n",
    "    model, melody_corpus, melody_set, notes_indices, indices_notes = train_model(midi_files, save_path, model_path, step_size, phrase_len, layer_size, batch_size, nb_epoch)\n",
    "    corpus = (melody_corpus, melody_set, notes_indices, indices_notes)\n",
    "\n",
    "    with open ('corpus/corpus_{}.pkl'.format(param_str), 'wb') as f:\n",
    "        pickle.dump(corpus, f, pickle.HIGHEST_PROTOCOL)"
   ]
  },
  {
   "cell_type": "markdown",
   "metadata": {},
   "source": [
    "#### geração "
   ]
  },
  {
   "cell_type": "code",
   "execution_count": 54,
   "metadata": {
    "collapsed": false
   },
   "outputs": [],
   "source": [
    "model_data = {\n",
    "    'corpus': unpack_corpus('corpus/corpus_3_50_512.pkl'),\n",
    "    'models': {}\n",
    "}"
   ]
  },
  {
   "cell_type": "code",
   "execution_count": 56,
   "metadata": {
    "collapsed": false
   },
   "outputs": [],
   "source": [
    "for phrase_len in phrase_lengths:\n",
    "    model_data['models']['len_{}'.format(phrase_len)] = load_model('model_save/bach_model_{}_{}_{}.h5'.format(step_size, phrase_len, layer_size))"
   ]
  },
  {
   "cell_type": "code",
   "execution_count": 75,
   "metadata": {
    "collapsed": true
   },
   "outputs": [],
   "source": [
    "def __sample(preds, temperature=1.0):\n",
    "    # helper function to sample an index from a probability array\n",
    "    preds = np.asarray(preds).astype('float64')\n",
    "    preds = np.log(preds) / temperature\n",
    "    exp_preds = np.exp(preds)\n",
    "    preds = exp_preds / np.sum(exp_preds)\n",
    "    probas = np.random.multinomial(1, preds, 1)\n",
    "    return np.argmax(probas)"
   ]
  },
  {
   "cell_type": "code",
   "execution_count": 76,
   "metadata": {
    "collapsed": true
   },
   "outputs": [],
   "source": [
    "def __predict(model, x, indices_notes, temperature):\n",
    "    preds = model.predict(x, verbose=0)[0]\n",
    "    next_index = __sample(preds, temperature)\n",
    "    next_val = indices_notes[next_index]\n",
    "\n",
    "    return next_val"
   ]
  },
  {
   "cell_type": "code",
   "execution_count": 77,
   "metadata": {
    "collapsed": true
   },
   "outputs": [],
   "source": [
    "def generate_sequence(model, seq_len, melody_corpus, melody_set, phrase_len, notes_indices, indices_notes, temperature):\n",
    "    gen_melody_indices = np.zeros((1, phrase_len, len(melody_set)))\n",
    "    start_pos = np.random.randint(0, len(melody_corpus) - phrase_len)\n",
    "    seed_phrase = melody_corpus[start_pos : start_pos + phrase_len]\n",
    "    gen_melody = seed_phrase\n",
    "\n",
    "\n",
    "    for _ in range(seq_len):\n",
    "        seed_phrase = gen_melody[-phrase_len:]\n",
    "        for i, note in enumerate(seed_phrase):\n",
    "            gen_melody_indices[0, i, notes_indices[note]] = 1\n",
    "        x = gen_melody_indices\n",
    "        next_note = __predict(model, x, indices_notes, temperature)\n",
    "        # seed_phrase.append(next_note)\n",
    "        gen_melody.append(next_note)\n",
    "        # seed_phrase = seed_phrase[1:]\n",
    "\n",
    "#     gen_melody = [indices_notes[i] for i in gen_melody_indices]\n",
    "    return gen_melody"
   ]
  },
  {
   "cell_type": "code",
   "execution_count": 80,
   "metadata": {
    "collapsed": true
   },
   "outputs": [],
   "source": [
    "def play_melody(gen_melody):\n",
    "    v = stream.Voice()\n",
    "    last_note_duration = 0\n",
    "    for n in gen_melody:\n",
    "        if n[0] == 0:\n",
    "            new_note = note.Rest()\n",
    "        else:\n",
    "            new_pitch = pitch.Pitch()\n",
    "            # new_pitch.midi = 59.0 + n[0] - 24\n",
    "            new_pitch.midi = n[0]\n",
    "            new_note = note.Note(new_pitch)\n",
    "        new_note.offset = v.highestOffset + last_note_duration\n",
    "        new_note.duration.quarterLength = n[2]\n",
    "        last_note_duration = new_note.duration.quarterLength\n",
    "        v.insert(new_note)\n",
    "    s = stream.Stream()\n",
    "    part = stream.Part()\n",
    "    part.clef = clef.BassClef()\n",
    "    part.append(instrument.Harpsichord())\n",
    "    part.insert(v)\n",
    "    s.insert(part)\n",
    "\n",
    "    return s"
   ]
  },
  {
   "cell_type": "code",
   "execution_count": 68,
   "metadata": {
    "collapsed": true
   },
   "outputs": [],
   "source": [
    "melody_corpus, melody_set, notes_indices, indices_notes = model_data['corpus']"
   ]
  },
  {
   "cell_type": "code",
   "execution_count": 69,
   "metadata": {
    "collapsed": true
   },
   "outputs": [],
   "source": [
    "temperature = 1.7"
   ]
  },
  {
   "cell_type": "code",
   "execution_count": 70,
   "metadata": {
    "collapsed": true
   },
   "outputs": [],
   "source": [
    "phrase_len = 10"
   ]
  },
  {
   "cell_type": "code",
   "execution_count": 71,
   "metadata": {
    "collapsed": true
   },
   "outputs": [],
   "source": [
    "seq_len = 80"
   ]
  },
  {
   "cell_type": "code",
   "execution_count": 72,
   "metadata": {
    "collapsed": true
   },
   "outputs": [],
   "source": [
    "model = model_data['models']['len_{}'.format(phrase_len)]"
   ]
  },
  {
   "cell_type": "code",
   "execution_count": 73,
   "metadata": {
    "collapsed": true
   },
   "outputs": [],
   "source": [
    "songname = \"meu_som.midi\""
   ]
  },
  {
   "cell_type": "code",
   "execution_count": 78,
   "metadata": {
    "collapsed": false
   },
   "outputs": [],
   "source": [
    "melody = generate_sequence(model, seq_len, melody_corpus, melody_set, phrase_len, notes_indices, indices_notes, temperature)"
   ]
  },
  {
   "cell_type": "code",
   "execution_count": 83,
   "metadata": {
    "collapsed": false
   },
   "outputs": [],
   "source": [
    "stream = play_melody(melody)"
   ]
  },
  {
   "cell_type": "code",
   "execution_count": 84,
   "metadata": {
    "collapsed": false
   },
   "outputs": [
    {
     "data": {
      "image/png": "[encoded data removed]",
      "text/plain": [
       "<music21.ipython21.objects.IPythonPNGObject at 0xc61be048>"
      ]
     },
     "execution_count": 84,
     "metadata": {},
     "output_type": "execute_result"
    }
   ],
   "source": [
    "stream.show()"
   ]
  },
  {
   "cell_type": "code",
   "execution_count": 85,
   "metadata": {
    "collapsed": false
   },
   "outputs": [
    {
     "data": {
      "text/html": [
       "\n",
       "                <div id='midiPlayerDiv550068'></div>\n",
       "                <link rel=\"stylesheet\" href=\"http://artusi.xyz/music21j/css/m21.css\" \n",
       "                    type=\"text/css\" />\n",
       "                <script>\n",
       "                require.config({\n",
       "                    paths: {'music21': 'http://artusi.xyz/music21j/src/music21'} \n",
       "                }); \n",
       "                require(['music21'], function() { \n",
       "                               mp = new music21.miditools.MidiPlayer();\n",
       "                               mp.addPlayer('#midiPlayerDiv550068'); \n",
       "                               mp.base64Load('data:audio/midi;base64,TVRoZAAAAAYAAQABBABNVHJrAAADKAD/AwtIYXJwc2ljaG9yZADABgDgAEAAwAaIAJAyWoIAgDIAAJA0WoIAgDQAAJAyWoIAgDIAAJA0WoIAgDQAAJAwWoIAgDAAAJA0WoIAgDQAAJAyWoIAgDIAAJA0WoIAgDQAAJAwWoIAgDAAAJApWoIAgCkAAJAwWoIAgDAAAJApWoIAgCkAAJAwWoIAgDAAAJAsWoIAgCwAAJA1WoIAgDUAAJAwWoIAgDAAAJAwWoIAgDAAAJApWoIAgCkAAJAdWoQAgB0AAJAdWoIAgB0AAJA0WoQAgDQAAJAvWoQAgC8AAJA3WoQAgDcAAJA0WoIAgDQAAJA0WoQAgDQAAJArWoQAgCsAAJAhWowAgCEAAJA0WoQAgDQAAJAoWoIAgCgAAJAkWoIAgCQAAJA0WoQAgDQAAJApWoQAgCkAAJAtWoQAgC0AiACQLlqEAIAuAACQKFqEAIAoAACQN1qCAIA3AACQJlqEAIAmAACQIlqIAIAiAACQK1qEAIArAACQL1qEAIAvAACQLFqCAIAsAACQN1qEAIA3AACQIVqMAIAhAACQNVqEAIA1AACQLFqEAIAsAACQOFqEAIA4AACQKlqCAIAqAACQK1qEAIArAACQLlqEAIAuAJ4AkCNahACAIwAAkCtahACAKwAAkDVaggCANQAAkCJaiACAIgAAkCpahACAKgAAkDRahACANAAAkC1ahACALQAAkDBahACAMAAAkCJaiACAIgAAkCVaggCAJQAAkDJahACAMgAAkCtahACAKwAAkDNaggCAMwAAkClahACAKQAAkCtahACAKwAAkDBahACAMAAAkCJaiACAIgAAkCtahACAKwAAkDNahACAMwAAkC9ahACALwAAkCxaggCALAAAkDVahACANQAAkDdahACANwAAkCtahACAKwAAkDRaiACANAAAkDNahACAMwAAkC9ahgCALwAAkCxaggCALAAAkDFahACAMQAAkDlahACAOQAAkDBahACAMAAAkCZahACAJgCIAJAfWoQAgB8AAJAsWoQAgCwAAJAlWoYAgCUAAJAmWoQAgCYAAJAjWoQAgCMAiAD/LwA='); \n",
       "                        });\n",
       "                </script>"
      ],
      "text/plain": [
       "<IPython.core.display.HTML object>"
      ]
     },
     "metadata": {},
     "output_type": "display_data"
    }
   ],
   "source": [
    "stream.show('midi')"
   ]
  },
  {
   "cell_type": "code",
   "execution_count": null,
   "metadata": {
    "collapsed": true
   },
   "outputs": [],
   "source": []
  }
 ],
 "metadata": {
  "anaconda-cloud": {},
  "kernelspec": {
   "display_name": "Python [default]",
   "language": "python",
   "name": "python3"
  },
  "language_info": {
   "codemirror_mode": {
    "name": "ipython",
    "version": 3
   },
   "file_extension": ".py",
   "mimetype": "text/x-python",
   "name": "python",
   "nbconvert_exporter": "python",
   "pygments_lexer": "ipython3",
   "version": "3.5.2"
  }
 },
 "nbformat": 4,
 "nbformat_minor": 2
}
