{
 "cells": [
  {
   "cell_type": "code",
   "execution_count": 1,
   "metadata": {
    "collapsed": false
   },
   "outputs": [
    {
     "name": "stderr",
     "output_type": "stream",
     "text": [
      "Using TensorFlow backend.\n"
     ]
    }
   ],
   "source": [
    "'''\n",
    "Author:     Ji-Sung Kim\n",
    "Project:    deepjazz\n",
    "Purpose:    Generate jazz using a deep learning model (LSTM in deepjazz).\n",
    "\n",
    "Some code adapted from Evan Chow's jazzml, https://github.com/evancchow/jazzml \n",
    "with express permission.\n",
    "\n",
    "Code was built while significantly referencing public examples from the\n",
    "Keras documentation on GitHub:\n",
    "https://github.com/fchollet/keras/blob/master/examples/lstm_text_generation.py\n",
    "\n",
    "GPU run command:\n",
    "    THEANO_FLAGS=mode=FAST_RUN,device=gpu,floatX=float32 python generator.py [# of epochs]\n",
    "\n",
    "    Note: running Keras/Theano on GPU is formally supported for only NVIDIA cards (CUDA backend).\n",
    "'''\n",
    "from __future__ import print_function\n",
    "import sys\n",
    "\n",
    "from music21 import *\n",
    "import numpy as np\n",
    "\n",
    "from grammar import *\n",
    "from preprocess import *\n",
    "from qa import *\n",
    "import lstm"
   ]
  },
  {
   "cell_type": "code",
   "execution_count": 2,
   "metadata": {
    "collapsed": true
   },
   "outputs": [],
   "source": [
    "#----------------------------HELPER FUNCTIONS----------------------------------#\n",
    "\n",
    "''' Helper function to sample an index from a probability array '''\n",
    "def __sample(a, temperature=1.0):\n",
    "    a = np.log(a) / temperature\n",
    "    a = np.exp(a) / np.sum(np.exp(a))\n",
    "    return np.argmax(np.random.multinomial(1, a, 1))"
   ]
  },
  {
   "cell_type": "code",
   "execution_count": 3,
   "metadata": {
    "collapsed": true
   },
   "outputs": [],
   "source": [
    "''' Helper function to generate a predicted value from a given matrix '''\n",
    "def __predict(model, x, indices_val, diversity):\n",
    "    preds = model.predict(x, verbose=0)[0]\n",
    "    next_index = __sample(preds, diversity)\n",
    "    next_val = indices_val[next_index]\n",
    "\n",
    "    return next_val"
   ]
  },
  {
   "cell_type": "code",
   "execution_count": 4,
   "metadata": {
    "collapsed": true
   },
   "outputs": [],
   "source": [
    "''' Helper function which uses the given model to generate a grammar sequence \n",
    "    from a given corpus, indices_val (mapping), abstract_grammars (list), \n",
    "    and diversity floating point value. '''\n",
    "def __generate_grammar(model, corpus, abstract_grammars, values, val_indices,\n",
    "                       indices_val, max_len, max_tries, diversity):\n",
    "    curr_grammar = ''\n",
    "    # np.random.randint is exclusive to high\n",
    "    start_index = np.random.randint(0, len(corpus) - max_len)\n",
    "    sentence = corpus[start_index: start_index + max_len]    # seed\n",
    "    running_length = 0.0\n",
    "    while running_length <= 4.1:    # arbitrary, from avg in input file\n",
    "        # transform sentence (previous sequence) to matrix\n",
    "        x = np.zeros((1, max_len, len(values)))\n",
    "        for t, val in enumerate(sentence):\n",
    "            if (not val in val_indices): print(val)\n",
    "            x[0, t, val_indices[val]] = 1.\n",
    "\n",
    "        next_val = __predict(model, x, indices_val, diversity)\n",
    "\n",
    "        # fix first note: must not have < > and not be a rest\n",
    "        if (running_length < 0.00001):\n",
    "            tries = 0\n",
    "            while (next_val.split(',')[0] == 'R' or \n",
    "                len(next_val.split(',')) != 2):\n",
    "                # give up after 1000 tries; random from input's first notes\n",
    "                if tries >= max_tries:\n",
    "                    print('Gave up on first note generation after', max_tries, \n",
    "                        'tries')\n",
    "                    # np.random is exclusive to high\n",
    "                    rand = np.random.randint(0, len(abstract_grammars))\n",
    "                    next_val = abstract_grammars[rand].split(' ')[0]\n",
    "                else:\n",
    "                    next_val = __predict(model, x, indices_val, diversity)\n",
    "\n",
    "                tries += 1\n",
    "\n",
    "        # shift sentence over with new value\n",
    "        sentence = sentence[1:] \n",
    "        sentence.append(next_val)\n",
    "\n",
    "        # except for first case, add a ' ' separator\n",
    "        if (running_length > 0.00001): curr_grammar += ' '\n",
    "        curr_grammar += next_val\n",
    "\n",
    "        length = float(next_val.split(',')[1])\n",
    "        running_length += length\n",
    "\n",
    "    return curr_grammar"
   ]
  },
  {
   "cell_type": "code",
   "execution_count": 5,
   "metadata": {
    "collapsed": true
   },
   "outputs": [],
   "source": [
    "#----------------------------PUBLIC FUNCTIONS----------------------------------#\n",
    "''' Generates musical sequence based on the given data filename and settings.\n",
    "    Plays then stores (MIDI file) the generated output. '''\n",
    "def generate(data_fn, out_fn, N_epochs):\n",
    "    # model settings\n",
    "    max_len = 20\n",
    "    max_tries = 1000\n",
    "    diversity = 0.5\n",
    "\n",
    "    # musical settings\n",
    "    bpm = 130\n",
    "\n",
    "    # get data\n",
    "    chords, abstract_grammars = get_musical_data(data_fn)\n",
    "    corpus, values, val_indices, indices_val = get_corpus_data(abstract_grammars)\n",
    "    print('corpus length:', len(corpus))\n",
    "    print('total # of values:', len(values))\n",
    "\n",
    "    # build model\n",
    "    model = lstm.build_model(corpus=corpus, val_indices=val_indices, \n",
    "                             max_len=max_len, N_epochs=N_epochs)\n",
    "\n",
    "    # set up audio stream\n",
    "    out_stream = stream.Stream()\n",
    "\n",
    "    # generation loop\n",
    "    curr_offset = 0.0\n",
    "    loopEnd = len(chords)\n",
    "    for loopIndex in range(1, loopEnd):\n",
    "        # get chords from file\n",
    "        curr_chords = stream.Voice()\n",
    "        for j in chords[loopIndex]:\n",
    "            curr_chords.insert((j.offset % 4), j)\n",
    "\n",
    "        # generate grammar\n",
    "        curr_grammar = __generate_grammar(model=model, corpus=corpus, \n",
    "                                          abstract_grammars=abstract_grammars, \n",
    "                                          values=values, val_indices=val_indices, \n",
    "                                          indices_val=indices_val, \n",
    "                                          max_len=max_len, max_tries=max_tries,\n",
    "                                          diversity=diversity)\n",
    "\n",
    "        curr_grammar = curr_grammar.replace(' A',' C').replace(' X',' C')\n",
    "\n",
    "        # Pruning #1: smoothing measure\n",
    "        curr_grammar = prune_grammar(curr_grammar)\n",
    "\n",
    "        # Get notes from grammar and chords\n",
    "        curr_notes = unparse_grammar(curr_grammar, curr_chords)\n",
    "\n",
    "        # Pruning #2: removing repeated and too close together notes\n",
    "        curr_notes = prune_notes(curr_notes)\n",
    "\n",
    "        # quality assurance: clean up notes\n",
    "        curr_notes = clean_up_notes(curr_notes)\n",
    "\n",
    "        # print # of notes in curr_notes\n",
    "        print('After pruning: %s notes' % (len([i for i in curr_notes\n",
    "            if isinstance(i, note.Note)])))\n",
    "\n",
    "        # insert into the output stream\n",
    "        for m in curr_notes:\n",
    "            out_stream.insert(curr_offset + m.offset, m)\n",
    "        for mc in curr_chords:\n",
    "            out_stream.insert(curr_offset + mc.offset, mc)\n",
    "\n",
    "        curr_offset += 4.0\n",
    "\n",
    "    out_stream.insert(0.0, tempo.MetronomeMark(number=bpm))\n",
    "\n",
    "    # Play the final stream through output (see 'play' lambda function above)\n",
    "    play = lambda x: midi.realtime.StreamPlayer(x).play()\n",
    "    play(out_stream)\n",
    "\n",
    "    # save stream\n",
    "    mf = midi.translate.streamToMidiFile(out_stream)\n",
    "    mf.open(out_fn, 'wb')\n",
    "    mf.write()\n",
    "    mf.close()"
   ]
  },
  {
   "cell_type": "code",
   "execution_count": 6,
   "metadata": {
    "collapsed": true
   },
   "outputs": [],
   "source": [
    "''' Runs generate() -- generating, playing, then storing a musical sequence --\n",
    "    with the default Metheny file. '''\n",
    "def main(args):\n",
    "    try:\n",
    "        N_epochs = int(args[1])\n",
    "    except:\n",
    "        N_epochs = 128 # default\n",
    "\n",
    "    # i/o settings\n",
    "    data_fn = 'midi/' + 'original_metheny.mid' # 'And Then I Knew' by Pat Metheny \n",
    "    out_fn = 'midi/' 'deepjazz_on_metheny...' + str(N_epochs)\n",
    "    if (N_epochs == 1): out_fn += '_epoch.midi'\n",
    "    else:               out_fn += '_epochs.midi'\n",
    "\n",
    "    generate(data_fn, out_fn, N_epochs)"
   ]
  },
  {
   "cell_type": "code",
   "execution_count": null,
   "metadata": {
    "collapsed": true
   },
   "outputs": [],
   "source": []
  },
  {
   "cell_type": "code",
   "execution_count": 7,
   "metadata": {
    "collapsed": true
   },
   "outputs": [],
   "source": [
    "data_fn = 'midi/' + 'original_metheny.mid'"
   ]
  },
  {
   "cell_type": "code",
   "execution_count": 8,
   "metadata": {
    "collapsed": true
   },
   "outputs": [],
   "source": [
    "N_epochs = 1"
   ]
  },
  {
   "cell_type": "code",
   "execution_count": 9,
   "metadata": {
    "collapsed": true
   },
   "outputs": [],
   "source": [
    "out_fn = 'midi/' 'deepjazz_on_metheny...' + str(N_epochs)"
   ]
  },
  {
   "cell_type": "code",
   "execution_count": 10,
   "metadata": {
    "collapsed": false
   },
   "outputs": [],
   "source": [
    "out_fn += '_epoch.midi'"
   ]
  },
  {
   "cell_type": "code",
   "execution_count": 11,
   "metadata": {
    "collapsed": false
   },
   "outputs": [
    {
     "data": {
      "text/plain": [
       "'midi/deepjazz_on_metheny...1_epoch.midi'"
      ]
     },
     "execution_count": 11,
     "metadata": {},
     "output_type": "execute_result"
    }
   ],
   "source": [
    "out_fn"
   ]
  },
  {
   "cell_type": "code",
   "execution_count": 12,
   "metadata": {
    "collapsed": true
   },
   "outputs": [],
   "source": [
    "max_len = 20\n",
    "max_tries = 1000\n",
    "diversity = 0.5\n",
    "\n",
    "# musical settings\n",
    "bpm = 130\n",
    "\n",
    "# get data"
   ]
  },
  {
   "cell_type": "code",
   "execution_count": 13,
   "metadata": {
    "collapsed": false
   },
   "outputs": [],
   "source": [
    "chords, abstract_grammars = get_musical_data(data_fn)"
   ]
  },
  {
   "cell_type": "code",
   "execution_count": 26,
   "metadata": {
    "collapsed": false
   },
   "outputs": [
    {
     "data": {
      "text/plain": [
       "[<music21.instrument.Instrument Piano>,\n",
       " <music21.tempo.MetronomeMark Quarter=112.0>,\n",
       " <music21.key.Key of G major>,\n",
       " <music21.meter.TimeSignature 4/4>]"
      ]
     },
     "execution_count": 26,
     "metadata": {},
     "output_type": "execute_result"
    }
   ],
   "source": [
    "chords[0]"
   ]
  },
  {
   "cell_type": "code",
   "execution_count": 27,
   "metadata": {
    "collapsed": false
   },
   "outputs": [
    {
     "data": {
      "text/plain": [
       "'C,0.500 C,0.333,<P1,d-5> C,0.250,<M-2,m-6> C,0.250,<M3,d-3> C,0.250,<d6,m2> C,0.250,<d5,P1> C,0.667,<M2,d-4> C,0.250,<d1,P-5> C,0.250,<P-4,d-8> S,0.250,<d4,M-2> S,0.250,<P5,A1> C,0.250,<d5,P1>'"
      ]
     },
     "execution_count": 27,
     "metadata": {},
     "output_type": "execute_result"
    }
   ],
   "source": [
    "abstract_grammars[0]"
   ]
  },
  {
   "cell_type": "code",
   "execution_count": 29,
   "metadata": {
    "collapsed": false
   },
   "outputs": [
    {
     "data": {
      "text/plain": [
       "[<music21.chord.Chord E-4 G4 C4 B-3 G#2>, <music21.chord.Chord B-3 F4 D4 A3>]"
      ]
     },
     "execution_count": 29,
     "metadata": {},
     "output_type": "execute_result"
    }
   ],
   "source": [
    "chords[1]"
   ]
  },
  {
   "cell_type": "code",
   "execution_count": 30,
   "metadata": {
    "collapsed": false
   },
   "outputs": [
    {
     "data": {
      "text/plain": [
       "'C,0.500 S,0.250,<m2,P-4> C,0.250,<P4,m-2> A,0.250,<P4,m-2> S,0.500,<d1,P-5> C,0.250,<P1,d-5> C,0.250,<m2,P-4> A,0.250,<m2,P-4> C,0.250,<M2,d-4> A,0.250,<d4,M-2> C,0.250,<P4,m-2> C,0.250,<P4,m-2>'"
      ]
     },
     "execution_count": 30,
     "metadata": {},
     "output_type": "execute_result"
    }
   ],
   "source": [
    "abstract_grammars[1]"
   ]
  },
  {
   "cell_type": "code",
   "execution_count": null,
   "metadata": {
    "collapsed": true
   },
   "outputs": [],
   "source": []
  },
  {
   "cell_type": "code",
   "execution_count": 31,
   "metadata": {
    "collapsed": true
   },
   "outputs": [],
   "source": [
    "corpus, values, val_indices, indices_val = get_corpus_data(abstract_grammars)"
   ]
  },
  {
   "cell_type": "code",
   "execution_count": 32,
   "metadata": {
    "collapsed": false
   },
   "outputs": [
    {
     "data": {
      "text/plain": [
       "['C,0.500',\n",
       " 'C,0.333,<P1,d-5>',\n",
       " 'C,0.250,<M-2,m-6>',\n",
       " 'C,0.250,<M3,d-3>',\n",
       " 'C,0.250,<d6,m2>',\n",
       " 'C,0.250,<d5,P1>',\n",
       " 'C,0.667,<M2,d-4>',\n",
       " 'C,0.250,<d1,P-5>',\n",
       " 'C,0.250,<P-4,d-8>',\n",
       " 'S,0.250,<d4,M-2>',\n",
       " 'S,0.250,<P5,A1>',\n",
       " 'C,0.250,<d5,P1>',\n",
       " 'C,0.500',\n",
       " 'S,0.250,<m2,P-4>',\n",
       " 'C,0.250,<P4,m-2>',\n",
       " 'A,0.250,<P4,m-2>',\n",
       " 'S,0.500,<d1,P-5>',\n",
       " 'C,0.250,<P1,d-5>',\n",
       " 'C,0.250,<m2,P-4>',\n",
       " 'A,0.250,<m2,P-4>',\n",
       " 'C,0.250,<M2,d-4>',\n",
       " 'A,0.250,<d4,M-2>',\n",
       " 'C,0.250,<P4,m-2>',\n",
       " 'C,0.250,<P4,m-2>',\n",
       " 'C,0.250',\n",
       " 'C,0.250,<d2,A-4>',\n",
       " 'A,0.250,<m-2,d-6>',\n",
       " 'C,0.250,<d3,M-3>',\n",
       " 'A,0.250,<M3,d-3>',\n",
       " 'C,0.250,<d6,m2>',\n",
       " 'C,0.250,<A4,d-2>',\n",
       " 'C,0.250,<d3,M-3>',\n",
       " 'C,0.250,<m2,P-4>',\n",
       " 'A,0.250,<m2,P-4>',\n",
       " 'S,0.250,<P1,d-5>',\n",
       " 'C,0.250,<m2,P-4>',\n",
       " 'C,0.250,<P1,d-5>',\n",
       " 'C,0.250,<m2,P-4>',\n",
       " 'A,0.250,<m2,P-4>',\n",
       " 'C,0.250',\n",
       " 'S,0.250,<d6,m2>',\n",
       " 'X,0.250,<A4,d-2>',\n",
       " 'S,0.250,<dd5,d1>',\n",
       " 'C,0.250,<P4,m-2>',\n",
       " 'C,0.250,<M3,d-3>',\n",
       " 'C,0.250,<dd5,d1>',\n",
       " 'S,0.250,<P4,m-2>',\n",
       " 'C,0.250,<P4,m-2>',\n",
       " 'C,0.250,<M3,d-3>',\n",
       " 'C,0.250,<dd5,d1>',\n",
       " 'A,0.250,<M3,d-3>',\n",
       " 'C,0.500',\n",
       " 'A,0.333,<M2,d-4>',\n",
       " 'C,0.250,<d4,M-2>',\n",
       " 'A,0.333,<M2,d-4>',\n",
       " 'C,0.250,<m2,P-4>',\n",
       " 'C,0.250,<A-4,P-8>',\n",
       " 'C,0.250,<P4,m-2>',\n",
       " 'A,0.250,<P4,m-2>',\n",
       " 'S,0.250,<d5,P1>',\n",
       " 'A,0.333,<P1,d-5>',\n",
       " 'C,0.250,<d4,M-2>',\n",
       " 'C,0.250,<P5,A1>',\n",
       " 'C,0.250',\n",
       " 'S,0.250,<d4,M-2>',\n",
       " 'A,0.250,<m-2,d-6>',\n",
       " 'C,0.250,<d5,P1>',\n",
       " 'A,0.250,<P1,d-5>',\n",
       " 'C,0.250,<d5,P1>',\n",
       " 'C,0.250,<d1,P-5>',\n",
       " 'A,0.333,<A4,d-2>',\n",
       " 'S,0.333',\n",
       " 'C,0.500,<m2,P-4>',\n",
       " 'S,0.250,<P1,d-5>',\n",
       " 'C,0.250,<m2,P-4>',\n",
       " 'C,0.250,<P4,m-2>',\n",
       " 'C,0.250,<m3,m-3>',\n",
       " 'S,0.250,<m2,P-4>',\n",
       " 'C,0.500,<m6,M2>',\n",
       " 'C,0.250,<P1,d-5>',\n",
       " 'C,0.250,<m7,M3>',\n",
       " 'C,0.250,<d4,M-2>',\n",
       " 'C,0.250',\n",
       " 'C,0.333,<d1,P-5>',\n",
       " 'S,0.250,<M-2,m-6>',\n",
       " 'C,0.250,<P11,M7>',\n",
       " 'C,0.250,<M-2,m-6>',\n",
       " 'S,0.333,<d7,m3>',\n",
       " 'C,0.667,<M2,d-4>',\n",
       " 'C,0.250',\n",
       " 'C,0.250,<d5,P1>',\n",
       " 'C,0.250,<m7,M3>',\n",
       " 'C,0.250,<m2,P-4>',\n",
       " 'C,0.250,<P5,A1>',\n",
       " 'C,0.750,<m3,m-3>',\n",
       " 'S,0.250',\n",
       " 'C,0.250,<m2,P-4>',\n",
       " 'C,0.250,<M2,d-4>',\n",
       " 'C,0.250,<m2,P-4>',\n",
       " 'A,0.250,<M2,d-4>',\n",
       " 'A,0.250,<m2,P-4>',\n",
       " 'C,0.250,<m2,P-4>',\n",
       " 'A,0.333,<M2,d-4>',\n",
       " 'C,0.250,<d3,M-3>',\n",
       " 'X,0.250,<d1,P-5>',\n",
       " 'S,0.250,<A4,d-2>',\n",
       " 'S,0.250,<d1,P-5>',\n",
       " 'C,0.250',\n",
       " 'C,0.250,<P1,d-5>',\n",
       " 'C,0.333,<m3,m-3>',\n",
       " 'S,0.333,<m2,P-4>',\n",
       " 'C,0.333,<m2,P-4>',\n",
       " 'C,0.250,<m3,m-3>',\n",
       " 'C,0.250,<P1,d-5>',\n",
       " 'C,0.333,<m3,m-3>',\n",
       " 'C,0.250,<d5,P1>',\n",
       " 'C,0.250,<P5,A1>',\n",
       " 'S,0.250',\n",
       " 'S,0.250,<P1,d-5>',\n",
       " 'C,0.333,<m7,M3>',\n",
       " 'S,0.333,<d1,P-5>',\n",
       " 'S,0.500,<m7,M3>',\n",
       " 'C,0.250,<P1,d-5>',\n",
       " 'S,0.250,<m3,m-3>',\n",
       " 'A,0.250,<P-4,d-8>',\n",
       " 'C,0.250,<d4,M-2>',\n",
       " 'C,0.250,<d5,P1>',\n",
       " 'C,0.250,<P5,A1>',\n",
       " 'S,0.250',\n",
       " 'S,0.250,<d1,P-5>',\n",
       " 'S,0.750,<m3,m-3>',\n",
       " 'C,0.250,<P1,d-5>',\n",
       " 'S,0.750,<d5,P1>',\n",
       " 'C,0.250,<P1,d-5>',\n",
       " 'C,0.250,<m3,m-3>',\n",
       " 'S,0.250,<d5,P1>',\n",
       " 'C,0.250,<P4,m-2>',\n",
       " 'C,0.250,<d5,P1>',\n",
       " 'C,0.500',\n",
       " 'C,0.250,<d4,M-2>',\n",
       " 'C,0.333,<M2,d-4>',\n",
       " 'S,0.250,<d1,P-5>',\n",
       " 'C,0.333,<P5,A1>',\n",
       " 'S,0.250,<d1,P-5>',\n",
       " 'C,0.333,<m3,m-3>',\n",
       " 'C,0.250,<P1,d-5>',\n",
       " 'S,0.333',\n",
       " 'S,0.250,<d1,P-5>',\n",
       " 'C,0.250,<P1,d-5>',\n",
       " 'S,0.500,<m7,M3>',\n",
       " 'S,0.250,<d1,P-5>',\n",
       " 'C,0.250,<P4,m-2>',\n",
       " 'C,0.250,<m3,m-3>',\n",
       " 'C,0.250,<m-2,d-6>',\n",
       " 'C,0.250,<d2,A-4>',\n",
       " 'C,0.250,<P4,m-2>',\n",
       " 'S,0.667,<d5,P1>',\n",
       " 'C,0.250,<P1,d-5>',\n",
       " 'C,0.250',\n",
       " 'X,0.250,<A4,d-2>',\n",
       " 'C,0.250,<d2,A-4>',\n",
       " 'S,0.250,<P4,m-2>',\n",
       " 'A,0.250,<P1,d-5>',\n",
       " 'A,0.250,<P4,m-2>',\n",
       " 'S,0.250,<d2,A-4>',\n",
       " 'C,0.250,<P4,m-2>',\n",
       " 'X,0.250,<A4,d-2>',\n",
       " 'C,0.250,<d2,A-4>',\n",
       " 'C,0.250,<m-2,d-6>',\n",
       " 'A,0.250,<d5,P1>',\n",
       " 'C,0.250,<d1,P-5>',\n",
       " 'S,0.250,<d5,P1>',\n",
       " 'A,0.250,<m-2,d-6>',\n",
       " 'A,0.250,<d5,P1>',\n",
       " 'S,0.250,<d1,P-5>',\n",
       " 'C,0.250,<P4,m-2>',\n",
       " 'A,0.250,<P1,d-5>',\n",
       " 'C,0.500',\n",
       " 'C,0.250,<P4,m-2>',\n",
       " 'C,0.250,<M3,d-3>',\n",
       " 'S,0.250,<dd5,d1>',\n",
       " 'C,0.500,<P4,m-2>',\n",
       " 'C,0.333,<A4,d-2>',\n",
       " 'C,0.667,<d6,m2>',\n",
       " 'C,0.500,<m2,P-4>',\n",
       " 'S,0.250',\n",
       " 'S,0.667,<m3,m-3>',\n",
       " 'C,0.250,<M3,d-3>',\n",
       " 'X,0.250,<d2,A-4>',\n",
       " 'X,0.250,<m6,M2>',\n",
       " 'X,0.250,<M-2,m-6>',\n",
       " 'C,0.250,<m7,M3>',\n",
       " 'S,0.250,<P4,m-2>']"
      ]
     },
     "execution_count": 32,
     "metadata": {},
     "output_type": "execute_result"
    }
   ],
   "source": [
    "corpus"
   ]
  },
  {
   "cell_type": "code",
   "execution_count": 33,
   "metadata": {
    "collapsed": false
   },
   "outputs": [
    {
     "data": {
      "text/plain": [
       "{'A,0.250,<M2,d-4>',\n",
       " 'A,0.250,<M3,d-3>',\n",
       " 'A,0.250,<P-4,d-8>',\n",
       " 'A,0.250,<P1,d-5>',\n",
       " 'A,0.250,<P4,m-2>',\n",
       " 'A,0.250,<d4,M-2>',\n",
       " 'A,0.250,<d5,P1>',\n",
       " 'A,0.250,<m-2,d-6>',\n",
       " 'A,0.250,<m2,P-4>',\n",
       " 'A,0.333,<A4,d-2>',\n",
       " 'A,0.333,<M2,d-4>',\n",
       " 'A,0.333,<P1,d-5>',\n",
       " 'C,0.250',\n",
       " 'C,0.250,<A-4,P-8>',\n",
       " 'C,0.250,<A4,d-2>',\n",
       " 'C,0.250,<M-2,m-6>',\n",
       " 'C,0.250,<M2,d-4>',\n",
       " 'C,0.250,<M3,d-3>',\n",
       " 'C,0.250,<P-4,d-8>',\n",
       " 'C,0.250,<P1,d-5>',\n",
       " 'C,0.250,<P11,M7>',\n",
       " 'C,0.250,<P4,m-2>',\n",
       " 'C,0.250,<P5,A1>',\n",
       " 'C,0.250,<d1,P-5>',\n",
       " 'C,0.250,<d2,A-4>',\n",
       " 'C,0.250,<d3,M-3>',\n",
       " 'C,0.250,<d4,M-2>',\n",
       " 'C,0.250,<d5,P1>',\n",
       " 'C,0.250,<d6,m2>',\n",
       " 'C,0.250,<dd5,d1>',\n",
       " 'C,0.250,<m-2,d-6>',\n",
       " 'C,0.250,<m2,P-4>',\n",
       " 'C,0.250,<m3,m-3>',\n",
       " 'C,0.250,<m7,M3>',\n",
       " 'C,0.333,<A4,d-2>',\n",
       " 'C,0.333,<M2,d-4>',\n",
       " 'C,0.333,<P1,d-5>',\n",
       " 'C,0.333,<P5,A1>',\n",
       " 'C,0.333,<d1,P-5>',\n",
       " 'C,0.333,<m2,P-4>',\n",
       " 'C,0.333,<m3,m-3>',\n",
       " 'C,0.333,<m7,M3>',\n",
       " 'C,0.500',\n",
       " 'C,0.500,<P4,m-2>',\n",
       " 'C,0.500,<m2,P-4>',\n",
       " 'C,0.500,<m6,M2>',\n",
       " 'C,0.667,<M2,d-4>',\n",
       " 'C,0.667,<d6,m2>',\n",
       " 'C,0.750,<m3,m-3>',\n",
       " 'S,0.250',\n",
       " 'S,0.250,<A4,d-2>',\n",
       " 'S,0.250,<M-2,m-6>',\n",
       " 'S,0.250,<P1,d-5>',\n",
       " 'S,0.250,<P4,m-2>',\n",
       " 'S,0.250,<P5,A1>',\n",
       " 'S,0.250,<d1,P-5>',\n",
       " 'S,0.250,<d2,A-4>',\n",
       " 'S,0.250,<d4,M-2>',\n",
       " 'S,0.250,<d5,P1>',\n",
       " 'S,0.250,<d6,m2>',\n",
       " 'S,0.250,<dd5,d1>',\n",
       " 'S,0.250,<m2,P-4>',\n",
       " 'S,0.250,<m3,m-3>',\n",
       " 'S,0.333',\n",
       " 'S,0.333,<d1,P-5>',\n",
       " 'S,0.333,<d7,m3>',\n",
       " 'S,0.333,<m2,P-4>',\n",
       " 'S,0.500,<d1,P-5>',\n",
       " 'S,0.500,<m7,M3>',\n",
       " 'S,0.667,<d5,P1>',\n",
       " 'S,0.667,<m3,m-3>',\n",
       " 'S,0.750,<d5,P1>',\n",
       " 'S,0.750,<m3,m-3>',\n",
       " 'X,0.250,<A4,d-2>',\n",
       " 'X,0.250,<M-2,m-6>',\n",
       " 'X,0.250,<d1,P-5>',\n",
       " 'X,0.250,<d2,A-4>',\n",
       " 'X,0.250,<m6,M2>'}"
      ]
     },
     "execution_count": 33,
     "metadata": {},
     "output_type": "execute_result"
    }
   ],
   "source": [
    "values"
   ]
  },
  {
   "cell_type": "code",
   "execution_count": 34,
   "metadata": {
    "collapsed": false
   },
   "outputs": [
    {
     "data": {
      "text/plain": [
       "{'A,0.250,<M2,d-4>': 28,\n",
       " 'A,0.250,<M3,d-3>': 53,\n",
       " 'A,0.250,<P-4,d-8>': 41,\n",
       " 'A,0.250,<P1,d-5>': 73,\n",
       " 'A,0.250,<P4,m-2>': 13,\n",
       " 'A,0.250,<d4,M-2>': 50,\n",
       " 'A,0.250,<d5,P1>': 39,\n",
       " 'A,0.250,<m-2,d-6>': 64,\n",
       " 'A,0.250,<m2,P-4>': 7,\n",
       " 'A,0.333,<A4,d-2>': 22,\n",
       " 'A,0.333,<M2,d-4>': 77,\n",
       " 'A,0.333,<P1,d-5>': 70,\n",
       " 'C,0.250': 12,\n",
       " 'C,0.250,<A-4,P-8>': 58,\n",
       " 'C,0.250,<A4,d-2>': 32,\n",
       " 'C,0.250,<M-2,m-6>': 52,\n",
       " 'C,0.250,<M2,d-4>': 61,\n",
       " 'C,0.250,<M3,d-3>': 11,\n",
       " 'C,0.250,<P-4,d-8>': 63,\n",
       " 'C,0.250,<P1,d-5>': 1,\n",
       " 'C,0.250,<P11,M7>': 27,\n",
       " 'C,0.250,<P4,m-2>': 34,\n",
       " 'C,0.250,<P5,A1>': 10,\n",
       " 'C,0.250,<d1,P-5>': 40,\n",
       " 'C,0.250,<d2,A-4>': 76,\n",
       " 'C,0.250,<d3,M-3>': 69,\n",
       " 'C,0.250,<d4,M-2>': 51,\n",
       " 'C,0.250,<d5,P1>': 55,\n",
       " 'C,0.250,<d6,m2>': 8,\n",
       " 'C,0.250,<dd5,d1>': 15,\n",
       " 'C,0.250,<m-2,d-6>': 35,\n",
       " 'C,0.250,<m2,P-4>': 17,\n",
       " 'C,0.250,<m3,m-3>': 6,\n",
       " 'C,0.250,<m7,M3>': 75,\n",
       " 'C,0.333,<A4,d-2>': 18,\n",
       " 'C,0.333,<M2,d-4>': 74,\n",
       " 'C,0.333,<P1,d-5>': 49,\n",
       " 'C,0.333,<P5,A1>': 30,\n",
       " 'C,0.333,<d1,P-5>': 23,\n",
       " 'C,0.333,<m2,P-4>': 45,\n",
       " 'C,0.333,<m3,m-3>': 68,\n",
       " 'C,0.333,<m7,M3>': 14,\n",
       " 'C,0.500': 54,\n",
       " 'C,0.500,<P4,m-2>': 48,\n",
       " 'C,0.500,<m2,P-4>': 5,\n",
       " 'C,0.500,<m6,M2>': 47,\n",
       " 'C,0.667,<M2,d-4>': 72,\n",
       " 'C,0.667,<d6,m2>': 24,\n",
       " 'C,0.750,<m3,m-3>': 25,\n",
       " 'S,0.250': 26,\n",
       " 'S,0.250,<A4,d-2>': 4,\n",
       " 'S,0.250,<M-2,m-6>': 44,\n",
       " 'S,0.250,<P1,d-5>': 46,\n",
       " 'S,0.250,<P4,m-2>': 16,\n",
       " 'S,0.250,<P5,A1>': 59,\n",
       " 'S,0.250,<d1,P-5>': 9,\n",
       " 'S,0.250,<d2,A-4>': 60,\n",
       " 'S,0.250,<d4,M-2>': 71,\n",
       " 'S,0.250,<d5,P1>': 31,\n",
       " 'S,0.250,<d6,m2>': 20,\n",
       " 'S,0.250,<dd5,d1>': 43,\n",
       " 'S,0.250,<m2,P-4>': 19,\n",
       " 'S,0.250,<m3,m-3>': 21,\n",
       " 'S,0.333': 65,\n",
       " 'S,0.333,<d1,P-5>': 29,\n",
       " 'S,0.333,<d7,m3>': 0,\n",
       " 'S,0.333,<m2,P-4>': 36,\n",
       " 'S,0.500,<d1,P-5>': 62,\n",
       " 'S,0.500,<m7,M3>': 66,\n",
       " 'S,0.667,<d5,P1>': 2,\n",
       " 'S,0.667,<m3,m-3>': 67,\n",
       " 'S,0.750,<d5,P1>': 56,\n",
       " 'S,0.750,<m3,m-3>': 42,\n",
       " 'X,0.250,<A4,d-2>': 57,\n",
       " 'X,0.250,<M-2,m-6>': 38,\n",
       " 'X,0.250,<d1,P-5>': 3,\n",
       " 'X,0.250,<d2,A-4>': 33,\n",
       " 'X,0.250,<m6,M2>': 37}"
      ]
     },
     "execution_count": 34,
     "metadata": {},
     "output_type": "execute_result"
    }
   ],
   "source": [
    "val_indices"
   ]
  },
  {
   "cell_type": "code",
   "execution_count": 35,
   "metadata": {
    "collapsed": false
   },
   "outputs": [
    {
     "data": {
      "text/plain": [
       "{0: 'S,0.333,<d7,m3>',\n",
       " 1: 'C,0.250,<P1,d-5>',\n",
       " 2: 'S,0.667,<d5,P1>',\n",
       " 3: 'X,0.250,<d1,P-5>',\n",
       " 4: 'S,0.250,<A4,d-2>',\n",
       " 5: 'C,0.500,<m2,P-4>',\n",
       " 6: 'C,0.250,<m3,m-3>',\n",
       " 7: 'A,0.250,<m2,P-4>',\n",
       " 8: 'C,0.250,<d6,m2>',\n",
       " 9: 'S,0.250,<d1,P-5>',\n",
       " 10: 'C,0.250,<P5,A1>',\n",
       " 11: 'C,0.250,<M3,d-3>',\n",
       " 12: 'C,0.250',\n",
       " 13: 'A,0.250,<P4,m-2>',\n",
       " 14: 'C,0.333,<m7,M3>',\n",
       " 15: 'C,0.250,<dd5,d1>',\n",
       " 16: 'S,0.250,<P4,m-2>',\n",
       " 17: 'C,0.250,<m2,P-4>',\n",
       " 18: 'C,0.333,<A4,d-2>',\n",
       " 19: 'S,0.250,<m2,P-4>',\n",
       " 20: 'S,0.250,<d6,m2>',\n",
       " 21: 'S,0.250,<m3,m-3>',\n",
       " 22: 'A,0.333,<A4,d-2>',\n",
       " 23: 'C,0.333,<d1,P-5>',\n",
       " 24: 'C,0.667,<d6,m2>',\n",
       " 25: 'C,0.750,<m3,m-3>',\n",
       " 26: 'S,0.250',\n",
       " 27: 'C,0.250,<P11,M7>',\n",
       " 28: 'A,0.250,<M2,d-4>',\n",
       " 29: 'S,0.333,<d1,P-5>',\n",
       " 30: 'C,0.333,<P5,A1>',\n",
       " 31: 'S,0.250,<d5,P1>',\n",
       " 32: 'C,0.250,<A4,d-2>',\n",
       " 33: 'X,0.250,<d2,A-4>',\n",
       " 34: 'C,0.250,<P4,m-2>',\n",
       " 35: 'C,0.250,<m-2,d-6>',\n",
       " 36: 'S,0.333,<m2,P-4>',\n",
       " 37: 'X,0.250,<m6,M2>',\n",
       " 38: 'X,0.250,<M-2,m-6>',\n",
       " 39: 'A,0.250,<d5,P1>',\n",
       " 40: 'C,0.250,<d1,P-5>',\n",
       " 41: 'A,0.250,<P-4,d-8>',\n",
       " 42: 'S,0.750,<m3,m-3>',\n",
       " 43: 'S,0.250,<dd5,d1>',\n",
       " 44: 'S,0.250,<M-2,m-6>',\n",
       " 45: 'C,0.333,<m2,P-4>',\n",
       " 46: 'S,0.250,<P1,d-5>',\n",
       " 47: 'C,0.500,<m6,M2>',\n",
       " 48: 'C,0.500,<P4,m-2>',\n",
       " 49: 'C,0.333,<P1,d-5>',\n",
       " 50: 'A,0.250,<d4,M-2>',\n",
       " 51: 'C,0.250,<d4,M-2>',\n",
       " 52: 'C,0.250,<M-2,m-6>',\n",
       " 53: 'A,0.250,<M3,d-3>',\n",
       " 54: 'C,0.500',\n",
       " 55: 'C,0.250,<d5,P1>',\n",
       " 56: 'S,0.750,<d5,P1>',\n",
       " 57: 'X,0.250,<A4,d-2>',\n",
       " 58: 'C,0.250,<A-4,P-8>',\n",
       " 59: 'S,0.250,<P5,A1>',\n",
       " 60: 'S,0.250,<d2,A-4>',\n",
       " 61: 'C,0.250,<M2,d-4>',\n",
       " 62: 'S,0.500,<d1,P-5>',\n",
       " 63: 'C,0.250,<P-4,d-8>',\n",
       " 64: 'A,0.250,<m-2,d-6>',\n",
       " 65: 'S,0.333',\n",
       " 66: 'S,0.500,<m7,M3>',\n",
       " 67: 'S,0.667,<m3,m-3>',\n",
       " 68: 'C,0.333,<m3,m-3>',\n",
       " 69: 'C,0.250,<d3,M-3>',\n",
       " 70: 'A,0.333,<P1,d-5>',\n",
       " 71: 'S,0.250,<d4,M-2>',\n",
       " 72: 'C,0.667,<M2,d-4>',\n",
       " 73: 'A,0.250,<P1,d-5>',\n",
       " 74: 'C,0.333,<M2,d-4>',\n",
       " 75: 'C,0.250,<m7,M3>',\n",
       " 76: 'C,0.250,<d2,A-4>',\n",
       " 77: 'A,0.333,<M2,d-4>'}"
      ]
     },
     "execution_count": 35,
     "metadata": {},
     "output_type": "execute_result"
    }
   ],
   "source": [
    "indices_val"
   ]
  },
  {
   "cell_type": "code",
   "execution_count": 36,
   "metadata": {
    "collapsed": false
   },
   "outputs": [
    {
     "name": "stdout",
     "output_type": "stream",
     "text": [
      "corpus length: 193\n",
      "total # of values: 78\n"
     ]
    }
   ],
   "source": [
    "print('corpus length:', len(corpus))\n",
    "print('total # of values:', len(values))"
   ]
  },
  {
   "cell_type": "code",
   "execution_count": 39,
   "metadata": {
    "collapsed": false
   },
   "outputs": [
    {
     "data": {
      "text/plain": [
       "'C,0.250,<P5,A1>'"
      ]
     },
     "execution_count": 39,
     "metadata": {},
     "output_type": "execute_result"
    }
   ],
   "source": [
    "indices_val[10]"
   ]
  },
  {
   "cell_type": "code",
   "execution_count": 40,
   "metadata": {
    "collapsed": false
   },
   "outputs": [
    {
     "data": {
      "text/plain": [
       "10"
      ]
     },
     "execution_count": 40,
     "metadata": {},
     "output_type": "execute_result"
    }
   ],
   "source": [
    "val_indices['C,0.250,<P5,A1>']"
   ]
  },
  {
   "cell_type": "code",
   "execution_count": 41,
   "metadata": {
    "collapsed": true
   },
   "outputs": [],
   "source": [
    "N_values = len(set(corpus))"
   ]
  },
  {
   "cell_type": "code",
   "execution_count": 42,
   "metadata": {
    "collapsed": true
   },
   "outputs": [],
   "source": [
    "# cut the corpus into semi-redundant sequences of max_len values\n",
    "step = 3\n",
    "sentences = []\n",
    "next_values = []"
   ]
  },
  {
   "cell_type": "code",
   "execution_count": 43,
   "metadata": {
    "collapsed": false
   },
   "outputs": [
    {
     "name": "stdout",
     "output_type": "stream",
     "text": [
      "nb sequences: 58\n"
     ]
    }
   ],
   "source": [
    "for i in range(0, len(corpus) - max_len, step):\n",
    "    sentences.append(corpus[i: i + max_len])\n",
    "    next_values.append(corpus[i + max_len])\n",
    "print('nb sequences:', len(sentences))"
   ]
  },
  {
   "cell_type": "code",
   "execution_count": 47,
   "metadata": {
    "collapsed": false
   },
   "outputs": [
    {
     "data": {
      "text/plain": [
       "20"
      ]
     },
     "execution_count": 47,
     "metadata": {},
     "output_type": "execute_result"
    }
   ],
   "source": [
    "max_len"
   ]
  },
  {
   "cell_type": "code",
   "execution_count": 48,
   "metadata": {
    "collapsed": false
   },
   "outputs": [
    {
     "data": {
      "text/plain": [
       "[['C,0.500',\n",
       "  'C,0.333,<P1,d-5>',\n",
       "  'C,0.250,<M-2,m-6>',\n",
       "  'C,0.250,<M3,d-3>',\n",
       "  'C,0.250,<d6,m2>',\n",
       "  'C,0.250,<d5,P1>',\n",
       "  'C,0.667,<M2,d-4>',\n",
       "  'C,0.250,<d1,P-5>',\n",
       "  'C,0.250,<P-4,d-8>',\n",
       "  'S,0.250,<d4,M-2>',\n",
       "  'S,0.250,<P5,A1>',\n",
       "  'C,0.250,<d5,P1>',\n",
       "  'C,0.500',\n",
       "  'S,0.250,<m2,P-4>',\n",
       "  'C,0.250,<P4,m-2>',\n",
       "  'A,0.250,<P4,m-2>',\n",
       "  'S,0.500,<d1,P-5>',\n",
       "  'C,0.250,<P1,d-5>',\n",
       "  'C,0.250,<m2,P-4>',\n",
       "  'A,0.250,<m2,P-4>'],\n",
       " ['C,0.250,<M3,d-3>',\n",
       "  'C,0.250,<d6,m2>',\n",
       "  'C,0.250,<d5,P1>',\n",
       "  'C,0.667,<M2,d-4>',\n",
       "  'C,0.250,<d1,P-5>',\n",
       "  'C,0.250,<P-4,d-8>',\n",
       "  'S,0.250,<d4,M-2>',\n",
       "  'S,0.250,<P5,A1>',\n",
       "  'C,0.250,<d5,P1>',\n",
       "  'C,0.500',\n",
       "  'S,0.250,<m2,P-4>',\n",
       "  'C,0.250,<P4,m-2>',\n",
       "  'A,0.250,<P4,m-2>',\n",
       "  'S,0.500,<d1,P-5>',\n",
       "  'C,0.250,<P1,d-5>',\n",
       "  'C,0.250,<m2,P-4>',\n",
       "  'A,0.250,<m2,P-4>',\n",
       "  'C,0.250,<M2,d-4>',\n",
       "  'A,0.250,<d4,M-2>',\n",
       "  'C,0.250,<P4,m-2>']]"
      ]
     },
     "execution_count": 48,
     "metadata": {},
     "output_type": "execute_result"
    }
   ],
   "source": [
    "sentences[:2]"
   ]
  },
  {
   "cell_type": "code",
   "execution_count": null,
   "metadata": {
    "collapsed": true
   },
   "outputs": [],
   "source": []
  },
  {
   "cell_type": "code",
   "execution_count": 49,
   "metadata": {
    "collapsed": true
   },
   "outputs": [],
   "source": [
    "# transform data into binary matrices\n",
    "X = np.zeros((len(sentences), max_len, N_values), dtype=np.bool)"
   ]
  },
  {
   "cell_type": "code",
   "execution_count": 50,
   "metadata": {
    "collapsed": true
   },
   "outputs": [],
   "source": [
    "y = np.zeros((len(sentences), N_values), dtype=np.bool)"
   ]
  },
  {
   "cell_type": "code",
   "execution_count": 51,
   "metadata": {
    "collapsed": false
   },
   "outputs": [
    {
     "data": {
      "text/plain": [
       "(58, 20, 78)"
      ]
     },
     "execution_count": 51,
     "metadata": {},
     "output_type": "execute_result"
    }
   ],
   "source": [
    "X.shape"
   ]
  },
  {
   "cell_type": "code",
   "execution_count": 52,
   "metadata": {
    "collapsed": false
   },
   "outputs": [
    {
     "data": {
      "text/plain": [
       "(58, 78)"
      ]
     },
     "execution_count": 52,
     "metadata": {},
     "output_type": "execute_result"
    }
   ],
   "source": [
    "y.shape"
   ]
  },
  {
   "cell_type": "code",
   "execution_count": 53,
   "metadata": {
    "collapsed": true
   },
   "outputs": [],
   "source": [
    "for i, sentence in enumerate(sentences):\n",
    "    for t, val in enumerate(sentence):\n",
    "        X[i, t, val_indices[val]] = 1\n",
    "    y[i, val_indices[next_values[i]]] = 1"
   ]
  },
  {
   "cell_type": "code",
   "execution_count": 55,
   "metadata": {
    "collapsed": true
   },
   "outputs": [],
   "source": [
    "from keras.models import Sequential\n",
    "from keras.layers.core import Dense, Activation, Dropout\n",
    "from keras.layers.recurrent import LSTM"
   ]
  },
  {
   "cell_type": "code",
   "execution_count": 56,
   "metadata": {
    "collapsed": false
   },
   "outputs": [],
   "source": [
    "# build a 2 stacked LSTM\n",
    "model = Sequential()\n",
    "model.add(LSTM(128, return_sequences=True, input_shape=(max_len, N_values)))\n",
    "model.add(Dropout(0.2))\n",
    "model.add(LSTM(128, return_sequences=False))\n",
    "model.add(Dropout(0.2))\n",
    "model.add(Dense(N_values))\n",
    "model.add(Activation('softmax'))"
   ]
  },
  {
   "cell_type": "code",
   "execution_count": 57,
   "metadata": {
    "collapsed": true
   },
   "outputs": [],
   "source": [
    "model.compile(loss='categorical_crossentropy', optimizer='rmsprop')"
   ]
  },
  {
   "cell_type": "code",
   "execution_count": 58,
   "metadata": {
    "collapsed": false
   },
   "outputs": [
    {
     "name": "stdout",
     "output_type": "stream",
     "text": [
      "_________________________________________________________________\n",
      "Layer (type)                 Output Shape              Param #   \n",
      "=================================================================\n",
      "lstm_1 (LSTM)                (None, 20, 128)           105984    \n",
      "_________________________________________________________________\n",
      "dropout_1 (Dropout)          (None, 20, 128)           0         \n",
      "_________________________________________________________________\n",
      "lstm_2 (LSTM)                (None, 128)               131584    \n",
      "_________________________________________________________________\n",
      "dropout_2 (Dropout)          (None, 128)               0         \n",
      "_________________________________________________________________\n",
      "dense_1 (Dense)              (None, 78)                10062     \n",
      "_________________________________________________________________\n",
      "activation_1 (Activation)    (None, 78)                0         \n",
      "=================================================================\n",
      "Total params: 247,630.0\n",
      "Trainable params: 247,630.0\n",
      "Non-trainable params: 0.0\n",
      "_________________________________________________________________\n"
     ]
    }
   ],
   "source": [
    "model.summary()"
   ]
  },
  {
   "cell_type": "code",
   "execution_count": 61,
   "metadata": {
    "collapsed": false
   },
   "outputs": [],
   "source": [
    "N_epochs=10"
   ]
  },
  {
   "cell_type": "code",
   "execution_count": 62,
   "metadata": {
    "collapsed": false
   },
   "outputs": [
    {
     "name": "stdout",
     "output_type": "stream",
     "text": [
      "Epoch 1/10\n",
      "58/58 [==============================] - 0s - loss: 4.3219\n",
      "Epoch 2/10\n",
      "58/58 [==============================] - 0s - loss: 4.2680\n",
      "Epoch 3/10\n",
      "58/58 [==============================] - 0s - loss: 4.0973\n",
      "Epoch 4/10\n",
      "58/58 [==============================] - 0s - loss: 3.8953\n",
      "Epoch 5/10\n",
      "58/58 [==============================] - 0s - loss: 3.8782\n",
      "Epoch 6/10\n",
      "58/58 [==============================] - 0s - loss: 3.6317\n",
      "Epoch 7/10\n",
      "58/58 [==============================] - 0s - loss: 3.6180\n",
      "Epoch 8/10\n",
      "58/58 [==============================] - 0s - loss: 3.5700\n",
      "Epoch 9/10\n",
      "58/58 [==============================] - 0s - loss: 3.4864\n",
      "Epoch 10/10\n",
      "58/58 [==============================] - 0s - loss: 3.4836\n"
     ]
    },
    {
     "data": {
      "text/plain": [
       "<keras.callbacks.History at 0x15444860>"
      ]
     },
     "execution_count": 62,
     "metadata": {},
     "output_type": "execute_result"
    }
   ],
   "source": [
    "model.fit(X, y, batch_size=128, epochs=N_epochs)"
   ]
  },
  {
   "cell_type": "markdown",
   "metadata": {},
   "source": [
    "### __generate_grammar"
   ]
  },
  {
   "cell_type": "code",
   "execution_count": 63,
   "metadata": {
    "collapsed": true
   },
   "outputs": [],
   "source": [
    "curr_grammar = ''\n",
    "# np.random.randint is exclusive to high\n",
    "start_index = np.random.randint(0, len(corpus) - max_len)"
   ]
  },
  {
   "cell_type": "code",
   "execution_count": 64,
   "metadata": {
    "collapsed": false
   },
   "outputs": [
    {
     "data": {
      "text/plain": [
       "101"
      ]
     },
     "execution_count": 64,
     "metadata": {},
     "output_type": "execute_result"
    }
   ],
   "source": [
    "start_index"
   ]
  },
  {
   "cell_type": "code",
   "execution_count": 65,
   "metadata": {
    "collapsed": true
   },
   "outputs": [],
   "source": [
    "sentence = corpus[start_index: start_index + max_len]    # seed"
   ]
  },
  {
   "cell_type": "code",
   "execution_count": 66,
   "metadata": {
    "collapsed": false
   },
   "outputs": [
    {
     "data": {
      "text/plain": [
       "['C,0.250,<m2,P-4>',\n",
       " 'A,0.333,<M2,d-4>',\n",
       " 'C,0.250,<d3,M-3>',\n",
       " 'X,0.250,<d1,P-5>',\n",
       " 'S,0.250,<A4,d-2>',\n",
       " 'S,0.250,<d1,P-5>',\n",
       " 'C,0.250',\n",
       " 'C,0.250,<P1,d-5>',\n",
       " 'C,0.333,<m3,m-3>',\n",
       " 'S,0.333,<m2,P-4>',\n",
       " 'C,0.333,<m2,P-4>',\n",
       " 'C,0.250,<m3,m-3>',\n",
       " 'C,0.250,<P1,d-5>',\n",
       " 'C,0.333,<m3,m-3>',\n",
       " 'C,0.250,<d5,P1>',\n",
       " 'C,0.250,<P5,A1>',\n",
       " 'S,0.250',\n",
       " 'S,0.250,<P1,d-5>',\n",
       " 'C,0.333,<m7,M3>',\n",
       " 'S,0.333,<d1,P-5>']"
      ]
     },
     "execution_count": 66,
     "metadata": {},
     "output_type": "execute_result"
    }
   ],
   "source": [
    "sentence"
   ]
  },
  {
   "cell_type": "code",
   "execution_count": 67,
   "metadata": {
    "collapsed": false
   },
   "outputs": [
    {
     "data": {
      "text/plain": [
       "20"
      ]
     },
     "execution_count": 67,
     "metadata": {},
     "output_type": "execute_result"
    }
   ],
   "source": [
    "len(sentence)"
   ]
  },
  {
   "cell_type": "code",
   "execution_count": 68,
   "metadata": {
    "collapsed": true
   },
   "outputs": [],
   "source": [
    "running_length = 0.0"
   ]
  },
  {
   "cell_type": "code",
   "execution_count": null,
   "metadata": {
    "collapsed": true
   },
   "outputs": [],
   "source": []
  },
  {
   "cell_type": "code",
   "execution_count": null,
   "metadata": {
    "collapsed": true
   },
   "outputs": [],
   "source": []
  },
  {
   "cell_type": "code",
   "execution_count": null,
   "metadata": {
    "collapsed": true
   },
   "outputs": [],
   "source": []
  },
  {
   "cell_type": "code",
   "execution_count": null,
   "metadata": {
    "collapsed": true
   },
   "outputs": [],
   "source": [
    "def __generate_grammar(model, corpus, abstract_grammars, values, val_indices,\n",
    "                       indices_val, max_len, max_tries, diversity):\n",
    "    curr_grammar = ''\n",
    "    # np.random.randint is exclusive to high\n",
    "    start_index = np.random.randint(0, len(corpus) - max_len)\n",
    "    sentence = corpus[start_index: start_index + max_len]    # seed\n",
    "    running_length = 0.0\n",
    "    while running_length <= 4.1:    # arbitrary, from avg in input file\n",
    "        # transform sentence (previous sequence) to matrix\n",
    "        x = np.zeros((1, max_len, len(values)))\n",
    "        for t, val in enumerate(sentence):\n",
    "            if (not val in val_indices): print(val)\n",
    "            x[0, t, val_indices[val]] = 1.\n",
    "\n",
    "        next_val = __predict(model, x, indices_val, diversity)\n",
    "\n",
    "        # fix first note: must not have < > and not be a rest\n",
    "        if (running_length < 0.00001):\n",
    "            tries = 0\n",
    "            while (next_val.split(',')[0] == 'R' or \n",
    "                len(next_val.split(',')) != 2):\n",
    "                # give up after 1000 tries; random from input's first notes\n",
    "                if tries >= max_tries:\n",
    "                    print('Gave up on first note generation after', max_tries, \n",
    "                        'tries')\n",
    "                    # np.random is exclusive to high\n",
    "                    rand = np.random.randint(0, len(abstract_grammars))\n",
    "                    next_val = abstract_grammars[rand].split(' ')[0]\n",
    "                else:\n",
    "                    next_val = __predict(model, x, indices_val, diversity)\n",
    "\n",
    "                tries += 1\n",
    "\n",
    "        # shift sentence over with new value\n",
    "        sentence = sentence[1:] \n",
    "        sentence.append(next_val)\n",
    "\n",
    "        # except for first case, add a ' ' separator\n",
    "        if (running_length > 0.00001): curr_grammar += ' '\n",
    "        curr_grammar += next_val\n",
    "\n",
    "        length = float(next_val.split(',')[1])\n",
    "        running_length += length\n",
    "\n",
    "    return curr_grammar"
   ]
  }
 ],
 "metadata": {
  "anaconda-cloud": {},
  "kernelspec": {
   "display_name": "Python [default]",
   "language": "python",
   "name": "python3"
  },
  "language_info": {
   "codemirror_mode": {
    "name": "ipython",
    "version": 3
   },
   "file_extension": ".py",
   "mimetype": "text/x-python",
   "name": "python",
   "nbconvert_exporter": "python",
   "pygments_lexer": "ipython3",
   "version": "3.5.2"
  }
 },
 "nbformat": 4,
 "nbformat_minor": 2
}
