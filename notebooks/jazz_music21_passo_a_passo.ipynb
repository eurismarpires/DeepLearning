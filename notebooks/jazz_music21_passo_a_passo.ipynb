{
 "cells": [
  {
   "cell_type": "code",
   "execution_count": 14,
   "metadata": {},
   "outputs": [],
   "source": [
    "from __future__ import print_function\n",
    "import IPython\n",
    "import sys\n",
    "from music21 import *\n",
    "import numpy as np\n",
    "from grammar import *\n",
    "from qa import *\n",
    "from preprocess import * \n",
    "from music_utils import *\n",
    "from data_utils import *\n",
    "from music_utils import * "
   ]
  },
  {
   "cell_type": "code",
   "execution_count": 5,
   "metadata": {},
   "outputs": [],
   "source": [
    "X, Y, n_values, indices_values = load_music_utils()"
   ]
  },
  {
   "cell_type": "code",
   "execution_count": 6,
   "metadata": {},
   "outputs": [
    {
     "data": {
      "text/plain": [
       "(60, 30, 78)"
      ]
     },
     "execution_count": 6,
     "metadata": {},
     "output_type": "execute_result"
    }
   ],
   "source": [
    "X.shape"
   ]
  },
  {
   "cell_type": "code",
   "execution_count": 8,
   "metadata": {},
   "outputs": [
    {
     "data": {
      "text/plain": [
       "(30, 60, 78)"
      ]
     },
     "execution_count": 8,
     "metadata": {},
     "output_type": "execute_result"
    }
   ],
   "source": [
    "Y.shape"
   ]
  },
  {
   "cell_type": "code",
   "execution_count": 9,
   "metadata": {},
   "outputs": [],
   "source": [
    "chords, abstract_grammars = get_musical_data('data/original_metheny.mid')"
   ]
  },
  {
   "cell_type": "code",
   "execution_count": 10,
   "metadata": {},
   "outputs": [
    {
     "data": {
      "text/plain": [
       "OrderedDict([(0,\n",
       "              [<music21.instrument.Instrument Piano>,\n",
       "               <music21.tempo.MetronomeMark Quarter=112.0>,\n",
       "               <music21.key.Key of G major>,\n",
       "               <music21.meter.TimeSignature 4/4>]),\n",
       "             (1,\n",
       "              [<music21.chord.Chord E-4 G4 C4 B-3 G#2>,\n",
       "               <music21.chord.Chord B-3 F4 D4 A3>]),\n",
       "             (2,\n",
       "              [<music21.chord.Chord E-4 G3 G#3 C4>,\n",
       "               <music21.chord.Chord F4 B-3 D4 G3>]),\n",
       "             (3,\n",
       "              [<music21.chord.Chord E-4 G#3 C4 F3>,\n",
       "               <music21.chord.Chord F4 D4 B-3 G3>]),\n",
       "             (4,\n",
       "              [<music21.chord.Chord G#3 C#4 F3>,\n",
       "               <music21.chord.Chord E-4 C#4 C4>,\n",
       "               <music21.chord.Chord B-3 E-3 C4 G3 G#1>]),\n",
       "             (5,\n",
       "              [<music21.chord.Chord C4 A3 E4 G3 F2>,\n",
       "               <music21.chord.Chord E4 C4 A3 G3 F2>,\n",
       "               <music21.chord.Chord F3 B-3 A3 D4>]),\n",
       "             (6,\n",
       "              [<music21.chord.Chord D2 C4 E3 F3 A3>,\n",
       "               <music21.chord.Chord B-2 F4 C4 D4 A4>,\n",
       "               <music21.chord.Chord B-3 E-3 F4 D4 G3>]),\n",
       "             (7,\n",
       "              [<music21.chord.Chord F3 A3 C4 E4 D2>,\n",
       "               <music21.chord.Chord A3 C4 E4 F3>,\n",
       "               <music21.chord.Chord F3 A3 E4 C4 D2>,\n",
       "               <music21.chord.Chord B-3 F4 D4 A3>]),\n",
       "             (8, [<music21.chord.Chord B-3 A3 F3 D4>]),\n",
       "             (9,\n",
       "              [<music21.chord.Chord C4 A3 E4 G3 F2>,\n",
       "               <music21.chord.Chord C4 E4 A3 G3>,\n",
       "               <music21.chord.Chord E4 C4 A3 G3 F2>,\n",
       "               <music21.chord.Chord F3 B-3 A3 D4>]),\n",
       "             (10,\n",
       "              [<music21.chord.Chord D2 C4 E3 F3 A3>,\n",
       "               <music21.chord.Chord A4 C4 D4 A2 F4>,\n",
       "               <music21.chord.Chord C#4 A3 B3 F4 G2 F3>]),\n",
       "             (11,\n",
       "              [<music21.chord.Chord D4 B-3 A3 F4 G2>,\n",
       "               <music21.chord.Chord G2 D4 B-3 A3 F4>]),\n",
       "             (12,\n",
       "              [<music21.chord.Chord G1 D4>,\n",
       "               <music21.chord.Chord B-3 A3>,\n",
       "               <music21.chord.Chord F4 B-3 D4>,\n",
       "               <music21.chord.Chord D4 F4 B-3 A3>]),\n",
       "             (13,\n",
       "              [<music21.chord.Chord D4 B-3 A3 F4 G2>,\n",
       "               <music21.chord.Chord G2 D4 B-3 A3 F4>]),\n",
       "             (14,\n",
       "              [<music21.chord.Chord G1 D4>,\n",
       "               <music21.chord.Chord B-3 A3>,\n",
       "               <music21.chord.Chord F4 B-3 D4>,\n",
       "               <music21.chord.Chord D4 F4 B-3 A3>]),\n",
       "             (15,\n",
       "              [<music21.chord.Chord C#4 G#4 F4 C4 B-2 G#3>,\n",
       "               <music21.chord.Chord G#4 C#4 F4 C4 B-2 G#3>]),\n",
       "             (16,\n",
       "              [<music21.chord.Chord G#3 B-2>,\n",
       "               <music21.chord.Chord C#4 C4 F4>,\n",
       "               <music21.chord.Chord G#4 F4 C4 C#4 G#3>,\n",
       "               <music21.chord.Chord G#4 F4 C#4 C4>]),\n",
       "             (17,\n",
       "              [<music21.chord.Chord C#4 G#4 F4 C4 B-2 G#3>,\n",
       "               <music21.chord.Chord G#4 C#4 F4 C4 B-2 G#3>]),\n",
       "             (18,\n",
       "              [<music21.chord.Chord G#3 C#4 F4>,\n",
       "               <music21.chord.Chord F4 G#4 C4 C#4>,\n",
       "               <music21.chord.Chord G#3 C#4>,\n",
       "               <music21.chord.Chord G#3 E-3 C5 G#4 F4 C#4>])])"
      ]
     },
     "execution_count": 10,
     "metadata": {},
     "output_type": "execute_result"
    }
   ],
   "source": [
    "chords"
   ]
  },
  {
   "cell_type": "code",
   "execution_count": 11,
   "metadata": {},
   "outputs": [
    {
     "data": {
      "text/plain": [
       "['C,0.500 C,0.333,<P1,d-5> C,0.250,<M-2,m-6> C,0.250,<M3,d-3> C,0.250,<d6,m2> C,0.250,<d5,P1> C,0.667,<M2,d-4> C,0.250,<d1,P-5> C,0.250,<P-4,d-8> S,0.250,<d4,M-2> S,0.250,<P5,A1> C,0.250,<d5,P1>',\n",
       " 'C,0.500 S,0.250,<m2,P-4> C,0.250,<P4,m-2> A,0.250,<P4,m-2> S,0.500,<d1,P-5> C,0.250,<P1,d-5> C,0.250,<m2,P-4> A,0.250,<m2,P-4> C,0.250,<M2,d-4> A,0.250,<d4,M-2> C,0.250,<P4,m-2> C,0.250,<P4,m-2>',\n",
       " 'C,0.250 C,0.250,<d2,A-4> A,0.250,<m-2,d-6> C,0.250,<d3,M-3> A,0.250,<M3,d-3> C,0.250,<d6,m2> C,0.250,<A4,d-2> C,0.250,<d3,M-3> C,0.250,<m2,P-4> A,0.250,<m2,P-4> S,0.250,<P1,d-5> C,0.250,<m2,P-4> C,0.250,<P1,d-5> C,0.250,<m2,P-4> A,0.250,<m2,P-4>',\n",
       " 'C,0.250 S,0.250,<d6,m2> X,0.250,<A4,d-2> S,0.250,<dd5,d1> C,0.250,<P4,m-2> C,0.250,<M3,d-3> C,0.250,<dd5,d1> S,0.250,<P4,m-2> C,0.250,<P4,m-2> C,0.250,<M3,d-3> C,0.250,<dd5,d1> A,0.250,<M3,d-3>',\n",
       " 'C,0.500 A,0.333,<M2,d-4> C,0.250,<d4,M-2> A,0.333,<M2,d-4> C,0.250,<m2,P-4> C,0.250,<A-4,P-8> C,0.250,<P4,m-2> A,0.250,<P4,m-2> S,0.250,<d5,P1> A,0.333,<P1,d-5> C,0.250,<d4,M-2> C,0.250,<P5,A1>',\n",
       " 'C,0.250 S,0.250,<d4,M-2> A,0.250,<m-2,d-6> C,0.250,<d5,P1> A,0.250,<P1,d-5> C,0.250,<d5,P1> C,0.250,<d1,P-5> A,0.333,<A4,d-2>',\n",
       " 'S,0.333 C,0.500,<m2,P-4> S,0.250,<P1,d-5> C,0.250,<m2,P-4> C,0.250,<P4,m-2> C,0.250,<m3,m-3> S,0.250,<m2,P-4> C,0.500,<m6,M2> C,0.250,<P1,d-5> C,0.250,<m7,M3> C,0.250,<d4,M-2>',\n",
       " 'C,0.250 C,0.333,<d1,P-5> S,0.250,<M-2,m-6> C,0.250,<P11,M7> C,0.250,<M-2,m-6> S,0.333,<d7,m3> C,0.667,<M2,d-4>',\n",
       " 'C,0.250 C,0.250,<d5,P1> C,0.250,<m7,M3> C,0.250,<m2,P-4> C,0.250,<P5,A1> C,0.750,<m3,m-3>',\n",
       " 'S,0.250 C,0.250,<m2,P-4> C,0.250,<M2,d-4> C,0.250,<m2,P-4> A,0.250,<M2,d-4> A,0.250,<m2,P-4> C,0.250,<m2,P-4> A,0.333,<M2,d-4> C,0.250,<d3,M-3> X,0.250,<d1,P-5> S,0.250,<A4,d-2> S,0.250,<d1,P-5>',\n",
       " 'C,0.250 C,0.250,<P1,d-5> C,0.333,<m3,m-3> S,0.333,<m2,P-4> C,0.333,<m2,P-4> C,0.250,<m3,m-3> C,0.250,<P1,d-5> C,0.333,<m3,m-3> C,0.250,<d5,P1> C,0.250,<P5,A1>',\n",
       " 'S,0.250 S,0.250,<P1,d-5> C,0.333,<m7,M3> S,0.333,<d1,P-5> S,0.500,<m7,M3> C,0.250,<P1,d-5> S,0.250,<m3,m-3> A,0.250,<P-4,d-8> C,0.250,<d4,M-2> C,0.250,<d5,P1> C,0.250,<P5,A1>',\n",
       " 'S,0.250 S,0.250,<d1,P-5> S,0.750,<m3,m-3> C,0.250,<P1,d-5> S,0.750,<d5,P1> C,0.250,<P1,d-5> C,0.250,<m3,m-3> S,0.250,<d5,P1> C,0.250,<P4,m-2> C,0.250,<d5,P1>',\n",
       " 'C,0.500 C,0.250,<d4,M-2> C,0.333,<M2,d-4> S,0.250,<d1,P-5> C,0.333,<P5,A1> S,0.250,<d1,P-5> C,0.333,<m3,m-3> C,0.250,<P1,d-5>',\n",
       " 'S,0.333 S,0.250,<d1,P-5> C,0.250,<P1,d-5> S,0.500,<m7,M3> S,0.250,<d1,P-5> C,0.250,<P4,m-2> C,0.250,<m3,m-3> C,0.250,<m-2,d-6> C,0.250,<d2,A-4> C,0.250,<P4,m-2> S,0.667,<d5,P1> C,0.250,<P1,d-5>',\n",
       " 'C,0.250 X,0.250,<A4,d-2> C,0.250,<d2,A-4> S,0.250,<P4,m-2> A,0.250,<P1,d-5> A,0.250,<P4,m-2> S,0.250,<d2,A-4> C,0.250,<P4,m-2> X,0.250,<A4,d-2> C,0.250,<d2,A-4> C,0.250,<m-2,d-6> A,0.250,<d5,P1> C,0.250,<d1,P-5> S,0.250,<d5,P1> A,0.250,<m-2,d-6> A,0.250,<d5,P1> S,0.250,<d1,P-5> C,0.250,<P4,m-2> A,0.250,<P1,d-5>',\n",
       " 'C,0.500 C,0.250,<P4,m-2> C,0.250,<M3,d-3> S,0.250,<dd5,d1> C,0.500,<P4,m-2> C,0.333,<A4,d-2> C,0.667,<d6,m2> C,0.500,<m2,P-4>',\n",
       " 'S,0.250 S,0.667,<m3,m-3> C,0.250,<M3,d-3> X,0.250,<d2,A-4> X,0.250,<m6,M2> X,0.250,<M-2,m-6> C,0.250,<m7,M3> S,0.250,<P4,m-2>']"
      ]
     },
     "execution_count": 11,
     "metadata": {},
     "output_type": "execute_result"
    }
   ],
   "source": [
    "abstract_grammars"
   ]
  },
  {
   "cell_type": "code",
   "execution_count": 12,
   "metadata": {},
   "outputs": [],
   "source": [
    "data_fn = \"data/original_metheny.mid\""
   ]
  },
  {
   "cell_type": "code",
   "execution_count": 21,
   "metadata": {},
   "outputs": [],
   "source": [
    "from preprocess import __parse_midi,__get_abstract_grammars"
   ]
  },
  {
   "cell_type": "code",
   "execution_count": 22,
   "metadata": {},
   "outputs": [],
   "source": [
    "measures, chords = __parse_midi(data_fn)"
   ]
  },
  {
   "cell_type": "code",
   "execution_count": 28,
   "metadata": {},
   "outputs": [
    {
     "data": {
      "text/plain": [
       "([<music21.note.Note E->,\n",
       "  <music21.note.Note C>,\n",
       "  <music21.note.Note G>,\n",
       "  <music21.note.Note G#>,\n",
       "  <music21.note.Note C>,\n",
       "  <music21.note.Note E->,\n",
       "  <music21.note.Note D>,\n",
       "  <music21.note.Note B->,\n",
       "  <music21.note.Note D>,\n",
       "  <music21.note.Note E->,\n",
       "  <music21.note.Note G>,\n",
       "  <music21.note.Note B->],\n",
       " [<music21.chord.Chord E-4 G4 C4 B-3 G#2>, <music21.chord.Chord B-3 F4 D4 A3>])"
      ]
     },
     "execution_count": 28,
     "metadata": {},
     "output_type": "execute_result"
    }
   ],
   "source": [
    "measures[1],chords[1]"
   ]
  },
  {
   "cell_type": "code",
   "execution_count": 29,
   "metadata": {},
   "outputs": [
    {
     "data": {
      "text/plain": [
       "([<music21.note.Note C>,\n",
       "  <music21.note.Note B->,\n",
       "  <music21.note.Note C>,\n",
       "  <music21.note.Note D>,\n",
       "  <music21.note.Note B->,\n",
       "  <music21.note.Note G>,\n",
       "  <music21.note.Note F>,\n",
       "  <music21.note.Note E->,\n",
       "  <music21.note.Note D>,\n",
       "  <music21.note.Note E->,\n",
       "  <music21.note.Note F>,\n",
       "  <music21.note.Note G>],\n",
       " [<music21.chord.Chord E-4 G3 G#3 C4>, <music21.chord.Chord F4 B-3 D4 G3>])"
      ]
     },
     "execution_count": 29,
     "metadata": {},
     "output_type": "execute_result"
    }
   ],
   "source": [
    "measures[2],chords[2]"
   ]
  },
  {
   "cell_type": "code",
   "execution_count": 30,
   "metadata": {},
   "outputs": [],
   "source": [
    "abstract_grammars = __get_abstract_grammars(measures, chords)"
   ]
  },
  {
   "cell_type": "code",
   "execution_count": 31,
   "metadata": {},
   "outputs": [
    {
     "data": {
      "text/plain": [
       "['C,0.500 C,0.333,<P1,d-5> C,0.250,<M-2,m-6> C,0.250,<M3,d-3> C,0.250,<d6,m2> C,0.250,<d5,P1> C,0.667,<M2,d-4> C,0.250,<d1,P-5> C,0.250,<P-4,d-8> S,0.250,<d4,M-2> S,0.250,<P5,A1> C,0.250,<d5,P1>',\n",
       " 'C,0.500 S,0.250,<m2,P-4> C,0.250,<P4,m-2> A,0.250,<P4,m-2> S,0.500,<d1,P-5> C,0.250,<P1,d-5> C,0.250,<m2,P-4> A,0.250,<m2,P-4> C,0.250,<M2,d-4> A,0.250,<d4,M-2> C,0.250,<P4,m-2> C,0.250,<P4,m-2>',\n",
       " 'C,0.250 C,0.250,<d2,A-4> A,0.250,<m-2,d-6> C,0.250,<d3,M-3> A,0.250,<M3,d-3> C,0.250,<d6,m2> C,0.250,<A4,d-2> C,0.250,<d3,M-3> C,0.250,<m2,P-4> A,0.250,<m2,P-4> S,0.250,<P1,d-5> C,0.250,<m2,P-4> C,0.250,<P1,d-5> C,0.250,<m2,P-4> A,0.250,<m2,P-4>',\n",
       " 'C,0.250 S,0.250,<d6,m2> X,0.250,<A4,d-2> S,0.250,<dd5,d1> C,0.250,<P4,m-2> C,0.250,<M3,d-3> C,0.250,<dd5,d1> S,0.250,<P4,m-2> C,0.250,<P4,m-2> C,0.250,<M3,d-3> C,0.250,<dd5,d1> A,0.250,<M3,d-3>',\n",
       " 'C,0.500 A,0.333,<M2,d-4> C,0.250,<d4,M-2> A,0.333,<M2,d-4> C,0.250,<m2,P-4> C,0.250,<A-4,P-8> C,0.250,<P4,m-2> A,0.250,<P4,m-2> S,0.250,<d5,P1> A,0.333,<P1,d-5> C,0.250,<d4,M-2> C,0.250,<P5,A1>',\n",
       " 'C,0.250 S,0.250,<d4,M-2> A,0.250,<m-2,d-6> C,0.250,<d5,P1> A,0.250,<P1,d-5> C,0.250,<d5,P1> C,0.250,<d1,P-5> A,0.333,<A4,d-2>',\n",
       " 'S,0.333 C,0.500,<m2,P-4> S,0.250,<P1,d-5> C,0.250,<m2,P-4> C,0.250,<P4,m-2> C,0.250,<m3,m-3> S,0.250,<m2,P-4> C,0.500,<m6,M2> C,0.250,<P1,d-5> C,0.250,<m7,M3> C,0.250,<d4,M-2>',\n",
       " 'C,0.250 C,0.333,<d1,P-5> S,0.250,<M-2,m-6> C,0.250,<P11,M7> C,0.250,<M-2,m-6> S,0.333,<d7,m3> C,0.667,<M2,d-4>',\n",
       " 'C,0.250 C,0.250,<d5,P1> C,0.250,<m7,M3> C,0.250,<m2,P-4> C,0.250,<P5,A1> C,0.750,<m3,m-3>',\n",
       " 'S,0.250 C,0.250,<m2,P-4> C,0.250,<M2,d-4> C,0.250,<m2,P-4> A,0.250,<M2,d-4> A,0.250,<m2,P-4> C,0.250,<m2,P-4> A,0.333,<M2,d-4> C,0.250,<d3,M-3> X,0.250,<d1,P-5> S,0.250,<A4,d-2> S,0.250,<d1,P-5>',\n",
       " 'C,0.250 C,0.250,<P1,d-5> C,0.333,<m3,m-3> S,0.333,<m2,P-4> C,0.333,<m2,P-4> C,0.250,<m3,m-3> C,0.250,<P1,d-5> C,0.333,<m3,m-3> C,0.250,<d5,P1> C,0.250,<P5,A1>',\n",
       " 'S,0.250 S,0.250,<P1,d-5> C,0.333,<m7,M3> S,0.333,<d1,P-5> S,0.500,<m7,M3> C,0.250,<P1,d-5> S,0.250,<m3,m-3> A,0.250,<P-4,d-8> C,0.250,<d4,M-2> C,0.250,<d5,P1> C,0.250,<P5,A1>',\n",
       " 'S,0.250 S,0.250,<d1,P-5> S,0.750,<m3,m-3> C,0.250,<P1,d-5> S,0.750,<d5,P1> C,0.250,<P1,d-5> C,0.250,<m3,m-3> S,0.250,<d5,P1> C,0.250,<P4,m-2> C,0.250,<d5,P1>',\n",
       " 'C,0.500 C,0.250,<d4,M-2> C,0.333,<M2,d-4> S,0.250,<d1,P-5> C,0.333,<P5,A1> S,0.250,<d1,P-5> C,0.333,<m3,m-3> C,0.250,<P1,d-5>',\n",
       " 'S,0.333 S,0.250,<d1,P-5> C,0.250,<P1,d-5> S,0.500,<m7,M3> S,0.250,<d1,P-5> C,0.250,<P4,m-2> C,0.250,<m3,m-3> C,0.250,<m-2,d-6> C,0.250,<d2,A-4> C,0.250,<P4,m-2> S,0.667,<d5,P1> C,0.250,<P1,d-5>',\n",
       " 'C,0.250 X,0.250,<A4,d-2> C,0.250,<d2,A-4> S,0.250,<P4,m-2> A,0.250,<P1,d-5> A,0.250,<P4,m-2> S,0.250,<d2,A-4> C,0.250,<P4,m-2> X,0.250,<A4,d-2> C,0.250,<d2,A-4> C,0.250,<m-2,d-6> A,0.250,<d5,P1> C,0.250,<d1,P-5> S,0.250,<d5,P1> A,0.250,<m-2,d-6> A,0.250,<d5,P1> S,0.250,<d1,P-5> C,0.250,<P4,m-2> A,0.250,<P1,d-5>',\n",
       " 'C,0.500 C,0.250,<P4,m-2> C,0.250,<M3,d-3> S,0.250,<dd5,d1> C,0.500,<P4,m-2> C,0.333,<A4,d-2> C,0.667,<d6,m2> C,0.500,<m2,P-4>',\n",
       " 'S,0.250 S,0.667,<m3,m-3> C,0.250,<M3,d-3> X,0.250,<d2,A-4> X,0.250,<m6,M2> X,0.250,<M-2,m-6> C,0.250,<m7,M3> S,0.250,<P4,m-2>']"
      ]
     },
     "execution_count": 31,
     "metadata": {},
     "output_type": "execute_result"
    }
   ],
   "source": [
    "abstract_grammars"
   ]
  },
  {
   "cell_type": "code",
   "execution_count": 37,
   "metadata": {},
   "outputs": [
    {
     "data": {
      "text/plain": [
       "476.6666666666667"
      ]
     },
     "execution_count": 37,
     "metadata": {},
     "output_type": "execute_result"
    }
   ],
   "source": [
    "1430/3"
   ]
  },
  {
   "cell_type": "code",
   "execution_count": 40,
   "metadata": {},
   "outputs": [
    {
     "name": "stdout",
     "output_type": "stream",
     "text": [
      "<music21.note.Note E-> 476.0\n",
      "<music21.note.Note C> 1430/3\n",
      "<music21.note.Note G> 1432/3\n",
      "<music21.note.Note G#> 477.5\n",
      "<music21.note.Note C> 1433/3\n",
      "<music21.note.Note E-> 477.75\n",
      "<music21.note.Note D> 478.0\n",
      "<music21.note.Note B-> 478.75\n",
      "<music21.note.Note D> 1438/3\n",
      "<music21.note.Note E-> 479.5\n",
      "<music21.note.Note G> 1439/3\n",
      "<music21.note.Note B-> 479.75\n",
      "..................\n",
      "<music21.note.Note C> 480.0\n",
      "<music21.note.Note B-> 480.5\n",
      "<music21.note.Note C> 480.75\n",
      "<music21.note.Note D> 481.25\n",
      "<music21.note.Note B-> 1445/3\n",
      "<music21.note.Note G> 482.5\n",
      "<music21.note.Note F> 1448/3\n",
      "<music21.note.Note E-> 482.75\n",
      "<music21.note.Note D> 483.0\n",
      "<music21.note.Note E-> 483.25\n",
      "<music21.note.Note F> 483.5\n",
      "<music21.note.Note G> 483.75\n",
      "..................\n",
      "<music21.note.Note G#> 484.0\n",
      "<music21.note.Note F> 484.25\n",
      "<music21.note.Note C#> 484.75\n",
      "<music21.note.Note C> 485.0\n",
      "<music21.note.Note C#> 485.25\n",
      "<music21.note.Note F> 485.5\n",
      "<music21.note.Note G#> 485.75\n",
      "<music21.note.Note G> 486.0\n",
      "<music21.note.Note F> 486.25\n",
      "<music21.note.Note E-> 486.5\n",
      "<music21.note.Note C> 486.75\n",
      "<music21.note.Note B-> 487.0\n",
      "<music21.note.Note G> 487.25\n",
      "<music21.note.Note F> 487.5\n",
      "<music21.note.Note E-> 487.75\n",
      "..................\n",
      "<music21.note.Note C#> 488.0\n",
      "<music21.note.Note F> 1465/3\n",
      "<music21.note.Note G#> 488.75\n",
      "<music21.note.Note B-> 489.0\n",
      "<music21.note.Note C> 1468/3\n",
      "<music21.note.Note C#> 489.75\n",
      "<music21.note.Note E-> 490.0\n",
      "<music21.note.Note F> 1471/3\n",
      "<music21.note.Note G> 1472/3\n",
      "<music21.note.Note G#> 491.0\n",
      "<music21.note.Note B-> 1474/3\n",
      "<music21.note.Note B> 1475/3\n",
      "..................\n",
      "<music21.note.Note C> 492.0\n",
      "<music21.note.Note B> 492.5\n",
      "<music21.note.Note C> 493.0\n",
      "<music21.note.Note B> 493.25\n",
      "<music21.note.Note A> 1481/3\n",
      "<music21.note.Note C> 494.25\n",
      "<music21.note.Note D> 494.5\n",
      "<music21.note.Note E> 494.75\n",
      "<music21.note.Note G> 495.0\n",
      "<music21.note.Note E> 495.25\n",
      "<music21.note.Note F> 495.5\n",
      "<music21.note.Note A> 495.75\n",
      "..................\n",
      "<music21.note.Note A> 496.25\n",
      "<music21.note.Note B-> 496.5\n",
      "<music21.note.Note F#> 496.75\n",
      "<music21.note.Note A> 497.0\n",
      "<music21.note.Note F#> 497.25\n",
      "<music21.note.Note A> 497.5\n",
      "<music21.note.Note F> 498.0\n",
      "<music21.note.Note G#> 499.75\n",
      "..................\n",
      "<music21.note.Note G> 500.25\n",
      "<music21.note.Note F> 500.75\n",
      "<music21.note.Note D> 501.5\n",
      "<music21.note.Note C> 501.75\n",
      "<music21.note.Note D> 502.0\n",
      "<music21.note.Note D> 502.25\n",
      "<music21.note.Note C> 502.5\n",
      "<music21.note.Note F> 503.0\n",
      "<music21.note.Note D> 503.5\n",
      "<music21.note.Note A> 1511/3\n",
      "<music21.note.Note B-> 503.75\n",
      "..................\n",
      "<music21.note.Note A> 504.25\n",
      "<music21.note.Note F> 504.75\n",
      "<music21.note.Note C> 505.25\n",
      "<music21.note.Note D> 505.75\n",
      "<music21.note.Note A> 506.25\n",
      "<music21.note.Note E-> 506.75\n",
      "<music21.note.Note D> 507.25\n",
      "..................\n",
      "<music21.note.Note A> 509.0\n",
      "<music21.note.Note C> 509.25\n",
      "<music21.note.Note G> 509.75\n",
      "<music21.note.Note F> 510.25\n",
      "<music21.note.Note A> 510.75\n",
      "<music21.note.Note A> 511.25\n",
      "..................\n",
      "<music21.note.Note G> 513.25\n",
      "<music21.note.Note F> 513.25\n",
      "<music21.note.Note E> 513.5\n",
      "<music21.note.Note D> 513.75\n",
      "<music21.note.Note C#> 514.0\n",
      "<music21.note.Note B> 514.25\n",
      "<music21.note.Note A> 514.5\n",
      "<music21.note.Note G#> 514.75\n",
      "<music21.note.Note G> 515.0\n",
      "<music21.note.Note E-> 515.25\n",
      "<music21.note.Note F#> 515.5\n",
      "<music21.note.Note D> 515.75\n",
      "..................\n",
      "<music21.note.Note F> 516.0\n",
      "<music21.note.Note D> 516.25\n",
      "<music21.note.Note D> 516.75\n",
      "<music21.note.Note C> 517.0\n",
      "<music21.note.Note B-> 517.5\n",
      "<music21.note.Note B-> 518.0\n",
      "<music21.note.Note G> 518.25\n",
      "<music21.note.Note G> 518.75\n",
      "<music21.note.Note B-> 519.25\n",
      "<music21.note.Note D> 519.75\n",
      "..................\n",
      "<music21.note.Note F> 520.0\n",
      "<music21.note.Note D> 520.25\n",
      "<music21.note.Note A> 520.75\n",
      "<music21.note.Note F> 521.25\n",
      "<music21.note.Note C> 521.75\n",
      "<music21.note.Note A> 522.25\n",
      "<music21.note.Note A> 522.75\n",
      "<music21.note.Note C#> 523.25\n",
      "<music21.note.Note D> 523.5\n",
      "<music21.note.Note F> 1571/3\n",
      "<music21.note.Note A> 523.75\n",
      "..................\n",
      "<music21.note.Note E> 524.0\n",
      "<music21.note.Note C> 1573/3\n",
      "<music21.note.Note C> 524.75\n",
      "<music21.note.Note A> 525.5\n",
      "<music21.note.Note C> 526.0\n",
      "<music21.note.Note A> 526.75\n",
      "<music21.note.Note A> 1582/3\n",
      "<music21.note.Note C> 527.5\n",
      "<music21.note.Note D> 1583/3\n",
      "<music21.note.Note F> 527.75\n",
      "..................\n",
      "<music21.note.Note A> 528.0\n",
      "<music21.note.Note B-> 528.5\n",
      "<music21.note.Note A> 528.75\n",
      "<music21.note.Note F> 529.25\n",
      "<music21.note.Note A> 529.75\n",
      "<music21.note.Note F> 530.25\n",
      "<music21.note.Note F> 530.75\n",
      "<music21.note.Note D> 531.5\n",
      "..................\n",
      "<music21.note.Note G> 1597/3\n",
      "<music21.note.Note E-> 1598/3\n",
      "<music21.note.Note C> 532.75\n",
      "<music21.note.Note G> 533.0\n",
      "<music21.note.Note E-> 533.5\n",
      "<music21.note.Note F> 533.75\n",
      "<music21.note.Note F> 534.25\n",
      "<music21.note.Note C#> 534.5\n",
      "<music21.note.Note B-> 1604/3\n",
      "<music21.note.Note C> 534.75\n",
      "<music21.note.Note E-> 535.0\n",
      "<music21.note.Note C> 535.75\n",
      "..................\n",
      "<music21.note.Note F> 536.75\n",
      "<music21.note.Note G#> 537.0\n",
      "<music21.note.Note F> 537.25\n",
      "<music21.note.Note G> 1612/3\n",
      "<music21.note.Note E> 537.5\n",
      "<music21.note.Note F#> 1613/3\n",
      "<music21.note.Note E-> 537.75\n",
      "<music21.note.Note F> 538.0\n",
      "<music21.note.Note G#> 538.25\n",
      "<music21.note.Note F> 1615/3\n",
      "<music21.note.Note C#> 538.5\n",
      "<music21.note.Note E> 1616/3\n",
      "<music21.note.Note C> 538.75\n",
      "<music21.note.Note E-> 539.0\n",
      "<music21.note.Note B> 539.25\n",
      "<music21.note.Note D> 1618/3\n",
      "<music21.note.Note B-> 539.5\n",
      "<music21.note.Note C> 1619/3\n",
      "<music21.note.Note A> 539.75\n",
      "..................\n",
      "<music21.note.Note B-> 540.0\n",
      "<music21.note.Note C> 540.75\n",
      "<music21.note.Note C#> 541.0\n",
      "<music21.note.Note E-> 541.25\n",
      "<music21.note.Note F> 541.75\n",
      "<music21.note.Note G#> 542.25\n",
      "<music21.note.Note C> 542.75\n",
      "<music21.note.Note B-> 1631/3\n",
      "..................\n",
      "<music21.note.Note C> 545.0\n",
      "<music21.note.Note C> 545.25\n",
      "<music21.note.Note C#> 546.0\n",
      "<music21.note.Note B-> 546.25\n",
      "<music21.note.Note E-> 546.5\n",
      "<music21.note.Note B-> 546.75\n",
      "<music21.note.Note F> 547.0\n",
      "<music21.note.Note G> 547.5\n",
      "..................\n"
     ]
    }
   ],
   "source": [
    "for ix in range(1, len(measures)):\n",
    "    for i in measures[ix]:\n",
    "        print(i,i.offset)\n",
    "    print('..................')"
   ]
  },
  {
   "cell_type": "code",
   "execution_count": 41,
   "metadata": {},
   "outputs": [
    {
     "name": "stdout",
     "output_type": "stream",
     "text": [
      "<music21.chord.Chord E-4 G4 C4 B-3 G#2> 476.0\n",
      "<music21.chord.Chord B-3 F4 D4 A3> 478.0\n",
      "..................\n",
      "<music21.chord.Chord E-4 G3 G#3 C4> 480.0\n",
      "<music21.chord.Chord F4 B-3 D4 G3> 482.0\n",
      "..................\n",
      "<music21.chord.Chord E-4 G#3 C4 F3> 484.0\n",
      "<music21.chord.Chord F4 D4 B-3 G3> 486.0\n",
      "..................\n",
      "<music21.chord.Chord G#3 C#4 F3> 488.0\n",
      "<music21.chord.Chord E-4 C#4 C4> 488.0\n",
      "<music21.chord.Chord B-3 E-3 C4 G3 G#1> 490.0\n",
      "..................\n",
      "<music21.chord.Chord C4 A3 E4 G3 F2> 492.0\n",
      "<music21.chord.Chord E4 C4 A3 G3 F2> 493.75\n",
      "<music21.chord.Chord F3 B-3 A3 D4> 494.5\n",
      "..................\n",
      "<music21.chord.Chord D2 C4 E3 F3 A3> 496.0\n",
      "<music21.chord.Chord B-2 F4 C4 D4 A4> 498.5\n",
      "<music21.chord.Chord B-3 E-3 F4 D4 G3> 499.0\n",
      "..................\n",
      "<music21.chord.Chord F3 A3 C4 E4 D2> 500.0\n",
      "<music21.chord.Chord A3 C4 E4 F3> 501.0\n",
      "<music21.chord.Chord F3 A3 E4 C4 D2> 501.75\n",
      "<music21.chord.Chord B-3 F4 D4 A3> 502.5\n",
      "..................\n",
      "<music21.chord.Chord B-3 A3 F3 D4> 507.5\n",
      "..................\n",
      "<music21.chord.Chord C4 A3 E4 G3 F2> 508.0\n",
      "<music21.chord.Chord C4 E4 A3 G3> 509.0\n",
      "<music21.chord.Chord E4 C4 A3 G3 F2> 509.75\n",
      "<music21.chord.Chord F3 B-3 A3 D4> 510.5\n",
      "..................\n",
      "<music21.chord.Chord D2 C4 E3 F3 A3> 512.0\n",
      "<music21.chord.Chord A4 C4 D4 A2 F4> 514.5\n",
      "<music21.chord.Chord C#4 A3 B3 F4 G2 F3> 515.0\n",
      "..................\n",
      "<music21.chord.Chord D4 B-3 A3 F4 G2> 516.5\n",
      "<music21.chord.Chord G2 D4 B-3 A3 F4> 518.0\n",
      "..................\n",
      "<music21.chord.Chord G1 D4> 520.0\n",
      "<music21.chord.Chord B-3 A3> 520.0\n",
      "<music21.chord.Chord F4 B-3 D4> 522.5\n",
      "<music21.chord.Chord D4 F4 B-3 A3> 523.0\n",
      "..................\n",
      "<music21.chord.Chord D4 B-3 A3 F4 G2> 524.5\n",
      "<music21.chord.Chord G2 D4 B-3 A3 F4> 526.0\n",
      "..................\n",
      "<music21.chord.Chord G1 D4> 528.0\n",
      "<music21.chord.Chord B-3 A3> 528.0\n",
      "<music21.chord.Chord F4 B-3 D4> 530.5\n",
      "<music21.chord.Chord D4 F4 B-3 A3> 531.0\n",
      "..................\n",
      "<music21.chord.Chord C#4 G#4 F4 C4 B-2 G#3> 532.5\n",
      "<music21.chord.Chord G#4 C#4 F4 C4 B-2 G#3> 534.0\n",
      "..................\n",
      "<music21.chord.Chord G#3 B-2> 536.0\n",
      "<music21.chord.Chord C#4 C4 F4> 536.0\n",
      "<music21.chord.Chord G#4 F4 C4 C#4 G#3> 538.5\n",
      "<music21.chord.Chord G#4 F4 C#4 C4> 539.0\n",
      "..................\n",
      "<music21.chord.Chord C#4 G#4 F4 C4 B-2 G#3> 540.5\n",
      "<music21.chord.Chord G#4 C#4 F4 C4 B-2 G#3> 542.0\n",
      "..................\n",
      "<music21.chord.Chord G#3 C#4 F4> 544.0\n",
      "<music21.chord.Chord F4 G#4 C4 C#4> 545.5\n",
      "<music21.chord.Chord G#3 C#4> 545.5\n",
      "<music21.chord.Chord G#3 E-3 C5 G#4 F4 C#4> 547.0\n",
      "..................\n"
     ]
    }
   ],
   "source": [
    "for ix in range(1, len(chords)):\n",
    "    for j in chords[ix]:\n",
    "        print(j,j.offset)\n",
    "    print('..................')"
   ]
  },
  {
   "cell_type": "code",
   "execution_count": 42,
   "metadata": {},
   "outputs": [],
   "source": [
    "m = stream.Voice()\n",
    "ix = 1\n",
    "for i in measures[ix]:\n",
    "    m.insert(i.offset, i)"
   ]
  },
  {
   "cell_type": "code",
   "execution_count": 43,
   "metadata": {},
   "outputs": [
    {
     "data": {
      "image/png": "[encoded data removed]",
      "text/plain": [
       "<music21.ipython21.objects.IPythonPNGObject at 0x125f6048>"
      ]
     },
     "execution_count": 43,
     "metadata": {},
     "output_type": "execute_result"
    }
   ],
   "source": [
    "m.show()"
   ]
  },
  {
   "cell_type": "code",
   "execution_count": 44,
   "metadata": {},
   "outputs": [],
   "source": [
    "c = stream.Voice()\n",
    "for j in chords[ix]:\n",
    "    c.insert(j.offset, j)"
   ]
  },
  {
   "cell_type": "code",
   "execution_count": 45,
   "metadata": {},
   "outputs": [
    {
     "data": {
      "image/png": "[encoded data removed]",
      "text/plain": [
       "<music21.ipython21.objects.IPythonPNGObject at 0x83d3240>"
      ]
     },
     "execution_count": 45,
     "metadata": {},
     "output_type": "execute_result"
    }
   ],
   "source": [
    "c.show()"
   ]
  },
  {
   "cell_type": "code",
   "execution_count": 46,
   "metadata": {},
   "outputs": [],
   "source": [
    "fullMeasureNotes = m\n",
    "fullMeasureChords = c"
   ]
  },
  {
   "cell_type": "code",
   "execution_count": 47,
   "metadata": {},
   "outputs": [],
   "source": [
    "measure = copy.deepcopy(fullMeasureNotes)"
   ]
  },
  {
   "cell_type": "code",
   "execution_count": 48,
   "metadata": {},
   "outputs": [],
   "source": [
    "chords = copy.deepcopy(fullMeasureChords)"
   ]
  },
  {
   "cell_type": "code",
   "execution_count": 49,
   "metadata": {},
   "outputs": [
    {
     "name": "stdout",
     "output_type": "stream",
     "text": [
      "{476.0} <music21.note.Note E->\n",
      "{476.6667} <music21.note.Note C>\n",
      "{477.3333} <music21.note.Note G>\n",
      "{477.5} <music21.note.Note G#>\n",
      "{477.6667} <music21.note.Note C>\n",
      "{477.75} <music21.note.Note E->\n",
      "{478.0} <music21.note.Note D>\n",
      "{478.75} <music21.note.Note B->\n",
      "{479.3333} <music21.note.Note D>\n",
      "{479.5} <music21.note.Note E->\n",
      "{479.6667} <music21.note.Note G>\n",
      "{479.75} <music21.note.Note B->\n"
     ]
    }
   ],
   "source": [
    "measure.show('text')"
   ]
  },
  {
   "cell_type": "code",
   "execution_count": 50,
   "metadata": {},
   "outputs": [
    {
     "name": "stdout",
     "output_type": "stream",
     "text": [
      "{476.0} <music21.chord.Chord E-4 G4 C4 B-3 G#2>\n",
      "{478.0} <music21.chord.Chord B-3 F4 D4 A3>\n"
     ]
    }
   ],
   "source": [
    "chords.show('text')"
   ]
  },
  {
   "cell_type": "code",
   "execution_count": 51,
   "metadata": {},
   "outputs": [],
   "source": [
    "measure.removeByNotOfClass([note.Note, note.Rest])"
   ]
  },
  {
   "cell_type": "code",
   "execution_count": 52,
   "metadata": {},
   "outputs": [
    {
     "name": "stdout",
     "output_type": "stream",
     "text": [
      "{476.0} <music21.note.Note E->\n",
      "{476.6667} <music21.note.Note C>\n",
      "{477.3333} <music21.note.Note G>\n",
      "{477.5} <music21.note.Note G#>\n",
      "{477.6667} <music21.note.Note C>\n",
      "{477.75} <music21.note.Note E->\n",
      "{478.0} <music21.note.Note D>\n",
      "{478.75} <music21.note.Note B->\n",
      "{479.3333} <music21.note.Note D>\n",
      "{479.5} <music21.note.Note E->\n",
      "{479.6667} <music21.note.Note G>\n",
      "{479.75} <music21.note.Note B->\n"
     ]
    }
   ],
   "source": [
    "measure.show('text')"
   ]
  },
  {
   "cell_type": "code",
   "execution_count": 53,
   "metadata": {},
   "outputs": [],
   "source": [
    "chords.removeByNotOfClass([chord.Chord])"
   ]
  },
  {
   "cell_type": "code",
   "execution_count": 54,
   "metadata": {},
   "outputs": [
    {
     "name": "stdout",
     "output_type": "stream",
     "text": [
      "{476.0} <music21.chord.Chord E-4 G4 C4 B-3 G#2>\n",
      "{478.0} <music21.chord.Chord B-3 F4 D4 A3>\n"
     ]
    }
   ],
   "source": [
    "chords.show('text')"
   ]
  },
  {
   "cell_type": "code",
   "execution_count": 55,
   "metadata": {},
   "outputs": [],
   "source": [
    "# Information for the start of the measure.\n",
    "# 1) measureStartTime: the offset for measure's start, e.g. 476.0.\n",
    "# 2) measureStartOffset: how long from the measure start to the first element.\n",
    "measureStartTime = measure[0].offset - (measure[0].offset % 4)"
   ]
  },
  {
   "cell_type": "code",
   "execution_count": 56,
   "metadata": {},
   "outputs": [
    {
     "data": {
      "text/plain": [
       "476.0"
      ]
     },
     "execution_count": 56,
     "metadata": {},
     "output_type": "execute_result"
    }
   ],
   "source": [
    "measureStartTime"
   ]
  },
  {
   "cell_type": "code",
   "execution_count": 57,
   "metadata": {},
   "outputs": [],
   "source": [
    "measureStartOffset  = measure[0].offset - measureStartTime"
   ]
  },
  {
   "cell_type": "code",
   "execution_count": 58,
   "metadata": {},
   "outputs": [
    {
     "data": {
      "text/plain": [
       "0.0"
      ]
     },
     "execution_count": 58,
     "metadata": {},
     "output_type": "execute_result"
    }
   ],
   "source": [
    "measureStartOffset"
   ]
  },
  {
   "cell_type": "code",
   "execution_count": 67,
   "metadata": {},
   "outputs": [],
   "source": [
    "from grammar import __is_scale_tone"
   ]
  },
  {
   "cell_type": "code",
   "execution_count": 71,
   "metadata": {},
   "outputs": [
    {
     "name": "stdout",
     "output_type": "stream",
     "text": [
      "0 <music21.note.Note E-> <music21.chord.Chord E-4 G4 C4 B-3 G#2>\n",
      "teste1................. E- <music21.note.Note E-> <class 'music21.chord.Chord'>\n",
      "C\n",
      "1 <music21.note.Note C> <music21.chord.Chord E-4 G4 C4 B-3 G#2>\n",
      "teste1................. C <music21.note.Note C> <class 'music21.chord.Chord'>\n",
      "C\n",
      "2 <music21.note.Note G> <music21.chord.Chord E-4 G4 C4 B-3 G#2>\n",
      "teste1................. G <music21.note.Note G> <class 'music21.chord.Chord'>\n",
      "C\n",
      "3 <music21.note.Note G#> <music21.chord.Chord E-4 G4 C4 B-3 G#2>\n",
      "teste1................. G# <music21.note.Note G#> <class 'music21.chord.Chord'>\n",
      "C\n",
      "4 <music21.note.Note C> <music21.chord.Chord E-4 G4 C4 B-3 G#2>\n",
      "teste1................. C <music21.note.Note C> <class 'music21.chord.Chord'>\n",
      "C\n",
      "5 <music21.note.Note E-> <music21.chord.Chord E-4 G4 C4 B-3 G#2>\n",
      "teste1................. E- <music21.note.Note E-> <class 'music21.chord.Chord'>\n",
      "C\n",
      "6 <music21.note.Note D> <music21.chord.Chord B-3 F4 D4 A3>\n",
      "teste1................. D <music21.note.Note D> <class 'music21.chord.Chord'>\n",
      "C\n",
      "7 <music21.note.Note B-> <music21.chord.Chord B-3 F4 D4 A3>\n",
      "teste1................. B- <music21.note.Note B-> <class 'music21.chord.Chord'>\n",
      "C\n",
      "8 <music21.note.Note D> <music21.chord.Chord B-3 F4 D4 A3>\n",
      "teste1................. D <music21.note.Note D> <class 'music21.chord.Chord'>\n",
      "C\n",
      "9 <music21.note.Note E-> <music21.chord.Chord B-3 F4 D4 A3>\n",
      "teste2................. <music21.chord.Chord B-3 F4 D4 A3> <music21.note.Note E->\n",
      "S\n",
      "10 <music21.note.Note G> <music21.chord.Chord B-3 F4 D4 A3>\n",
      "teste2................. <music21.chord.Chord B-3 F4 D4 A3> <music21.note.Note G>\n",
      "S\n",
      "11 <music21.note.Note B-> <music21.chord.Chord B-3 F4 D4 A3>\n",
      "teste1................. B- <music21.note.Note B-> <class 'music21.chord.Chord'>\n",
      "C\n"
     ]
    }
   ],
   "source": [
    "fullGrammar = \"\"\n",
    "prevNote = None # Store previous note. Need for interval.\n",
    "numNonRests = 0 # Number of non-rest elements. Need for updating prevNote.\n",
    "for ix, nr in enumerate(measure):    \n",
    "    # Get the last chord. If no last chord, then (assuming chords is of length\n",
    "    # >0) shift first chord in chords to the beginning of the measure.\n",
    "    try: \n",
    "        lastChord = [n for n in chords if n.offset <= nr.offset][-1]\n",
    "        print(ix,nr,lastChord)\n",
    "    except IndexError:\n",
    "        print(\"except\")\n",
    "        chords[0].offset = measureStartTime\n",
    "        lastChord = [n for n in chords if n.offset <= nr.offset][-1] \n",
    "\n",
    "    # FIRST, get type of note, e.g. R for Rest, C for Chord, etc.\n",
    "    # Dealing with solo notes here. If unexpected chord: still call 'C'.\n",
    "    elementType = ' '\n",
    "    # R: First, check if it's a rest. Clearly a rest --> only one possibility.\n",
    "    if isinstance(nr, note.Rest):\n",
    "        elementType = 'R'\n",
    "    # C: Next, check to see if note pitch is in the last chord.\n",
    "    elif nr.name in lastChord.pitchNames or isinstance(nr, chord.Chord):\n",
    "        elementType = 'C'\n",
    "        print(\"teste1.................\",nr.name,nr, chord.Chord)\n",
    "    # L: (Complement tone) Skip this for now.\n",
    "    # S: Check if it's a scale tone.\n",
    "    elif __is_scale_tone(lastChord, nr):\n",
    "        print(\"teste2.................\",lastChord,nr)\n",
    "        elementType = 'S'\n",
    "    # A: Check if it's an approach tone, i.e. +-1 halfstep chord tone.\n",
    "    elif __is_approach_tone(lastChord, nr):\n",
    "        elementType = 'A'\n",
    "    # X: Otherwise, it's an arbitrary tone. Generate random note.\n",
    "    else:\n",
    "        elementType = 'X'    \n",
    "    print(elementType)"
   ]
  },
  {
   "cell_type": "code",
   "execution_count": null,
   "metadata": {},
   "outputs": [],
   "source": []
  },
  {
   "cell_type": "code",
   "execution_count": null,
   "metadata": {},
   "outputs": [],
   "source": []
  },
  {
   "cell_type": "code",
   "execution_count": null,
   "metadata": {},
   "outputs": [],
   "source": []
  },
  {
   "cell_type": "code",
   "execution_count": null,
   "metadata": {},
   "outputs": [],
   "source": [
    "def parse_melody(fullMeasureNotes, fullMeasureChords):\n",
    "    # Remove extraneous elements.x\n",
    "    measure = copy.deepcopy(fullMeasureNotes)\n",
    "    chords = copy.deepcopy(fullMeasureChords)\n",
    "    measure.removeByNotOfClass([note.Note, note.Rest])\n",
    "    chords.removeByNotOfClass([chord.Chord])\n",
    "\n",
    "    # Information for the start of the measure.\n",
    "    # 1) measureStartTime: the offset for measure's start, e.g. 476.0.\n",
    "    # 2) measureStartOffset: how long from the measure start to the first element.\n",
    "    measureStartTime = measure[0].offset - (measure[0].offset % 4)\n",
    "    measureStartOffset  = measure[0].offset - measureStartTime\n",
    "\n",
    "    # Iterate over the notes and rests in measure, finding the grammar for each\n",
    "    # note in the measure and adding an abstract grammatical string for it. \n",
    "\n",
    "    fullGrammar = \"\"\n",
    "    prevNote = None # Store previous note. Need for interval.\n",
    "    numNonRests = 0 # Number of non-rest elements. Need for updating prevNote.\n",
    "    for ix, nr in enumerate(measure):\n",
    "        # Get the last chord. If no last chord, then (assuming chords is of length\n",
    "        # >0) shift first chord in chords to the beginning of the measure.\n",
    "        try: \n",
    "            lastChord = [n for n in chords if n.offset <= nr.offset][-1]\n",
    "        except IndexError:\n",
    "            chords[0].offset = measureStartTime\n",
    "            lastChord = [n for n in chords if n.offset <= nr.offset][-1]\n",
    "\n",
    "        # FIRST, get type of note, e.g. R for Rest, C for Chord, etc.\n",
    "        # Dealing with solo notes here. If unexpected chord: still call 'C'.\n",
    "        elementType = ' '\n",
    "        # R: First, check if it's a rest. Clearly a rest --> only one possibility.\n",
    "        if isinstance(nr, note.Rest):\n",
    "            elementType = 'R'\n",
    "        # C: Next, check to see if note pitch is in the last chord.\n",
    "        elif nr.name in lastChord.pitchNames or isinstance(nr, chord.Chord):\n",
    "            elementType = 'C'\n",
    "        # L: (Complement tone) Skip this for now.\n",
    "        # S: Check if it's a scale tone.\n",
    "        elif __is_scale_tone(lastChord, nr):\n",
    "            elementType = 'S'\n",
    "        # A: Check if it's an approach tone, i.e. +-1 halfstep chord tone.\n",
    "        elif __is_approach_tone(lastChord, nr):\n",
    "            elementType = 'A'\n",
    "        # X: Otherwise, it's an arbitrary tone. Generate random note.\n",
    "        else:\n",
    "            elementType = 'X'\n",
    "\n",
    "        # SECOND, get the length for each element. e.g. 8th note = R8, but\n",
    "        # to simplify things you'll use the direct num, e.g. R,0.125\n",
    "        if (ix == (len(measure)-1)):\n",
    "            # formula for a in \"a - b\": start of measure (e.g. 476) + 4\n",
    "            diff = measureStartTime + 4.0 - nr.offset\n",
    "        else:\n",
    "            diff = measure[ix + 1].offset - nr.offset\n",
    "\n",
    "        # Combine into the note info.\n",
    "        noteInfo = \"%s,%.3f\" % (elementType, nr.quarterLength) # back to diff\n",
    "\n",
    "        # THIRD, get the deltas (max range up, max range down) based on where\n",
    "        # the previous note was, +- minor 3. Skip rests (don't affect deltas).\n",
    "        intervalInfo = \"\"\n",
    "        if isinstance(nr, note.Note):\n",
    "            numNonRests += 1\n",
    "            if numNonRests == 1:\n",
    "                prevNote = nr\n",
    "            else:\n",
    "                noteDist = interval.Interval(noteStart=prevNote, noteEnd=nr)\n",
    "                noteDistUpper = interval.add([noteDist, \"m3\"])\n",
    "                noteDistLower = interval.subtract([noteDist, \"m3\"])\n",
    "                intervalInfo = \",<%s,%s>\" % (noteDistUpper.directedName, \n",
    "                    noteDistLower.directedName)\n",
    "                # print \"Upper, lower: %s, %s\" % (noteDistUpper,\n",
    "                #     noteDistLower)\n",
    "                # print \"Upper, lower dnames: %s, %s\" % (\n",
    "                #     noteDistUpper.directedName,\n",
    "                #     noteDistLower.directedName)\n",
    "                # print \"The interval: %s\" % (intervalInfo)\n",
    "                prevNote = nr\n",
    "\n",
    "        # Return. Do lazy evaluation for real-time performance.\n",
    "        grammarTerm = noteInfo + intervalInfo \n",
    "        fullGrammar += (grammarTerm + \" \")\n",
    "\n",
    "    return fullGrammar.rstrip()"
   ]
  },
  {
   "cell_type": "code",
   "execution_count": 23,
   "metadata": {},
   "outputs": [],
   "source": [
    "def __get_abstract_grammars(measures, chords):\n",
    "    # extract grammars\n",
    "    abstract_grammars = []\n",
    "    for ix in range(1, len(measures)):\n",
    "        m = stream.Voice()\n",
    "        for i in measures[ix]:\n",
    "            m.insert(i.offset, i)\n",
    "        c = stream.Voice()\n",
    "        for j in chords[ix]:\n",
    "            c.insert(j.offset, j)\n",
    "        parsed = parse_melody(m, c)\n",
    "        abstract_grammars.append(parsed)\n",
    "\n",
    "    return abstract_grammars"
   ]
  },
  {
   "cell_type": "code",
   "execution_count": null,
   "metadata": {},
   "outputs": [],
   "source": []
  }
 ],
 "metadata": {
  "anaconda-cloud": {},
  "kernelspec": {
   "display_name": "Python [default]",
   "language": "python",
   "name": "python3"
  },
  "language_info": {
   "codemirror_mode": {
    "name": "ipython",
    "version": 3
   },
   "file_extension": ".py",
   "mimetype": "text/x-python",
   "name": "python",
   "nbconvert_exporter": "python",
   "pygments_lexer": "ipython3",
   "version": "3.5.2"
  }
 },
 "nbformat": 4,
 "nbformat_minor": 2
}
