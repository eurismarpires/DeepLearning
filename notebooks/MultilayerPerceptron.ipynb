{
 "cells": [
  {
   "cell_type": "code",
   "execution_count": 1,
   "metadata": {},
   "outputs": [
    {
     "name": "stderr",
     "output_type": "stream",
     "text": [
      "/home/eurismar/anaconda3/lib/python3.6/site-packages/h5py/__init__.py:34: FutureWarning: Conversion of the second argument of issubdtype from `float` to `np.floating` is deprecated. In future, it will be treated as `np.float64 == np.dtype(float).type`.\n",
      "  from ._conv import register_converters as _register_converters\n",
      "Using TensorFlow backend.\n",
      "/home/eurismar/anaconda3/lib/python3.6/importlib/_bootstrap.py:219: RuntimeWarning: compiletime version 3.5 of module 'tensorflow.python.framework.fast_tensor_util' does not match runtime version 3.6\n",
      "  return f(*args, **kwds)\n"
     ]
    }
   ],
   "source": [
    "from keras.models import Sequential"
   ]
  },
  {
   "cell_type": "code",
   "execution_count": 48,
   "metadata": {
    "collapsed": true
   },
   "outputs": [],
   "source": [
    "from keras.layers import Dense\n",
    "from keras.layers import Dropout"
   ]
  },
  {
   "cell_type": "code",
   "execution_count": 15,
   "metadata": {
    "collapsed": true
   },
   "outputs": [],
   "source": [
    "from keras.optimizers import *"
   ]
  },
  {
   "cell_type": "code",
   "execution_count": 3,
   "metadata": {
    "collapsed": true
   },
   "outputs": [],
   "source": [
    "import numpy"
   ]
  },
  {
   "cell_type": "code",
   "execution_count": 4,
   "metadata": {
    "collapsed": true
   },
   "outputs": [],
   "source": [
    "seed = 7"
   ]
  },
  {
   "cell_type": "code",
   "execution_count": 5,
   "metadata": {
    "collapsed": true
   },
   "outputs": [],
   "source": [
    "numpy.random.seed(seed)"
   ]
  },
  {
   "cell_type": "code",
   "execution_count": 6,
   "metadata": {
    "collapsed": true
   },
   "outputs": [],
   "source": [
    "data_set = numpy.loadtxt(\"pima-indians-diabetes.data\",delimiter=\",\")"
   ]
  },
  {
   "cell_type": "code",
   "execution_count": 7,
   "metadata": {},
   "outputs": [
    {
     "data": {
      "text/plain": [
       "(768, 9)"
      ]
     },
     "execution_count": 7,
     "metadata": {},
     "output_type": "execute_result"
    }
   ],
   "source": [
    "data_set.shape"
   ]
  },
  {
   "cell_type": "code",
   "execution_count": 8,
   "metadata": {
    "collapsed": true
   },
   "outputs": [],
   "source": [
    "X = data_set[:,0:8]"
   ]
  },
  {
   "cell_type": "code",
   "execution_count": 9,
   "metadata": {},
   "outputs": [
    {
     "data": {
      "text/plain": [
       "(768, 8)"
      ]
     },
     "execution_count": 9,
     "metadata": {},
     "output_type": "execute_result"
    }
   ],
   "source": [
    "X.shape"
   ]
  },
  {
   "cell_type": "code",
   "execution_count": 10,
   "metadata": {
    "collapsed": true
   },
   "outputs": [],
   "source": [
    "Y = data_set[:,8]"
   ]
  },
  {
   "cell_type": "code",
   "execution_count": 11,
   "metadata": {
    "collapsed": true
   },
   "outputs": [],
   "source": [
    "from sklearn.model_selection import train_test_split"
   ]
  },
  {
   "cell_type": "code",
   "execution_count": 12,
   "metadata": {
    "collapsed": true
   },
   "outputs": [],
   "source": [
    "X_train, X_test, Y_train, Y_test = train_test_split(X,Y, test_size = 0.33,random_state=seed)"
   ]
  },
  {
   "cell_type": "code",
   "execution_count": 49,
   "metadata": {},
   "outputs": [],
   "source": [
    "model = Sequential()\n",
    "model.add(Dense(50,input_dim = 8, kernel_initializer = 'uniform', activation='relu'))\n",
    "model.add(Dense(40,kernel_initializer = 'uniform', activation='relu'))\n",
    "model.add(Dropout(0.2))\n",
    "model.add(Dense(20,kernel_initializer = 'uniform', activation='relu'))\n",
    "model.add(Dense(1, kernel_initializer = 'uniform', activation='sigmoid'))"
   ]
  },
  {
   "cell_type": "code",
   "execution_count": 50,
   "metadata": {},
   "outputs": [],
   "source": [
    "\n",
    "model.compile(loss='binary_crossentropy',optimizer=SGD(lr=0.007), metrics=['acc'])"
   ]
  },
  {
   "cell_type": "code",
   "execution_count": 51,
   "metadata": {},
   "outputs": [
    {
     "name": "stdout",
     "output_type": "stream",
     "text": [
      "_________________________________________________________________\n",
      "Layer (type)                 Output Shape              Param #   \n",
      "=================================================================\n",
      "dense_6 (Dense)              (None, 50)                450       \n",
      "_________________________________________________________________\n",
      "dense_7 (Dense)              (None, 40)                2040      \n",
      "_________________________________________________________________\n",
      "dropout_1 (Dropout)          (None, 40)                0         \n",
      "_________________________________________________________________\n",
      "dense_8 (Dense)              (None, 20)                820       \n",
      "_________________________________________________________________\n",
      "dense_9 (Dense)              (None, 1)                 21        \n",
      "=================================================================\n",
      "Total params: 3,331\n",
      "Trainable params: 3,331\n",
      "Non-trainable params: 0\n",
      "_________________________________________________________________\n"
     ]
    }
   ],
   "source": [
    "model.summary()"
   ]
  },
  {
   "cell_type": "code",
   "execution_count": null,
   "metadata": {
    "collapsed": true
   },
   "outputs": [],
   "source": []
  },
  {
   "cell_type": "code",
   "execution_count": 52,
   "metadata": {},
   "outputs": [
    {
     "name": "stdout",
     "output_type": "stream",
     "text": [
      "Train on 514 samples, validate on 254 samples\n",
      "Epoch 1/200\n",
      "514/514 [==============================] - 0s 936us/step - loss: 0.6861 - acc: 0.6362 - val_loss: 0.6801 - val_acc: 0.6378\n",
      "Epoch 2/200\n",
      "514/514 [==============================] - 0s 693us/step - loss: 0.6728 - acc: 0.6576 - val_loss: 0.6710 - val_acc: 0.6378\n",
      "Epoch 3/200\n",
      "514/514 [==============================] - 0s 731us/step - loss: 0.6636 - acc: 0.6576 - val_loss: 0.6649 - val_acc: 0.6378\n",
      "Epoch 4/200\n",
      "514/514 [==============================] - 0s 724us/step - loss: 0.6572 - acc: 0.6576 - val_loss: 0.6609 - val_acc: 0.6378\n",
      "Epoch 5/200\n",
      "514/514 [==============================] - 0s 739us/step - loss: 0.6529 - acc: 0.6576 - val_loss: 0.6583 - val_acc: 0.6378\n",
      "Epoch 6/200\n",
      "514/514 [==============================] - 0s 698us/step - loss: 0.6498 - acc: 0.6576 - val_loss: 0.6564 - val_acc: 0.6378\n",
      "Epoch 7/200\n",
      "514/514 [==============================] - 0s 722us/step - loss: 0.6474 - acc: 0.6576 - val_loss: 0.6549 - val_acc: 0.6378\n",
      "Epoch 8/200\n",
      "514/514 [==============================] - 0s 731us/step - loss: 0.6459 - acc: 0.6576 - val_loss: 0.6539 - val_acc: 0.6378\n",
      "Epoch 9/200\n",
      "514/514 [==============================] - 0s 727us/step - loss: 0.6443 - acc: 0.6576 - val_loss: 0.6528 - val_acc: 0.6378\n",
      "Epoch 10/200\n",
      "514/514 [==============================] - 0s 715us/step - loss: 0.6434 - acc: 0.6576 - val_loss: 0.6518 - val_acc: 0.6378\n",
      "Epoch 11/200\n",
      "514/514 [==============================] - 0s 735us/step - loss: 0.6421 - acc: 0.6576 - val_loss: 0.6505 - val_acc: 0.6378\n",
      "Epoch 12/200\n",
      "514/514 [==============================] - 0s 723us/step - loss: 0.6412 - acc: 0.6576 - val_loss: 0.6491 - val_acc: 0.6378\n",
      "Epoch 13/200\n",
      "514/514 [==============================] - 0s 766us/step - loss: 0.6398 - acc: 0.6576 - val_loss: 0.6469 - val_acc: 0.6417\n",
      "Epoch 14/200\n",
      "514/514 [==============================] - 0s 863us/step - loss: 0.6394 - acc: 0.6556 - val_loss: 0.6453 - val_acc: 0.6378\n",
      "Epoch 15/200\n",
      "514/514 [==============================] - 0s 772us/step - loss: 0.6377 - acc: 0.6615 - val_loss: 0.6429 - val_acc: 0.6378\n",
      "Epoch 16/200\n",
      "514/514 [==============================] - 0s 774us/step - loss: 0.6358 - acc: 0.6537 - val_loss: 0.6399 - val_acc: 0.6457\n",
      "Epoch 17/200\n",
      "514/514 [==============================] - 0s 746us/step - loss: 0.6347 - acc: 0.6654 - val_loss: 0.6394 - val_acc: 0.6457\n",
      "Epoch 18/200\n",
      "514/514 [==============================] - 0s 752us/step - loss: 0.6333 - acc: 0.6615 - val_loss: 0.6397 - val_acc: 0.6378\n",
      "Epoch 19/200\n",
      "514/514 [==============================] - 0s 720us/step - loss: 0.6330 - acc: 0.6576 - val_loss: 0.6369 - val_acc: 0.6417\n",
      "Epoch 20/200\n",
      "514/514 [==============================] - 0s 753us/step - loss: 0.6284 - acc: 0.6556 - val_loss: 0.6346 - val_acc: 0.6417\n",
      "Epoch 21/200\n",
      "514/514 [==============================] - 0s 799us/step - loss: 0.6252 - acc: 0.6595 - val_loss: 0.6278 - val_acc: 0.6457\n",
      "Epoch 22/200\n",
      "514/514 [==============================] - 0s 778us/step - loss: 0.6187 - acc: 0.6634 - val_loss: 0.6222 - val_acc: 0.6496\n",
      "Epoch 23/200\n",
      "514/514 [==============================] - 0s 765us/step - loss: 0.6185 - acc: 0.6732 - val_loss: 0.6263 - val_acc: 0.6378\n",
      "Epoch 24/200\n",
      "514/514 [==============================] - 0s 758us/step - loss: 0.6157 - acc: 0.6556 - val_loss: 0.6203 - val_acc: 0.6535\n",
      "Epoch 25/200\n",
      "514/514 [==============================] - 0s 735us/step - loss: 0.6072 - acc: 0.6790 - val_loss: 0.6123 - val_acc: 0.6850\n",
      "Epoch 26/200\n",
      "514/514 [==============================] - 0s 736us/step - loss: 0.6020 - acc: 0.6946 - val_loss: 0.6061 - val_acc: 0.6969\n",
      "Epoch 27/200\n",
      "514/514 [==============================] - 0s 772us/step - loss: 0.5987 - acc: 0.6984 - val_loss: 0.6061 - val_acc: 0.6772\n",
      "Epoch 28/200\n",
      "514/514 [==============================] - 0s 775us/step - loss: 0.5948 - acc: 0.6926 - val_loss: 0.6027 - val_acc: 0.6811\n",
      "Epoch 29/200\n",
      "514/514 [==============================] - 0s 744us/step - loss: 0.6010 - acc: 0.6868 - val_loss: 0.5950 - val_acc: 0.7047\n",
      "Epoch 30/200\n",
      "514/514 [==============================] - 0s 745us/step - loss: 0.5908 - acc: 0.7140 - val_loss: 0.6016 - val_acc: 0.7165\n",
      "Epoch 31/200\n",
      "514/514 [==============================] - 0s 729us/step - loss: 0.5938 - acc: 0.6887 - val_loss: 0.5903 - val_acc: 0.7047\n",
      "Epoch 32/200\n",
      "514/514 [==============================] - 0s 734us/step - loss: 0.5914 - acc: 0.7043 - val_loss: 0.6037 - val_acc: 0.6614\n",
      "Epoch 33/200\n",
      "514/514 [==============================] - 0s 731us/step - loss: 0.5921 - acc: 0.7004 - val_loss: 0.6059 - val_acc: 0.6457\n",
      "Epoch 34/200\n",
      "514/514 [==============================] - 0s 749us/step - loss: 0.5829 - acc: 0.7160 - val_loss: 0.5902 - val_acc: 0.7126\n",
      "Epoch 35/200\n",
      "514/514 [==============================] - 0s 739us/step - loss: 0.5921 - acc: 0.6887 - val_loss: 0.5932 - val_acc: 0.6772\n",
      "Epoch 36/200\n",
      "514/514 [==============================] - 0s 762us/step - loss: 0.5840 - acc: 0.6965 - val_loss: 0.5853 - val_acc: 0.7205\n",
      "Epoch 37/200\n",
      "514/514 [==============================] - 0s 790us/step - loss: 0.5879 - acc: 0.6965 - val_loss: 0.5845 - val_acc: 0.7205\n",
      "Epoch 38/200\n",
      "514/514 [==============================] - 0s 782us/step - loss: 0.5832 - acc: 0.7101 - val_loss: 0.5904 - val_acc: 0.6811\n",
      "Epoch 39/200\n",
      "514/514 [==============================] - 0s 776us/step - loss: 0.5843 - acc: 0.7004 - val_loss: 0.5872 - val_acc: 0.6929\n",
      "Epoch 40/200\n",
      "514/514 [==============================] - 0s 828us/step - loss: 0.5789 - acc: 0.7062 - val_loss: 0.5814 - val_acc: 0.7047\n",
      "Epoch 41/200\n",
      "514/514 [==============================] - 0s 773us/step - loss: 0.5809 - acc: 0.6926 - val_loss: 0.5972 - val_acc: 0.6929\n",
      "Epoch 42/200\n",
      "514/514 [==============================] - 0s 760us/step - loss: 0.5828 - acc: 0.7023 - val_loss: 0.5807 - val_acc: 0.7087\n",
      "Epoch 43/200\n",
      "514/514 [==============================] - 0s 739us/step - loss: 0.5653 - acc: 0.7296 - val_loss: 0.6116 - val_acc: 0.6496\n",
      "Epoch 44/200\n",
      "514/514 [==============================] - 0s 795us/step - loss: 0.5701 - acc: 0.7062 - val_loss: 0.5763 - val_acc: 0.7087\n",
      "Epoch 45/200\n",
      "514/514 [==============================] - 0s 764us/step - loss: 0.5694 - acc: 0.7179 - val_loss: 0.5770 - val_acc: 0.7126\n",
      "Epoch 46/200\n",
      "514/514 [==============================] - 0s 766us/step - loss: 0.5661 - acc: 0.7237 - val_loss: 0.5754 - val_acc: 0.7165\n",
      "Epoch 47/200\n",
      "514/514 [==============================] - 0s 750us/step - loss: 0.5782 - acc: 0.7140 - val_loss: 0.5892 - val_acc: 0.6772\n",
      "Epoch 48/200\n",
      "514/514 [==============================] - 0s 762us/step - loss: 0.5765 - acc: 0.6926 - val_loss: 0.5787 - val_acc: 0.7126\n",
      "Epoch 49/200\n",
      "514/514 [==============================] - 0s 771us/step - loss: 0.5755 - acc: 0.7062 - val_loss: 0.5719 - val_acc: 0.7205\n",
      "Epoch 50/200\n",
      "514/514 [==============================] - 0s 736us/step - loss: 0.5825 - acc: 0.7043 - val_loss: 0.5810 - val_acc: 0.7008\n",
      "Epoch 51/200\n",
      "514/514 [==============================] - 0s 735us/step - loss: 0.5686 - acc: 0.7004 - val_loss: 0.5790 - val_acc: 0.7165\n",
      "Epoch 52/200\n",
      "514/514 [==============================] - 0s 771us/step - loss: 0.5769 - acc: 0.7101 - val_loss: 0.5793 - val_acc: 0.6969\n",
      "Epoch 53/200\n",
      "514/514 [==============================] - 0s 759us/step - loss: 0.5680 - acc: 0.7101 - val_loss: 0.5702 - val_acc: 0.7283\n",
      "Epoch 54/200\n",
      "514/514 [==============================] - 0s 777us/step - loss: 0.5718 - acc: 0.7179 - val_loss: 0.5774 - val_acc: 0.7126\n",
      "Epoch 55/200\n",
      "514/514 [==============================] - 0s 747us/step - loss: 0.5630 - acc: 0.7276 - val_loss: 0.5708 - val_acc: 0.7087\n",
      "Epoch 56/200\n",
      "514/514 [==============================] - 0s 748us/step - loss: 0.5598 - acc: 0.7335 - val_loss: 0.5852 - val_acc: 0.6850\n",
      "Epoch 57/200\n",
      "514/514 [==============================] - 0s 770us/step - loss: 0.5638 - acc: 0.7101 - val_loss: 0.6056 - val_acc: 0.6890\n",
      "Epoch 58/200\n",
      "514/514 [==============================] - 0s 744us/step - loss: 0.5596 - acc: 0.7198 - val_loss: 0.5745 - val_acc: 0.7205\n",
      "Epoch 59/200\n",
      "514/514 [==============================] - 0s 786us/step - loss: 0.5598 - acc: 0.7257 - val_loss: 0.5909 - val_acc: 0.6772\n",
      "Epoch 60/200\n",
      "514/514 [==============================] - 0s 815us/step - loss: 0.5669 - acc: 0.7140 - val_loss: 0.5783 - val_acc: 0.6929\n"
     ]
    },
    {
     "name": "stdout",
     "output_type": "stream",
     "text": [
      "Epoch 61/200\n",
      "514/514 [==============================] - 0s 732us/step - loss: 0.5592 - acc: 0.7276 - val_loss: 0.5721 - val_acc: 0.7362\n",
      "Epoch 62/200\n",
      "514/514 [==============================] - 0s 728us/step - loss: 0.5629 - acc: 0.7160 - val_loss: 0.5641 - val_acc: 0.7165\n",
      "Epoch 63/200\n",
      "514/514 [==============================] - 0s 742us/step - loss: 0.5657 - acc: 0.7335 - val_loss: 0.5811 - val_acc: 0.6850\n",
      "Epoch 64/200\n",
      "514/514 [==============================] - 0s 678us/step - loss: 0.5660 - acc: 0.6946 - val_loss: 0.5680 - val_acc: 0.6969\n",
      "Epoch 65/200\n",
      "514/514 [==============================] - 0s 684us/step - loss: 0.5586 - acc: 0.7393 - val_loss: 0.5616 - val_acc: 0.7126\n",
      "Epoch 66/200\n",
      "514/514 [==============================] - 0s 664us/step - loss: 0.5557 - acc: 0.7062 - val_loss: 0.5621 - val_acc: 0.7205\n",
      "Epoch 67/200\n",
      "514/514 [==============================] - 0s 663us/step - loss: 0.5606 - acc: 0.7218 - val_loss: 0.5633 - val_acc: 0.7165\n",
      "Epoch 68/200\n",
      "514/514 [==============================] - 0s 703us/step - loss: 0.5551 - acc: 0.7412 - val_loss: 0.5621 - val_acc: 0.7205\n",
      "Epoch 69/200\n",
      "514/514 [==============================] - 0s 659us/step - loss: 0.5596 - acc: 0.7062 - val_loss: 0.5613 - val_acc: 0.7047\n",
      "Epoch 70/200\n",
      "514/514 [==============================] - 0s 696us/step - loss: 0.5655 - acc: 0.7237 - val_loss: 0.5755 - val_acc: 0.6969\n",
      "Epoch 71/200\n",
      "514/514 [==============================] - 0s 678us/step - loss: 0.5530 - acc: 0.7354 - val_loss: 0.5686 - val_acc: 0.6850\n",
      "Epoch 72/200\n",
      "514/514 [==============================] - 0s 674us/step - loss: 0.5695 - acc: 0.7004 - val_loss: 0.5784 - val_acc: 0.7008\n",
      "Epoch 73/200\n",
      "514/514 [==============================] - 0s 664us/step - loss: 0.5639 - acc: 0.7198 - val_loss: 0.5614 - val_acc: 0.7205\n",
      "Epoch 74/200\n",
      "514/514 [==============================] - 0s 675us/step - loss: 0.5604 - acc: 0.7101 - val_loss: 0.5662 - val_acc: 0.6929\n",
      "Epoch 75/200\n",
      "514/514 [==============================] - 0s 665us/step - loss: 0.5609 - acc: 0.7023 - val_loss: 0.5574 - val_acc: 0.7165\n",
      "Epoch 76/200\n",
      "514/514 [==============================] - 0s 695us/step - loss: 0.5575 - acc: 0.7160 - val_loss: 0.5549 - val_acc: 0.7323\n",
      "Epoch 77/200\n",
      "514/514 [==============================] - 0s 650us/step - loss: 0.5566 - acc: 0.7121 - val_loss: 0.5595 - val_acc: 0.7244\n",
      "Epoch 78/200\n",
      "514/514 [==============================] - 0s 654us/step - loss: 0.5551 - acc: 0.7179 - val_loss: 0.5549 - val_acc: 0.7402\n",
      "Epoch 79/200\n",
      "514/514 [==============================] - 0s 673us/step - loss: 0.5529 - acc: 0.7237 - val_loss: 0.5602 - val_acc: 0.7087\n",
      "Epoch 80/200\n",
      "514/514 [==============================] - 0s 660us/step - loss: 0.5564 - acc: 0.7043 - val_loss: 0.5612 - val_acc: 0.7283\n",
      "Epoch 81/200\n",
      "514/514 [==============================] - 0s 669us/step - loss: 0.5582 - acc: 0.7315 - val_loss: 0.5676 - val_acc: 0.7087\n",
      "Epoch 82/200\n",
      "514/514 [==============================] - 0s 685us/step - loss: 0.5556 - acc: 0.7062 - val_loss: 0.5561 - val_acc: 0.7283\n",
      "Epoch 83/200\n",
      "514/514 [==============================] - 0s 670us/step - loss: 0.5549 - acc: 0.7354 - val_loss: 0.5659 - val_acc: 0.7165\n",
      "Epoch 84/200\n",
      "514/514 [==============================] - 0s 652us/step - loss: 0.5468 - acc: 0.7374 - val_loss: 0.5739 - val_acc: 0.7126\n",
      "Epoch 85/200\n",
      "514/514 [==============================] - 0s 731us/step - loss: 0.5487 - acc: 0.7296 - val_loss: 0.5622 - val_acc: 0.7205\n",
      "Epoch 86/200\n",
      "514/514 [==============================] - 0s 670us/step - loss: 0.5541 - acc: 0.7335 - val_loss: 0.5609 - val_acc: 0.7008\n",
      "Epoch 87/200\n",
      "514/514 [==============================] - 0s 679us/step - loss: 0.5515 - acc: 0.7393 - val_loss: 0.5589 - val_acc: 0.7165\n",
      "Epoch 88/200\n",
      "514/514 [==============================] - 0s 681us/step - loss: 0.5431 - acc: 0.7374 - val_loss: 0.5726 - val_acc: 0.7087\n",
      "Epoch 89/200\n",
      "514/514 [==============================] - 0s 736us/step - loss: 0.5492 - acc: 0.7432 - val_loss: 0.5557 - val_acc: 0.7205\n",
      "Epoch 90/200\n",
      "514/514 [==============================] - 0s 698us/step - loss: 0.5548 - acc: 0.7296 - val_loss: 0.5830 - val_acc: 0.7126\n",
      "Epoch 91/200\n",
      "514/514 [==============================] - 0s 687us/step - loss: 0.5608 - acc: 0.7237 - val_loss: 0.5516 - val_acc: 0.7126\n",
      "Epoch 92/200\n",
      "514/514 [==============================] - 0s 696us/step - loss: 0.5444 - acc: 0.7257 - val_loss: 0.5536 - val_acc: 0.7402\n",
      "Epoch 93/200\n",
      "514/514 [==============================] - 0s 677us/step - loss: 0.5450 - acc: 0.7257 - val_loss: 0.5582 - val_acc: 0.7205\n",
      "Epoch 94/200\n",
      "514/514 [==============================] - 0s 674us/step - loss: 0.5392 - acc: 0.7354 - val_loss: 0.5684 - val_acc: 0.7362\n",
      "Epoch 95/200\n",
      "514/514 [==============================] - 0s 743us/step - loss: 0.5463 - acc: 0.7179 - val_loss: 0.5478 - val_acc: 0.7087\n",
      "Epoch 96/200\n",
      "514/514 [==============================] - 0s 699us/step - loss: 0.5495 - acc: 0.7179 - val_loss: 0.5522 - val_acc: 0.7362\n",
      "Epoch 97/200\n",
      "514/514 [==============================] - 0s 750us/step - loss: 0.5481 - acc: 0.7374 - val_loss: 0.5536 - val_acc: 0.7283\n",
      "Epoch 98/200\n",
      "514/514 [==============================] - 0s 674us/step - loss: 0.5391 - acc: 0.7374 - val_loss: 0.5767 - val_acc: 0.6811\n",
      "Epoch 99/200\n",
      "514/514 [==============================] - 0s 724us/step - loss: 0.5347 - acc: 0.7374 - val_loss: 0.5817 - val_acc: 0.6732\n",
      "Epoch 100/200\n",
      "514/514 [==============================] - 0s 687us/step - loss: 0.5427 - acc: 0.7121 - val_loss: 0.5724 - val_acc: 0.6614\n",
      "Epoch 101/200\n",
      "514/514 [==============================] - 0s 686us/step - loss: 0.5538 - acc: 0.7023 - val_loss: 0.6084 - val_acc: 0.6732\n",
      "Epoch 102/200\n",
      "514/514 [==============================] - 0s 681us/step - loss: 0.5530 - acc: 0.7374 - val_loss: 0.5569 - val_acc: 0.7283\n",
      "Epoch 103/200\n",
      "514/514 [==============================] - 0s 709us/step - loss: 0.5481 - acc: 0.7160 - val_loss: 0.5512 - val_acc: 0.7165\n",
      "Epoch 104/200\n",
      "514/514 [==============================] - 0s 693us/step - loss: 0.5276 - acc: 0.7432 - val_loss: 0.5573 - val_acc: 0.7244\n",
      "Epoch 105/200\n",
      "514/514 [==============================] - 0s 680us/step - loss: 0.5528 - acc: 0.7023 - val_loss: 0.5504 - val_acc: 0.7362\n",
      "Epoch 106/200\n",
      "514/514 [==============================] - 0s 663us/step - loss: 0.5504 - acc: 0.7121 - val_loss: 0.5545 - val_acc: 0.7362\n",
      "Epoch 107/200\n",
      "514/514 [==============================] - 0s 677us/step - loss: 0.5421 - acc: 0.7315 - val_loss: 0.5510 - val_acc: 0.7323\n",
      "Epoch 108/200\n",
      "514/514 [==============================] - 0s 670us/step - loss: 0.5405 - acc: 0.7432 - val_loss: 0.5479 - val_acc: 0.7283\n",
      "Epoch 109/200\n",
      "514/514 [==============================] - 0s 665us/step - loss: 0.5522 - acc: 0.7179 - val_loss: 0.5851 - val_acc: 0.6969\n",
      "Epoch 110/200\n",
      "514/514 [==============================] - 0s 676us/step - loss: 0.5360 - acc: 0.7276 - val_loss: 0.5728 - val_acc: 0.7008\n",
      "Epoch 111/200\n",
      "514/514 [==============================] - 0s 677us/step - loss: 0.5470 - acc: 0.6984 - val_loss: 0.5608 - val_acc: 0.7165\n",
      "Epoch 112/200\n",
      "514/514 [==============================] - 0s 682us/step - loss: 0.5371 - acc: 0.7393 - val_loss: 0.5617 - val_acc: 0.6969\n",
      "Epoch 113/200\n",
      "514/514 [==============================] - 0s 689us/step - loss: 0.5475 - acc: 0.7023 - val_loss: 0.5563 - val_acc: 0.7244\n",
      "Epoch 114/200\n",
      "514/514 [==============================] - 0s 677us/step - loss: 0.5400 - acc: 0.7257 - val_loss: 0.5708 - val_acc: 0.7008\n",
      "Epoch 115/200\n",
      "514/514 [==============================] - 0s 713us/step - loss: 0.5402 - acc: 0.7393 - val_loss: 0.5680 - val_acc: 0.6929\n",
      "Epoch 116/200\n",
      "514/514 [==============================] - 0s 733us/step - loss: 0.5305 - acc: 0.7393 - val_loss: 0.5652 - val_acc: 0.7205\n",
      "Epoch 117/200\n",
      "514/514 [==============================] - 0s 721us/step - loss: 0.5431 - acc: 0.7160 - val_loss: 0.5503 - val_acc: 0.7244\n",
      "Epoch 118/200\n",
      "514/514 [==============================] - 0s 731us/step - loss: 0.5542 - acc: 0.7198 - val_loss: 0.5483 - val_acc: 0.7165\n",
      "Epoch 119/200\n",
      "514/514 [==============================] - 0s 745us/step - loss: 0.5409 - acc: 0.7218 - val_loss: 0.5557 - val_acc: 0.7283\n",
      "Epoch 120/200\n",
      "514/514 [==============================] - 0s 693us/step - loss: 0.5325 - acc: 0.7432 - val_loss: 0.5417 - val_acc: 0.7087\n",
      "Epoch 121/200\n"
     ]
    },
    {
     "name": "stdout",
     "output_type": "stream",
     "text": [
      "514/514 [==============================] - 0s 758us/step - loss: 0.5438 - acc: 0.7276 - val_loss: 0.5530 - val_acc: 0.7283\n",
      "Epoch 122/200\n",
      "514/514 [==============================] - 0s 721us/step - loss: 0.5353 - acc: 0.7432 - val_loss: 0.5718 - val_acc: 0.7008\n",
      "Epoch 123/200\n",
      "514/514 [==============================] - 0s 694us/step - loss: 0.5424 - acc: 0.7179 - val_loss: 0.5499 - val_acc: 0.7087\n",
      "Epoch 124/200\n",
      "514/514 [==============================] - 0s 701us/step - loss: 0.5357 - acc: 0.7315 - val_loss: 0.5798 - val_acc: 0.6969\n",
      "Epoch 125/200\n",
      "514/514 [==============================] - 0s 708us/step - loss: 0.5258 - acc: 0.7315 - val_loss: 0.5727 - val_acc: 0.6969\n",
      "Epoch 126/200\n",
      "514/514 [==============================] - 0s 669us/step - loss: 0.5332 - acc: 0.7315 - val_loss: 0.5490 - val_acc: 0.7402\n",
      "Epoch 127/200\n",
      "514/514 [==============================] - 0s 761us/step - loss: 0.5323 - acc: 0.7257 - val_loss: 0.5403 - val_acc: 0.7323\n",
      "Epoch 128/200\n",
      "514/514 [==============================] - 0s 731us/step - loss: 0.5338 - acc: 0.7393 - val_loss: 0.5464 - val_acc: 0.7520\n",
      "Epoch 129/200\n",
      "514/514 [==============================] - 0s 713us/step - loss: 0.5396 - acc: 0.7354 - val_loss: 0.5791 - val_acc: 0.6969\n",
      "Epoch 130/200\n",
      "514/514 [==============================] - 0s 755us/step - loss: 0.5292 - acc: 0.7354 - val_loss: 0.5508 - val_acc: 0.7244\n",
      "Epoch 131/200\n",
      "514/514 [==============================] - 0s 700us/step - loss: 0.5262 - acc: 0.7374 - val_loss: 0.5551 - val_acc: 0.7362\n",
      "Epoch 132/200\n",
      "514/514 [==============================] - 0s 726us/step - loss: 0.5424 - acc: 0.7023 - val_loss: 0.5454 - val_acc: 0.7244\n",
      "Epoch 133/200\n",
      "514/514 [==============================] - 0s 744us/step - loss: 0.5408 - acc: 0.7237 - val_loss: 0.5429 - val_acc: 0.7283\n",
      "Epoch 134/200\n",
      "514/514 [==============================] - 0s 686us/step - loss: 0.5185 - acc: 0.7626 - val_loss: 0.6016 - val_acc: 0.6929\n",
      "Epoch 135/200\n",
      "514/514 [==============================] - 0s 724us/step - loss: 0.5348 - acc: 0.7198 - val_loss: 0.5468 - val_acc: 0.7008\n",
      "Epoch 136/200\n",
      "514/514 [==============================] - 0s 724us/step - loss: 0.5272 - acc: 0.7393 - val_loss: 0.5507 - val_acc: 0.7126\n",
      "Epoch 137/200\n",
      "514/514 [==============================] - 0s 675us/step - loss: 0.5319 - acc: 0.7237 - val_loss: 0.5498 - val_acc: 0.7283\n",
      "Epoch 138/200\n",
      "514/514 [==============================] - 0s 734us/step - loss: 0.5220 - acc: 0.7393 - val_loss: 0.5495 - val_acc: 0.7047\n",
      "Epoch 139/200\n",
      "514/514 [==============================] - 0s 713us/step - loss: 0.5380 - acc: 0.7179 - val_loss: 0.5411 - val_acc: 0.7323\n",
      "Epoch 140/200\n",
      "514/514 [==============================] - 0s 741us/step - loss: 0.5244 - acc: 0.7510 - val_loss: 0.5589 - val_acc: 0.7126\n",
      "Epoch 141/200\n",
      "514/514 [==============================] - 0s 742us/step - loss: 0.5321 - acc: 0.7140 - val_loss: 0.5845 - val_acc: 0.7008\n",
      "Epoch 142/200\n",
      "514/514 [==============================] - 0s 684us/step - loss: 0.5262 - acc: 0.7412 - val_loss: 0.5576 - val_acc: 0.7126\n",
      "Epoch 143/200\n",
      "514/514 [==============================] - 0s 755us/step - loss: 0.5343 - acc: 0.7374 - val_loss: 0.5413 - val_acc: 0.7087\n",
      "Epoch 144/200\n",
      "514/514 [==============================] - 0s 687us/step - loss: 0.5291 - acc: 0.7412 - val_loss: 0.5443 - val_acc: 0.7205\n",
      "Epoch 145/200\n",
      "514/514 [==============================] - 0s 790us/step - loss: 0.5255 - acc: 0.7393 - val_loss: 0.5543 - val_acc: 0.7126\n",
      "Epoch 146/200\n",
      "514/514 [==============================] - 0s 767us/step - loss: 0.5352 - acc: 0.7276 - val_loss: 0.5414 - val_acc: 0.7323\n",
      "Epoch 147/200\n",
      "514/514 [==============================] - 0s 727us/step - loss: 0.5335 - acc: 0.7393 - val_loss: 0.5507 - val_acc: 0.6969\n",
      "Epoch 148/200\n",
      "514/514 [==============================] - 0s 741us/step - loss: 0.5299 - acc: 0.7432 - val_loss: 0.5398 - val_acc: 0.7165\n",
      "Epoch 149/200\n",
      "514/514 [==============================] - 0s 669us/step - loss: 0.5281 - acc: 0.7374 - val_loss: 0.5434 - val_acc: 0.7126\n",
      "Epoch 150/200\n",
      "514/514 [==============================] - 0s 687us/step - loss: 0.5299 - acc: 0.7335 - val_loss: 0.5525 - val_acc: 0.7441\n",
      "Epoch 151/200\n",
      "514/514 [==============================] - 0s 713us/step - loss: 0.5334 - acc: 0.7412 - val_loss: 0.5507 - val_acc: 0.7441\n",
      "Epoch 152/200\n",
      "514/514 [==============================] - 0s 686us/step - loss: 0.5305 - acc: 0.7354 - val_loss: 0.5694 - val_acc: 0.7008\n",
      "Epoch 153/200\n",
      "514/514 [==============================] - 0s 681us/step - loss: 0.5349 - acc: 0.7296 - val_loss: 0.5458 - val_acc: 0.7323\n",
      "Epoch 154/200\n",
      "514/514 [==============================] - 0s 689us/step - loss: 0.5233 - acc: 0.7374 - val_loss: 0.5501 - val_acc: 0.6929\n",
      "Epoch 155/200\n",
      "514/514 [==============================] - 0s 672us/step - loss: 0.5232 - acc: 0.7276 - val_loss: 0.5696 - val_acc: 0.7244\n",
      "Epoch 156/200\n",
      "514/514 [==============================] - 0s 712us/step - loss: 0.5181 - acc: 0.7490 - val_loss: 0.5418 - val_acc: 0.7244\n",
      "Epoch 157/200\n",
      "514/514 [==============================] - 0s 730us/step - loss: 0.5329 - acc: 0.7471 - val_loss: 0.5529 - val_acc: 0.7205\n",
      "Epoch 158/200\n",
      "514/514 [==============================] - 0s 682us/step - loss: 0.5278 - acc: 0.7198 - val_loss: 0.5569 - val_acc: 0.7126\n",
      "Epoch 159/200\n",
      "514/514 [==============================] - 0s 731us/step - loss: 0.5121 - acc: 0.7451 - val_loss: 0.5844 - val_acc: 0.6929\n",
      "Epoch 160/200\n",
      "514/514 [==============================] - 0s 690us/step - loss: 0.5149 - acc: 0.7646 - val_loss: 0.5423 - val_acc: 0.7126\n",
      "Epoch 161/200\n",
      "514/514 [==============================] - 0s 919us/step - loss: 0.5295 - acc: 0.7412 - val_loss: 0.5576 - val_acc: 0.6969\n",
      "Epoch 162/200\n",
      "514/514 [==============================] - 0s 785us/step - loss: 0.5289 - acc: 0.7257 - val_loss: 0.5441 - val_acc: 0.7441\n",
      "Epoch 163/200\n",
      "514/514 [==============================] - 0s 686us/step - loss: 0.5144 - acc: 0.7374 - val_loss: 0.5456 - val_acc: 0.6969\n",
      "Epoch 164/200\n",
      "514/514 [==============================] - 0s 709us/step - loss: 0.5344 - acc: 0.7296 - val_loss: 0.5468 - val_acc: 0.7323\n",
      "Epoch 165/200\n",
      "514/514 [==============================] - 0s 739us/step - loss: 0.5214 - acc: 0.7121 - val_loss: 0.5355 - val_acc: 0.7165\n",
      "Epoch 166/200\n",
      "514/514 [==============================] - 0s 665us/step - loss: 0.5320 - acc: 0.7490 - val_loss: 0.5998 - val_acc: 0.6969\n",
      "Epoch 167/200\n",
      "514/514 [==============================] - 0s 770us/step - loss: 0.5283 - acc: 0.7218 - val_loss: 0.5737 - val_acc: 0.6969\n",
      "Epoch 168/200\n",
      "514/514 [==============================] - 0s 718us/step - loss: 0.5354 - acc: 0.7276 - val_loss: 0.5447 - val_acc: 0.7283\n",
      "Epoch 169/200\n",
      "514/514 [==============================] - 0s 732us/step - loss: 0.5233 - acc: 0.7393 - val_loss: 0.5398 - val_acc: 0.7205\n",
      "Epoch 170/200\n",
      "514/514 [==============================] - 0s 750us/step - loss: 0.5162 - acc: 0.7490 - val_loss: 0.5554 - val_acc: 0.6929\n",
      "Epoch 171/200\n",
      "514/514 [==============================] - 0s 713us/step - loss: 0.5140 - acc: 0.7549 - val_loss: 0.5398 - val_acc: 0.7126\n",
      "Epoch 172/200\n",
      "514/514 [==============================] - 0s 755us/step - loss: 0.5251 - acc: 0.7296 - val_loss: 0.5518 - val_acc: 0.7283\n",
      "Epoch 173/200\n",
      "514/514 [==============================] - 0s 711us/step - loss: 0.5231 - acc: 0.7432 - val_loss: 0.5447 - val_acc: 0.7008\n",
      "Epoch 174/200\n",
      "514/514 [==============================] - 0s 695us/step - loss: 0.5169 - acc: 0.7393 - val_loss: 0.6200 - val_acc: 0.6575\n",
      "Epoch 175/200\n",
      "514/514 [==============================] - 0s 737us/step - loss: 0.5174 - acc: 0.7549 - val_loss: 0.5853 - val_acc: 0.6929\n",
      "Epoch 176/200\n",
      "514/514 [==============================] - 0s 710us/step - loss: 0.5219 - acc: 0.7276 - val_loss: 0.5590 - val_acc: 0.7126\n",
      "Epoch 177/200\n",
      "514/514 [==============================] - 0s 714us/step - loss: 0.5053 - acc: 0.7412 - val_loss: 0.5400 - val_acc: 0.7165\n",
      "Epoch 178/200\n",
      "514/514 [==============================] - 0s 735us/step - loss: 0.5166 - acc: 0.7529 - val_loss: 0.5566 - val_acc: 0.7283\n",
      "Epoch 179/200\n",
      "514/514 [==============================] - 0s 736us/step - loss: 0.5179 - acc: 0.7276 - val_loss: 0.6040 - val_acc: 0.6850\n",
      "Epoch 180/200\n",
      "514/514 [==============================] - 0s 707us/step - loss: 0.5172 - acc: 0.7374 - val_loss: 0.5424 - val_acc: 0.7283\n"
     ]
    },
    {
     "name": "stdout",
     "output_type": "stream",
     "text": [
      "Epoch 181/200\n",
      "514/514 [==============================] - 0s 668us/step - loss: 0.5272 - acc: 0.7218 - val_loss: 0.5518 - val_acc: 0.7205\n",
      "Epoch 182/200\n",
      "514/514 [==============================] - 0s 680us/step - loss: 0.5054 - acc: 0.7685 - val_loss: 0.5752 - val_acc: 0.7283\n",
      "Epoch 183/200\n",
      "514/514 [==============================] - 0s 729us/step - loss: 0.5111 - acc: 0.7490 - val_loss: 0.5585 - val_acc: 0.7244\n",
      "Epoch 184/200\n",
      "514/514 [==============================] - 0s 682us/step - loss: 0.5083 - acc: 0.7626 - val_loss: 0.5892 - val_acc: 0.7047\n",
      "Epoch 185/200\n",
      "514/514 [==============================] - 0s 665us/step - loss: 0.5222 - acc: 0.7490 - val_loss: 0.5581 - val_acc: 0.7283\n",
      "Epoch 186/200\n",
      "514/514 [==============================] - 0s 681us/step - loss: 0.5269 - acc: 0.7179 - val_loss: 0.5901 - val_acc: 0.6850\n",
      "Epoch 187/200\n",
      "514/514 [==============================] - 0s 670us/step - loss: 0.5271 - acc: 0.7451 - val_loss: 0.5416 - val_acc: 0.7205\n",
      "Epoch 188/200\n",
      "514/514 [==============================] - 0s 666us/step - loss: 0.5350 - acc: 0.7354 - val_loss: 0.5410 - val_acc: 0.7323\n",
      "Epoch 189/200\n",
      "514/514 [==============================] - 0s 674us/step - loss: 0.5153 - acc: 0.7354 - val_loss: 0.5420 - val_acc: 0.7205\n",
      "Epoch 190/200\n",
      "514/514 [==============================] - 0s 659us/step - loss: 0.5148 - acc: 0.7412 - val_loss: 0.5565 - val_acc: 0.7165\n",
      "Epoch 191/200\n",
      "514/514 [==============================] - 0s 668us/step - loss: 0.5174 - acc: 0.7529 - val_loss: 0.6274 - val_acc: 0.6535\n",
      "Epoch 192/200\n",
      "514/514 [==============================] - 0s 684us/step - loss: 0.5222 - acc: 0.7218 - val_loss: 0.5643 - val_acc: 0.6732\n",
      "Epoch 193/200\n",
      "514/514 [==============================] - 0s 663us/step - loss: 0.5263 - acc: 0.7315 - val_loss: 0.5348 - val_acc: 0.7126\n",
      "Epoch 194/200\n",
      "514/514 [==============================] - 0s 662us/step - loss: 0.5099 - acc: 0.7646 - val_loss: 0.5452 - val_acc: 0.7244\n",
      "Epoch 195/200\n",
      "514/514 [==============================] - 0s 670us/step - loss: 0.5064 - acc: 0.7451 - val_loss: 0.5371 - val_acc: 0.7047\n",
      "Epoch 196/200\n",
      "514/514 [==============================] - 0s 668us/step - loss: 0.5187 - acc: 0.7335 - val_loss: 0.5988 - val_acc: 0.7008\n",
      "Epoch 197/200\n",
      "514/514 [==============================] - 0s 653us/step - loss: 0.5094 - acc: 0.7568 - val_loss: 0.5717 - val_acc: 0.7087\n",
      "Epoch 198/200\n",
      "514/514 [==============================] - 0s 669us/step - loss: 0.5175 - acc: 0.7432 - val_loss: 0.5584 - val_acc: 0.7244\n",
      "Epoch 199/200\n",
      "514/514 [==============================] - 0s 664us/step - loss: 0.5097 - acc: 0.7432 - val_loss: 0.5514 - val_acc: 0.7559\n",
      "Epoch 200/200\n",
      "514/514 [==============================] - 0s 668us/step - loss: 0.5152 - acc: 0.7412 - val_loss: 0.5437 - val_acc: 0.7126\n"
     ]
    }
   ],
   "source": [
    "history = model.fit(X_train,Y_train, validation_data=(X_test,Y_test),batch_size=5,epochs=200, verbose=1)"
   ]
  },
  {
   "cell_type": "code",
   "execution_count": 53,
   "metadata": {},
   "outputs": [
    {
     "name": "stdout",
     "output_type": "stream",
     "text": [
      "254/254 [==============================] - 0s 106us/step\n"
     ]
    }
   ],
   "source": [
    "scores = model.evaluate(X_test,Y_test)"
   ]
  },
  {
   "cell_type": "code",
   "execution_count": 54,
   "metadata": {},
   "outputs": [
    {
     "data": {
      "text/plain": [
       "[0.5437154765204182, 0.7125984280128178]"
      ]
     },
     "execution_count": 54,
     "metadata": {},
     "output_type": "execute_result"
    }
   ],
   "source": [
    "scores"
   ]
  },
  {
   "cell_type": "code",
   "execution_count": 55,
   "metadata": {},
   "outputs": [
    {
     "name": "stdout",
     "output_type": "stream",
     "text": [
      "acc: 71.26%\n"
     ]
    }
   ],
   "source": [
    "print(\"%s: %.2f%%\" % (model.metrics_names[1], scores[1] * 100))"
   ]
  },
  {
   "cell_type": "code",
   "execution_count": 56,
   "metadata": {},
   "outputs": [
    {
     "data": {
      "image/png": "[encoded data removed]",
      "text/plain": [
       "<matplotlib.figure.Figure at 0x7f77b90c6eb8>"
      ]
     },
     "metadata": {},
     "output_type": "display_data"
    },
    {
     "data": {
      "image/png": "[encoded data removed]",
      "text/plain": [
       "<matplotlib.figure.Figure at 0x7f77b90b1e48>"
      ]
     },
     "metadata": {},
     "output_type": "display_data"
    }
   ],
   "source": [
    "import matplotlib.pyplot as plt\n",
    "\n",
    "plt.plot(history.history['acc'])\n",
    "plt.plot(history.history['val_acc'])\n",
    "plt.ylabel('acurácia')\n",
    "plt.xlabel('época')\n",
    "plt.legend(['treino', 'teste'], loc='upper left')\n",
    "plt.show()\n",
    "\n",
    "plt.plot(history.history['loss'])\n",
    "plt.plot(history.history['val_loss'])\n",
    "plt.ylabel('loss')\n",
    "plt.xlabel('época')\n",
    "plt.legend(['treino', 'teste'], loc='upper left')\n",
    "plt.show()"
   ]
  },
  {
   "cell_type": "code",
   "execution_count": null,
   "metadata": {
    "collapsed": true
   },
   "outputs": [],
   "source": [
    "    "
   ]
  },
  {
   "cell_type": "code",
   "execution_count": null,
   "metadata": {
    "collapsed": true
   },
   "outputs": [],
   "source": []
  },
  {
   "cell_type": "code",
   "execution_count": null,
   "metadata": {
    "collapsed": true
   },
   "outputs": [],
   "source": []
  }
 ],
 "metadata": {
  "kernelspec": {
   "display_name": "Python 3",
   "language": "python",
   "name": "python3"
  },
  "language_info": {
   "codemirror_mode": {
    "name": "ipython",
    "version": 3
   },
   "file_extension": ".py",
   "mimetype": "text/x-python",
   "name": "python",
   "nbconvert_exporter": "python",
   "pygments_lexer": "ipython3",
   "version": "3.6.3"
  }
 },
 "nbformat": 4,
 "nbformat_minor": 2
}
