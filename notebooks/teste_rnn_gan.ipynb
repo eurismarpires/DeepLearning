{
 "cells": [
  {
   "cell_type": "code",
   "execution_count": 1,
   "metadata": {
    "collapsed": true
   },
   "outputs": [],
   "source": [
    "import tensorflow as tf"
   ]
  },
  {
   "cell_type": "code",
   "execution_count": 2,
   "metadata": {
    "collapsed": true
   },
   "outputs": [],
   "source": [
    "batch_size = 20"
   ]
  },
  {
   "cell_type": "code",
   "execution_count": null,
   "metadata": {
    "collapsed": true
   },
   "outputs": [],
   "source": [
    "songlength = 100"
   ]
  },
  {
   "cell_type": "code",
   "execution_count": 3,
   "metadata": {
    "collapsed": true
   },
   "outputs": [],
   "source": [
    "NUM_FEATURES_PER_TONE = 3"
   ]
  },
  {
   "cell_type": "code",
   "execution_count": 4,
   "metadata": {
    "collapsed": true
   },
   "outputs": [],
   "source": [
    "tones_per_cell = 1"
   ]
  },
  {
   "cell_type": "code",
   "execution_count": 5,
   "metadata": {
    "collapsed": true
   },
   "outputs": [],
   "source": [
    "num_song_features = NUM_FEATURES_PER_TONE*tones_per_cell+1"
   ]
  },
  {
   "cell_type": "code",
   "execution_count": 17,
   "metadata": {
    "collapsed": false
   },
   "outputs": [],
   "source": [
    "songlength = 4"
   ]
  },
  {
   "cell_type": "code",
   "execution_count": 18,
   "metadata": {
    "collapsed": false
   },
   "outputs": [],
   "source": [
    "input_songdata = tf.placeholder(shape=[batch_size, songlength, num_song_features], dtype=tf.float32)"
   ]
  },
  {
   "cell_type": "code",
   "execution_count": 19,
   "metadata": {
    "collapsed": false
   },
   "outputs": [
    {
     "data": {
      "text/plain": [
       "<tf.Tensor 'Placeholder:0' shape=(20, 4, 4) dtype=float32>"
      ]
     },
     "execution_count": 19,
     "metadata": {},
     "output_type": "execute_result"
    }
   ],
   "source": [
    "input_songdata"
   ]
  },
  {
   "cell_type": "code",
   "execution_count": 27,
   "metadata": {
    "collapsed": true
   },
   "outputs": [],
   "source": [
    "hidden_size_g = 350\n",
    "num_layers_g = 2\n",
    "keep_prob = 0.5"
   ]
  },
  {
   "cell_type": "code",
   "execution_count": 28,
   "metadata": {
    "collapsed": false
   },
   "outputs": [],
   "source": [
    "with tf.variable_scope('G') as scope:\n",
    "    lstm_cell = tf.nn.rnn_cell.BasicLSTMCell(hidden_size_g, forget_bias=1.0, state_is_tuple=True)\n",
    "    lstm_cell = tf.nn.rnn_cell.DropoutWrapper(lstm_cell, output_keep_prob=keep_prob)\n",
    "    cell = tf.nn.rnn_cell.MultiRNNCell([lstm_cell] * num_layers_g, state_is_tuple=True)"
   ]
  },
  {
   "cell_type": "code",
   "execution_count": 32,
   "metadata": {
    "collapsed": false
   },
   "outputs": [],
   "source": [
    "initial_state = cell.zero_state(batch_size, tf.float32)"
   ]
  },
  {
   "cell_type": "code",
   "execution_count": 33,
   "metadata": {
    "collapsed": true
   },
   "outputs": [],
   "source": [
    "state = initial_state"
   ]
  },
  {
   "cell_type": "code",
   "execution_count": 35,
   "metadata": {
    "collapsed": true
   },
   "outputs": [],
   "source": [
    "random_input_scale=1.0"
   ]
  },
  {
   "cell_type": "code",
   "execution_count": 36,
   "metadata": {
    "collapsed": false
   },
   "outputs": [],
   "source": [
    "random_rnninputs = tf.random_uniform(shape=[batch_size, songlength, int(random_input_scale*num_song_features)], minval=0.0, maxval=1.0, dtype=tf.float32)"
   ]
  },
  {
   "cell_type": "code",
   "execution_count": 37,
   "metadata": {
    "collapsed": false
   },
   "outputs": [
    {
     "data": {
      "text/plain": [
       "<tf.Tensor 'random_uniform:0' shape=(20, 4, 4) dtype=float32>"
      ]
     },
     "execution_count": 37,
     "metadata": {},
     "output_type": "execute_result"
    }
   ],
   "source": [
    "random_rnninputs"
   ]
  },
  {
   "cell_type": "code",
   "execution_count": 38,
   "metadata": {
    "collapsed": true
   },
   "outputs": [],
   "source": [
    "import numpy as np"
   ]
  },
  {
   "cell_type": "code",
   "execution_count": 39,
   "metadata": {
    "collapsed": true
   },
   "outputs": [],
   "source": [
    "ss = tf.Session()"
   ]
  },
  {
   "cell_type": "code",
   "execution_count": 41,
   "metadata": {
    "collapsed": true
   },
   "outputs": [],
   "source": [
    "teste = ss.run(random_rnninputs)"
   ]
  },
  {
   "cell_type": "code",
   "execution_count": 42,
   "metadata": {
    "collapsed": false
   },
   "outputs": [
    {
     "data": {
      "text/plain": [
       "(20, 4, 4)"
      ]
     },
     "execution_count": 42,
     "metadata": {},
     "output_type": "execute_result"
    }
   ],
   "source": [
    "teste.shape"
   ]
  },
  {
   "cell_type": "code",
   "execution_count": 43,
   "metadata": {
    "collapsed": false
   },
   "outputs": [
    {
     "data": {
      "text/plain": [
       "array([[ 0.81155038,  0.89210057,  0.79234672,  0.85448825],\n",
       "       [ 0.02508581,  0.93683541,  0.4361738 ,  0.88169479],\n",
       "       [ 0.31208444,  0.514817  ,  0.06167626,  0.18198204],\n",
       "       [ 0.77786887,  0.6602006 ,  0.81442714,  0.32397187]], dtype=float32)"
      ]
     },
     "execution_count": 43,
     "metadata": {},
     "output_type": "execute_result"
    }
   ],
   "source": [
    "teste[0]"
   ]
  },
  {
   "cell_type": "code",
   "execution_count": 44,
   "metadata": {
    "collapsed": false
   },
   "outputs": [
    {
     "data": {
      "text/plain": [
       "array([[ 0.45934784,  0.44715381,  0.43608534,  0.56029177],\n",
       "       [ 0.90066063,  0.16616642,  0.97424364,  0.99868333],\n",
       "       [ 0.4224757 ,  0.57235265,  0.06112874,  0.28408682],\n",
       "       [ 0.33587575,  0.95023203,  0.75589108,  0.80220258]], dtype=float32)"
      ]
     },
     "execution_count": 44,
     "metadata": {},
     "output_type": "execute_result"
    }
   ],
   "source": [
    "teste[1]"
   ]
  },
  {
   "cell_type": "code",
   "execution_count": null,
   "metadata": {
    "collapsed": true
   },
   "outputs": [],
   "source": []
  },
  {
   "cell_type": "code",
   "execution_count": 80,
   "metadata": {
    "collapsed": true
   },
   "outputs": [],
   "source": [
    "teste2 = tf.placeholder(\"float\", [5,30])"
   ]
  },
  {
   "cell_type": "code",
   "execution_count": 81,
   "metadata": {
    "collapsed": false
   },
   "outputs": [
    {
     "data": {
      "text/plain": [
       "range(5, 30)"
      ]
     },
     "execution_count": 81,
     "metadata": {},
     "output_type": "execute_result"
    }
   ],
   "source": [
    "for in range(5,30):"
   ]
  },
  {
   "cell_type": "code",
   "execution_count": null,
   "metadata": {
    "collapsed": true
   },
   "outputs": [],
   "source": [
    "x = tf.constant([35, 40, 45], name='x')"
   ]
  },
  {
   "cell_type": "code",
   "execution_count": null,
   "metadata": {
    "collapsed": true
   },
   "outputs": [],
   "source": []
  },
  {
   "cell_type": "code",
   "execution_count": 84,
   "metadata": {
    "collapsed": false
   },
   "outputs": [
    {
     "ename": "SyntaxError",
     "evalue": "invalid syntax (<ipython-input-84-e200cf186b6f>, line 1)",
     "output_type": "error",
     "traceback": [
      "\u001b[0;36m  File \u001b[0;32m\"<ipython-input-84-e200cf186b6f>\"\u001b[0;36m, line \u001b[0;32m1\u001b[0m\n\u001b[0;31m    [for a in range(10)]\u001b[0m\n\u001b[0m       ^\u001b[0m\n\u001b[0;31mSyntaxError\u001b[0m\u001b[0;31m:\u001b[0m invalid syntax\n"
     ]
    }
   ],
   "source": [
    "[for a in range(10)]"
   ]
  },
  {
   "cell_type": "code",
   "execution_count": null,
   "metadata": {
    "collapsed": true
   },
   "outputs": [],
   "source": []
  },
  {
   "cell_type": "code",
   "execution_count": null,
   "metadata": {
    "collapsed": true
   },
   "outputs": [],
   "source": []
  },
  {
   "cell_type": "code",
   "execution_count": null,
   "metadata": {
    "collapsed": true
   },
   "outputs": [],
   "source": [
    "import tensorflow as tf\n",
    "\n",
    "x = tf.placeholder(\"float\", [None, 3])\n",
    "y = x * 2\n",
    "\n",
    "with tf.Session() as session:\n",
    "    x_data = [[1, 2, 3],\n",
    "              [4, 5, 6],]\n",
    "    result = session.run(y, feed_dict={x: x_data})\n",
    "    print(result)"
   ]
  },
  {
   "cell_type": "code",
   "execution_count": 70,
   "metadata": {
    "collapsed": false
   },
   "outputs": [],
   "source": [
    "teste1 = tf.random_uniform([5,30])"
   ]
  },
  {
   "cell_type": "code",
   "execution_count": 73,
   "metadata": {
    "collapsed": false
   },
   "outputs": [],
   "source": [
    "teste2 = teste1"
   ]
  },
  {
   "cell_type": "code",
   "execution_count": 74,
   "metadata": {
    "collapsed": false
   },
   "outputs": [
    {
     "data": {
      "text/plain": [
       "array([[ 0.44025469,  0.09309399,  0.09786725,  0.94217277,  0.89799368,\n",
       "         0.77859926,  0.39995241,  0.2877692 ,  0.82183659,  0.30455041,\n",
       "         0.78627598,  0.14717031,  0.82652593,  0.32420444,  0.98970044,\n",
       "         0.68351841,  0.85633016,  0.76893365,  0.23560524,  0.58562636,\n",
       "         0.05717468,  0.50096929,  0.08221233,  0.55158532,  0.56246674,\n",
       "         0.69647634,  0.26964128,  0.11939597,  0.27517211,  0.23409271],\n",
       "       [ 0.53022361,  0.34294271,  0.6195395 ,  0.60983849,  0.88040471,\n",
       "         0.38760602,  0.04695678,  0.89107108,  0.71265519,  0.10662997,\n",
       "         0.50385547,  0.19018996,  0.50365293,  0.08469093,  0.75373709,\n",
       "         0.36072707,  0.21947098,  0.47711217,  0.68416452,  0.89364719,\n",
       "         0.13202775,  0.49624336,  0.65328014,  0.13917136,  0.61090922,\n",
       "         0.85396373,  0.06618297,  0.412606  ,  0.97426701,  0.11540937],\n",
       "       [ 0.32250261,  0.97263324,  0.72087932,  0.79750645,  0.3306973 ,\n",
       "         0.09176517,  0.8394556 ,  0.21549332,  0.46394897,  0.31299567,\n",
       "         0.63839567,  0.07148933,  0.48530376,  0.81327999,  0.0658921 ,\n",
       "         0.37596714,  0.62025845,  0.48352313,  0.75923276,  0.83557451,\n",
       "         0.66227472,  0.10253215,  0.78042471,  0.55272925,  0.05623269,\n",
       "         0.91963029,  0.69123602,  0.65393221,  0.28782284,  0.90542936],\n",
       "       [ 0.8812995 ,  0.00178826,  0.40911043,  0.02077317,  0.04879153,\n",
       "         0.89712012,  0.99510515,  0.86166739,  0.54323816,  0.59428966,\n",
       "         0.60712707,  0.69899702,  0.92133009,  0.29175758,  0.11174691,\n",
       "         0.95581412,  0.82802641,  0.77042115,  0.47775817,  0.21201754,\n",
       "         0.64797843,  0.9527601 ,  0.09756589,  0.74514258,  0.22996044,\n",
       "         0.08257961,  0.93591988,  0.06053233,  0.68140197,  0.39538658],\n",
       "       [ 0.0852952 ,  0.71782041,  0.62638438,  0.07591546,  0.107795  ,\n",
       "         0.46330607,  0.45478082,  0.10673141,  0.60927439,  0.87071919,\n",
       "         0.84036636,  0.81537676,  0.91701078,  0.17874181,  0.07646143,\n",
       "         0.21345329,  0.64136291,  0.15539002,  0.09787452,  0.07688522,\n",
       "         0.64009964,  0.50175619,  0.59264398,  0.49857867,  0.08568347,\n",
       "         0.58832169,  0.96000409,  0.61759627,  0.44885516,  0.96799791]], dtype=float32)"
      ]
     },
     "execution_count": 74,
     "metadata": {},
     "output_type": "execute_result"
    }
   ],
   "source": [
    "ss.run(teste1)"
   ]
  },
  {
   "cell_type": "code",
   "execution_count": 79,
   "metadata": {
    "collapsed": false
   },
   "outputs": [
    {
     "data": {
      "text/plain": [
       "array([[ 0.94863808,  0.49221528,  0.13022494,  0.19942498,  0.52389979,\n",
       "         0.76693428,  0.23207319,  0.82114792,  0.44259083,  0.9349848 ,\n",
       "         0.80071199,  0.12967682,  0.61496925,  0.44067919,  0.68202591,\n",
       "         0.44312918,  0.47657907,  0.51429176,  0.26793194,  0.83430159,\n",
       "         0.22755003,  0.73437321,  0.03392529,  0.69811141,  0.12957704,\n",
       "         0.8992883 ,  0.72275722,  0.18179345,  0.25813508,  0.44128335],\n",
       "       [ 0.10012829,  0.97789729,  0.71870577,  0.86062253,  0.25910115,\n",
       "         0.9528451 ,  0.72336411,  0.62126613,  0.65867114,  0.50210309,\n",
       "         0.94425845,  0.35850322,  0.18942487,  0.80731332,  0.73568273,\n",
       "         0.04830587,  0.6932354 ,  0.08371329,  0.47213948,  0.14474225,\n",
       "         0.44521523,  0.49885845,  0.84267414,  0.00825989,  0.98895991,\n",
       "         0.53187525,  0.97922933,  0.7668072 ,  0.60289264,  0.81667852],\n",
       "       [ 0.70259881,  0.45367002,  0.19440985,  0.36535263,  0.74238789,\n",
       "         0.537009  ,  0.04363036,  0.66548526,  0.66360199,  0.28969276,\n",
       "         0.85473371,  0.50495863,  0.74532592,  0.76121485,  0.13757873,\n",
       "         0.076401  ,  0.62347615,  0.33121526,  0.52597773,  0.25555682,\n",
       "         0.36281884,  0.70838964,  0.92259288,  0.65150213,  0.99170089,\n",
       "         0.20384741,  0.47613859,  0.04278362,  0.57752907,  0.96130085],\n",
       "       [ 0.35415757,  0.11130929,  0.64097238,  0.68377626,  0.16402197,\n",
       "         0.62967968,  0.22698987,  0.45901966,  0.48056316,  0.64909482,\n",
       "         0.09215105,  0.23734224,  0.28480577,  0.9303025 ,  0.04864848,\n",
       "         0.06461942,  0.59258986,  0.07445991,  0.85058486,  0.92483807,\n",
       "         0.00238192,  0.58053923,  0.02127302,  0.90520918,  0.28935719,\n",
       "         0.41399539,  0.70231867,  0.74508572,  0.18560314,  0.88412857],\n",
       "       [ 0.9987663 ,  0.24637914,  0.04909503,  0.44752383,  0.08855057,\n",
       "         0.1316278 ,  0.97917974,  0.01304781,  0.66062224,  0.5418005 ,\n",
       "         0.18673289,  0.50819182,  0.67126453,  0.83692145,  0.90109789,\n",
       "         0.93138433,  0.28326106,  0.25970173,  0.7428683 ,  0.83598053,\n",
       "         0.06205571,  0.60790098,  0.54466236,  0.36051965,  0.1701076 ,\n",
       "         0.72064376,  0.66564846,  0.46564698,  0.06575167,  0.41303146]], dtype=float32)"
      ]
     },
     "execution_count": 79,
     "metadata": {},
     "output_type": "execute_result"
    }
   ],
   "source": [
    "ss.run(teste2)"
   ]
  },
  {
   "cell_type": "code",
   "execution_count": null,
   "metadata": {
    "collapsed": true
   },
   "outputs": [],
   "source": []
  },
  {
   "cell_type": "code",
   "execution_count": 61,
   "metadata": {
    "collapsed": false
   },
   "outputs": [],
   "source": [
    "split0, split1, split2 = tf.split(teste1, [4, 15, 11], 1)"
   ]
  },
  {
   "cell_type": "code",
   "execution_count": 64,
   "metadata": {
    "collapsed": false
   },
   "outputs": [
    {
     "data": {
      "text/plain": [
       "(array([[ 0.29930532,  0.63005197,  0.29715085,  0.682253  ],\n",
       "        [ 0.44510818,  0.69516313,  0.28326786,  0.83559215],\n",
       "        [ 0.42886531,  0.33150721,  0.34210789,  0.55084729],\n",
       "        [ 0.96988237,  0.96135402,  0.97657335,  0.39346671],\n",
       "        [ 0.94685793,  0.40960705,  0.5885241 ,  0.3326906 ]], dtype=float32),\n",
       " array([[ 0.01985538,  0.45304859,  0.28868532,  0.57504034,  0.60963464,\n",
       "          0.32098639,  0.41572857,  0.94849348,  0.00829279,  0.66650486,\n",
       "          0.88673401,  0.15996158,  0.49561584,  0.53517473,  0.23586977],\n",
       "        [ 0.93677402,  0.82977235,  0.98640418,  0.27248323,  0.56018579,\n",
       "          0.4266603 ,  0.51054037,  0.64523852,  0.41462541,  0.82327306,\n",
       "          0.25631034,  0.53815401,  0.75665164,  0.76759219,  0.28012919],\n",
       "        [ 0.20459235,  0.54845858,  0.82371235,  0.6105938 ,  0.28994727,\n",
       "          0.43985462,  0.99971831,  0.00593019,  0.13934052,  0.55547333,\n",
       "          0.10600293,  0.55561757,  0.76044846,  0.78642654,  0.42143631],\n",
       "        [ 0.65336156,  0.61316168,  0.67397356,  0.02435791,  0.08009398,\n",
       "          0.0852381 ,  0.18523002,  0.55835032,  0.71695423,  0.35495186,\n",
       "          0.82711434,  0.51178753,  0.52374148,  0.36474216,  0.83445072],\n",
       "        [ 0.7598803 ,  0.79271567,  0.2967521 ,  0.78981638,  0.94833243,\n",
       "          0.83903539,  0.64147246,  0.49896443,  0.30116379,  0.24708748,\n",
       "          0.51753104,  0.64626479,  0.8967061 ,  0.87863255,  0.58310175]], dtype=float32),\n",
       " array([[ 0.46286476,  0.03777134,  0.30718458,  0.43904138,  0.09949136,\n",
       "          0.9320966 ,  0.93160868,  0.55745137,  0.18555665,  0.70711637,\n",
       "          0.09221506],\n",
       "        [ 0.90330672,  0.02212131,  0.33655798,  0.0223217 ,  0.23341835,\n",
       "          0.13106203,  0.67305219,  0.08152556,  0.89479005,  0.37162912,\n",
       "          0.76987267],\n",
       "        [ 0.57527816,  0.54098737,  0.94549155,  0.59227467,  0.6613816 ,\n",
       "          0.01873815,  0.15917683,  0.18549359,  0.38433552,  0.500857  ,\n",
       "          0.54065657],\n",
       "        [ 0.37026536,  0.31475115,  0.58653677,  0.77904963,  0.65098929,\n",
       "          0.23117542,  0.08661449,  0.01678896,  0.27469444,  0.02018142,\n",
       "          0.24170172],\n",
       "        [ 0.41892362,  0.31675935,  0.406564  ,  0.33361697,  0.82116675,\n",
       "          0.01952124,  0.33967793,  0.29800367,  0.40080023,  0.6400851 ,\n",
       "          0.69244277]], dtype=float32))"
      ]
     },
     "execution_count": 64,
     "metadata": {},
     "output_type": "execute_result"
    }
   ],
   "source": [
    "ss.run(split0),ss.run(split1),ss.run(split2)"
   ]
  },
  {
   "cell_type": "code",
   "execution_count": null,
   "metadata": {
    "collapsed": true
   },
   "outputs": [],
   "source": []
  },
  {
   "cell_type": "code",
   "execution_count": null,
   "metadata": {
    "collapsed": true
   },
   "outputs": [],
   "source": []
  },
  {
   "cell_type": "code",
   "execution_count": null,
   "metadata": {
    "collapsed": true
   },
   "outputs": [],
   "source": []
  },
  {
   "cell_type": "code",
   "execution_count": null,
   "metadata": {
    "collapsed": true
   },
   "outputs": [],
   "source": []
  },
  {
   "cell_type": "code",
   "execution_count": null,
   "metadata": {
    "collapsed": true
   },
   "outputs": [],
   "source": []
  },
  {
   "cell_type": "code",
   "execution_count": null,
   "metadata": {
    "collapsed": true
   },
   "outputs": [],
   "source": []
  },
  {
   "cell_type": "code",
   "execution_count": null,
   "metadata": {
    "collapsed": true
   },
   "outputs": [],
   "source": []
  },
  {
   "cell_type": "code",
   "execution_count": null,
   "metadata": {
    "collapsed": true
   },
   "outputs": [],
   "source": []
  }
 ],
 "metadata": {
  "anaconda-cloud": {},
  "kernelspec": {
   "display_name": "Python [default]",
   "language": "python",
   "name": "python3"
  },
  "language_info": {
   "codemirror_mode": {
    "name": "ipython",
    "version": 3
   },
   "file_extension": ".py",
   "mimetype": "text/x-python",
   "name": "python",
   "nbconvert_exporter": "python",
   "pygments_lexer": "ipython3",
   "version": "3.5.2"
  }
 },
 "nbformat": 4,
 "nbformat_minor": 2
}
