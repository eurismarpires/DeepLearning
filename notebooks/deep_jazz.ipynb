{
 "cells": [
  {
   "cell_type": "code",
   "execution_count": 3,
   "metadata": {
    "collapsed": true
   },
   "outputs": [],
   "source": [
    "'''\n",
    "Author:     Ji-Sung Kim\n",
    "Project:    deepjazz\n",
    "Purpose:    Parse, cleanup and process data.\n",
    "\n",
    "Code adapted from Evan Chow's jazzml, https://github.com/evancchow/jazzml with\n",
    "express permission.\n",
    "'''\n",
    "\n",
    "from __future__ import print_function\n",
    "\n",
    "from music21 import *\n",
    "from collections import defaultdict, OrderedDict\n",
    "from itertools import groupby, zip_longest\n",
    "from grammar import *\n",
    "\n",
    "#----------------------------HELPER FUNCTIONS----------------------------------#\n",
    "\n",
    "''' Helper function to parse a MIDI file into its measures and chords '''\n",
    "def __parse_midi(data_fn):\n",
    "    # Parse the MIDI data for separate melody and accompaniment parts.\n",
    "    midi_data = converter.parse(data_fn)\n",
    "    # Get melody part, compress into single voice.\n",
    "    melody_stream = midi_data[5]     # For Metheny piece, Melody is Part #5.\n",
    "    melody1, melody2 = melody_stream.getElementsByClass(stream.Voice)\n",
    "    for j in melody2:\n",
    "        melody1.insert(j.offset, j)\n",
    "    melody_voice = melody1\n",
    "\n",
    "    for i in melody_voice:\n",
    "        if i.quarterLength == 0.0:\n",
    "            i.quarterLength = 0.25\n",
    "\n",
    "    # Change key signature to adhere to comp_stream (1 sharp, mode = major).\n",
    "    # Also add Electric Guitar. \n",
    "    melody_voice.insert(0, instrument.ElectricGuitar())\n",
    "    \n",
    "\n",
    "    # The accompaniment parts. Take only the best subset of parts from\n",
    "    # the original data. Maybe add more parts, hand-add valid instruments.\n",
    "    # Should add least add a string part (for sparse solos).\n",
    "    # Verified are good parts: 0, 1, 6, 7 '''\n",
    "    partIndices = [0, 1, 6, 7]\n",
    "    comp_stream = stream.Voice()\n",
    "    comp_stream.append([j.flat for i, j in enumerate(midi_data) \n",
    "        if i in partIndices])\n",
    "\n",
    "    # Full stream containing both the melody and the accompaniment. \n",
    "    # All parts are flattened. \n",
    "    full_stream = stream.Voice()\n",
    "    for i in range(len(comp_stream)):\n",
    "        full_stream.append(comp_stream[i])\n",
    "    full_stream.append(melody_voice)\n",
    "\n",
    "    # Extract solo stream, assuming you know the positions ..ByOffset(i, j).\n",
    "    # Note that for different instruments (with stream.flat), you NEED to use\n",
    "    # stream.Part(), not stream.Voice().\n",
    "    # Accompanied solo is in range [478, 548)\n",
    "    solo_stream = stream.Voice()\n",
    "    for part in full_stream:\n",
    "        curr_part = stream.Part()\n",
    "        curr_part.append(part.getElementsByClass(instrument.Instrument))\n",
    "        curr_part.append(part.getElementsByClass(tempo.MetronomeMark))\n",
    "        curr_part.append(part.getElementsByClass(key.KeySignature))\n",
    "        curr_part.append(part.getElementsByClass(meter.TimeSignature))\n",
    "        curr_part.append(part.getElementsByOffset(476, 548, \n",
    "                                                  includeEndBoundary=True))\n",
    "        cp = curr_part.flat\n",
    "        solo_stream.insert(cp)\n",
    "\n",
    "    # Group by measure so you can classify. \n",
    "    # Note that measure 0 is for the time signature, metronome, etc. which have\n",
    "    # an offset of 0.0.\n",
    "    melody_stream = solo_stream[-1]\n",
    "    measures = OrderedDict()\n",
    "    offsetTuples = [(int(n.offset / 4), n) for n in melody_stream]\n",
    "    measureNum = 0 # for now, don't use real m. nums (119, 120)\n",
    "    for key_x, group in groupby(offsetTuples, lambda x: x[0]):\n",
    "        measures[measureNum] = [n[1] for n in group]\n",
    "        measureNum += 1\n",
    "\n",
    "    # Get the stream of chords.\n",
    "    # offsetTuples_chords: group chords by measure number.\n",
    "    chordStream = solo_stream[0]\n",
    "    chordStream.removeByClass(note.Rest)\n",
    "    chordStream.removeByClass(note.Note)\n",
    "    offsetTuples_chords = [(int(n.offset / 4), n) for n in chordStream]\n",
    "\n",
    "    # Generate the chord structure. Use just track 1 (piano) since it is\n",
    "    # the only instrument that has chords. \n",
    "    # Group into 4s, just like before. \n",
    "    chords = OrderedDict()\n",
    "    measureNum = 0\n",
    "    for key_x, group in groupby(offsetTuples_chords, lambda x: x[0]):\n",
    "        chords[measureNum] = [n[1] for n in group]\n",
    "        measureNum += 1\n",
    "\n",
    "    # Fix for the below problem.\n",
    "    #   1) Find out why len(measures) != len(chords).\n",
    "    #   ANSWER: resolves at end but melody ends 1/16 before last measure so doesn't\n",
    "    #           actually show up, while the accompaniment's beat 1 right after does.\n",
    "    #           Actually on second thought: melody/comp start on Ab, and resolve to\n",
    "    #           the same key (Ab) so could actually just cut out last measure to loop.\n",
    "    #           Decided: just cut out the last measure. \n",
    "    del chords[len(chords) - 1]\n",
    "    assert len(chords) == len(measures)\n",
    "\n",
    "    return measures, chords\n",
    "\n",
    "''' Helper function to get the grammatical data from given musical data. '''\n",
    "def __get_abstract_grammars(measures, chords):\n",
    "    # extract grammars\n",
    "    abstract_grammars = []\n",
    "    for ix in range(1, len(measures)):\n",
    "        m = stream.Voice()\n",
    "        for i in measures[ix]:\n",
    "            m.insert(i.offset, i)\n",
    "        c = stream.Voice()\n",
    "        for j in chords[ix]:\n",
    "            c.insert(j.offset, j)\n",
    "        parsed = parse_melody(m, c)\n",
    "        abstract_grammars.append(parsed)\n",
    "\n",
    "    return abstract_grammars\n",
    "\n",
    "#----------------------------PUBLIC FUNCTIONS----------------------------------#\n",
    "\n",
    "''' Get musical data from a MIDI file '''\n",
    "def get_musical_data(data_fn):\n",
    "    measures, chords = __parse_midi(data_fn)\n",
    "    abstract_grammars = __get_abstract_grammars(measures, chords)\n",
    "\n",
    "    return chords, abstract_grammars\n",
    "\n",
    "''' Get corpus data from grammatical data '''\n",
    "def get_corpus_data(abstract_grammars):\n",
    "    corpus = [x for sublist in abstract_grammars for x in sublist.split(' ')]\n",
    "    values = set(corpus)\n",
    "    val_indices = dict((v, i) for i, v in enumerate(values))\n",
    "    indices_val = dict((i, v) for i, v in enumerate(values))\n",
    "\n",
    "    return corpus, values, val_indices, indices_val"
   ]
  },
  {
   "cell_type": "code",
   "execution_count": 4,
   "metadata": {
    "collapsed": false
   },
   "outputs": [],
   "source": [
    "'''\n",
    "Author:     Ji-Sung Kim\n",
    "Project:    deepjazz\n",
    "Purpose:    Generate jazz using a deep learning model (LSTM in deepjazz).\n",
    "\n",
    "Some code adapted from Evan Chow's jazzml, https://github.com/evancchow/jazzml \n",
    "with express permission.\n",
    "\n",
    "Code was built while significantly referencing public examples from the\n",
    "Keras documentation on GitHub:\n",
    "https://github.com/fchollet/keras/blob/master/examples/lstm_text_generation.py\n",
    "\n",
    "GPU run command:\n",
    "    THEANO_FLAGS=mode=FAST_RUN,device=gpu,floatX=float32 python generator.py [# of epochs]\n",
    "\n",
    "    Note: running Keras/Theano on GPU is formally supported for only NVIDIA cards (CUDA backend).\n",
    "'''\n",
    "from __future__ import print_function\n",
    "import sys\n",
    "\n",
    "from music21 import *\n",
    "import numpy as np\n",
    "\n",
    "from grammar import *\n",
    "#from preprocess import *\n",
    "from qa import *\n",
    "import lstm"
   ]
  },
  {
   "cell_type": "code",
   "execution_count": 5,
   "metadata": {
    "collapsed": true
   },
   "outputs": [],
   "source": [
    "#----------------------------HELPER FUNCTIONS----------------------------------#\n",
    "\n",
    "''' Helper function to sample an index from a probability array '''\n",
    "def __sample(a, temperature=1.0):\n",
    "    a = np.log(a) / temperature\n",
    "    a = np.exp(a) / np.sum(np.exp(a))\n",
    "    return np.argmax(np.random.multinomial(1, a, 1))"
   ]
  },
  {
   "cell_type": "code",
   "execution_count": 6,
   "metadata": {
    "collapsed": true
   },
   "outputs": [],
   "source": [
    "''' Helper function to generate a predicted value from a given matrix '''\n",
    "def __predict(model, x, indices_val, diversity):\n",
    "    preds = model.predict(x, verbose=0)[0]\n",
    "    next_index = __sample(preds, diversity)\n",
    "    next_val = indices_val[next_index]\n",
    "\n",
    "    return next_val"
   ]
  },
  {
   "cell_type": "code",
   "execution_count": 7,
   "metadata": {
    "collapsed": true
   },
   "outputs": [],
   "source": [
    "''' Helper function which uses the given model to generate a grammar sequence \n",
    "    from a given corpus, indices_val (mapping), abstract_grammars (list), \n",
    "    and diversity floating point value. '''\n",
    "def __generate_grammar(model, corpus, abstract_grammars, values, val_indices,\n",
    "                       indices_val, max_len, max_tries, diversity):\n",
    "    curr_grammar = ''\n",
    "    # np.random.randint is exclusive to high\n",
    "    start_index = np.random.randint(0, len(corpus) - max_len)\n",
    "    sentence = corpus[start_index: start_index + max_len]    # seed\n",
    "    running_length = 0.0\n",
    "    while running_length <= 4.1:    # arbitrary, from avg in input file\n",
    "        # transform sentence (previous sequence) to matrix\n",
    "        x = np.zeros((1, max_len, len(values)))\n",
    "        for t, val in enumerate(sentence):\n",
    "            if (not val in val_indices): print(val)\n",
    "            x[0, t, val_indices[val]] = 1.\n",
    "\n",
    "        next_val = __predict(model, x, indices_val, diversity)\n",
    "\n",
    "        # fix first note: must not have < > and not be a rest\n",
    "        if (running_length < 0.00001):\n",
    "            tries = 0\n",
    "            while (next_val.split(',')[0] == 'R' or \n",
    "                len(next_val.split(',')) != 2):\n",
    "                # give up after 1000 tries; random from input's first notes\n",
    "                if tries >= max_tries:\n",
    "                    print('Gave up on first note generation after', max_tries, \n",
    "                        'tries')\n",
    "                    # np.random is exclusive to high\n",
    "                    rand = np.random.randint(0, len(abstract_grammars))\n",
    "                    next_val = abstract_grammars[rand].split(' ')[0]\n",
    "                else:\n",
    "                    next_val = __predict(model, x, indices_val, diversity)\n",
    "\n",
    "                tries += 1\n",
    "\n",
    "        # shift sentence over with new value\n",
    "        sentence = sentence[1:] \n",
    "        sentence.append(next_val)\n",
    "\n",
    "        # except for first case, add a ' ' separator\n",
    "        if (running_length > 0.00001): curr_grammar += ' '\n",
    "        curr_grammar += next_val\n",
    "\n",
    "        length = float(next_val.split(',')[1])\n",
    "        running_length += length\n",
    "\n",
    "    return curr_grammar"
   ]
  },
  {
   "cell_type": "code",
   "execution_count": 8,
   "metadata": {
    "collapsed": true
   },
   "outputs": [],
   "source": [
    "#----------------------------PUBLIC FUNCTIONS----------------------------------#\n",
    "''' Generates musical sequence based on the given data filename and settings.\n",
    "    Plays then stores (MIDI file) the generated output. '''\n",
    "def generate(data_fn, out_fn, N_epochs):\n",
    "    # model settings\n",
    "    max_len = 20\n",
    "    max_tries = 1000\n",
    "    diversity = 0.5\n",
    "\n",
    "    # musical settings\n",
    "    bpm = 130\n",
    "\n",
    "    # get data\n",
    "    chords, abstract_grammars = get_musical_data(data_fn)\n",
    "    corpus, values, val_indices, indices_val = get_corpus_data(abstract_grammars)\n",
    "    print('corpus length:', len(corpus))\n",
    "    print('total # of values:', len(values))\n",
    "\n",
    "    # build model\n",
    "    model = lstm.build_model(corpus=corpus, val_indices=val_indices, \n",
    "                             max_len=max_len, N_epochs=N_epochs)\n",
    "\n",
    "    # set up audio stream\n",
    "    out_stream = stream.Stream()\n",
    "\n",
    "    # generation loop\n",
    "    curr_offset = 0.0\n",
    "    loopEnd = len(chords)\n",
    "    for loopIndex in range(1, loopEnd):\n",
    "        # get chords from file\n",
    "        curr_chords = stream.Voice()\n",
    "        for j in chords[loopIndex]:\n",
    "            curr_chords.insert((j.offset % 4), j)\n",
    "\n",
    "        # generate grammar\n",
    "        curr_grammar = __generate_grammar(model=model, corpus=corpus, \n",
    "                                          abstract_grammars=abstract_grammars, \n",
    "                                          values=values, val_indices=val_indices, \n",
    "                                          indices_val=indices_val, \n",
    "                                          max_len=max_len, max_tries=max_tries,\n",
    "                                          diversity=diversity)\n",
    "\n",
    "        curr_grammar = curr_grammar.replace(' A',' C').replace(' X',' C')\n",
    "\n",
    "        # Pruning #1: smoothing measure\n",
    "        curr_grammar = prune_grammar(curr_grammar)\n",
    "\n",
    "        # Get notes from grammar and chords\n",
    "        curr_notes = unparse_grammar(curr_grammar, curr_chords)\n",
    "\n",
    "        # Pruning #2: removing repeated and too close together notes\n",
    "        curr_notes = prune_notes(curr_notes)\n",
    "\n",
    "        # quality assurance: clean up notes\n",
    "        curr_notes = clean_up_notes(curr_notes)\n",
    "\n",
    "        # print # of notes in curr_notes\n",
    "        print('After pruning: %s notes' % (len([i for i in curr_notes\n",
    "            if isinstance(i, note.Note)])))\n",
    "\n",
    "        # insert into the output stream\n",
    "        for m in curr_notes:\n",
    "            out_stream.insert(curr_offset + m.offset, m)\n",
    "        for mc in curr_chords:\n",
    "            out_stream.insert(curr_offset + mc.offset, mc)\n",
    "\n",
    "        curr_offset += 4.0\n",
    "\n",
    "    out_stream.insert(0.0, tempo.MetronomeMark(number=bpm))\n",
    "\n",
    "    # Play the final stream through output (see 'play' lambda function above)\n",
    "    play = lambda x: midi.realtime.StreamPlayer(x).play()\n",
    "    play(out_stream)\n",
    "\n",
    "    # save stream\n",
    "    mf = midi.translate.streamToMidiFile(out_stream)\n",
    "    mf.open(out_fn, 'wb')\n",
    "    mf.write()\n",
    "    mf.close()"
   ]
  },
  {
   "cell_type": "code",
   "execution_count": 9,
   "metadata": {
    "collapsed": true
   },
   "outputs": [],
   "source": [
    "''' Runs generate() -- generating, playing, then storing a musical sequence --\n",
    "    with the default Metheny file. '''\n",
    "def main():\n",
    "    try:\n",
    "        N_epochs = 1\n",
    "    except:\n",
    "        N_epochs = 128 # default\n",
    "\n",
    "    # i/o settings\n",
    "    data_fn = 'midi/' + 'original_metheny.mid' # 'And Then I Knew' by Pat Metheny \n",
    "    out_fn = 'midi/' 'deepjazz_on_metheny...' + str(N_epochs)\n",
    "    if (N_epochs == 1): out_fn += '_epoch.midi'\n",
    "    else:               out_fn += '_epochs.midi'\n",
    "\n",
    "    generate(data_fn, out_fn, N_epochs)"
   ]
  },
  {
   "cell_type": "code",
   "execution_count": 11,
   "metadata": {
    "collapsed": false
   },
   "outputs": [
    {
     "name": "stdout",
     "output_type": "stream",
     "text": [
      "corpus length: 193\n",
      "total # of values: 78\n",
      "nb sequences: 58\n"
     ]
    },
    {
     "name": "stderr",
     "output_type": "stream",
     "text": [
      "C:\\Program Files\\Anaconda3\\lib\\site-packages\\keras\\models.py:826: UserWarning: The `nb_epoch` argument in `fit` has been renamed `epochs`.\n",
      "  warnings.warn('The `nb_epoch` argument in `fit` '\n"
     ]
    },
    {
     "name": "stdout",
     "output_type": "stream",
     "text": [
      "Epoch 1/1\n",
      "58/58 [==============================] - 1s - loss: 4.3590\n",
      "After pruning: 14 notes\n",
      "After pruning: 12 notes\n",
      "After pruning: 12 notes\n",
      "After pruning: 13 notes\n",
      "After pruning: 14 notes\n",
      "After pruning: 12 notes\n",
      "After pruning: 12 notes\n",
      "After pruning: 16 notes\n",
      "After pruning: 13 notes\n",
      "After pruning: 12 notes\n",
      "After pruning: 13 notes\n",
      "After pruning: 12 notes\n",
      "After pruning: 13 notes\n",
      "After pruning: 14 notes\n",
      "After pruning: 15 notes\n",
      "After pruning: 12 notes\n",
      "After pruning: 16 notes\n",
      "After pruning: 11 notes\n"
     ]
    }
   ],
   "source": [
    "''' If run as script, execute main '''\n",
    "if __name__ == '__main__':\n",
    "    main()"
   ]
  },
  {
   "cell_type": "code",
   "execution_count": 12,
   "metadata": {
    "collapsed": true
   },
   "outputs": [],
   "source": [
    "N_epochs = 1"
   ]
  },
  {
   "cell_type": "code",
   "execution_count": 13,
   "metadata": {
    "collapsed": true
   },
   "outputs": [],
   "source": [
    "data_fn = 'midi/' + 'original_metheny.mid' # 'And Then I Knew' by Pat Metheny "
   ]
  },
  {
   "cell_type": "code",
   "execution_count": 14,
   "metadata": {
    "collapsed": true
   },
   "outputs": [],
   "source": [
    "out_fn = 'midi/' 'deepjazz_on_metheny...' + str(N_epochs)"
   ]
  },
  {
   "cell_type": "code",
   "execution_count": 15,
   "metadata": {
    "collapsed": true
   },
   "outputs": [],
   "source": [
    "out_fn += '_epoch.midi'"
   ]
  },
  {
   "cell_type": "code",
   "execution_count": 16,
   "metadata": {
    "collapsed": false
   },
   "outputs": [
    {
     "data": {
      "text/plain": [
       "'midi/original_metheny.mid'"
      ]
     },
     "execution_count": 16,
     "metadata": {},
     "output_type": "execute_result"
    }
   ],
   "source": [
    "data_fn"
   ]
  },
  {
   "cell_type": "code",
   "execution_count": 17,
   "metadata": {
    "collapsed": false
   },
   "outputs": [
    {
     "data": {
      "text/plain": [
       "'midi/deepjazz_on_metheny...1_epoch.midi'"
      ]
     },
     "execution_count": 17,
     "metadata": {},
     "output_type": "execute_result"
    }
   ],
   "source": [
    "out_fn"
   ]
  },
  {
   "cell_type": "code",
   "execution_count": null,
   "metadata": {
    "collapsed": true
   },
   "outputs": [],
   "source": [
    "generate(data_fn, out_fn, N_epochs)"
   ]
  },
  {
   "cell_type": "code",
   "execution_count": 18,
   "metadata": {
    "collapsed": true
   },
   "outputs": [],
   "source": [
    "# model settings\n",
    "max_len = 20\n",
    "max_tries = 1000\n",
    "diversity = 0.5\n",
    "\n",
    "# musical settings\n",
    "bpm = 130"
   ]
  },
  {
   "cell_type": "code",
   "execution_count": 19,
   "metadata": {
    "collapsed": true
   },
   "outputs": [],
   "source": [
    "# get data\n",
    "chords, abstract_grammars = get_musical_data(data_fn)"
   ]
  },
  {
   "cell_type": "code",
   "execution_count": 26,
   "metadata": {
    "collapsed": false
   },
   "outputs": [
    {
     "data": {
      "text/plain": [
       "[<music21.chord.Chord E-4 G#3 C4 F3>, <music21.chord.Chord F4 D4 B-3 G3>]"
      ]
     },
     "execution_count": 26,
     "metadata": {},
     "output_type": "execute_result"
    }
   ],
   "source": [
    "chords[3]"
   ]
  },
  {
   "cell_type": "code",
   "execution_count": 27,
   "metadata": {
    "collapsed": true
   },
   "outputs": [],
   "source": [
    "corpus, values, indices_val = get_corpus_data(abstract_grammars)"
   ]
  },
  {
   "cell_type": "code",
   "execution_count": 28,
   "metadata": {
    "collapsed": false
   },
   "outputs": [
    {
     "data": {
      "text/plain": [
       "['C,0.500',\n",
       " 'C,0.333,<P1,d-5>',\n",
       " 'C,0.250,<M-2,m-6>',\n",
       " 'C,0.250,<M3,d-3>',\n",
       " 'C,0.250,<d6,m2>',\n",
       " 'C,0.250,<d5,P1>',\n",
       " 'C,0.667,<M2,d-4>',\n",
       " 'C,0.250,<d1,P-5>',\n",
       " 'C,0.250,<P-4,d-8>',\n",
       " 'S,0.250,<d4,M-2>',\n",
       " 'S,0.250,<P5,A1>',\n",
       " 'C,0.250,<d5,P1>',\n",
       " 'C,0.500',\n",
       " 'S,0.250,<m2,P-4>',\n",
       " 'C,0.250,<P4,m-2>',\n",
       " 'A,0.250,<P4,m-2>',\n",
       " 'S,0.500,<d1,P-5>',\n",
       " 'C,0.250,<P1,d-5>',\n",
       " 'C,0.250,<m2,P-4>',\n",
       " 'A,0.250,<m2,P-4>',\n",
       " 'C,0.250,<M2,d-4>',\n",
       " 'A,0.250,<d4,M-2>',\n",
       " 'C,0.250,<P4,m-2>',\n",
       " 'C,0.250,<P4,m-2>',\n",
       " 'C,0.250',\n",
       " 'C,0.250,<d2,A-4>',\n",
       " 'A,0.250,<m-2,d-6>',\n",
       " 'C,0.250,<d3,M-3>',\n",
       " 'A,0.250,<M3,d-3>',\n",
       " 'C,0.250,<d6,m2>',\n",
       " 'C,0.250,<A4,d-2>',\n",
       " 'C,0.250,<d3,M-3>',\n",
       " 'C,0.250,<m2,P-4>',\n",
       " 'A,0.250,<m2,P-4>',\n",
       " 'S,0.250,<P1,d-5>',\n",
       " 'C,0.250,<m2,P-4>',\n",
       " 'C,0.250,<P1,d-5>',\n",
       " 'C,0.250,<m2,P-4>',\n",
       " 'A,0.250,<m2,P-4>',\n",
       " 'C,0.250',\n",
       " 'S,0.250,<d6,m2>',\n",
       " 'X,0.250,<A4,d-2>',\n",
       " 'S,0.250,<dd5,d1>',\n",
       " 'C,0.250,<P4,m-2>',\n",
       " 'C,0.250,<M3,d-3>',\n",
       " 'C,0.250,<dd5,d1>',\n",
       " 'S,0.250,<P4,m-2>',\n",
       " 'C,0.250,<P4,m-2>',\n",
       " 'C,0.250,<M3,d-3>',\n",
       " 'C,0.250,<dd5,d1>',\n",
       " 'A,0.250,<M3,d-3>',\n",
       " 'C,0.500',\n",
       " 'A,0.333,<M2,d-4>',\n",
       " 'C,0.250,<d4,M-2>',\n",
       " 'A,0.333,<M2,d-4>',\n",
       " 'C,0.250,<m2,P-4>',\n",
       " 'C,0.250,<A-4,P-8>',\n",
       " 'C,0.250,<P4,m-2>',\n",
       " 'A,0.250,<P4,m-2>',\n",
       " 'S,0.250,<d5,P1>',\n",
       " 'A,0.333,<P1,d-5>',\n",
       " 'C,0.250,<d4,M-2>',\n",
       " 'C,0.250,<P5,A1>',\n",
       " 'C,0.250',\n",
       " 'S,0.250,<d4,M-2>',\n",
       " 'A,0.250,<m-2,d-6>',\n",
       " 'C,0.250,<d5,P1>',\n",
       " 'A,0.250,<P1,d-5>',\n",
       " 'C,0.250,<d5,P1>',\n",
       " 'C,0.250,<d1,P-5>',\n",
       " 'A,0.333,<A4,d-2>',\n",
       " 'S,0.333',\n",
       " 'C,0.500,<m2,P-4>',\n",
       " 'S,0.250,<P1,d-5>',\n",
       " 'C,0.250,<m2,P-4>',\n",
       " 'C,0.250,<P4,m-2>',\n",
       " 'C,0.250,<m3,m-3>',\n",
       " 'S,0.250,<m2,P-4>',\n",
       " 'C,0.500,<m6,M2>',\n",
       " 'C,0.250,<P1,d-5>',\n",
       " 'C,0.250,<m7,M3>',\n",
       " 'C,0.250,<d4,M-2>',\n",
       " 'C,0.250',\n",
       " 'C,0.333,<d1,P-5>',\n",
       " 'S,0.250,<M-2,m-6>',\n",
       " 'C,0.250,<P11,M7>',\n",
       " 'C,0.250,<M-2,m-6>',\n",
       " 'S,0.333,<d7,m3>',\n",
       " 'C,0.667,<M2,d-4>',\n",
       " 'C,0.250',\n",
       " 'C,0.250,<d5,P1>',\n",
       " 'C,0.250,<m7,M3>',\n",
       " 'C,0.250,<m2,P-4>',\n",
       " 'C,0.250,<P5,A1>',\n",
       " 'C,0.750,<m3,m-3>',\n",
       " 'S,0.250',\n",
       " 'C,0.250,<m2,P-4>',\n",
       " 'C,0.250,<M2,d-4>',\n",
       " 'C,0.250,<m2,P-4>',\n",
       " 'A,0.250,<M2,d-4>',\n",
       " 'A,0.250,<m2,P-4>',\n",
       " 'C,0.250,<m2,P-4>',\n",
       " 'A,0.333,<M2,d-4>',\n",
       " 'C,0.250,<d3,M-3>',\n",
       " 'X,0.250,<d1,P-5>',\n",
       " 'S,0.250,<A4,d-2>',\n",
       " 'S,0.250,<d1,P-5>',\n",
       " 'C,0.250',\n",
       " 'C,0.250,<P1,d-5>',\n",
       " 'C,0.333,<m3,m-3>',\n",
       " 'S,0.333,<m2,P-4>',\n",
       " 'C,0.333,<m2,P-4>',\n",
       " 'C,0.250,<m3,m-3>',\n",
       " 'C,0.250,<P1,d-5>',\n",
       " 'C,0.333,<m3,m-3>',\n",
       " 'C,0.250,<d5,P1>',\n",
       " 'C,0.250,<P5,A1>',\n",
       " 'S,0.250',\n",
       " 'S,0.250,<P1,d-5>',\n",
       " 'C,0.333,<m7,M3>',\n",
       " 'S,0.333,<d1,P-5>',\n",
       " 'S,0.500,<m7,M3>',\n",
       " 'C,0.250,<P1,d-5>',\n",
       " 'S,0.250,<m3,m-3>',\n",
       " 'A,0.250,<P-4,d-8>',\n",
       " 'C,0.250,<d4,M-2>',\n",
       " 'C,0.250,<d5,P1>',\n",
       " 'C,0.250,<P5,A1>',\n",
       " 'S,0.250',\n",
       " 'S,0.250,<d1,P-5>',\n",
       " 'S,0.750,<m3,m-3>',\n",
       " 'C,0.250,<P1,d-5>',\n",
       " 'S,0.750,<d5,P1>',\n",
       " 'C,0.250,<P1,d-5>',\n",
       " 'C,0.250,<m3,m-3>',\n",
       " 'S,0.250,<d5,P1>',\n",
       " 'C,0.250,<P4,m-2>',\n",
       " 'C,0.250,<d5,P1>',\n",
       " 'C,0.500',\n",
       " 'C,0.250,<d4,M-2>',\n",
       " 'C,0.333,<M2,d-4>',\n",
       " 'S,0.250,<d1,P-5>',\n",
       " 'C,0.333,<P5,A1>',\n",
       " 'S,0.250,<d1,P-5>',\n",
       " 'C,0.333,<m3,m-3>',\n",
       " 'C,0.250,<P1,d-5>',\n",
       " 'S,0.333',\n",
       " 'S,0.250,<d1,P-5>',\n",
       " 'C,0.250,<P1,d-5>',\n",
       " 'S,0.500,<m7,M3>',\n",
       " 'S,0.250,<d1,P-5>',\n",
       " 'C,0.250,<P4,m-2>',\n",
       " 'C,0.250,<m3,m-3>',\n",
       " 'C,0.250,<m-2,d-6>',\n",
       " 'C,0.250,<d2,A-4>',\n",
       " 'C,0.250,<P4,m-2>',\n",
       " 'S,0.667,<d5,P1>',\n",
       " 'C,0.250,<P1,d-5>',\n",
       " 'C,0.250',\n",
       " 'X,0.250,<A4,d-2>',\n",
       " 'C,0.250,<d2,A-4>',\n",
       " 'S,0.250,<P4,m-2>',\n",
       " 'A,0.250,<P1,d-5>',\n",
       " 'A,0.250,<P4,m-2>',\n",
       " 'S,0.250,<d2,A-4>',\n",
       " 'C,0.250,<P4,m-2>',\n",
       " 'X,0.250,<A4,d-2>',\n",
       " 'C,0.250,<d2,A-4>',\n",
       " 'C,0.250,<m-2,d-6>',\n",
       " 'A,0.250,<d5,P1>',\n",
       " 'C,0.250,<d1,P-5>',\n",
       " 'S,0.250,<d5,P1>',\n",
       " 'A,0.250,<m-2,d-6>',\n",
       " 'A,0.250,<d5,P1>',\n",
       " 'S,0.250,<d1,P-5>',\n",
       " 'C,0.250,<P4,m-2>',\n",
       " 'A,0.250,<P1,d-5>',\n",
       " 'C,0.500',\n",
       " 'C,0.250,<P4,m-2>',\n",
       " 'C,0.250,<M3,d-3>',\n",
       " 'S,0.250,<dd5,d1>',\n",
       " 'C,0.500,<P4,m-2>',\n",
       " 'C,0.333,<A4,d-2>',\n",
       " 'C,0.667,<d6,m2>',\n",
       " 'C,0.500,<m2,P-4>',\n",
       " 'S,0.250',\n",
       " 'S,0.667,<m3,m-3>',\n",
       " 'C,0.250,<M3,d-3>',\n",
       " 'X,0.250,<d2,A-4>',\n",
       " 'X,0.250,<m6,M2>',\n",
       " 'X,0.250,<M-2,m-6>',\n",
       " 'C,0.250,<m7,M3>',\n",
       " 'S,0.250,<P4,m-2>']"
      ]
     },
     "execution_count": 28,
     "metadata": {},
     "output_type": "execute_result"
    }
   ],
   "source": [
    "corpus"
   ]
  },
  {
   "cell_type": "code",
   "execution_count": 29,
   "metadata": {
    "collapsed": false
   },
   "outputs": [
    {
     "data": {
      "text/plain": [
       "{'A,0.250,<M2,d-4>',\n",
       " 'A,0.250,<M3,d-3>',\n",
       " 'A,0.250,<P-4,d-8>',\n",
       " 'A,0.250,<P1,d-5>',\n",
       " 'A,0.250,<P4,m-2>',\n",
       " 'A,0.250,<d4,M-2>',\n",
       " 'A,0.250,<d5,P1>',\n",
       " 'A,0.250,<m-2,d-6>',\n",
       " 'A,0.250,<m2,P-4>',\n",
       " 'A,0.333,<A4,d-2>',\n",
       " 'A,0.333,<M2,d-4>',\n",
       " 'A,0.333,<P1,d-5>',\n",
       " 'C,0.250',\n",
       " 'C,0.250,<A-4,P-8>',\n",
       " 'C,0.250,<A4,d-2>',\n",
       " 'C,0.250,<M-2,m-6>',\n",
       " 'C,0.250,<M2,d-4>',\n",
       " 'C,0.250,<M3,d-3>',\n",
       " 'C,0.250,<P-4,d-8>',\n",
       " 'C,0.250,<P1,d-5>',\n",
       " 'C,0.250,<P11,M7>',\n",
       " 'C,0.250,<P4,m-2>',\n",
       " 'C,0.250,<P5,A1>',\n",
       " 'C,0.250,<d1,P-5>',\n",
       " 'C,0.250,<d2,A-4>',\n",
       " 'C,0.250,<d3,M-3>',\n",
       " 'C,0.250,<d4,M-2>',\n",
       " 'C,0.250,<d5,P1>',\n",
       " 'C,0.250,<d6,m2>',\n",
       " 'C,0.250,<dd5,d1>',\n",
       " 'C,0.250,<m-2,d-6>',\n",
       " 'C,0.250,<m2,P-4>',\n",
       " 'C,0.250,<m3,m-3>',\n",
       " 'C,0.250,<m7,M3>',\n",
       " 'C,0.333,<A4,d-2>',\n",
       " 'C,0.333,<M2,d-4>',\n",
       " 'C,0.333,<P1,d-5>',\n",
       " 'C,0.333,<P5,A1>',\n",
       " 'C,0.333,<d1,P-5>',\n",
       " 'C,0.333,<m2,P-4>',\n",
       " 'C,0.333,<m3,m-3>',\n",
       " 'C,0.333,<m7,M3>',\n",
       " 'C,0.500',\n",
       " 'C,0.500,<P4,m-2>',\n",
       " 'C,0.500,<m2,P-4>',\n",
       " 'C,0.500,<m6,M2>',\n",
       " 'C,0.667,<M2,d-4>',\n",
       " 'C,0.667,<d6,m2>',\n",
       " 'C,0.750,<m3,m-3>',\n",
       " 'S,0.250',\n",
       " 'S,0.250,<A4,d-2>',\n",
       " 'S,0.250,<M-2,m-6>',\n",
       " 'S,0.250,<P1,d-5>',\n",
       " 'S,0.250,<P4,m-2>',\n",
       " 'S,0.250,<P5,A1>',\n",
       " 'S,0.250,<d1,P-5>',\n",
       " 'S,0.250,<d2,A-4>',\n",
       " 'S,0.250,<d4,M-2>',\n",
       " 'S,0.250,<d5,P1>',\n",
       " 'S,0.250,<d6,m2>',\n",
       " 'S,0.250,<dd5,d1>',\n",
       " 'S,0.250,<m2,P-4>',\n",
       " 'S,0.250,<m3,m-3>',\n",
       " 'S,0.333',\n",
       " 'S,0.333,<d1,P-5>',\n",
       " 'S,0.333,<d7,m3>',\n",
       " 'S,0.333,<m2,P-4>',\n",
       " 'S,0.500,<d1,P-5>',\n",
       " 'S,0.500,<m7,M3>',\n",
       " 'S,0.667,<d5,P1>',\n",
       " 'S,0.667,<m3,m-3>',\n",
       " 'S,0.750,<d5,P1>',\n",
       " 'S,0.750,<m3,m-3>',\n",
       " 'X,0.250,<A4,d-2>',\n",
       " 'X,0.250,<M-2,m-6>',\n",
       " 'X,0.250,<d1,P-5>',\n",
       " 'X,0.250,<d2,A-4>',\n",
       " 'X,0.250,<m6,M2>'}"
      ]
     },
     "execution_count": 29,
     "metadata": {},
     "output_type": "execute_result"
    }
   ],
   "source": [
    "values"
   ]
  },
  {
   "cell_type": "code",
   "execution_count": 30,
   "metadata": {
    "collapsed": false
   },
   "outputs": [
    {
     "data": {
      "text/plain": [
       "{'A,0.250,<M2,d-4>': 32,\n",
       " 'A,0.250,<M3,d-3>': 17,\n",
       " 'A,0.250,<P-4,d-8>': 44,\n",
       " 'A,0.250,<P1,d-5>': 66,\n",
       " 'A,0.250,<P4,m-2>': 47,\n",
       " 'A,0.250,<d4,M-2>': 29,\n",
       " 'A,0.250,<d5,P1>': 72,\n",
       " 'A,0.250,<m-2,d-6>': 26,\n",
       " 'A,0.250,<m2,P-4>': 76,\n",
       " 'A,0.333,<A4,d-2>': 61,\n",
       " 'A,0.333,<M2,d-4>': 20,\n",
       " 'A,0.333,<P1,d-5>': 52,\n",
       " 'C,0.250': 39,\n",
       " 'C,0.250,<A-4,P-8>': 40,\n",
       " 'C,0.250,<A4,d-2>': 63,\n",
       " 'C,0.250,<M-2,m-6>': 41,\n",
       " 'C,0.250,<M2,d-4>': 45,\n",
       " 'C,0.250,<M3,d-3>': 35,\n",
       " 'C,0.250,<P-4,d-8>': 48,\n",
       " 'C,0.250,<P1,d-5>': 0,\n",
       " 'C,0.250,<P11,M7>': 70,\n",
       " 'C,0.250,<P4,m-2>': 8,\n",
       " 'C,0.250,<P5,A1>': 74,\n",
       " 'C,0.250,<d1,P-5>': 15,\n",
       " 'C,0.250,<d2,A-4>': 16,\n",
       " 'C,0.250,<d3,M-3>': 6,\n",
       " 'C,0.250,<d4,M-2>': 1,\n",
       " 'C,0.250,<d5,P1>': 5,\n",
       " 'C,0.250,<d6,m2>': 34,\n",
       " 'C,0.250,<dd5,d1>': 51,\n",
       " 'C,0.250,<m-2,d-6>': 71,\n",
       " 'C,0.250,<m2,P-4>': 49,\n",
       " 'C,0.250,<m3,m-3>': 18,\n",
       " 'C,0.250,<m7,M3>': 64,\n",
       " 'C,0.333,<A4,d-2>': 13,\n",
       " 'C,0.333,<M2,d-4>': 62,\n",
       " 'C,0.333,<P1,d-5>': 9,\n",
       " 'C,0.333,<P5,A1>': 14,\n",
       " 'C,0.333,<d1,P-5>': 59,\n",
       " 'C,0.333,<m2,P-4>': 46,\n",
       " 'C,0.333,<m3,m-3>': 65,\n",
       " 'C,0.333,<m7,M3>': 27,\n",
       " 'C,0.500': 2,\n",
       " 'C,0.500,<P4,m-2>': 37,\n",
       " 'C,0.500,<m2,P-4>': 43,\n",
       " 'C,0.500,<m6,M2>': 22,\n",
       " 'C,0.667,<M2,d-4>': 69,\n",
       " 'C,0.667,<d6,m2>': 67,\n",
       " 'C,0.750,<m3,m-3>': 31,\n",
       " 'S,0.250': 55,\n",
       " 'S,0.250,<A4,d-2>': 19,\n",
       " 'S,0.250,<M-2,m-6>': 53,\n",
       " 'S,0.250,<P1,d-5>': 50,\n",
       " 'S,0.250,<P4,m-2>': 3,\n",
       " 'S,0.250,<P5,A1>': 12,\n",
       " 'S,0.250,<d1,P-5>': 21,\n",
       " 'S,0.250,<d2,A-4>': 4,\n",
       " 'S,0.250,<d4,M-2>': 30,\n",
       " 'S,0.250,<d5,P1>': 42,\n",
       " 'S,0.250,<d6,m2>': 75,\n",
       " 'S,0.250,<dd5,d1>': 11,\n",
       " 'S,0.250,<m2,P-4>': 73,\n",
       " 'S,0.250,<m3,m-3>': 25,\n",
       " 'S,0.333': 23,\n",
       " 'S,0.333,<d1,P-5>': 36,\n",
       " 'S,0.333,<d7,m3>': 54,\n",
       " 'S,0.333,<m2,P-4>': 58,\n",
       " 'S,0.500,<d1,P-5>': 10,\n",
       " 'S,0.500,<m7,M3>': 77,\n",
       " 'S,0.667,<d5,P1>': 56,\n",
       " 'S,0.667,<m3,m-3>': 68,\n",
       " 'S,0.750,<d5,P1>': 28,\n",
       " 'S,0.750,<m3,m-3>': 33,\n",
       " 'X,0.250,<A4,d-2>': 38,\n",
       " 'X,0.250,<M-2,m-6>': 57,\n",
       " 'X,0.250,<d1,P-5>': 7,\n",
       " 'X,0.250,<d2,A-4>': 24,\n",
       " 'X,0.250,<m6,M2>': 60}"
      ]
     },
     "execution_count": 30,
     "metadata": {},
     "output_type": "execute_result"
    }
   ],
   "source": [
    "val_indices"
   ]
  },
  {
   "cell_type": "code",
   "execution_count": 31,
   "metadata": {
    "collapsed": false
   },
   "outputs": [
    {
     "data": {
      "text/plain": [
       "{0: 'C,0.250,<P1,d-5>',\n",
       " 1: 'C,0.250,<d4,M-2>',\n",
       " 2: 'C,0.500',\n",
       " 3: 'S,0.250,<P4,m-2>',\n",
       " 4: 'S,0.250,<d2,A-4>',\n",
       " 5: 'C,0.250,<d5,P1>',\n",
       " 6: 'C,0.250,<d3,M-3>',\n",
       " 7: 'X,0.250,<d1,P-5>',\n",
       " 8: 'C,0.250,<P4,m-2>',\n",
       " 9: 'C,0.333,<P1,d-5>',\n",
       " 10: 'S,0.500,<d1,P-5>',\n",
       " 11: 'S,0.250,<dd5,d1>',\n",
       " 12: 'S,0.250,<P5,A1>',\n",
       " 13: 'C,0.333,<A4,d-2>',\n",
       " 14: 'C,0.333,<P5,A1>',\n",
       " 15: 'C,0.250,<d1,P-5>',\n",
       " 16: 'C,0.250,<d2,A-4>',\n",
       " 17: 'A,0.250,<M3,d-3>',\n",
       " 18: 'C,0.250,<m3,m-3>',\n",
       " 19: 'S,0.250,<A4,d-2>',\n",
       " 20: 'A,0.333,<M2,d-4>',\n",
       " 21: 'S,0.250,<d1,P-5>',\n",
       " 22: 'C,0.500,<m6,M2>',\n",
       " 23: 'S,0.333',\n",
       " 24: 'X,0.250,<d2,A-4>',\n",
       " 25: 'S,0.250,<m3,m-3>',\n",
       " 26: 'A,0.250,<m-2,d-6>',\n",
       " 27: 'C,0.333,<m7,M3>',\n",
       " 28: 'S,0.750,<d5,P1>',\n",
       " 29: 'A,0.250,<d4,M-2>',\n",
       " 30: 'S,0.250,<d4,M-2>',\n",
       " 31: 'C,0.750,<m3,m-3>',\n",
       " 32: 'A,0.250,<M2,d-4>',\n",
       " 33: 'S,0.750,<m3,m-3>',\n",
       " 34: 'C,0.250,<d6,m2>',\n",
       " 35: 'C,0.250,<M3,d-3>',\n",
       " 36: 'S,0.333,<d1,P-5>',\n",
       " 37: 'C,0.500,<P4,m-2>',\n",
       " 38: 'X,0.250,<A4,d-2>',\n",
       " 39: 'C,0.250',\n",
       " 40: 'C,0.250,<A-4,P-8>',\n",
       " 41: 'C,0.250,<M-2,m-6>',\n",
       " 42: 'S,0.250,<d5,P1>',\n",
       " 43: 'C,0.500,<m2,P-4>',\n",
       " 44: 'A,0.250,<P-4,d-8>',\n",
       " 45: 'C,0.250,<M2,d-4>',\n",
       " 46: 'C,0.333,<m2,P-4>',\n",
       " 47: 'A,0.250,<P4,m-2>',\n",
       " 48: 'C,0.250,<P-4,d-8>',\n",
       " 49: 'C,0.250,<m2,P-4>',\n",
       " 50: 'S,0.250,<P1,d-5>',\n",
       " 51: 'C,0.250,<dd5,d1>',\n",
       " 52: 'A,0.333,<P1,d-5>',\n",
       " 53: 'S,0.250,<M-2,m-6>',\n",
       " 54: 'S,0.333,<d7,m3>',\n",
       " 55: 'S,0.250',\n",
       " 56: 'S,0.667,<d5,P1>',\n",
       " 57: 'X,0.250,<M-2,m-6>',\n",
       " 58: 'S,0.333,<m2,P-4>',\n",
       " 59: 'C,0.333,<d1,P-5>',\n",
       " 60: 'X,0.250,<m6,M2>',\n",
       " 61: 'A,0.333,<A4,d-2>',\n",
       " 62: 'C,0.333,<M2,d-4>',\n",
       " 63: 'C,0.250,<A4,d-2>',\n",
       " 64: 'C,0.250,<m7,M3>',\n",
       " 65: 'C,0.333,<m3,m-3>',\n",
       " 66: 'A,0.250,<P1,d-5>',\n",
       " 67: 'C,0.667,<d6,m2>',\n",
       " 68: 'S,0.667,<m3,m-3>',\n",
       " 69: 'C,0.667,<M2,d-4>',\n",
       " 70: 'C,0.250,<P11,M7>',\n",
       " 71: 'C,0.250,<m-2,d-6>',\n",
       " 72: 'A,0.250,<d5,P1>',\n",
       " 73: 'S,0.250,<m2,P-4>',\n",
       " 74: 'C,0.250,<P5,A1>',\n",
       " 75: 'S,0.250,<d6,m2>',\n",
       " 76: 'A,0.250,<m2,P-4>',\n",
       " 77: 'S,0.500,<m7,M3>'}"
      ]
     },
     "execution_count": 31,
     "metadata": {},
     "output_type": "execute_result"
    }
   ],
   "source": [
    "indices_val"
   ]
  },
  {
   "cell_type": "code",
   "execution_count": 33,
   "metadata": {
    "collapsed": false
   },
   "outputs": [
    {
     "data": {
      "text/plain": [
       "['C,0.500 C,0.333,<P1,d-5> C,0.250,<M-2,m-6> C,0.250,<M3,d-3> C,0.250,<d6,m2> C,0.250,<d5,P1> C,0.667,<M2,d-4> C,0.250,<d1,P-5> C,0.250,<P-4,d-8> S,0.250,<d4,M-2> S,0.250,<P5,A1> C,0.250,<d5,P1>',\n",
       " 'C,0.500 S,0.250,<m2,P-4> C,0.250,<P4,m-2> A,0.250,<P4,m-2> S,0.500,<d1,P-5> C,0.250,<P1,d-5> C,0.250,<m2,P-4> A,0.250,<m2,P-4> C,0.250,<M2,d-4> A,0.250,<d4,M-2> C,0.250,<P4,m-2> C,0.250,<P4,m-2>',\n",
       " 'C,0.250 C,0.250,<d2,A-4> A,0.250,<m-2,d-6> C,0.250,<d3,M-3> A,0.250,<M3,d-3> C,0.250,<d6,m2> C,0.250,<A4,d-2> C,0.250,<d3,M-3> C,0.250,<m2,P-4> A,0.250,<m2,P-4> S,0.250,<P1,d-5> C,0.250,<m2,P-4> C,0.250,<P1,d-5> C,0.250,<m2,P-4> A,0.250,<m2,P-4>',\n",
       " 'C,0.250 S,0.250,<d6,m2> X,0.250,<A4,d-2> S,0.250,<dd5,d1> C,0.250,<P4,m-2> C,0.250,<M3,d-3> C,0.250,<dd5,d1> S,0.250,<P4,m-2> C,0.250,<P4,m-2> C,0.250,<M3,d-3> C,0.250,<dd5,d1> A,0.250,<M3,d-3>',\n",
       " 'C,0.500 A,0.333,<M2,d-4> C,0.250,<d4,M-2> A,0.333,<M2,d-4> C,0.250,<m2,P-4> C,0.250,<A-4,P-8> C,0.250,<P4,m-2> A,0.250,<P4,m-2> S,0.250,<d5,P1> A,0.333,<P1,d-5> C,0.250,<d4,M-2> C,0.250,<P5,A1>',\n",
       " 'C,0.250 S,0.250,<d4,M-2> A,0.250,<m-2,d-6> C,0.250,<d5,P1> A,0.250,<P1,d-5> C,0.250,<d5,P1> C,0.250,<d1,P-5> A,0.333,<A4,d-2>',\n",
       " 'S,0.333 C,0.500,<m2,P-4> S,0.250,<P1,d-5> C,0.250,<m2,P-4> C,0.250,<P4,m-2> C,0.250,<m3,m-3> S,0.250,<m2,P-4> C,0.500,<m6,M2> C,0.250,<P1,d-5> C,0.250,<m7,M3> C,0.250,<d4,M-2>',\n",
       " 'C,0.250 C,0.333,<d1,P-5> S,0.250,<M-2,m-6> C,0.250,<P11,M7> C,0.250,<M-2,m-6> S,0.333,<d7,m3> C,0.667,<M2,d-4>',\n",
       " 'C,0.250 C,0.250,<d5,P1> C,0.250,<m7,M3> C,0.250,<m2,P-4> C,0.250,<P5,A1> C,0.750,<m3,m-3>',\n",
       " 'S,0.250 C,0.250,<m2,P-4> C,0.250,<M2,d-4> C,0.250,<m2,P-4> A,0.250,<M2,d-4> A,0.250,<m2,P-4> C,0.250,<m2,P-4> A,0.333,<M2,d-4> C,0.250,<d3,M-3> X,0.250,<d1,P-5> S,0.250,<A4,d-2> S,0.250,<d1,P-5>',\n",
       " 'C,0.250 C,0.250,<P1,d-5> C,0.333,<m3,m-3> S,0.333,<m2,P-4> C,0.333,<m2,P-4> C,0.250,<m3,m-3> C,0.250,<P1,d-5> C,0.333,<m3,m-3> C,0.250,<d5,P1> C,0.250,<P5,A1>',\n",
       " 'S,0.250 S,0.250,<P1,d-5> C,0.333,<m7,M3> S,0.333,<d1,P-5> S,0.500,<m7,M3> C,0.250,<P1,d-5> S,0.250,<m3,m-3> A,0.250,<P-4,d-8> C,0.250,<d4,M-2> C,0.250,<d5,P1> C,0.250,<P5,A1>',\n",
       " 'S,0.250 S,0.250,<d1,P-5> S,0.750,<m3,m-3> C,0.250,<P1,d-5> S,0.750,<d5,P1> C,0.250,<P1,d-5> C,0.250,<m3,m-3> S,0.250,<d5,P1> C,0.250,<P4,m-2> C,0.250,<d5,P1>',\n",
       " 'C,0.500 C,0.250,<d4,M-2> C,0.333,<M2,d-4> S,0.250,<d1,P-5> C,0.333,<P5,A1> S,0.250,<d1,P-5> C,0.333,<m3,m-3> C,0.250,<P1,d-5>',\n",
       " 'S,0.333 S,0.250,<d1,P-5> C,0.250,<P1,d-5> S,0.500,<m7,M3> S,0.250,<d1,P-5> C,0.250,<P4,m-2> C,0.250,<m3,m-3> C,0.250,<m-2,d-6> C,0.250,<d2,A-4> C,0.250,<P4,m-2> S,0.667,<d5,P1> C,0.250,<P1,d-5>',\n",
       " 'C,0.250 X,0.250,<A4,d-2> C,0.250,<d2,A-4> S,0.250,<P4,m-2> A,0.250,<P1,d-5> A,0.250,<P4,m-2> S,0.250,<d2,A-4> C,0.250,<P4,m-2> X,0.250,<A4,d-2> C,0.250,<d2,A-4> C,0.250,<m-2,d-6> A,0.250,<d5,P1> C,0.250,<d1,P-5> S,0.250,<d5,P1> A,0.250,<m-2,d-6> A,0.250,<d5,P1> S,0.250,<d1,P-5> C,0.250,<P4,m-2> A,0.250,<P1,d-5>',\n",
       " 'C,0.500 C,0.250,<P4,m-2> C,0.250,<M3,d-3> S,0.250,<dd5,d1> C,0.500,<P4,m-2> C,0.333,<A4,d-2> C,0.667,<d6,m2> C,0.500,<m2,P-4>',\n",
       " 'S,0.250 S,0.667,<m3,m-3> C,0.250,<M3,d-3> X,0.250,<d2,A-4> X,0.250,<m6,M2> X,0.250,<M-2,m-6> C,0.250,<m7,M3> S,0.250,<P4,m-2>']"
      ]
     },
     "execution_count": 33,
     "metadata": {},
     "output_type": "execute_result"
    }
   ],
   "source": [
    "abstract_grammars"
   ]
  },
  {
   "cell_type": "code",
   "execution_count": null,
   "metadata": {
    "collapsed": true
   },
   "outputs": [],
   "source": [
    "print('corpus length:', len(corpus))\n",
    "print('total # of values:', len(values))"
   ]
  }
 ],
 "metadata": {
  "anaconda-cloud": {},
  "kernelspec": {
   "display_name": "Python [default]",
   "language": "python",
   "name": "python3"
  },
  "language_info": {
   "codemirror_mode": {
    "name": "ipython",
    "version": 3
   },
   "file_extension": ".py",
   "mimetype": "text/x-python",
   "name": "python",
   "nbconvert_exporter": "python",
   "pygments_lexer": "ipython3",
   "version": "3.5.2"
  }
 },
 "nbformat": 4,
 "nbformat_minor": 2
}
