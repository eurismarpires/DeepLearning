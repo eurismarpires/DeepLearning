{
 "cells": [
  {
   "cell_type": "code",
   "execution_count": 2,
   "metadata": {
    "collapsed": true
   },
   "outputs": [],
   "source": [
    "import midi\n",
    "import glob"
   ]
  },
  {
   "cell_type": "code",
   "execution_count": 43,
   "metadata": {
    "collapsed": true
   },
   "outputs": [],
   "source": [
    "files = glob.glob('/home/eurismar/notebooks/Music_Generator_Demo/Pop_Music_Midi/*.midi')"
   ]
  },
  {
   "cell_type": "code",
   "execution_count": 49,
   "metadata": {},
   "outputs": [],
   "source": [
    "midifile = files[0]"
   ]
  },
  {
   "cell_type": "code",
   "execution_count": 50,
   "metadata": {},
   "outputs": [
    {
     "data": {
      "text/plain": [
       "'/home/eurismar/notebooks/Music_Generator_Demo/Pop_Music_Midi/Blank Space - Verse.midi'"
      ]
     },
     "execution_count": 50,
     "metadata": {},
     "output_type": "execute_result"
    }
   ],
   "source": [
    "midifile"
   ]
  },
  {
   "cell_type": "code",
   "execution_count": 51,
   "metadata": {
    "collapsed": true
   },
   "outputs": [],
   "source": [
    "pattern = midi.read_midifile(midifile)"
   ]
  },
  {
   "cell_type": "code",
   "execution_count": 52,
   "metadata": {},
   "outputs": [
    {
     "data": {
      "text/plain": [
       "midi.Pattern(format=1, resolution=128, tracks=\\\n",
       "[midi.Track(\\\n",
       "  [midi.SetTempoEvent(tick=0, data=[7, 161, 32]),\n",
       "   midi.TrackNameEvent(tick=0, text='\\x00', data=[0]),\n",
       "   midi.TimeSignatureEvent(tick=0, data=[4, 2, 24, 8]),\n",
       "   midi.KeySignatureEvent(tick=0, data=[0, 0]),\n",
       "   midi.ProgramChangeEvent(tick=0, channel=0, data=[1]),\n",
       "   midi.NoteOnEvent(tick=128, channel=1, data=[60, 102]),\n",
       "   midi.NoteOffEvent(tick=31, channel=1, data=[60, 90]),\n",
       "   midi.NoteOnEvent(tick=1, channel=1, data=[60, 102]),\n",
       "   midi.NoteOffEvent(tick=31, channel=1, data=[60, 90]),\n",
       "   midi.NoteOnEvent(tick=65, channel=1, data=[60, 102]),\n",
       "   midi.NoteOffEvent(tick=31, channel=1, data=[60, 90]),\n",
       "   midi.NoteOnEvent(tick=1, channel=1, data=[60, 102]),\n",
       "   midi.NoteOffEvent(tick=31, channel=1, data=[60, 90]),\n",
       "   midi.NoteOnEvent(tick=65, channel=1, data=[60, 102]),\n",
       "   midi.NoteOffEvent(tick=31, channel=1, data=[60, 90]),\n",
       "   midi.NoteOnEvent(tick=1, channel=1, data=[60, 102]),\n",
       "   midi.NoteOffEvent(tick=31, channel=1, data=[60, 90]),\n",
       "   midi.NoteOnEvent(tick=65, channel=1, data=[60, 102]),\n",
       "   midi.NoteOffEvent(tick=126, channel=1, data=[60, 90]),\n",
       "   midi.NoteOnEvent(tick=2, channel=1, data=[64, 102]),\n",
       "   midi.NoteOffEvent(tick=31, channel=1, data=[64, 90]),\n",
       "   midi.NoteOnEvent(tick=1, channel=1, data=[64, 102]),\n",
       "   midi.NoteOffEvent(tick=63, channel=1, data=[64, 90]),\n",
       "   midi.NoteOnEvent(tick=1, channel=1, data=[64, 102]),\n",
       "   midi.NoteOffEvent(tick=63, channel=1, data=[64, 90]),\n",
       "   midi.NoteOnEvent(tick=1, channel=1, data=[62, 102]),\n",
       "   midi.NoteOffEvent(tick=63, channel=1, data=[62, 90]),\n",
       "   midi.NoteOnEvent(tick=1, channel=1, data=[60, 102]),\n",
       "   midi.NoteOffEvent(tick=31, channel=1, data=[60, 90]),\n",
       "   midi.NoteOnEvent(tick=1, channel=1, data=[62, 102]),\n",
       "   midi.NoteOffEvent(tick=31, channel=1, data=[62, 90]),\n",
       "   midi.NoteOnEvent(tick=1, channel=1, data=[60, 102]),\n",
       "   midi.NoteOffEvent(tick=31, channel=1, data=[60, 90]),\n",
       "   midi.NoteOnEvent(tick=1, channel=1, data=[62, 102]),\n",
       "   midi.NoteOffEvent(tick=63, channel=1, data=[62, 90]),\n",
       "   midi.NoteOnEvent(tick=1, channel=1, data=[57, 102]),\n",
       "   midi.NoteOffEvent(tick=63, channel=1, data=[57, 90]),\n",
       "   midi.NoteOnEvent(tick=65, channel=1, data=[60, 102]),\n",
       "   midi.NoteOffEvent(tick=31, channel=1, data=[60, 90]),\n",
       "   midi.NoteOnEvent(tick=1, channel=1, data=[60, 102]),\n",
       "   midi.NoteOffEvent(tick=31, channel=1, data=[60, 90]),\n",
       "   midi.NoteOnEvent(tick=65, channel=1, data=[60, 102]),\n",
       "   midi.NoteOffEvent(tick=31, channel=1, data=[60, 90]),\n",
       "   midi.NoteOnEvent(tick=1, channel=1, data=[60, 102]),\n",
       "   midi.NoteOffEvent(tick=31, channel=1, data=[60, 90]),\n",
       "   midi.NoteOnEvent(tick=65, channel=1, data=[60, 102]),\n",
       "   midi.NoteOffEvent(tick=31, channel=1, data=[60, 90]),\n",
       "   midi.NoteOnEvent(tick=1, channel=1, data=[60, 102]),\n",
       "   midi.NoteOffEvent(tick=31, channel=1, data=[60, 90]),\n",
       "   midi.NoteOnEvent(tick=65, channel=1, data=[60, 102]),\n",
       "   midi.NoteOffEvent(tick=126, channel=1, data=[60, 90]),\n",
       "   midi.NoteOnEvent(tick=2, channel=1, data=[64, 102]),\n",
       "   midi.NoteOffEvent(tick=31, channel=1, data=[64, 90]),\n",
       "   midi.NoteOnEvent(tick=1, channel=1, data=[64, 102]),\n",
       "   midi.NoteOffEvent(tick=63, channel=1, data=[64, 90]),\n",
       "   midi.NoteOnEvent(tick=1, channel=1, data=[64, 102]),\n",
       "   midi.NoteOffEvent(tick=95, channel=1, data=[64, 90]),\n",
       "   midi.NoteOnEvent(tick=1, channel=1, data=[64, 102]),\n",
       "   midi.NoteOffEvent(tick=31, channel=1, data=[64, 90]),\n",
       "   midi.NoteOnEvent(tick=1, channel=1, data=[62, 102]),\n",
       "   midi.NoteOffEvent(tick=63, channel=1, data=[62, 90]),\n",
       "   midi.NoteOnEvent(tick=1, channel=1, data=[60, 102]),\n",
       "   midi.NoteOffEvent(tick=63, channel=1, data=[60, 90]),\n",
       "   midi.NoteOnEvent(tick=33, channel=1, data=[53, 102]),\n",
       "   midi.NoteOffEvent(tick=63, channel=1, data=[53, 90]),\n",
       "   midi.NoteOnEvent(tick=1, channel=1, data=[60, 102]),\n",
       "   midi.NoteOffEvent(tick=63, channel=1, data=[60, 90]),\n",
       "   midi.NoteOnEvent(tick=1, channel=1, data=[60, 102]),\n",
       "   midi.NoteOffEvent(tick=63, channel=1, data=[60, 90]),\n",
       "   midi.NoteOnEvent(tick=65, channel=1, data=[53, 102]),\n",
       "   midi.NoteOffEvent(tick=31, channel=1, data=[53, 90]),\n",
       "   midi.NoteOnEvent(tick=1, channel=1, data=[64, 102]),\n",
       "   midi.NoteOffEvent(tick=31, channel=1, data=[64, 90]),\n",
       "   midi.NoteOnEvent(tick=1, channel=1, data=[64, 102]),\n",
       "   midi.NoteOffEvent(tick=31, channel=1, data=[64, 90]),\n",
       "   midi.NoteOnEvent(tick=1, channel=1, data=[64, 102]),\n",
       "   midi.NoteOffEvent(tick=126, channel=1, data=[64, 90]),\n",
       "   midi.NoteOnEvent(tick=34, channel=1, data=[53, 102]),\n",
       "   midi.NoteOffEvent(tick=63, channel=1, data=[53, 90]),\n",
       "   midi.NoteOnEvent(tick=1, channel=1, data=[60, 102]),\n",
       "   midi.NoteOffEvent(tick=63, channel=1, data=[60, 90]),\n",
       "   midi.NoteOnEvent(tick=1, channel=1, data=[60, 102]),\n",
       "   midi.NoteOffEvent(tick=63, channel=1, data=[60, 90]),\n",
       "   midi.NoteOnEvent(tick=33, channel=1, data=[53, 102]),\n",
       "   midi.NoteOffEvent(tick=31, channel=1, data=[53, 90]),\n",
       "   midi.NoteOnEvent(tick=1, channel=1, data=[53, 102]),\n",
       "   midi.NoteOffEvent(tick=31, channel=1, data=[53, 90]),\n",
       "   midi.NoteOnEvent(tick=1, channel=1, data=[64, 102]),\n",
       "   midi.NoteOffEvent(tick=31, channel=1, data=[64, 90]),\n",
       "   midi.NoteOnEvent(tick=1, channel=1, data=[64, 102]),\n",
       "   midi.NoteOffEvent(tick=31, channel=1, data=[64, 90]),\n",
       "   midi.NoteOnEvent(tick=1, channel=1, data=[64, 102]),\n",
       "   midi.NoteOffEvent(tick=126, channel=1, data=[64, 90]),\n",
       "   midi.NoteOnEvent(tick=34, channel=1, data=[55, 102]),\n",
       "   midi.NoteOffEvent(tick=63, channel=1, data=[55, 90]),\n",
       "   midi.NoteOnEvent(tick=1, channel=1, data=[60, 102]),\n",
       "   midi.NoteOffEvent(tick=63, channel=1, data=[60, 90]),\n",
       "   midi.NoteOnEvent(tick=1, channel=1, data=[60, 102]),\n",
       "   midi.NoteOffEvent(tick=63, channel=1, data=[60, 90]),\n",
       "   midi.NoteOnEvent(tick=65, channel=1, data=[55, 102]),\n",
       "   midi.NoteOffEvent(tick=31, channel=1, data=[55, 90]),\n",
       "   midi.NoteOnEvent(tick=1, channel=1, data=[60, 102]),\n",
       "   midi.NoteOffEvent(tick=31, channel=1, data=[60, 90]),\n",
       "   midi.NoteOnEvent(tick=1, channel=1, data=[64, 102]),\n",
       "   midi.NoteOffEvent(tick=126, channel=1, data=[64, 90]),\n",
       "   midi.NoteOnEvent(tick=2, channel=1, data=[65, 102]),\n",
       "   midi.NoteOffEvent(tick=31, channel=1, data=[65, 90]),\n",
       "   midi.NoteOnEvent(tick=1, channel=1, data=[64, 102]),\n",
       "   midi.NoteOffEvent(tick=31, channel=1, data=[64, 90]),\n",
       "   midi.NoteOnEvent(tick=1, channel=1, data=[62, 102]),\n",
       "   midi.NoteOffEvent(tick=253, channel=1, data=[62, 90]),\n",
       "   midi.NoteOnEvent(tick=67, channel=1, data=[62, 102]),\n",
       "   midi.NoteOffEvent(tick=63, channel=1, data=[62, 90]),\n",
       "   midi.EndOfTrackEvent(tick=0, data=[])]),\n",
       " midi.Track(\\\n",
       "  [midi.SetTempoEvent(tick=0, data=[7, 161, 32]),\n",
       "   midi.TrackNameEvent(tick=0, text='\\x00', data=[0]),\n",
       "   midi.TimeSignatureEvent(tick=0, data=[4, 2, 24, 8]),\n",
       "   midi.KeySignatureEvent(tick=0, data=[0, 0]),\n",
       "   midi.ProgramChangeEvent(tick=0, channel=0, data=[2]),\n",
       "   midi.NoteOnEvent(tick=0, channel=2, data=[64, 81]),\n",
       "   midi.NoteOnEvent(tick=0, channel=2, data=[67, 81]),\n",
       "   midi.NoteOnEvent(tick=0, channel=2, data=[60, 81]),\n",
       "   midi.NoteOffEvent(tick=126, channel=2, data=[60, 90]),\n",
       "   midi.NoteOffEvent(tick=0, channel=2, data=[64, 90]),\n",
       "   midi.NoteOffEvent(tick=0, channel=2, data=[67, 90]),\n",
       "   midi.NoteOnEvent(tick=2, channel=2, data=[60, 31]),\n",
       "   midi.NoteOnEvent(tick=0, channel=2, data=[67, 31]),\n",
       "   midi.NoteOnEvent(tick=0, channel=2, data=[64, 31]),\n",
       "   midi.NoteOffEvent(tick=126, channel=2, data=[60, 90]),\n",
       "   midi.NoteOffEvent(tick=0, channel=2, data=[64, 90]),\n",
       "   midi.NoteOffEvent(tick=0, channel=2, data=[67, 90]),\n",
       "   midi.NoteOnEvent(tick=2, channel=2, data=[60, 59]),\n",
       "   midi.NoteOnEvent(tick=0, channel=2, data=[67, 59]),\n",
       "   midi.NoteOnEvent(tick=0, channel=2, data=[64, 59]),\n",
       "   midi.NoteOffEvent(tick=126, channel=2, data=[60, 90]),\n",
       "   midi.NoteOffEvent(tick=0, channel=2, data=[64, 90]),\n",
       "   midi.NoteOffEvent(tick=0, channel=2, data=[67, 90]),\n",
       "   midi.NoteOnEvent(tick=2, channel=2, data=[60, 31]),\n",
       "   midi.NoteOnEvent(tick=0, channel=2, data=[67, 31]),\n",
       "   midi.NoteOnEvent(tick=0, channel=2, data=[64, 31]),\n",
       "   midi.NoteOffEvent(tick=126, channel=2, data=[60, 90]),\n",
       "   midi.NoteOffEvent(tick=0, channel=2, data=[64, 90]),\n",
       "   midi.NoteOffEvent(tick=0, channel=2, data=[67, 90]),\n",
       "   midi.NoteOnEvent(tick=2, channel=2, data=[60, 59]),\n",
       "   midi.NoteOnEvent(tick=0, channel=2, data=[67, 59]),\n",
       "   midi.NoteOnEvent(tick=0, channel=2, data=[64, 59]),\n",
       "   midi.NoteOffEvent(tick=126, channel=2, data=[60, 90]),\n",
       "   midi.NoteOffEvent(tick=0, channel=2, data=[64, 90]),\n",
       "   midi.NoteOffEvent(tick=0, channel=2, data=[67, 90]),\n",
       "   midi.NoteOnEvent(tick=2, channel=2, data=[60, 31]),\n",
       "   midi.NoteOnEvent(tick=0, channel=2, data=[67, 31]),\n",
       "   midi.NoteOnEvent(tick=0, channel=2, data=[64, 31]),\n",
       "   midi.NoteOffEvent(tick=126, channel=2, data=[60, 90]),\n",
       "   midi.NoteOffEvent(tick=0, channel=2, data=[64, 90]),\n",
       "   midi.NoteOffEvent(tick=0, channel=2, data=[67, 90]),\n",
       "   midi.NoteOnEvent(tick=2, channel=2, data=[60, 59]),\n",
       "   midi.NoteOnEvent(tick=0, channel=2, data=[67, 59]),\n",
       "   midi.NoteOnEvent(tick=0, channel=2, data=[64, 59]),\n",
       "   midi.NoteOffEvent(tick=126, channel=2, data=[60, 90]),\n",
       "   midi.NoteOffEvent(tick=0, channel=2, data=[64, 90]),\n",
       "   midi.NoteOffEvent(tick=0, channel=2, data=[67, 90]),\n",
       "   midi.NoteOnEvent(tick=2, channel=2, data=[60, 31]),\n",
       "   midi.NoteOnEvent(tick=0, channel=2, data=[67, 31]),\n",
       "   midi.NoteOnEvent(tick=0, channel=2, data=[64, 31]),\n",
       "   midi.NoteOffEvent(tick=126, channel=2, data=[60, 90]),\n",
       "   midi.NoteOffEvent(tick=0, channel=2, data=[64, 90]),\n",
       "   midi.NoteOffEvent(tick=0, channel=2, data=[67, 90]),\n",
       "   midi.NoteOnEvent(tick=2, channel=2, data=[57, 81]),\n",
       "   midi.NoteOnEvent(tick=0, channel=2, data=[64, 81]),\n",
       "   midi.NoteOnEvent(tick=0, channel=2, data=[60, 81]),\n",
       "   midi.NoteOffEvent(tick=126, channel=2, data=[57, 90]),\n",
       "   midi.NoteOffEvent(tick=0, channel=2, data=[60, 90]),\n",
       "   midi.NoteOffEvent(tick=0, channel=2, data=[64, 90]),\n",
       "   midi.NoteOnEvent(tick=2, channel=2, data=[57, 31]),\n",
       "   midi.NoteOnEvent(tick=0, channel=2, data=[64, 31]),\n",
       "   midi.NoteOnEvent(tick=0, channel=2, data=[60, 31]),\n",
       "   midi.NoteOffEvent(tick=126, channel=2, data=[57, 90]),\n",
       "   midi.NoteOffEvent(tick=0, channel=2, data=[60, 90]),\n",
       "   midi.NoteOffEvent(tick=0, channel=2, data=[64, 90]),\n",
       "   midi.NoteOnEvent(tick=2, channel=2, data=[57, 59]),\n",
       "   midi.NoteOnEvent(tick=0, channel=2, data=[64, 59]),\n",
       "   midi.NoteOnEvent(tick=0, channel=2, data=[60, 59]),\n",
       "   midi.NoteOffEvent(tick=126, channel=2, data=[57, 90]),\n",
       "   midi.NoteOffEvent(tick=0, channel=2, data=[60, 90]),\n",
       "   midi.NoteOffEvent(tick=0, channel=2, data=[64, 90]),\n",
       "   midi.NoteOnEvent(tick=2, channel=2, data=[57, 31]),\n",
       "   midi.NoteOnEvent(tick=0, channel=2, data=[64, 31]),\n",
       "   midi.NoteOnEvent(tick=0, channel=2, data=[60, 31]),\n",
       "   midi.NoteOffEvent(tick=126, channel=2, data=[57, 90]),\n",
       "   midi.NoteOffEvent(tick=0, channel=2, data=[60, 90]),\n",
       "   midi.NoteOffEvent(tick=0, channel=2, data=[64, 90]),\n",
       "   midi.NoteOnEvent(tick=2, channel=2, data=[57, 59]),\n",
       "   midi.NoteOnEvent(tick=0, channel=2, data=[64, 59]),\n",
       "   midi.NoteOnEvent(tick=0, channel=2, data=[60, 59]),\n",
       "   midi.NoteOffEvent(tick=126, channel=2, data=[57, 90]),\n",
       "   midi.NoteOffEvent(tick=0, channel=2, data=[60, 90]),\n",
       "   midi.NoteOffEvent(tick=0, channel=2, data=[64, 90]),\n",
       "   midi.NoteOnEvent(tick=2, channel=2, data=[57, 31]),\n",
       "   midi.NoteOnEvent(tick=0, channel=2, data=[64, 31]),\n",
       "   midi.NoteOnEvent(tick=0, channel=2, data=[60, 31]),\n",
       "   midi.NoteOffEvent(tick=126, channel=2, data=[57, 90]),\n",
       "   midi.NoteOffEvent(tick=0, channel=2, data=[60, 90]),\n",
       "   midi.NoteOffEvent(tick=0, channel=2, data=[64, 90]),\n",
       "   midi.NoteOnEvent(tick=2, channel=2, data=[57, 59]),\n",
       "   midi.NoteOnEvent(tick=0, channel=2, data=[64, 59]),\n",
       "   midi.NoteOnEvent(tick=0, channel=2, data=[60, 59]),\n",
       "   midi.NoteOffEvent(tick=126, channel=2, data=[57, 90]),\n",
       "   midi.NoteOffEvent(tick=0, channel=2, data=[60, 90]),\n",
       "   midi.NoteOffEvent(tick=0, channel=2, data=[64, 90]),\n",
       "   midi.NoteOnEvent(tick=2, channel=2, data=[57, 31]),\n",
       "   midi.NoteOnEvent(tick=0, channel=2, data=[64, 31]),\n",
       "   midi.NoteOnEvent(tick=0, channel=2, data=[60, 31]),\n",
       "   midi.NoteOffEvent(tick=126, channel=2, data=[57, 90]),\n",
       "   midi.NoteOffEvent(tick=0, channel=2, data=[60, 90]),\n",
       "   midi.NoteOffEvent(tick=0, channel=2, data=[64, 90]),\n",
       "   midi.NoteOnEvent(tick=2, channel=2, data=[57, 81]),\n",
       "   midi.NoteOnEvent(tick=0, channel=2, data=[65, 81]),\n",
       "   midi.NoteOnEvent(tick=0, channel=2, data=[60, 81]),\n",
       "   midi.NoteOffEvent(tick=126, channel=2, data=[57, 90]),\n",
       "   midi.NoteOffEvent(tick=0, channel=2, data=[60, 90]),\n",
       "   midi.NoteOffEvent(tick=0, channel=2, data=[65, 90]),\n",
       "   midi.NoteOnEvent(tick=2, channel=2, data=[57, 31]),\n",
       "   midi.NoteOnEvent(tick=0, channel=2, data=[65, 31]),\n",
       "   midi.NoteOnEvent(tick=0, channel=2, data=[60, 31]),\n",
       "   midi.NoteOffEvent(tick=126, channel=2, data=[57, 90]),\n",
       "   midi.NoteOffEvent(tick=0, channel=2, data=[60, 90]),\n",
       "   midi.NoteOffEvent(tick=0, channel=2, data=[65, 90]),\n",
       "   midi.NoteOnEvent(tick=2, channel=2, data=[57, 59]),\n",
       "   midi.NoteOnEvent(tick=0, channel=2, data=[65, 59]),\n",
       "   midi.NoteOnEvent(tick=0, channel=2, data=[60, 59]),\n",
       "   midi.NoteOffEvent(tick=126, channel=2, data=[57, 90]),\n",
       "   midi.NoteOffEvent(tick=0, channel=2, data=[60, 90]),\n",
       "   midi.NoteOffEvent(tick=0, channel=2, data=[65, 90]),\n",
       "   midi.NoteOnEvent(tick=2, channel=2, data=[57, 31]),\n",
       "   midi.NoteOnEvent(tick=0, channel=2, data=[65, 31]),\n",
       "   midi.NoteOnEvent(tick=0, channel=2, data=[60, 31]),\n",
       "   midi.NoteOffEvent(tick=126, channel=2, data=[57, 90]),\n",
       "   midi.NoteOffEvent(tick=0, channel=2, data=[60, 90]),\n",
       "   midi.NoteOffEvent(tick=0, channel=2, data=[65, 90]),\n",
       "   midi.NoteOnEvent(tick=2, channel=2, data=[57, 59]),\n",
       "   midi.NoteOnEvent(tick=0, channel=2, data=[65, 59]),\n",
       "   midi.NoteOnEvent(tick=0, channel=2, data=[60, 59]),\n",
       "   midi.NoteOffEvent(tick=126, channel=2, data=[57, 90]),\n",
       "   midi.NoteOffEvent(tick=0, channel=2, data=[60, 90]),\n",
       "   midi.NoteOffEvent(tick=0, channel=2, data=[65, 90]),\n",
       "   midi.NoteOnEvent(tick=2, channel=2, data=[57, 31]),\n",
       "   midi.NoteOnEvent(tick=0, channel=2, data=[65, 31]),\n",
       "   midi.NoteOnEvent(tick=0, channel=2, data=[60, 31]),\n",
       "   midi.NoteOffEvent(tick=126, channel=2, data=[57, 90]),\n",
       "   midi.NoteOffEvent(tick=0, channel=2, data=[60, 90]),\n",
       "   midi.NoteOffEvent(tick=0, channel=2, data=[65, 90]),\n",
       "   midi.NoteOnEvent(tick=2, channel=2, data=[57, 59]),\n",
       "   midi.NoteOnEvent(tick=0, channel=2, data=[65, 59]),\n",
       "   midi.NoteOnEvent(tick=0, channel=2, data=[60, 59]),\n",
       "   midi.NoteOffEvent(tick=126, channel=2, data=[57, 90]),\n",
       "   midi.NoteOffEvent(tick=0, channel=2, data=[60, 90]),\n",
       "   midi.NoteOffEvent(tick=0, channel=2, data=[65, 90]),\n",
       "   midi.NoteOnEvent(tick=2, channel=2, data=[57, 31]),\n",
       "   midi.NoteOnEvent(tick=0, channel=2, data=[65, 31]),\n",
       "   midi.NoteOnEvent(tick=0, channel=2, data=[60, 31]),\n",
       "   midi.NoteOffEvent(tick=126, channel=2, data=[57, 90]),\n",
       "   midi.NoteOffEvent(tick=0, channel=2, data=[60, 90]),\n",
       "   midi.NoteOffEvent(tick=0, channel=2, data=[65, 90]),\n",
       "   midi.NoteOnEvent(tick=2, channel=2, data=[59, 81]),\n",
       "   midi.NoteOnEvent(tick=0, channel=2, data=[67, 81]),\n",
       "   midi.NoteOnEvent(tick=0, channel=2, data=[62, 81]),\n",
       "   midi.NoteOffEvent(tick=126, channel=2, data=[59, 90]),\n",
       "   midi.NoteOffEvent(tick=0, channel=2, data=[62, 90]),\n",
       "   midi.NoteOffEvent(tick=0, channel=2, data=[67, 90]),\n",
       "   midi.NoteOnEvent(tick=2, channel=2, data=[59, 31]),\n",
       "   midi.NoteOnEvent(tick=0, channel=2, data=[67, 31]),\n",
       "   midi.NoteOnEvent(tick=0, channel=2, data=[62, 31]),\n",
       "   midi.NoteOffEvent(tick=126, channel=2, data=[59, 90]),\n",
       "   midi.NoteOffEvent(tick=0, channel=2, data=[62, 90]),\n",
       "   midi.NoteOffEvent(tick=0, channel=2, data=[67, 90]),\n",
       "   midi.NoteOnEvent(tick=2, channel=2, data=[59, 59]),\n",
       "   midi.NoteOnEvent(tick=0, channel=2, data=[67, 59]),\n",
       "   midi.NoteOnEvent(tick=0, channel=2, data=[62, 59]),\n",
       "   midi.NoteOffEvent(tick=126, channel=2, data=[59, 90]),\n",
       "   midi.NoteOffEvent(tick=0, channel=2, data=[62, 90]),\n",
       "   midi.NoteOffEvent(tick=0, channel=2, data=[67, 90]),\n",
       "   midi.NoteOnEvent(tick=2, channel=2, data=[59, 31]),\n",
       "   midi.NoteOnEvent(tick=0, channel=2, data=[67, 31]),\n",
       "   midi.NoteOnEvent(tick=0, channel=2, data=[62, 31]),\n",
       "   midi.NoteOffEvent(tick=126, channel=2, data=[59, 90]),\n",
       "   midi.NoteOffEvent(tick=0, channel=2, data=[62, 90]),\n",
       "   midi.NoteOffEvent(tick=0, channel=2, data=[67, 90]),\n",
       "   midi.NoteOnEvent(tick=2, channel=2, data=[59, 59]),\n",
       "   midi.NoteOnEvent(tick=0, channel=2, data=[67, 59]),\n",
       "   midi.NoteOnEvent(tick=0, channel=2, data=[62, 59]),\n",
       "   midi.NoteOffEvent(tick=126, channel=2, data=[59, 90]),\n",
       "   midi.NoteOffEvent(tick=0, channel=2, data=[62, 90]),\n",
       "   midi.NoteOffEvent(tick=0, channel=2, data=[67, 90]),\n",
       "   midi.NoteOnEvent(tick=2, channel=2, data=[59, 31]),\n",
       "   midi.NoteOnEvent(tick=0, channel=2, data=[67, 31]),\n",
       "   midi.NoteOnEvent(tick=0, channel=2, data=[62, 31]),\n",
       "   midi.NoteOffEvent(tick=126, channel=2, data=[59, 90]),\n",
       "   midi.NoteOffEvent(tick=0, channel=2, data=[62, 90]),\n",
       "   midi.NoteOffEvent(tick=0, channel=2, data=[67, 90]),\n",
       "   midi.NoteOnEvent(tick=2, channel=2, data=[59, 59]),\n",
       "   midi.NoteOnEvent(tick=0, channel=2, data=[67, 59]),\n",
       "   midi.NoteOnEvent(tick=0, channel=2, data=[62, 59]),\n",
       "   midi.NoteOffEvent(tick=126, channel=2, data=[59, 90]),\n",
       "   midi.NoteOffEvent(tick=0, channel=2, data=[62, 90]),\n",
       "   midi.NoteOffEvent(tick=0, channel=2, data=[67, 90]),\n",
       "   midi.NoteOnEvent(tick=2, channel=2, data=[59, 31]),\n",
       "   midi.NoteOnEvent(tick=0, channel=2, data=[67, 31]),\n",
       "   midi.NoteOnEvent(tick=0, channel=2, data=[62, 31]),\n",
       "   midi.NoteOffEvent(tick=126, channel=2, data=[59, 90]),\n",
       "   midi.NoteOffEvent(tick=0, channel=2, data=[62, 90]),\n",
       "   midi.NoteOffEvent(tick=0, channel=2, data=[67, 90]),\n",
       "   midi.EndOfTrackEvent(tick=0, data=[])]),\n",
       " midi.Track(\\\n",
       "  [midi.SetTempoEvent(tick=0, data=[7, 161, 32]),\n",
       "   midi.TrackNameEvent(tick=0, text='\\x00', data=[0]),\n",
       "   midi.TimeSignatureEvent(tick=0, data=[4, 2, 24, 8]),\n",
       "   midi.KeySignatureEvent(tick=0, data=[0, 0]),\n",
       "   midi.ProgramChangeEvent(tick=0, channel=0, data=[10]),\n",
       "   midi.NoteOnEvent(tick=0, channel=3, data=[48, 81]),\n",
       "   midi.NoteOffEvent(tick=190, channel=3, data=[48, 90]),\n",
       "   midi.NoteOnEvent(tick=2, channel=3, data=[48, 59]),\n",
       "   midi.NoteOffEvent(tick=60, channel=3, data=[48, 90]),\n",
       "   midi.NoteOnEvent(tick=4, channel=3, data=[48, 59]),\n",
       "   midi.NoteOffEvent(tick=180, channel=3, data=[48, 90]),\n",
       "   midi.NoteOnEvent(tick=12, channel=3, data=[48, 59]),\n",
       "   midi.NoteOffEvent(tick=60, channel=3, data=[48, 90]),\n",
       "   midi.NoteOnEvent(tick=4, channel=3, data=[48, 59]),\n",
       "   midi.NoteOffEvent(tick=180, channel=3, data=[48, 90]),\n",
       "   midi.NoteOnEvent(tick=12, channel=3, data=[48, 59]),\n",
       "   midi.NoteOffEvent(tick=60, channel=3, data=[48, 90]),\n",
       "   midi.NoteOnEvent(tick=4, channel=3, data=[48, 59]),\n",
       "   midi.NoteOffEvent(tick=180, channel=3, data=[48, 90]),\n",
       "   midi.NoteOnEvent(tick=12, channel=3, data=[48, 59]),\n",
       "   midi.NoteOffEvent(tick=60, channel=3, data=[48, 90]),\n",
       "   midi.NoteOnEvent(tick=4, channel=3, data=[45, 81]),\n",
       "   midi.NoteOffEvent(tick=190, channel=3, data=[45, 90]),\n",
       "   midi.NoteOnEvent(tick=2, channel=3, data=[45, 59]),\n",
       "   midi.NoteOffEvent(tick=60, channel=3, data=[45, 90]),\n",
       "   midi.NoteOnEvent(tick=4, channel=3, data=[45, 59]),\n",
       "   midi.NoteOffEvent(tick=180, channel=3, data=[45, 90]),\n",
       "   midi.NoteOnEvent(tick=12, channel=3, data=[45, 59]),\n",
       "   midi.NoteOffEvent(tick=60, channel=3, data=[45, 90]),\n",
       "   midi.NoteOnEvent(tick=4, channel=3, data=[45, 59]),\n",
       "   midi.NoteOffEvent(tick=180, channel=3, data=[45, 90]),\n",
       "   midi.NoteOnEvent(tick=12, channel=3, data=[45, 59]),\n",
       "   midi.NoteOffEvent(tick=60, channel=3, data=[45, 90]),\n",
       "   midi.NoteOnEvent(tick=4, channel=3, data=[45, 59]),\n",
       "   midi.NoteOffEvent(tick=180, channel=3, data=[45, 90]),\n",
       "   midi.NoteOnEvent(tick=12, channel=3, data=[45, 59]),\n",
       "   midi.NoteOffEvent(tick=60, channel=3, data=[45, 90]),\n",
       "   midi.NoteOnEvent(tick=4, channel=3, data=[41, 81]),\n",
       "   midi.NoteOffEvent(tick=190, channel=3, data=[41, 90]),\n",
       "   midi.NoteOnEvent(tick=2, channel=3, data=[41, 59]),\n",
       "   midi.NoteOffEvent(tick=60, channel=3, data=[41, 90]),\n",
       "   midi.NoteOnEvent(tick=4, channel=3, data=[41, 59]),\n",
       "   midi.NoteOffEvent(tick=180, channel=3, data=[41, 90]),\n",
       "   midi.NoteOnEvent(tick=12, channel=3, data=[41, 59]),\n",
       "   midi.NoteOffEvent(tick=60, channel=3, data=[41, 90]),\n",
       "   midi.NoteOnEvent(tick=4, channel=3, data=[41, 59]),\n",
       "   midi.NoteOffEvent(tick=180, channel=3, data=[41, 90]),\n",
       "   midi.NoteOnEvent(tick=12, channel=3, data=[41, 59]),\n",
       "   midi.NoteOffEvent(tick=60, channel=3, data=[41, 90]),\n",
       "   midi.NoteOnEvent(tick=4, channel=3, data=[41, 59]),\n",
       "   midi.NoteOffEvent(tick=180, channel=3, data=[41, 90]),\n",
       "   midi.NoteOnEvent(tick=12, channel=3, data=[41, 59]),\n",
       "   midi.NoteOffEvent(tick=60, channel=3, data=[41, 90]),\n",
       "   midi.NoteOnEvent(tick=4, channel=3, data=[43, 81]),\n",
       "   midi.NoteOffEvent(tick=190, channel=3, data=[43, 90]),\n",
       "   midi.NoteOnEvent(tick=2, channel=3, data=[43, 59]),\n",
       "   midi.NoteOffEvent(tick=60, channel=3, data=[43, 90]),\n",
       "   midi.NoteOnEvent(tick=4, channel=3, data=[43, 59]),\n",
       "   midi.NoteOffEvent(tick=180, channel=3, data=[43, 90]),\n",
       "   midi.NoteOnEvent(tick=12, channel=3, data=[43, 59]),\n",
       "   midi.NoteOffEvent(tick=60, channel=3, data=[43, 90]),\n",
       "   midi.NoteOnEvent(tick=4, channel=3, data=[43, 59]),\n",
       "   midi.NoteOffEvent(tick=180, channel=3, data=[43, 90]),\n",
       "   midi.NoteOnEvent(tick=12, channel=3, data=[43, 59]),\n",
       "   midi.NoteOffEvent(tick=60, channel=3, data=[43, 90]),\n",
       "   midi.NoteOnEvent(tick=4, channel=3, data=[43, 59]),\n",
       "   midi.NoteOffEvent(tick=180, channel=3, data=[43, 90]),\n",
       "   midi.NoteOnEvent(tick=12, channel=3, data=[43, 59]),\n",
       "   midi.NoteOffEvent(tick=60, channel=3, data=[43, 90]),\n",
       "   midi.EndOfTrackEvent(tick=0, data=[])])])"
      ]
     },
     "execution_count": 52,
     "metadata": {},
     "output_type": "execute_result"
    }
   ],
   "source": [
    "pattern"
   ]
  },
  {
   "cell_type": "code",
   "execution_count": 67,
   "metadata": {
    "collapsed": true
   },
   "outputs": [],
   "source": [
    "timeleft = [track[0].tick for track in pattern]"
   ]
  },
  {
   "cell_type": "code",
   "execution_count": 68,
   "metadata": {},
   "outputs": [
    {
     "data": {
      "text/plain": [
       "[0, 0, 0]"
      ]
     },
     "execution_count": 68,
     "metadata": {},
     "output_type": "execute_result"
    }
   ],
   "source": [
    "timeleft"
   ]
  },
  {
   "cell_type": "code",
   "execution_count": 69,
   "metadata": {
    "collapsed": true
   },
   "outputs": [],
   "source": [
    "posns = [0 for track in pattern]"
   ]
  },
  {
   "cell_type": "code",
   "execution_count": 70,
   "metadata": {},
   "outputs": [
    {
     "data": {
      "text/plain": [
       "[0, 0, 0]"
      ]
     },
     "execution_count": 70,
     "metadata": {},
     "output_type": "execute_result"
    }
   ],
   "source": [
    "posns"
   ]
  },
  {
   "cell_type": "code",
   "execution_count": 71,
   "metadata": {
    "collapsed": true
   },
   "outputs": [],
   "source": [
    "statematrix = []"
   ]
  },
  {
   "cell_type": "code",
   "execution_count": 72,
   "metadata": {
    "collapsed": true
   },
   "outputs": [],
   "source": [
    "time = 0"
   ]
  },
  {
   "cell_type": "code",
   "execution_count": 74,
   "metadata": {
    "collapsed": true
   },
   "outputs": [],
   "source": [
    "lowerBound = 24\n",
    "upperBound = 102\n",
    "span = upperBound-lowerBound"
   ]
  },
  {
   "cell_type": "code",
   "execution_count": 75,
   "metadata": {},
   "outputs": [],
   "source": [
    "state = [[0,0] for x in range(span)]"
   ]
  },
  {
   "cell_type": "code",
   "execution_count": 76,
   "metadata": {},
   "outputs": [
    {
     "data": {
      "text/plain": [
       "[[0, 0],\n",
       " [0, 0],\n",
       " [0, 0],\n",
       " [0, 0],\n",
       " [0, 0],\n",
       " [0, 0],\n",
       " [0, 0],\n",
       " [0, 0],\n",
       " [0, 0],\n",
       " [0, 0],\n",
       " [0, 0],\n",
       " [0, 0],\n",
       " [0, 0],\n",
       " [0, 0],\n",
       " [0, 0],\n",
       " [0, 0],\n",
       " [0, 0],\n",
       " [0, 0],\n",
       " [0, 0],\n",
       " [0, 0],\n",
       " [0, 0],\n",
       " [0, 0],\n",
       " [0, 0],\n",
       " [0, 0],\n",
       " [0, 0],\n",
       " [0, 0],\n",
       " [0, 0],\n",
       " [0, 0],\n",
       " [0, 0],\n",
       " [0, 0],\n",
       " [0, 0],\n",
       " [0, 0],\n",
       " [0, 0],\n",
       " [0, 0],\n",
       " [0, 0],\n",
       " [0, 0],\n",
       " [0, 0],\n",
       " [0, 0],\n",
       " [0, 0],\n",
       " [0, 0],\n",
       " [0, 0],\n",
       " [0, 0],\n",
       " [0, 0],\n",
       " [0, 0],\n",
       " [0, 0],\n",
       " [0, 0],\n",
       " [0, 0],\n",
       " [0, 0],\n",
       " [0, 0],\n",
       " [0, 0],\n",
       " [0, 0],\n",
       " [0, 0],\n",
       " [0, 0],\n",
       " [0, 0],\n",
       " [0, 0],\n",
       " [0, 0],\n",
       " [0, 0],\n",
       " [0, 0],\n",
       " [0, 0],\n",
       " [0, 0],\n",
       " [0, 0],\n",
       " [0, 0],\n",
       " [0, 0],\n",
       " [0, 0],\n",
       " [0, 0],\n",
       " [0, 0],\n",
       " [0, 0],\n",
       " [0, 0],\n",
       " [0, 0],\n",
       " [0, 0],\n",
       " [0, 0],\n",
       " [0, 0],\n",
       " [0, 0],\n",
       " [0, 0],\n",
       " [0, 0],\n",
       " [0, 0],\n",
       " [0, 0],\n",
       " [0, 0]]"
      ]
     },
     "execution_count": 76,
     "metadata": {},
     "output_type": "execute_result"
    }
   ],
   "source": [
    "state"
   ]
  },
  {
   "cell_type": "code",
   "execution_count": 78,
   "metadata": {},
   "outputs": [
    {
     "data": {
      "text/plain": [
       "78"
      ]
     },
     "execution_count": 78,
     "metadata": {},
     "output_type": "execute_result"
    }
   ],
   "source": [
    "len(state)"
   ]
  },
  {
   "cell_type": "code",
   "execution_count": 79,
   "metadata": {
    "collapsed": true
   },
   "outputs": [],
   "source": [
    "statematrix.append(state)"
   ]
  },
  {
   "cell_type": "code",
   "execution_count": 80,
   "metadata": {},
   "outputs": [
    {
     "data": {
      "text/plain": [
       "[[[0, 0],\n",
       "  [0, 0],\n",
       "  [0, 0],\n",
       "  [0, 0],\n",
       "  [0, 0],\n",
       "  [0, 0],\n",
       "  [0, 0],\n",
       "  [0, 0],\n",
       "  [0, 0],\n",
       "  [0, 0],\n",
       "  [0, 0],\n",
       "  [0, 0],\n",
       "  [0, 0],\n",
       "  [0, 0],\n",
       "  [0, 0],\n",
       "  [0, 0],\n",
       "  [0, 0],\n",
       "  [0, 0],\n",
       "  [0, 0],\n",
       "  [0, 0],\n",
       "  [0, 0],\n",
       "  [0, 0],\n",
       "  [0, 0],\n",
       "  [0, 0],\n",
       "  [0, 0],\n",
       "  [0, 0],\n",
       "  [0, 0],\n",
       "  [0, 0],\n",
       "  [0, 0],\n",
       "  [0, 0],\n",
       "  [0, 0],\n",
       "  [0, 0],\n",
       "  [0, 0],\n",
       "  [0, 0],\n",
       "  [0, 0],\n",
       "  [0, 0],\n",
       "  [0, 0],\n",
       "  [0, 0],\n",
       "  [0, 0],\n",
       "  [0, 0],\n",
       "  [0, 0],\n",
       "  [0, 0],\n",
       "  [0, 0],\n",
       "  [0, 0],\n",
       "  [0, 0],\n",
       "  [0, 0],\n",
       "  [0, 0],\n",
       "  [0, 0],\n",
       "  [0, 0],\n",
       "  [0, 0],\n",
       "  [0, 0],\n",
       "  [0, 0],\n",
       "  [0, 0],\n",
       "  [0, 0],\n",
       "  [0, 0],\n",
       "  [0, 0],\n",
       "  [0, 0],\n",
       "  [0, 0],\n",
       "  [0, 0],\n",
       "  [0, 0],\n",
       "  [0, 0],\n",
       "  [0, 0],\n",
       "  [0, 0],\n",
       "  [0, 0],\n",
       "  [0, 0],\n",
       "  [0, 0],\n",
       "  [0, 0],\n",
       "  [0, 0],\n",
       "  [0, 0],\n",
       "  [0, 0],\n",
       "  [0, 0],\n",
       "  [0, 0],\n",
       "  [0, 0],\n",
       "  [0, 0],\n",
       "  [0, 0],\n",
       "  [0, 0],\n",
       "  [0, 0],\n",
       "  [0, 0]]]"
      ]
     },
     "execution_count": 80,
     "metadata": {},
     "output_type": "execute_result"
    }
   ],
   "source": [
    "statematrix"
   ]
  },
  {
   "cell_type": "code",
   "execution_count": 81,
   "metadata": {
    "collapsed": true
   },
   "outputs": [],
   "source": [
    "condition = True"
   ]
  },
  {
   "cell_type": "code",
   "execution_count": null,
   "metadata": {
    "collapsed": true
   },
   "outputs": [],
   "source": [
    "#while condition:"
   ]
  },
  {
   "cell_type": "code",
   "execution_count": 82,
   "metadata": {
    "collapsed": true
   },
   "outputs": [],
   "source": [
    "if time % (pattern.resolution / 4) == (pattern.resolution / 8):\n",
    "    print('teste')"
   ]
  },
  {
   "cell_type": "code",
   "execution_count": 83,
   "metadata": {},
   "outputs": [
    {
     "data": {
      "text/plain": [
       "0"
      ]
     },
     "execution_count": 83,
     "metadata": {},
     "output_type": "execute_result"
    }
   ],
   "source": [
    "time"
   ]
  },
  {
   "cell_type": "code",
   "execution_count": 84,
   "metadata": {},
   "outputs": [
    {
     "data": {
      "text/plain": [
       "128"
      ]
     },
     "execution_count": 84,
     "metadata": {},
     "output_type": "execute_result"
    }
   ],
   "source": [
    "pattern.resolution"
   ]
  },
  {
   "cell_type": "code",
   "execution_count": 85,
   "metadata": {},
   "outputs": [
    {
     "data": {
      "text/plain": [
       "32.0"
      ]
     },
     "execution_count": 85,
     "metadata": {},
     "output_type": "execute_result"
    }
   ],
   "source": [
    "pattern.resolution/4"
   ]
  },
  {
   "cell_type": "code",
   "execution_count": 86,
   "metadata": {},
   "outputs": [
    {
     "data": {
      "text/plain": [
       "16.0"
      ]
     },
     "execution_count": 86,
     "metadata": {},
     "output_type": "execute_result"
    }
   ],
   "source": [
    "pattern.resolution/8"
   ]
  },
  {
   "cell_type": "code",
   "execution_count": 87,
   "metadata": {
    "collapsed": true
   },
   "outputs": [],
   "source": [
    "oldstate = state"
   ]
  },
  {
   "cell_type": "code",
   "execution_count": 88,
   "metadata": {
    "collapsed": true
   },
   "outputs": [],
   "source": [
    "state = [[oldstate[x][0],0] for x in range(span)]"
   ]
  },
  {
   "cell_type": "code",
   "execution_count": 89,
   "metadata": {},
   "outputs": [
    {
     "data": {
      "text/plain": [
       "[[0, 0],\n",
       " [0, 0],\n",
       " [0, 0],\n",
       " [0, 0],\n",
       " [0, 0],\n",
       " [0, 0],\n",
       " [0, 0],\n",
       " [0, 0],\n",
       " [0, 0],\n",
       " [0, 0],\n",
       " [0, 0],\n",
       " [0, 0],\n",
       " [0, 0],\n",
       " [0, 0],\n",
       " [0, 0],\n",
       " [0, 0],\n",
       " [0, 0],\n",
       " [0, 0],\n",
       " [0, 0],\n",
       " [0, 0],\n",
       " [0, 0],\n",
       " [0, 0],\n",
       " [0, 0],\n",
       " [0, 0],\n",
       " [0, 0],\n",
       " [0, 0],\n",
       " [0, 0],\n",
       " [0, 0],\n",
       " [0, 0],\n",
       " [0, 0],\n",
       " [0, 0],\n",
       " [0, 0],\n",
       " [0, 0],\n",
       " [0, 0],\n",
       " [0, 0],\n",
       " [0, 0],\n",
       " [0, 0],\n",
       " [0, 0],\n",
       " [0, 0],\n",
       " [0, 0],\n",
       " [0, 0],\n",
       " [0, 0],\n",
       " [0, 0],\n",
       " [0, 0],\n",
       " [0, 0],\n",
       " [0, 0],\n",
       " [0, 0],\n",
       " [0, 0],\n",
       " [0, 0],\n",
       " [0, 0],\n",
       " [0, 0],\n",
       " [0, 0],\n",
       " [0, 0],\n",
       " [0, 0],\n",
       " [0, 0],\n",
       " [0, 0],\n",
       " [0, 0],\n",
       " [0, 0],\n",
       " [0, 0],\n",
       " [0, 0],\n",
       " [0, 0],\n",
       " [0, 0],\n",
       " [0, 0],\n",
       " [0, 0],\n",
       " [0, 0],\n",
       " [0, 0],\n",
       " [0, 0],\n",
       " [0, 0],\n",
       " [0, 0],\n",
       " [0, 0],\n",
       " [0, 0],\n",
       " [0, 0],\n",
       " [0, 0],\n",
       " [0, 0],\n",
       " [0, 0],\n",
       " [0, 0],\n",
       " [0, 0],\n",
       " [0, 0]]"
      ]
     },
     "execution_count": 89,
     "metadata": {},
     "output_type": "execute_result"
    }
   ],
   "source": [
    "state"
   ]
  },
  {
   "cell_type": "code",
   "execution_count": 90,
   "metadata": {
    "collapsed": true
   },
   "outputs": [],
   "source": [
    "statematrix.append(state)"
   ]
  },
  {
   "cell_type": "code",
   "execution_count": 91,
   "metadata": {},
   "outputs": [
    {
     "data": {
      "text/plain": [
       "[[[0, 0],\n",
       "  [0, 0],\n",
       "  [0, 0],\n",
       "  [0, 0],\n",
       "  [0, 0],\n",
       "  [0, 0],\n",
       "  [0, 0],\n",
       "  [0, 0],\n",
       "  [0, 0],\n",
       "  [0, 0],\n",
       "  [0, 0],\n",
       "  [0, 0],\n",
       "  [0, 0],\n",
       "  [0, 0],\n",
       "  [0, 0],\n",
       "  [0, 0],\n",
       "  [0, 0],\n",
       "  [0, 0],\n",
       "  [0, 0],\n",
       "  [0, 0],\n",
       "  [0, 0],\n",
       "  [0, 0],\n",
       "  [0, 0],\n",
       "  [0, 0],\n",
       "  [0, 0],\n",
       "  [0, 0],\n",
       "  [0, 0],\n",
       "  [0, 0],\n",
       "  [0, 0],\n",
       "  [0, 0],\n",
       "  [0, 0],\n",
       "  [0, 0],\n",
       "  [0, 0],\n",
       "  [0, 0],\n",
       "  [0, 0],\n",
       "  [0, 0],\n",
       "  [0, 0],\n",
       "  [0, 0],\n",
       "  [0, 0],\n",
       "  [0, 0],\n",
       "  [0, 0],\n",
       "  [0, 0],\n",
       "  [0, 0],\n",
       "  [0, 0],\n",
       "  [0, 0],\n",
       "  [0, 0],\n",
       "  [0, 0],\n",
       "  [0, 0],\n",
       "  [0, 0],\n",
       "  [0, 0],\n",
       "  [0, 0],\n",
       "  [0, 0],\n",
       "  [0, 0],\n",
       "  [0, 0],\n",
       "  [0, 0],\n",
       "  [0, 0],\n",
       "  [0, 0],\n",
       "  [0, 0],\n",
       "  [0, 0],\n",
       "  [0, 0],\n",
       "  [0, 0],\n",
       "  [0, 0],\n",
       "  [0, 0],\n",
       "  [0, 0],\n",
       "  [0, 0],\n",
       "  [0, 0],\n",
       "  [0, 0],\n",
       "  [0, 0],\n",
       "  [0, 0],\n",
       "  [0, 0],\n",
       "  [0, 0],\n",
       "  [0, 0],\n",
       "  [0, 0],\n",
       "  [0, 0],\n",
       "  [0, 0],\n",
       "  [0, 0],\n",
       "  [0, 0],\n",
       "  [0, 0]],\n",
       " [[0, 0],\n",
       "  [0, 0],\n",
       "  [0, 0],\n",
       "  [0, 0],\n",
       "  [0, 0],\n",
       "  [0, 0],\n",
       "  [0, 0],\n",
       "  [0, 0],\n",
       "  [0, 0],\n",
       "  [0, 0],\n",
       "  [0, 0],\n",
       "  [0, 0],\n",
       "  [0, 0],\n",
       "  [0, 0],\n",
       "  [0, 0],\n",
       "  [0, 0],\n",
       "  [0, 0],\n",
       "  [0, 0],\n",
       "  [0, 0],\n",
       "  [0, 0],\n",
       "  [0, 0],\n",
       "  [0, 0],\n",
       "  [0, 0],\n",
       "  [0, 0],\n",
       "  [0, 0],\n",
       "  [0, 0],\n",
       "  [0, 0],\n",
       "  [0, 0],\n",
       "  [0, 0],\n",
       "  [0, 0],\n",
       "  [0, 0],\n",
       "  [0, 0],\n",
       "  [0, 0],\n",
       "  [0, 0],\n",
       "  [0, 0],\n",
       "  [0, 0],\n",
       "  [0, 0],\n",
       "  [0, 0],\n",
       "  [0, 0],\n",
       "  [0, 0],\n",
       "  [0, 0],\n",
       "  [0, 0],\n",
       "  [0, 0],\n",
       "  [0, 0],\n",
       "  [0, 0],\n",
       "  [0, 0],\n",
       "  [0, 0],\n",
       "  [0, 0],\n",
       "  [0, 0],\n",
       "  [0, 0],\n",
       "  [0, 0],\n",
       "  [0, 0],\n",
       "  [0, 0],\n",
       "  [0, 0],\n",
       "  [0, 0],\n",
       "  [0, 0],\n",
       "  [0, 0],\n",
       "  [0, 0],\n",
       "  [0, 0],\n",
       "  [0, 0],\n",
       "  [0, 0],\n",
       "  [0, 0],\n",
       "  [0, 0],\n",
       "  [0, 0],\n",
       "  [0, 0],\n",
       "  [0, 0],\n",
       "  [0, 0],\n",
       "  [0, 0],\n",
       "  [0, 0],\n",
       "  [0, 0],\n",
       "  [0, 0],\n",
       "  [0, 0],\n",
       "  [0, 0],\n",
       "  [0, 0],\n",
       "  [0, 0],\n",
       "  [0, 0],\n",
       "  [0, 0],\n",
       "  [0, 0]]]"
      ]
     },
     "execution_count": 91,
     "metadata": {},
     "output_type": "execute_result"
    }
   ],
   "source": [
    "statematrix"
   ]
  },
  {
   "cell_type": "code",
   "execution_count": 92,
   "metadata": {},
   "outputs": [
    {
     "name": "stdout",
     "output_type": "stream",
     "text": [
      "0\n",
      "1\n",
      "2\n"
     ]
    }
   ],
   "source": [
    "for i in range(len(timeleft)): #For each track\n",
    "    print(i)"
   ]
  },
  {
   "cell_type": "code",
   "execution_count": 93,
   "metadata": {
    "collapsed": true
   },
   "outputs": [],
   "source": [
    "            if not condition:\n",
    "                print('break')"
   ]
  },
  {
   "cell_type": "code",
   "execution_count": 94,
   "metadata": {
    "collapsed": true
   },
   "outputs": [],
   "source": [
    "i = 0"
   ]
  },
  {
   "cell_type": "code",
   "execution_count": 96,
   "metadata": {
    "collapsed": true
   },
   "outputs": [],
   "source": [
    "track = pattern[i]"
   ]
  },
  {
   "cell_type": "code",
   "execution_count": 97,
   "metadata": {},
   "outputs": [
    {
     "data": {
      "text/plain": [
       "midi.Track(\\\n",
       "  [midi.SetTempoEvent(tick=0, data=[7, 161, 32]),\n",
       "   midi.TrackNameEvent(tick=0, text='\\x00', data=[0]),\n",
       "   midi.TimeSignatureEvent(tick=0, data=[4, 2, 24, 8]),\n",
       "   midi.KeySignatureEvent(tick=0, data=[0, 0]),\n",
       "   midi.ProgramChangeEvent(tick=0, channel=0, data=[1]),\n",
       "   midi.NoteOnEvent(tick=128, channel=1, data=[60, 102]),\n",
       "   midi.NoteOffEvent(tick=31, channel=1, data=[60, 90]),\n",
       "   midi.NoteOnEvent(tick=1, channel=1, data=[60, 102]),\n",
       "   midi.NoteOffEvent(tick=31, channel=1, data=[60, 90]),\n",
       "   midi.NoteOnEvent(tick=65, channel=1, data=[60, 102]),\n",
       "   midi.NoteOffEvent(tick=31, channel=1, data=[60, 90]),\n",
       "   midi.NoteOnEvent(tick=1, channel=1, data=[60, 102]),\n",
       "   midi.NoteOffEvent(tick=31, channel=1, data=[60, 90]),\n",
       "   midi.NoteOnEvent(tick=65, channel=1, data=[60, 102]),\n",
       "   midi.NoteOffEvent(tick=31, channel=1, data=[60, 90]),\n",
       "   midi.NoteOnEvent(tick=1, channel=1, data=[60, 102]),\n",
       "   midi.NoteOffEvent(tick=31, channel=1, data=[60, 90]),\n",
       "   midi.NoteOnEvent(tick=65, channel=1, data=[60, 102]),\n",
       "   midi.NoteOffEvent(tick=126, channel=1, data=[60, 90]),\n",
       "   midi.NoteOnEvent(tick=2, channel=1, data=[64, 102]),\n",
       "   midi.NoteOffEvent(tick=31, channel=1, data=[64, 90]),\n",
       "   midi.NoteOnEvent(tick=1, channel=1, data=[64, 102]),\n",
       "   midi.NoteOffEvent(tick=63, channel=1, data=[64, 90]),\n",
       "   midi.NoteOnEvent(tick=1, channel=1, data=[64, 102]),\n",
       "   midi.NoteOffEvent(tick=63, channel=1, data=[64, 90]),\n",
       "   midi.NoteOnEvent(tick=1, channel=1, data=[62, 102]),\n",
       "   midi.NoteOffEvent(tick=63, channel=1, data=[62, 90]),\n",
       "   midi.NoteOnEvent(tick=1, channel=1, data=[60, 102]),\n",
       "   midi.NoteOffEvent(tick=31, channel=1, data=[60, 90]),\n",
       "   midi.NoteOnEvent(tick=1, channel=1, data=[62, 102]),\n",
       "   midi.NoteOffEvent(tick=31, channel=1, data=[62, 90]),\n",
       "   midi.NoteOnEvent(tick=1, channel=1, data=[60, 102]),\n",
       "   midi.NoteOffEvent(tick=31, channel=1, data=[60, 90]),\n",
       "   midi.NoteOnEvent(tick=1, channel=1, data=[62, 102]),\n",
       "   midi.NoteOffEvent(tick=63, channel=1, data=[62, 90]),\n",
       "   midi.NoteOnEvent(tick=1, channel=1, data=[57, 102]),\n",
       "   midi.NoteOffEvent(tick=63, channel=1, data=[57, 90]),\n",
       "   midi.NoteOnEvent(tick=65, channel=1, data=[60, 102]),\n",
       "   midi.NoteOffEvent(tick=31, channel=1, data=[60, 90]),\n",
       "   midi.NoteOnEvent(tick=1, channel=1, data=[60, 102]),\n",
       "   midi.NoteOffEvent(tick=31, channel=1, data=[60, 90]),\n",
       "   midi.NoteOnEvent(tick=65, channel=1, data=[60, 102]),\n",
       "   midi.NoteOffEvent(tick=31, channel=1, data=[60, 90]),\n",
       "   midi.NoteOnEvent(tick=1, channel=1, data=[60, 102]),\n",
       "   midi.NoteOffEvent(tick=31, channel=1, data=[60, 90]),\n",
       "   midi.NoteOnEvent(tick=65, channel=1, data=[60, 102]),\n",
       "   midi.NoteOffEvent(tick=31, channel=1, data=[60, 90]),\n",
       "   midi.NoteOnEvent(tick=1, channel=1, data=[60, 102]),\n",
       "   midi.NoteOffEvent(tick=31, channel=1, data=[60, 90]),\n",
       "   midi.NoteOnEvent(tick=65, channel=1, data=[60, 102]),\n",
       "   midi.NoteOffEvent(tick=126, channel=1, data=[60, 90]),\n",
       "   midi.NoteOnEvent(tick=2, channel=1, data=[64, 102]),\n",
       "   midi.NoteOffEvent(tick=31, channel=1, data=[64, 90]),\n",
       "   midi.NoteOnEvent(tick=1, channel=1, data=[64, 102]),\n",
       "   midi.NoteOffEvent(tick=63, channel=1, data=[64, 90]),\n",
       "   midi.NoteOnEvent(tick=1, channel=1, data=[64, 102]),\n",
       "   midi.NoteOffEvent(tick=95, channel=1, data=[64, 90]),\n",
       "   midi.NoteOnEvent(tick=1, channel=1, data=[64, 102]),\n",
       "   midi.NoteOffEvent(tick=31, channel=1, data=[64, 90]),\n",
       "   midi.NoteOnEvent(tick=1, channel=1, data=[62, 102]),\n",
       "   midi.NoteOffEvent(tick=63, channel=1, data=[62, 90]),\n",
       "   midi.NoteOnEvent(tick=1, channel=1, data=[60, 102]),\n",
       "   midi.NoteOffEvent(tick=63, channel=1, data=[60, 90]),\n",
       "   midi.NoteOnEvent(tick=33, channel=1, data=[53, 102]),\n",
       "   midi.NoteOffEvent(tick=63, channel=1, data=[53, 90]),\n",
       "   midi.NoteOnEvent(tick=1, channel=1, data=[60, 102]),\n",
       "   midi.NoteOffEvent(tick=63, channel=1, data=[60, 90]),\n",
       "   midi.NoteOnEvent(tick=1, channel=1, data=[60, 102]),\n",
       "   midi.NoteOffEvent(tick=63, channel=1, data=[60, 90]),\n",
       "   midi.NoteOnEvent(tick=65, channel=1, data=[53, 102]),\n",
       "   midi.NoteOffEvent(tick=31, channel=1, data=[53, 90]),\n",
       "   midi.NoteOnEvent(tick=1, channel=1, data=[64, 102]),\n",
       "   midi.NoteOffEvent(tick=31, channel=1, data=[64, 90]),\n",
       "   midi.NoteOnEvent(tick=1, channel=1, data=[64, 102]),\n",
       "   midi.NoteOffEvent(tick=31, channel=1, data=[64, 90]),\n",
       "   midi.NoteOnEvent(tick=1, channel=1, data=[64, 102]),\n",
       "   midi.NoteOffEvent(tick=126, channel=1, data=[64, 90]),\n",
       "   midi.NoteOnEvent(tick=34, channel=1, data=[53, 102]),\n",
       "   midi.NoteOffEvent(tick=63, channel=1, data=[53, 90]),\n",
       "   midi.NoteOnEvent(tick=1, channel=1, data=[60, 102]),\n",
       "   midi.NoteOffEvent(tick=63, channel=1, data=[60, 90]),\n",
       "   midi.NoteOnEvent(tick=1, channel=1, data=[60, 102]),\n",
       "   midi.NoteOffEvent(tick=63, channel=1, data=[60, 90]),\n",
       "   midi.NoteOnEvent(tick=33, channel=1, data=[53, 102]),\n",
       "   midi.NoteOffEvent(tick=31, channel=1, data=[53, 90]),\n",
       "   midi.NoteOnEvent(tick=1, channel=1, data=[53, 102]),\n",
       "   midi.NoteOffEvent(tick=31, channel=1, data=[53, 90]),\n",
       "   midi.NoteOnEvent(tick=1, channel=1, data=[64, 102]),\n",
       "   midi.NoteOffEvent(tick=31, channel=1, data=[64, 90]),\n",
       "   midi.NoteOnEvent(tick=1, channel=1, data=[64, 102]),\n",
       "   midi.NoteOffEvent(tick=31, channel=1, data=[64, 90]),\n",
       "   midi.NoteOnEvent(tick=1, channel=1, data=[64, 102]),\n",
       "   midi.NoteOffEvent(tick=126, channel=1, data=[64, 90]),\n",
       "   midi.NoteOnEvent(tick=34, channel=1, data=[55, 102]),\n",
       "   midi.NoteOffEvent(tick=63, channel=1, data=[55, 90]),\n",
       "   midi.NoteOnEvent(tick=1, channel=1, data=[60, 102]),\n",
       "   midi.NoteOffEvent(tick=63, channel=1, data=[60, 90]),\n",
       "   midi.NoteOnEvent(tick=1, channel=1, data=[60, 102]),\n",
       "   midi.NoteOffEvent(tick=63, channel=1, data=[60, 90]),\n",
       "   midi.NoteOnEvent(tick=65, channel=1, data=[55, 102]),\n",
       "   midi.NoteOffEvent(tick=31, channel=1, data=[55, 90]),\n",
       "   midi.NoteOnEvent(tick=1, channel=1, data=[60, 102]),\n",
       "   midi.NoteOffEvent(tick=31, channel=1, data=[60, 90]),\n",
       "   midi.NoteOnEvent(tick=1, channel=1, data=[64, 102]),\n",
       "   midi.NoteOffEvent(tick=126, channel=1, data=[64, 90]),\n",
       "   midi.NoteOnEvent(tick=2, channel=1, data=[65, 102]),\n",
       "   midi.NoteOffEvent(tick=31, channel=1, data=[65, 90]),\n",
       "   midi.NoteOnEvent(tick=1, channel=1, data=[64, 102]),\n",
       "   midi.NoteOffEvent(tick=31, channel=1, data=[64, 90]),\n",
       "   midi.NoteOnEvent(tick=1, channel=1, data=[62, 102]),\n",
       "   midi.NoteOffEvent(tick=253, channel=1, data=[62, 90]),\n",
       "   midi.NoteOnEvent(tick=67, channel=1, data=[62, 102]),\n",
       "   midi.NoteOffEvent(tick=63, channel=1, data=[62, 90]),\n",
       "   midi.EndOfTrackEvent(tick=0, data=[])])"
      ]
     },
     "execution_count": 97,
     "metadata": {},
     "output_type": "execute_result"
    }
   ],
   "source": [
    "track"
   ]
  },
  {
   "cell_type": "code",
   "execution_count": 98,
   "metadata": {
    "collapsed": true
   },
   "outputs": [],
   "source": [
    "pos = posns[i]"
   ]
  },
  {
   "cell_type": "code",
   "execution_count": 99,
   "metadata": {},
   "outputs": [
    {
     "data": {
      "text/plain": [
       "0"
      ]
     },
     "execution_count": 99,
     "metadata": {},
     "output_type": "execute_result"
    }
   ],
   "source": [
    "pos"
   ]
  },
  {
   "cell_type": "code",
   "execution_count": 100,
   "metadata": {
    "collapsed": true
   },
   "outputs": [],
   "source": [
    "evt = track[pos]"
   ]
  },
  {
   "cell_type": "code",
   "execution_count": 101,
   "metadata": {},
   "outputs": [
    {
     "data": {
      "text/plain": [
       "midi.SetTempoEvent(tick=0, data=[7, 161, 32])"
      ]
     },
     "execution_count": 101,
     "metadata": {},
     "output_type": "execute_result"
    }
   ],
   "source": [
    "evt"
   ]
  },
  {
   "cell_type": "code",
   "execution_count": 102,
   "metadata": {
    "collapsed": true
   },
   "outputs": [],
   "source": [
    "if isinstance(evt, midi.NoteEvent):\n",
    "    print(evt)"
   ]
  },
  {
   "cell_type": "code",
   "execution_count": 103,
   "metadata": {
    "collapsed": true
   },
   "outputs": [],
   "source": [
    "evt = track[5]"
   ]
  },
  {
   "cell_type": "code",
   "execution_count": 104,
   "metadata": {},
   "outputs": [
    {
     "data": {
      "text/plain": [
       "midi.NoteOnEvent(tick=128, channel=1, data=[60, 102])"
      ]
     },
     "execution_count": 104,
     "metadata": {},
     "output_type": "execute_result"
    }
   ],
   "source": [
    "evt"
   ]
  },
  {
   "cell_type": "code",
   "execution_count": 105,
   "metadata": {},
   "outputs": [
    {
     "name": "stdout",
     "output_type": "stream",
     "text": [
      "midi.NoteOnEvent(tick=128, channel=1, data=[60, 102])\n"
     ]
    }
   ],
   "source": [
    "if isinstance(evt, midi.NoteEvent):\n",
    "    print(evt)"
   ]
  },
  {
   "cell_type": "code",
   "execution_count": 106,
   "metadata": {
    "collapsed": true
   },
   "outputs": [],
   "source": [
    "evt = track[6]"
   ]
  },
  {
   "cell_type": "code",
   "execution_count": 107,
   "metadata": {},
   "outputs": [
    {
     "name": "stdout",
     "output_type": "stream",
     "text": [
      "midi.NoteOffEvent(tick=31, channel=1, data=[60, 90])\n"
     ]
    }
   ],
   "source": [
    "if isinstance(evt, midi.NoteEvent):\n",
    "    print(evt)"
   ]
  },
  {
   "cell_type": "code",
   "execution_count": 108,
   "metadata": {
    "collapsed": true
   },
   "outputs": [],
   "source": [
    "if (evt.pitch < lowerBound) or (evt.pitch >= upperBound):\n",
    "    print(evt.pitch)"
   ]
  },
  {
   "cell_type": "code",
   "execution_count": 109,
   "metadata": {},
   "outputs": [
    {
     "data": {
      "text/plain": [
       "60"
      ]
     },
     "execution_count": 109,
     "metadata": {},
     "output_type": "execute_result"
    }
   ],
   "source": [
    "evt.pitch"
   ]
  },
  {
   "cell_type": "code",
   "execution_count": 110,
   "metadata": {},
   "outputs": [
    {
     "data": {
      "text/plain": [
       "1"
      ]
     },
     "execution_count": 110,
     "metadata": {},
     "output_type": "execute_result"
    }
   ],
   "source": [
    "evt.channel"
   ]
  },
  {
   "cell_type": "code",
   "execution_count": 111,
   "metadata": {},
   "outputs": [
    {
     "data": {
      "text/plain": [
       "<bound method Event.copy of midi.NoteOffEvent(tick=31, channel=1, data=[60, 90])>"
      ]
     },
     "execution_count": 111,
     "metadata": {},
     "output_type": "execute_result"
    }
   ],
   "source": [
    "evt.copy"
   ]
  },
  {
   "cell_type": "code",
   "execution_count": 112,
   "metadata": {},
   "outputs": [
    {
     "data": {
      "text/plain": [
       "[60, 90]"
      ]
     },
     "execution_count": 112,
     "metadata": {},
     "output_type": "execute_result"
    }
   ],
   "source": [
    "evt.data"
   ]
  },
  {
   "cell_type": "code",
   "execution_count": 113,
   "metadata": {},
   "outputs": [
    {
     "data": {
      "text/plain": [
       "<bound method NoteEvent.get_pitch of midi.NoteOffEvent(tick=31, channel=1, data=[60, 90])>"
      ]
     },
     "execution_count": 113,
     "metadata": {},
     "output_type": "execute_result"
    }
   ],
   "source": [
    "evt.get_pitch"
   ]
  },
  {
   "cell_type": "code",
   "execution_count": 114,
   "metadata": {},
   "outputs": [
    {
     "data": {
      "text/plain": [
       "90"
      ]
     },
     "execution_count": 114,
     "metadata": {},
     "output_type": "execute_result"
    }
   ],
   "source": [
    "evt.get_velocity()"
   ]
  },
  {
   "cell_type": "code",
   "execution_count": 115,
   "metadata": {},
   "outputs": [
    {
     "data": {
      "text/plain": [
       "60"
      ]
     },
     "execution_count": 115,
     "metadata": {},
     "output_type": "execute_result"
    }
   ],
   "source": [
    "evt.get_pitch()"
   ]
  },
  {
   "cell_type": "code",
   "execution_count": 117,
   "metadata": {},
   "outputs": [
    {
     "data": {
      "text/plain": [
       "<bound method Event.is_event of <class 'midi.events.NoteOffEvent'>>"
      ]
     },
     "execution_count": 117,
     "metadata": {},
     "output_type": "execute_result"
    }
   ],
   "source": [
    "evt.is_event"
   ]
  },
  {
   "cell_type": "code",
   "execution_count": 119,
   "metadata": {},
   "outputs": [
    {
     "data": {
      "text/plain": [
       "2"
      ]
     },
     "execution_count": 119,
     "metadata": {},
     "output_type": "execute_result"
    }
   ],
   "source": [
    "evt.length"
   ]
  },
  {
   "cell_type": "code",
   "execution_count": 120,
   "metadata": {},
   "outputs": [
    {
     "data": {
      "text/plain": [
       "'Note Off'"
      ]
     },
     "execution_count": 120,
     "metadata": {},
     "output_type": "execute_result"
    }
   ],
   "source": [
    "evt.name"
   ]
  },
  {
   "cell_type": "code",
   "execution_count": 121,
   "metadata": {},
   "outputs": [
    {
     "data": {
      "text/plain": [
       "60"
      ]
     },
     "execution_count": 121,
     "metadata": {},
     "output_type": "execute_result"
    }
   ],
   "source": [
    "evt.pitch"
   ]
  },
  {
   "cell_type": "code",
   "execution_count": 128,
   "metadata": {},
   "outputs": [
    {
     "data": {
      "text/plain": [
       "128"
      ]
     },
     "execution_count": 128,
     "metadata": {},
     "output_type": "execute_result"
    }
   ],
   "source": [
    "evt.statusmsg"
   ]
  },
  {
   "cell_type": "code",
   "execution_count": 123,
   "metadata": {},
   "outputs": [
    {
     "data": {
      "text/plain": [
       "31"
      ]
     },
     "execution_count": 123,
     "metadata": {},
     "output_type": "execute_result"
    }
   ],
   "source": [
    "evt.tick"
   ]
  },
  {
   "cell_type": "code",
   "execution_count": 124,
   "metadata": {},
   "outputs": [
    {
     "data": {
      "text/plain": [
       "90"
      ]
     },
     "execution_count": 124,
     "metadata": {},
     "output_type": "execute_result"
    }
   ],
   "source": [
    "evt.velocity"
   ]
  },
  {
   "cell_type": "code",
   "execution_count": 126,
   "metadata": {},
   "outputs": [],
   "source": [
    "evt2 = track[2]"
   ]
  },
  {
   "cell_type": "code",
   "execution_count": 127,
   "metadata": {},
   "outputs": [
    {
     "data": {
      "text/plain": [
       "4"
      ]
     },
     "execution_count": 127,
     "metadata": {},
     "output_type": "execute_result"
    }
   ],
   "source": [
    "evt2.numerator"
   ]
  },
  {
   "cell_type": "code",
   "execution_count": 132,
   "metadata": {
    "collapsed": true
   },
   "outputs": [],
   "source": [
    "import numpy as np"
   ]
  },
  {
   "cell_type": "code",
   "execution_count": 133,
   "metadata": {},
   "outputs": [],
   "source": [
    "S = np.array(statematrix)"
   ]
  },
  {
   "cell_type": "code",
   "execution_count": 137,
   "metadata": {},
   "outputs": [
    {
     "data": {
      "text/plain": [
       "array([[0, 0, 0, 0, 0, 0, 0, 0, 0, 0, 0, 0, 0, 0, 0, 0, 0, 0, 0, 0, 0, 0,\n",
       "        0, 0, 0, 0, 0, 0, 0, 0, 0, 0, 0, 0, 0, 0, 0, 0, 0, 0, 0, 0, 0, 0,\n",
       "        0, 0, 0, 0, 0, 0, 0, 0, 0, 0, 0, 0, 0, 0, 0, 0, 0, 0, 0, 0, 0, 0,\n",
       "        0, 0, 0, 0, 0, 0, 0, 0, 0, 0, 0, 0],\n",
       "       [0, 0, 0, 0, 0, 0, 0, 0, 0, 0, 0, 0, 0, 0, 0, 0, 0, 0, 0, 0, 0, 0,\n",
       "        0, 0, 0, 0, 0, 0, 0, 0, 0, 0, 0, 0, 0, 0, 0, 0, 0, 0, 0, 0, 0, 0,\n",
       "        0, 0, 0, 0, 0, 0, 0, 0, 0, 0, 0, 0, 0, 0, 0, 0, 0, 0, 0, 0, 0, 0,\n",
       "        0, 0, 0, 0, 0, 0, 0, 0, 0, 0, 0, 0]])"
      ]
     },
     "execution_count": 137,
     "metadata": {},
     "output_type": "execute_result"
    }
   ],
   "source": [
    "S[:,:,0]"
   ]
  },
  {
   "cell_type": "code",
   "execution_count": 138,
   "metadata": {},
   "outputs": [
    {
     "data": {
      "text/plain": [
       "array([[0, 0, 0, 0, 0, 0, 0, 0, 0, 0, 0, 0, 0, 0, 0, 0, 0, 0, 0, 0, 0, 0,\n",
       "        0, 0, 0, 0, 0, 0, 0, 0, 0, 0, 0, 0, 0, 0, 0, 0, 0, 0, 0, 0, 0, 0,\n",
       "        0, 0, 0, 0, 0, 0, 0, 0, 0, 0, 0, 0, 0, 0, 0, 0, 0, 0, 0, 0, 0, 0,\n",
       "        0, 0, 0, 0, 0, 0, 0, 0, 0, 0, 0, 0],\n",
       "       [0, 0, 0, 0, 0, 0, 0, 0, 0, 0, 0, 0, 0, 0, 0, 0, 0, 0, 0, 0, 0, 0,\n",
       "        0, 0, 0, 0, 0, 0, 0, 0, 0, 0, 0, 0, 0, 0, 0, 0, 0, 0, 0, 0, 0, 0,\n",
       "        0, 0, 0, 0, 0, 0, 0, 0, 0, 0, 0, 0, 0, 0, 0, 0, 0, 0, 0, 0, 0, 0,\n",
       "        0, 0, 0, 0, 0, 0, 0, 0, 0, 0, 0, 0]])"
      ]
     },
     "execution_count": 138,
     "metadata": {},
     "output_type": "execute_result"
    }
   ],
   "source": [
    "S[:,:,1]"
   ]
  },
  {
   "cell_type": "code",
   "execution_count": 154,
   "metadata": {},
   "outputs": [],
   "source": [
    "a = np.array([[2,3,4],[5,6,7],[9,8,7]])"
   ]
  },
  {
   "cell_type": "code",
   "execution_count": 158,
   "metadata": {},
   "outputs": [
    {
     "ename": "IndexError",
     "evalue": "too many indices for array",
     "output_type": "error",
     "traceback": [
      "\u001b[0;31m---------------------------------------------------------------------------\u001b[0m",
      "\u001b[0;31mIndexError\u001b[0m                                Traceback (most recent call last)",
      "\u001b[0;32m<ipython-input-158-0ddfadc84551>\u001b[0m in \u001b[0;36m<module>\u001b[0;34m()\u001b[0m\n\u001b[0;32m----> 1\u001b[0;31m \u001b[0ma\u001b[0m\u001b[0;34m[\u001b[0m\u001b[0;34m:\u001b[0m\u001b[0;34m,\u001b[0m\u001b[0;34m:\u001b[0m\u001b[0;34m,\u001b[0m\u001b[0;36m1\u001b[0m\u001b[0;34m]\u001b[0m\u001b[0;34m\u001b[0m\u001b[0m\n\u001b[0m",
      "\u001b[0;31mIndexError\u001b[0m: too many indices for array"
     ]
    }
   ],
   "source": [
    "a[:,:,1]"
   ]
  },
  {
   "cell_type": "code",
   "execution_count": null,
   "metadata": {
    "collapsed": true
   },
   "outputs": [],
   "source": []
  }
 ],
 "metadata": {
  "kernelspec": {
   "display_name": "Python 3",
   "language": "python",
   "name": "python3"
  },
  "language_info": {
   "codemirror_mode": {
    "name": "ipython",
    "version": 3
   },
   "file_extension": ".py",
   "mimetype": "text/x-python",
   "name": "python",
   "nbconvert_exporter": "python",
   "pygments_lexer": "ipython3",
   "version": "3.6.3"
  }
 },
 "nbformat": 4,
 "nbformat_minor": 2
}
