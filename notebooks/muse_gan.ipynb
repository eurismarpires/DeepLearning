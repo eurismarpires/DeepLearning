{
 "cells": [
  {
   "cell_type": "code",
   "execution_count": 1,
   "metadata": {
    "collapsed": true
   },
   "outputs": [],
   "source": [
    "__file__ = 'teste'"
   ]
  },
  {
   "cell_type": "code",
   "execution_count": 2,
   "metadata": {},
   "outputs": [
    {
     "name": "stderr",
     "output_type": "stream",
     "text": [
      "/home/eurismar/anaconda3/lib/python3.6/importlib/_bootstrap.py:219: RuntimeWarning: compiletime version 3.5 of module 'tensorflow.python.framework.fast_tensor_util' does not match runtime version 3.6\n",
      "  return f(*args, **kwds)\n",
      "/home/eurismar/anaconda3/lib/python3.6/site-packages/h5py/__init__.py:34: FutureWarning: Conversion of the second argument of issubdtype from `float` to `np.floating` is deprecated. In future, it will be treated as `np.float64 == np.dtype(float).type`.\n",
      "  from ._conv import register_converters as _register_converters\n"
     ]
    },
    {
     "data": {
      "text/plain": [
       "['/home/eurismar/notebooks/musegan/exp/musegan/lastfm_alternative_g_hybrid_d_proposed/src/musegan/utils/image_io.py',\n",
       " '/home/eurismar/notebooks/musegan/exp/musegan/lastfm_alternative_g_hybrid_d_proposed/src/musegan/utils/metrics.py',\n",
       " '/home/eurismar/notebooks/musegan/exp/musegan/lastfm_alternative_g_hybrid_d_proposed/src/musegan/utils/__init__.py',\n",
       " '/home/eurismar/notebooks/musegan/exp/musegan/lastfm_alternative_g_hybrid_d_proposed/src/musegan/utils/ops.py',\n",
       " '/home/eurismar/notebooks/musegan/exp/musegan/lastfm_alternative_g_hybrid_d_proposed/src/musegan/utils/midi_io.py',\n",
       " '/home/eurismar/notebooks/musegan/exp/musegan/lastfm_alternative_g_hybrid_d_proposed/src/musegan/utils/neuralnet.py',\n",
       " '/home/eurismar/notebooks/musegan/exp/musegan/lastfm_alternative_g_hybrid_d_proposed/src/musegan/utils/__pycache__/image_io.cpython-36.pyc',\n",
       " '/home/eurismar/notebooks/musegan/exp/musegan/lastfm_alternative_g_hybrid_d_proposed/src/musegan/utils/__pycache__/midi_io.cpython-36.pyc',\n",
       " '/home/eurismar/notebooks/musegan/exp/musegan/lastfm_alternative_g_hybrid_d_proposed/src/musegan/utils/__pycache__/__init__.cpython-36.pyc',\n",
       " '/home/eurismar/notebooks/musegan/exp/musegan/lastfm_alternative_g_hybrid_d_proposed/src/musegan/utils/__pycache__/ops.cpython-36.pyc',\n",
       " '/home/eurismar/notebooks/musegan/exp/musegan/lastfm_alternative_g_hybrid_d_proposed/src/musegan/utils/__pycache__/neuralnet.cpython-36.pyc',\n",
       " '/home/eurismar/notebooks/musegan/exp/musegan/lastfm_alternative_g_hybrid_d_proposed/src/musegan/utils/__pycache__/metrics.cpython-36.pyc',\n",
       " '/home/eurismar/notebooks/musegan/exp/musegan/lastfm_alternative_g_hybrid_d_proposed/src/musegan/model.py',\n",
       " '/home/eurismar/notebooks/musegan/exp/musegan/lastfm_alternative_g_hybrid_d_proposed/src/musegan/musegan/components.py',\n",
       " '/home/eurismar/notebooks/musegan/exp/musegan/lastfm_alternative_g_hybrid_d_proposed/src/musegan/musegan/__init__.py',\n",
       " '/home/eurismar/notebooks/musegan/exp/musegan/lastfm_alternative_g_hybrid_d_proposed/src/musegan/musegan/models.py',\n",
       " '/home/eurismar/notebooks/musegan/exp/musegan/lastfm_alternative_g_hybrid_d_proposed/src/musegan/musegan/presets/__init__.py',\n",
       " '/home/eurismar/notebooks/musegan/exp/musegan/lastfm_alternative_g_hybrid_d_proposed/src/musegan/musegan/presets/generator/__init__.py',\n",
       " '/home/eurismar/notebooks/musegan/exp/musegan/lastfm_alternative_g_hybrid_d_proposed/src/musegan/musegan/presets/generator/jamming.py',\n",
       " '/home/eurismar/notebooks/musegan/exp/musegan/lastfm_alternative_g_hybrid_d_proposed/src/musegan/musegan/presets/generator/hybrid.py',\n",
       " '/home/eurismar/notebooks/musegan/exp/musegan/lastfm_alternative_g_hybrid_d_proposed/src/musegan/musegan/presets/generator/__pycache__/hybrid.cpython-36.pyc',\n",
       " '/home/eurismar/notebooks/musegan/exp/musegan/lastfm_alternative_g_hybrid_d_proposed/src/musegan/musegan/presets/generator/__pycache__/__init__.cpython-36.pyc',\n",
       " '/home/eurismar/notebooks/musegan/exp/musegan/lastfm_alternative_g_hybrid_d_proposed/src/musegan/musegan/presets/generator/composer.py',\n",
       " '/home/eurismar/notebooks/musegan/exp/musegan/lastfm_alternative_g_hybrid_d_proposed/src/musegan/musegan/presets/discriminator/proposed.py',\n",
       " '/home/eurismar/notebooks/musegan/exp/musegan/lastfm_alternative_g_hybrid_d_proposed/src/musegan/musegan/presets/discriminator/ablated.py',\n",
       " '/home/eurismar/notebooks/musegan/exp/musegan/lastfm_alternative_g_hybrid_d_proposed/src/musegan/musegan/presets/discriminator/baseline.py',\n",
       " '/home/eurismar/notebooks/musegan/exp/musegan/lastfm_alternative_g_hybrid_d_proposed/src/musegan/musegan/presets/discriminator/proposed_small.py',\n",
       " '/home/eurismar/notebooks/musegan/exp/musegan/lastfm_alternative_g_hybrid_d_proposed/src/musegan/musegan/presets/discriminator/__pycache__/proposed.cpython-36.pyc',\n",
       " '/home/eurismar/notebooks/musegan/exp/musegan/lastfm_alternative_g_hybrid_d_proposed/src/musegan/musegan/presets/__pycache__/__init__.cpython-36.pyc',\n",
       " '/home/eurismar/notebooks/musegan/exp/musegan/lastfm_alternative_g_hybrid_d_proposed/src/musegan/musegan/__pycache__/models.cpython-36.pyc',\n",
       " '/home/eurismar/notebooks/musegan/exp/musegan/lastfm_alternative_g_hybrid_d_proposed/src/musegan/musegan/__pycache__/__init__.cpython-36.pyc',\n",
       " '/home/eurismar/notebooks/musegan/exp/musegan/lastfm_alternative_g_hybrid_d_proposed/src/musegan/musegan/__pycache__/components.cpython-36.pyc',\n",
       " '/home/eurismar/notebooks/musegan/exp/musegan/lastfm_alternative_g_hybrid_d_proposed/src/musegan/__init__.py',\n",
       " '/home/eurismar/notebooks/musegan/exp/musegan/lastfm_alternative_g_hybrid_d_proposed/src/musegan/bmusegan/components.py',\n",
       " '/home/eurismar/notebooks/musegan/exp/musegan/lastfm_alternative_g_hybrid_d_proposed/src/musegan/bmusegan/__init__.py',\n",
       " '/home/eurismar/notebooks/musegan/exp/musegan/lastfm_alternative_g_hybrid_d_proposed/src/musegan/bmusegan/models.py',\n",
       " '/home/eurismar/notebooks/musegan/exp/musegan/lastfm_alternative_g_hybrid_d_proposed/src/musegan/bmusegan/presets/__init__.py',\n",
       " '/home/eurismar/notebooks/musegan/exp/musegan/lastfm_alternative_g_hybrid_d_proposed/src/musegan/bmusegan/presets/generator/__init__.py',\n",
       " '/home/eurismar/notebooks/musegan/exp/musegan/lastfm_alternative_g_hybrid_d_proposed/src/musegan/bmusegan/presets/generator/proposed.py',\n",
       " '/home/eurismar/notebooks/musegan/exp/musegan/lastfm_alternative_g_hybrid_d_proposed/src/musegan/bmusegan/presets/generator/proposed_small.py',\n",
       " '/home/eurismar/notebooks/musegan/exp/musegan/lastfm_alternative_g_hybrid_d_proposed/src/musegan/bmusegan/presets/discriminator/__init__.py',\n",
       " '/home/eurismar/notebooks/musegan/exp/musegan/lastfm_alternative_g_hybrid_d_proposed/src/musegan/bmusegan/presets/discriminator/proposed.py',\n",
       " '/home/eurismar/notebooks/musegan/exp/musegan/lastfm_alternative_g_hybrid_d_proposed/src/musegan/bmusegan/presets/discriminator/ablated.py',\n",
       " '/home/eurismar/notebooks/musegan/exp/musegan/lastfm_alternative_g_hybrid_d_proposed/src/musegan/bmusegan/presets/discriminator/baseline.py',\n",
       " '/home/eurismar/notebooks/musegan/exp/musegan/lastfm_alternative_g_hybrid_d_proposed/src/musegan/bmusegan/presets/discriminator/proposed_small.py',\n",
       " '/home/eurismar/notebooks/musegan/exp/musegan/lastfm_alternative_g_hybrid_d_proposed/src/musegan/bmusegan/presets/refiner/__init__.py',\n",
       " '/home/eurismar/notebooks/musegan/exp/musegan/lastfm_alternative_g_hybrid_d_proposed/src/musegan/bmusegan/presets/refiner/proposed_round.py',\n",
       " '/home/eurismar/notebooks/musegan/exp/musegan/lastfm_alternative_g_hybrid_d_proposed/src/musegan/bmusegan/presets/refiner/proposed_bernoulli.py',\n",
       " '/home/eurismar/notebooks/musegan/exp/musegan/lastfm_alternative_g_hybrid_d_proposed/src/musegan/component.py',\n",
       " '/home/eurismar/notebooks/musegan/exp/musegan/lastfm_alternative_g_hybrid_d_proposed/src/musegan/__pycache__/model.cpython-36.pyc',\n",
       " '/home/eurismar/notebooks/musegan/exp/musegan/lastfm_alternative_g_hybrid_d_proposed/src/musegan/__pycache__/__init__.cpython-36.pyc',\n",
       " '/home/eurismar/notebooks/musegan/exp/musegan/lastfm_alternative_g_hybrid_d_proposed/src/musegan/__pycache__/component.cpython-36.pyc']"
      ]
     },
     "execution_count": 2,
     "metadata": {},
     "output_type": "execute_result"
    }
   ],
   "source": [
    "\"\"\"Define configuration variables in experiment, model and training levels.\n",
    "\n",
    "Quick Setup\n",
    "===========\n",
    "Change the values in the dictionary `SETUP` for a quick setup.\n",
    "Documentation is provided right after each key.\n",
    "\n",
    "Configuration\n",
    "=============\n",
    "More configuration options are providedin as a dictionary `CONFIG`.\n",
    "`CONFIG['exp']`, `CONFIG['data']`, `CONFIG['model']`, `CONFIG['train']` and\n",
    "`CONFIG['tensorflow']` define experiment-, data-, model-, training-,\n",
    "TensorFlow-related configuration variables, respectively.\n",
    "\n",
    "Note that the automatically-determined experiment name is based only on the\n",
    "values defined in the dictionary `SETUP`, so remember to provide the experiment\n",
    "name manually if you have changed the configuration so that you won't overwrite\n",
    "existing experiment directories.\n",
    "\"\"\"\n",
    "import os\n",
    "import shutil\n",
    "import distutils.dir_util\n",
    "import importlib\n",
    "import numpy as np\n",
    "import tensorflow as tf\n",
    "\n",
    "# Quick setup\n",
    "SETUP = {\n",
    "    'model': 'musegan',\n",
    "    # {'musegan', 'bmusegan'}\n",
    "    # The model to use. Currently support MuseGAN and BinaryMuseGAN models.\n",
    "\n",
    "    'exp_name': None,\n",
    "    # The experiment name. Also the name of the folder that will be created\n",
    "    # in './exp/' and all the experiment-related files are saved in that\n",
    "    # folder. None to determine automatically. The automatically-\n",
    "    # determined experiment name is based only on the values defined in the\n",
    "    # dictionary `SETUP`, so remember to provide the experiment name manually\n",
    "    # (so that you won't overwrite a trained model).\n",
    "\n",
    "    'prefix': 'lastfm_alternative',\n",
    "    # Prefix for the experiment name. Useful when training with different\n",
    "    # training data to avoid replacing the previous experiment outputs.\n",
    "\n",
    "    #'training_data': 'lastfm_alternative_8b_phrase',\n",
    "    'training_data': 'lastfm_alternative_5b_phrase',\n",
    "\n",
    "\n",
    "    # Filename of the training data. The training data can be loaded from a npy\n",
    "    # file in the hard disk or from the shared memory using SharedArray package.\n",
    "    # Note that the data will be reshaped to (-1, num_bar, num_timestep,\n",
    "    # num_pitch, num_track) and remember to set these variable to proper values,\n",
    "    # which are defined in `CONFIG['model']`.\n",
    "\n",
    "    'training_data_location': 'sa',\n",
    "    # Location of the training data. 'hd' to load from a npy file stored in the\n",
    "    # hard disk. 'sa' to load from shared array using SharedArray package.\n",
    "\n",
    "    'gpu': '0',\n",
    "    # The GPU index in os.environ['CUDA_VISIBLE_DEVICES'] to use.\n",
    "\n",
    "    'preset_g': 'hybrid',\n",
    "    # MuseGAN: {'composer', 'jamming', 'hybrid'}\n",
    "    # BinaryMuseGAN: {'proposed', 'proposed_small'}\n",
    "    # Use a preset network architecture for the generator or set to None and\n",
    "    # setup `CONFIG['model']['net_g']` to define the network architecture.\n",
    "\n",
    "    'preset_d': 'proposed',\n",
    "    # {'proposed', 'proposed_small', 'ablated', 'baseline', None}\n",
    "    # Use a preset network architecture for the discriminator or set to None\n",
    "    # and setup `CONFIG['model']['net_d']` to define the network architecture.\n",
    "\n",
    "    'pretrained_dir': None,\n",
    "    # The directory containing the pretrained model. None to retrain the\n",
    "    # model from scratch.\n",
    "\n",
    "    'verbose': True,\n",
    "    # True to print each batch details to stdout. False to print once an epoch.\n",
    "\n",
    "    'sample_along_training': True,\n",
    "    # True to generate samples along the training process. False for nothing.\n",
    "\n",
    "    'evaluate_along_training': True,\n",
    "    # True to run evaluation along the training process. False for nothing.\n",
    "\n",
    "    # ------------------------- For BinaryMuseGAN only -------------------------\n",
    "    'two_stage_training': True,\n",
    "    # True to train the model in a two-stage training setting. False to\n",
    "    # train the model in an end-to-end manner.\n",
    "\n",
    "    'training_phase': 'first_stage',\n",
    "    # {'first_stage', 'second_stage'}\n",
    "    # The training phase in a two-stage training setting. Only effective\n",
    "    # when `two_stage_training` is True.\n",
    "\n",
    "    'first_stage_dir': None,\n",
    "    # The directory containing the pretrained first-stage model. None to\n",
    "    # determine automatically (assuming using default `exp_name`). Only\n",
    "    # effective when two_stage_training` is True and `training_phase` is\n",
    "    # 'second_stage'.\n",
    "\n",
    "    'joint_training': False,\n",
    "    # True to train the generator and the refiner jointly. Only effective\n",
    "    # when `two_stage_training` is True and `training_phase` is 'second_stage'.\n",
    "\n",
    "    'preset_r': 'proposed_bernoulli',\n",
    "    # {'proposed_round', 'proposed_bernoulli'}\n",
    "    # Use a preset network architecture for the refiner or set to None and\n",
    "    # setup `CONFIG['model']['net_r']` to define the network architecture.\n",
    "}\n",
    "\n",
    "CONFIG = {}\n",
    "\n",
    "#===============================================================================\n",
    "#=========================== TensorFlow Configuration ==========================\n",
    "#===============================================================================\n",
    "os.environ['CUDA_VISIBLE_DEVICES'] = SETUP['gpu']\n",
    "CONFIG['tensorflow'] = tf.ConfigProto()\n",
    "CONFIG['tensorflow'].gpu_options.allow_growth = True\n",
    "\n",
    "#===============================================================================\n",
    "#========================== Experiment Configuration ===========================\n",
    "#===============================================================================\n",
    "CONFIG['exp'] = {\n",
    "    'model': None,\n",
    "    'exp_name': None,\n",
    "    'pretrained_dir': None,\n",
    "    'two_stage_training': None, # For BinaryMuseGAN only\n",
    "    'first_stage_dir': None, # For BinaryMuseGAN only\n",
    "}\n",
    "\n",
    "for key in ('model', 'pretrained_dir'):\n",
    "    if CONFIG['exp'][key] is None:\n",
    "        CONFIG['exp'][key] = SETUP[key]\n",
    "\n",
    "if SETUP['model'] == 'musegan':\n",
    "    # Set default experiment name\n",
    "    if CONFIG['exp']['exp_name'] is None:\n",
    "        if SETUP['exp_name'] is not None:\n",
    "            CONFIG['exp']['exp_name'] = SETUP['exp_name']\n",
    "        else:\n",
    "            CONFIG['exp']['exp_name'] = '_'.join(\n",
    "                (SETUP['prefix'], 'g', SETUP['preset_g'], 'd',\n",
    "                 SETUP['preset_d']))\n",
    "\n",
    "if SETUP['model'] == 'bmusegan':\n",
    "    if CONFIG['exp']['two_stage_training'] is None:\n",
    "        CONFIG['exp']['two_stage_training'] = SETUP['two_stage_training']\n",
    "    # Set default experiment name\n",
    "    if CONFIG['exp']['exp_name'] is None:\n",
    "        if SETUP['exp_name'] is not None:\n",
    "            CONFIG['exp']['exp_name'] = SETUP['exp_name']\n",
    "        elif not SETUP['two_stage_training']:\n",
    "            CONFIG['exp']['exp_name'] = '_'.join(\n",
    "                (SETUP['prefix'], 'end2end', 'g', SETUP['preset_g'], 'd',\n",
    "                 SETUP['preset_d'], 'r', SETUP['preset_r']))\n",
    "        elif SETUP['training_phase'] == 'first_stage':\n",
    "            CONFIG['exp']['exp_name'] = '_'.join(\n",
    "                (SETUP['prefix'], SETUP['training_phase'], 'g',\n",
    "                 SETUP['preset_g'], 'd', SETUP['preset_d']))\n",
    "        elif SETUP['training_phase'] == 'second_stage':\n",
    "            if SETUP['joint_training']:\n",
    "                CONFIG['exp']['exp_name'] = '_'.join(\n",
    "                    (SETUP['prefix'], SETUP['training_phase'], 'joint', 'g',\n",
    "                     SETUP['preset_g'], 'd', SETUP['preset_d'], 'r',\n",
    "                     SETUP['preset_r']))\n",
    "            else:\n",
    "                CONFIG['exp']['exp_name'] = '_'.join(\n",
    "                    (SETUP['prefix'], SETUP['training_phase'], 'g',\n",
    "                     SETUP['preset_g'], 'd', SETUP['preset_d'], 'r',\n",
    "                     SETUP['preset_r']))\n",
    "    # Set default first stage model directory\n",
    "    if CONFIG['exp']['first_stage_dir'] is None:\n",
    "        if SETUP['first_stage_dir'] is not None:\n",
    "            CONFIG['exp']['first_stage_dir'] = SETUP['first_stage_dir']\n",
    "        else:\n",
    "            CONFIG['exp']['first_stage_dir'] = os.path.join(\n",
    "                os.path.dirname(os.path.realpath(__file__)), 'exp',\n",
    "                '_'.join((SETUP['prefix'], 'first_stage', 'g',\n",
    "                          SETUP['preset_g'], 'd', SETUP['preset_d'])),\n",
    "                'checkpoints')\n",
    "\n",
    "#===============================================================================\n",
    "#============================= Data Configuration ==============================\n",
    "#===============================================================================\n",
    "CONFIG['data'] = {\n",
    "    'training_data': None,\n",
    "    'training_data_location': None,\n",
    "}\n",
    "\n",
    "for key in ('training_data', 'training_data_location'):\n",
    "    if CONFIG['data'][key] is None:\n",
    "        CONFIG['data'][key] = SETUP[key]\n",
    "\n",
    "#===============================================================================\n",
    "#=========================== Training Configuration ============================\n",
    "#===============================================================================\n",
    "CONFIG['train'] = {\n",
    "    'num_epoch': 20,\n",
    "    'verbose': None,\n",
    "    'sample_along_training': None,\n",
    "    'evaluate_along_training': None,\n",
    "    'two_stage_training': None, # For BinaryMuseGAN only\n",
    "    'training_phase': None, # For BinaryMuseGAN only\n",
    "    'slope_annealing_rate': 1.1, # For BinaryMuseGAN only\n",
    "}\n",
    "\n",
    "for key in ('verbose', 'sample_along_training', 'evaluate_along_training'):\n",
    "    if CONFIG['train'][key] is None:\n",
    "        CONFIG['train'][key] = SETUP[key]\n",
    "\n",
    "if SETUP['model'] == 'bmusegan' and CONFIG['train']['training_phase'] is None:\n",
    "    CONFIG['train']['training_phase'] = SETUP['training_phase']\n",
    "\n",
    "#===============================================================================\n",
    "#============================= Model Configuration =============================\n",
    "#===============================================================================\n",
    "CONFIG['model'] = {\n",
    "    'joint_training': None, # For BinaryMuseGAN only\n",
    "\n",
    "    # Parameters\n",
    "    'batch_size': 32, # Note: tf.layers.conv3d_transpose requires a fixed batch\n",
    "                      # size in TensorFlow < 1.6\n",
    "    'gan': {\n",
    "        'type': 'wgan-gp', # 'gan', 'wgan', 'wgan-gp'\n",
    "        'clip_value': .01,\n",
    "        'gp_coefficient': 10.\n",
    "    },\n",
    "    'optimizer': {\n",
    "        # Parameters for the Adam optimizers\n",
    "        'lr': .002,\n",
    "        'beta1': .5,\n",
    "        'beta2': .9,\n",
    "        'epsilon': 1e-8\n",
    "    },\n",
    "\n",
    "    # Data\n",
    "    'num_bar': 4,\n",
    "    'num_beat': 4,\n",
    "    'num_pitch': 84,\n",
    "    'num_track': 8,\n",
    "    'num_timestep': 96,\n",
    "    'beat_resolution': 24,\n",
    "    'lowest_pitch': 24, # MIDI note number of the lowest pitch in data tensors\n",
    "\n",
    "    # Tracks\n",
    "    'track_names': (\n",
    "        'Drums', 'Piano', 'Guitar', 'Bass', 'Ensemble', 'Reed', 'Synth Lead',\n",
    "        'Synth Pad'\n",
    "    ),\n",
    "    'programs': (0, 0, 24, 32, 48, 64, 80, 88),\n",
    "    'is_drums': (True, False, False, False, False, False, False, False),\n",
    "\n",
    "    # Network architectures (define them here if not using the presets)\n",
    "    'net_g': None,\n",
    "    'net_d': None,\n",
    "    'net_r': None, # For BinaryMuseGAN only\n",
    "\n",
    "    # Playback\n",
    "    'pause_between_samples': 96,\n",
    "    'tempo': 90.,\n",
    "\n",
    "    # Samples\n",
    "    'num_sample': 16,\n",
    "    'sample_grid': (2, 8),\n",
    "\n",
    "    # Metrics\n",
    "    'metric_map': np.array([\n",
    "        # indices of tracks for the metrics to compute\n",
    "        [True] * 8, # empty bar rate\n",
    "        [True] * 8, # number of pitch used\n",
    "        [False] + [True] * 7, # qualified note rate\n",
    "        [False] + [True] * 7, # polyphonicity\n",
    "        [False] + [True] * 7, # in scale rate\n",
    "        [True] + [False] * 7, # in drum pattern rate\n",
    "        [False] + [True] * 7  # number of chroma used\n",
    "    ], dtype=bool),\n",
    "    'tonal_distance_pairs': [(1, 2)], # pairs to compute the tonal distance\n",
    "    'scale_mask': list(map(bool, [1, 0, 1, 0, 1, 1, 0, 1, 0, 1, 0, 1])),\n",
    "    'drum_filter': np.tile([1., .1, 0., 0., 0., .1], 16),\n",
    "    'tonal_matrix_coefficient': (1., 1., .5),\n",
    "\n",
    "    # Directories\n",
    "    'checkpoint_dir': None,\n",
    "    'sample_dir': None,\n",
    "    'eval_dir': None,\n",
    "    'log_dir': None,\n",
    "    'src_dir': None,\n",
    "}\n",
    "\n",
    "if SETUP['model'] == 'bmusegan' and CONFIG['model']['joint_training'] is None:\n",
    "    CONFIG['model']['joint_training'] = SETUP['joint_training']\n",
    "\n",
    "# Import preset network architectures\n",
    "if CONFIG['model']['net_g'] is None:\n",
    "    IMPORTED = importlib.import_module(\n",
    "        '.'.join(('musegan', SETUP['model'], 'presets', 'generator',\n",
    "                  SETUP['preset_g'])))\n",
    "    CONFIG['model']['net_g'] = IMPORTED.NET_G\n",
    "\n",
    "if CONFIG['model']['net_d'] is None:\n",
    "    IMPORTED = importlib.import_module(\n",
    "        '.'.join(('musegan', SETUP['model'], 'presets', 'discriminator',\n",
    "                  SETUP['preset_d'])))\n",
    "    CONFIG['model']['net_d'] = IMPORTED.NET_D\n",
    "\n",
    "if SETUP['model'] == 'bmusegan' and CONFIG['model']['net_r'] is None:\n",
    "    IMPORTED = importlib.import_module(\n",
    "        '.'.join(('musegan.bmusegan.presets', 'refiner', SETUP['preset_r'])))\n",
    "    CONFIG['model']['net_r'] = IMPORTED.NET_R\n",
    "\n",
    "# Set default directories\n",
    "for kv_pair in (('checkpoint_dir', 'checkpoints'), ('sample_dir', 'samples'),\n",
    "                ('eval_dir', 'eval'), ('log_dir', 'logs'), ('src_dir', 'src')):\n",
    "    if CONFIG['model'][kv_pair[0]] is None:\n",
    "        CONFIG['model'][kv_pair[0]] = os.path.join(\n",
    "            os.path.dirname(os.path.realpath(__file__)), 'exp', SETUP['model'],\n",
    "            CONFIG['exp']['exp_name'], kv_pair[1])\n",
    "\n",
    "#===============================================================================\n",
    "#=================== Make directories & Backup source code =====================\n",
    "#===============================================================================\n",
    "# Make sure directories exist\n",
    "for path in (CONFIG['model']['checkpoint_dir'], CONFIG['model']['sample_dir'],\n",
    "             CONFIG['model']['eval_dir'], CONFIG['model']['log_dir'],\n",
    "             CONFIG['model']['src_dir']):\n",
    "    if not os.path.exists(path):\n",
    "        os.makedirs(path)\n",
    "\n",
    "# Backup source code\n",
    "for path in os.listdir(os.path.dirname(os.path.realpath(__file__))):\n",
    "    if os.path.isfile(path):\n",
    "        if path.endswith('.py'):\n",
    "            shutil.copyfile(os.path.basename(path),\n",
    "                            os.path.join(CONFIG['model']['src_dir'],\n",
    "                                         os.path.basename(path)))\n",
    "\n",
    "distutils.dir_util.copy_tree(\n",
    "    os.path.join(os.path.dirname(os.path.realpath(__file__)), 'musegan'),\n",
    "    os.path.join(CONFIG['model']['src_dir'], 'musegan')\n",
    ")\n"
   ]
  },
  {
   "cell_type": "code",
   "execution_count": 3,
   "metadata": {},
   "outputs": [
    {
     "data": {
      "text/plain": [
       "'sa'"
      ]
     },
     "execution_count": 3,
     "metadata": {},
     "output_type": "execute_result"
    }
   ],
   "source": [
    "CONFIG['data']['training_data_location'] "
   ]
  },
  {
   "cell_type": "code",
   "execution_count": 4,
   "metadata": {
    "collapsed": true
   },
   "outputs": [],
   "source": [
    "shape = (-1, CONFIG['model']['num_bar'], CONFIG['model']['num_timestep'],\n",
    "        CONFIG['model']['num_pitch'], CONFIG['model']['num_track'])"
   ]
  },
  {
   "cell_type": "code",
   "execution_count": 5,
   "metadata": {},
   "outputs": [
    {
     "data": {
      "text/plain": [
       "(-1, 4, 96, 84, 8)"
      ]
     },
     "execution_count": 5,
     "metadata": {},
     "output_type": "execute_result"
    }
   ],
   "source": [
    "shape"
   ]
  },
  {
   "cell_type": "code",
   "execution_count": 6,
   "metadata": {},
   "outputs": [
    {
     "data": {
      "text/plain": [
       "'musegan'"
      ]
     },
     "execution_count": 6,
     "metadata": {},
     "output_type": "execute_result"
    }
   ],
   "source": [
    "CONFIG['exp']['model']"
   ]
  },
  {
   "cell_type": "code",
   "execution_count": 7,
   "metadata": {},
   "outputs": [
    {
     "data": {
      "text/plain": [
       "gpu_options {\n",
       "  allow_growth: true\n",
       "}"
      ]
     },
     "execution_count": 7,
     "metadata": {},
     "output_type": "execute_result"
    }
   ],
   "source": [
    "CONFIG['tensorflow']"
   ]
  },
  {
   "cell_type": "code",
   "execution_count": 8,
   "metadata": {},
   "outputs": [
    {
     "data": {
      "text/plain": [
       "'musegan'"
      ]
     },
     "execution_count": 8,
     "metadata": {},
     "output_type": "execute_result"
    }
   ],
   "source": [
    "CONFIG['exp']['model']"
   ]
  },
  {
   "cell_type": "code",
   "execution_count": 9,
   "metadata": {
    "collapsed": true
   },
   "outputs": [],
   "source": [
    "config = CONFIG['model']"
   ]
  },
  {
   "cell_type": "code",
   "execution_count": 10,
   "metadata": {},
   "outputs": [
    {
     "data": {
      "text/plain": [
       "32"
      ]
     },
     "execution_count": 10,
     "metadata": {},
     "output_type": "execute_result"
    }
   ],
   "source": [
    "config['net_g']['z_dim_shared']"
   ]
  },
  {
   "cell_type": "code",
   "execution_count": 11,
   "metadata": {
    "collapsed": true
   },
   "outputs": [],
   "source": [
    "z = {}"
   ]
  },
  {
   "cell_type": "code",
   "execution_count": 12,
   "metadata": {},
   "outputs": [
    {
     "data": {
      "text/plain": [
       "32"
      ]
     },
     "execution_count": 12,
     "metadata": {},
     "output_type": "execute_result"
    }
   ],
   "source": [
    "config['batch_size']"
   ]
  },
  {
   "cell_type": "code",
   "execution_count": 13,
   "metadata": {},
   "outputs": [
    {
     "data": {
      "text/plain": [
       "32"
      ]
     },
     "execution_count": 13,
     "metadata": {},
     "output_type": "execute_result"
    }
   ],
   "source": [
    "config['net_g']['z_dim_shared']"
   ]
  },
  {
   "cell_type": "code",
   "execution_count": 14,
   "metadata": {
    "collapsed": true
   },
   "outputs": [],
   "source": [
    "z['shared'] = tf.placeholder(\n",
    "                tf.float32, (config['batch_size'],\n",
    "                             config['net_g']['z_dim_shared']), 'z_shared'\n",
    "            )"
   ]
  },
  {
   "cell_type": "code",
   "execution_count": 15,
   "metadata": {},
   "outputs": [
    {
     "data": {
      "text/plain": [
       "{'shared': <tf.Tensor 'z_shared:0' shape=(32, 32) dtype=float32>}"
      ]
     },
     "execution_count": 15,
     "metadata": {},
     "output_type": "execute_result"
    }
   ],
   "source": [
    "z"
   ]
  },
  {
   "cell_type": "code",
   "execution_count": 16,
   "metadata": {},
   "outputs": [
    {
     "data": {
      "text/plain": [
       "{'shared': <tf.Tensor 'z_shared:0' shape=(32, 32) dtype=float32>}"
      ]
     },
     "execution_count": 16,
     "metadata": {},
     "output_type": "execute_result"
    }
   ],
   "source": [
    "z"
   ]
  },
  {
   "cell_type": "code",
   "execution_count": 17,
   "metadata": {},
   "outputs": [
    {
     "data": {
      "text/plain": [
       "<tf.Tensor 'z_shared:0' shape=(32, 32) dtype=float32>"
      ]
     },
     "execution_count": 17,
     "metadata": {},
     "output_type": "execute_result"
    }
   ],
   "source": [
    "z['shared']"
   ]
  },
  {
   "cell_type": "code",
   "execution_count": 18,
   "metadata": {
    "collapsed": true
   },
   "outputs": [],
   "source": [
    "teste = z['shared']"
   ]
  },
  {
   "cell_type": "code",
   "execution_count": 19,
   "metadata": {},
   "outputs": [
    {
     "data": {
      "text/plain": [
       "<tf.Tensor 'z_shared:0' shape=(32, 32) dtype=float32>"
      ]
     },
     "execution_count": 19,
     "metadata": {},
     "output_type": "execute_result"
    }
   ],
   "source": [
    "teste"
   ]
  },
  {
   "cell_type": "code",
   "execution_count": 20,
   "metadata": {
    "collapsed": true
   },
   "outputs": [],
   "source": [
    "a = {}"
   ]
  },
  {
   "cell_type": "code",
   "execution_count": 21,
   "metadata": {
    "collapsed": true
   },
   "outputs": [],
   "source": [
    "a['teste'] = 3 * 4"
   ]
  },
  {
   "cell_type": "code",
   "execution_count": 22,
   "metadata": {},
   "outputs": [
    {
     "data": {
      "text/plain": [
       "{'teste': 12}"
      ]
     },
     "execution_count": 22,
     "metadata": {},
     "output_type": "execute_result"
    }
   ],
   "source": [
    "a"
   ]
  },
  {
   "cell_type": "code",
   "execution_count": 23,
   "metadata": {},
   "outputs": [
    {
     "data": {
      "text/plain": [
       "12"
      ]
     },
     "execution_count": 23,
     "metadata": {},
     "output_type": "execute_result"
    }
   ],
   "source": [
    "a['teste']"
   ]
  },
  {
   "cell_type": "code",
   "execution_count": 24,
   "metadata": {},
   "outputs": [
    {
     "data": {
      "text/plain": [
       "32"
      ]
     },
     "execution_count": 24,
     "metadata": {},
     "output_type": "execute_result"
    }
   ],
   "source": [
    "config['net_g']['z_dim_private']"
   ]
  },
  {
   "cell_type": "code",
   "execution_count": 25,
   "metadata": {},
   "outputs": [
    {
     "data": {
      "text/plain": [
       "'private'"
      ]
     },
     "execution_count": 25,
     "metadata": {},
     "output_type": "execute_result"
    }
   ],
   "source": [
    "config['net_g']['bar_generator_type']"
   ]
  },
  {
   "cell_type": "code",
   "execution_count": 26,
   "metadata": {},
   "outputs": [
    {
     "name": "stdout",
     "output_type": "stream",
     "text": [
      "config.py\t\t      LICENSE.txt  __pycache__\t  Untitled.ipynb\r\n",
      "docs\t\t\t      main.py\t   README.md\t  v1\r\n",
      "exp\t\t\t      musegan\t   test\r\n",
      "lastfm_alternative_5b_phrase  pretrained   training_data\r\n"
     ]
    }
   ],
   "source": [
    "!ls"
   ]
  },
  {
   "cell_type": "code",
   "execution_count": 27,
   "metadata": {},
   "outputs": [
    {
     "name": "stdout",
     "output_type": "stream",
     "text": [
      "/home/eurismar/notebooks/musegan/training_data\n"
     ]
    }
   ],
   "source": [
    "%cd training_data/"
   ]
  },
  {
   "cell_type": "code",
   "execution_count": 28,
   "metadata": {},
   "outputs": [
    {
     "name": "stdout",
     "output_type": "stream",
     "text": [
      "download_all.sh\r\n",
      "download.sh\r\n",
      "https___www_bernardmarr_com_pdf_asp_contentID=719.pdf\r\n",
      "lastfm_alternative_5b_phrase.npy\r\n",
      "lastfm_alternative_8b_phrase.npy\r\n",
      "lpd\r\n",
      "lpd_full.tar.gz\r\n",
      "open?id=1md7aRHa7KZQhmzNBaFm0zp_SP-cHJZpP\r\n",
      "README.md\r\n",
      "store_to_sa.py\r\n",
      "Untitled.ipynb\r\n"
     ]
    }
   ],
   "source": [
    "!ls"
   ]
  },
  {
   "cell_type": "code",
   "execution_count": 29,
   "metadata": {},
   "outputs": [
    {
     "name": "stdout",
     "output_type": "stream",
     "text": [
      "/home/eurismar/notebooks/musegan\n"
     ]
    }
   ],
   "source": [
    "%cd .."
   ]
  },
  {
   "cell_type": "code",
   "execution_count": 30,
   "metadata": {},
   "outputs": [
    {
     "name": "stdout",
     "output_type": "stream",
     "text": [
      "Successfully saved: lastfm_alternative_5b_phrase, (2074, 6, 4, 96, 84, 5), bool\r\n"
     ]
    }
   ],
   "source": [
    "!python training_data/store_to_sa.py training_data/lastfm_alternative_5b_phrase.npy"
   ]
  },
  {
   "cell_type": "code",
   "execution_count": 31,
   "metadata": {},
   "outputs": [
    {
     "data": {
      "text/plain": [
       "'lastfm_alternative_5b_phrase'"
      ]
     },
     "execution_count": 31,
     "metadata": {},
     "output_type": "execute_result"
    }
   ],
   "source": [
    "CONFIG['data']['training_data']"
   ]
  },
  {
   "cell_type": "code",
   "execution_count": 32,
   "metadata": {
    "collapsed": true
   },
   "outputs": [],
   "source": [
    "import SharedArray as sa"
   ]
  },
  {
   "cell_type": "code",
   "execution_count": 33,
   "metadata": {
    "collapsed": true
   },
   "outputs": [],
   "source": [
    "x_train = sa.attach(CONFIG['data']['training_data'])"
   ]
  },
  {
   "cell_type": "code",
   "execution_count": 34,
   "metadata": {},
   "outputs": [
    {
     "data": {
      "text/plain": [
       "(2074, 6, 4, 96, 84, 5)"
      ]
     },
     "execution_count": 34,
     "metadata": {},
     "output_type": "execute_result"
    }
   ],
   "source": [
    "x_train.shape"
   ]
  },
  {
   "cell_type": "code",
   "execution_count": 35,
   "metadata": {},
   "outputs": [
    {
     "ename": "ValueError",
     "evalue": "cannot reshape array of size 2006968320 into shape (4,96,84,8)",
     "output_type": "error",
     "traceback": [
      "\u001b[0;31m---------------------------------------------------------------------------\u001b[0m",
      "\u001b[0;31mValueError\u001b[0m                                Traceback (most recent call last)",
      "\u001b[0;32mteste\u001b[0m in \u001b[0;36m<module>\u001b[0;34m()\u001b[0m\n\u001b[1;32m      1\u001b[0m x_train = x_train.reshape(\n\u001b[1;32m      2\u001b[0m     \u001b[0;34m-\u001b[0m\u001b[0;36m1\u001b[0m\u001b[0;34m,\u001b[0m \u001b[0mCONFIG\u001b[0m\u001b[0;34m[\u001b[0m\u001b[0;34m'model'\u001b[0m\u001b[0;34m]\u001b[0m\u001b[0;34m[\u001b[0m\u001b[0;34m'num_bar'\u001b[0m\u001b[0;34m]\u001b[0m\u001b[0;34m,\u001b[0m \u001b[0mCONFIG\u001b[0m\u001b[0;34m[\u001b[0m\u001b[0;34m'model'\u001b[0m\u001b[0;34m]\u001b[0m\u001b[0;34m[\u001b[0m\u001b[0;34m'num_timestep'\u001b[0m\u001b[0;34m]\u001b[0m\u001b[0;34m,\u001b[0m\u001b[0;34m\u001b[0m\u001b[0m\n\u001b[0;32m----> 3\u001b[0;31m     CONFIG['model']['num_pitch'], CONFIG['model']['num_track'])\n\u001b[0m",
      "\u001b[0;31mValueError\u001b[0m: cannot reshape array of size 2006968320 into shape (4,96,84,8)"
     ]
    }
   ],
   "source": [
    "x_train = x_train.reshape(\n",
    "    -1, CONFIG['model']['num_bar'], CONFIG['model']['num_timestep'],\n",
    "    CONFIG['model']['num_pitch'], CONFIG['model']['num_track'])"
   ]
  },
  {
   "cell_type": "markdown",
   "metadata": {},
   "source": [
    "Hello, you can prepare this file by yourself. 'tra_X_phrase_all' is an \".npy\" file and its shape is\n",
    "(# of samples, # of time steps, range of pitch, # of track).\n",
    "\n",
    "For example, in one of our case is (50266, 384, 84, 5). It means:\n",
    "(a) we have 50266 phrases for training\n",
    "(b) 96 (time resolution) x 4 (# of bar), so we have 384 time steps\n",
    "(c) we use 7 octave so the range of pitches is 84 (12 x 7)\n",
    "(d) there are five tracks\n",
    "\n",
    "We encourage you to prepare your own dataset. You can select desired genres and combine tracks arbitrarily after finishing the pre-processing part."
   ]
  },
  {
   "cell_type": "code",
   "execution_count": null,
   "metadata": {},
   "outputs": [],
   "source": [
    "96*4"
   ]
  },
  {
   "cell_type": "code",
   "execution_count": null,
   "metadata": {},
   "outputs": [],
   "source": [
    "!ls"
   ]
  },
  {
   "cell_type": "code",
   "execution_count": null,
   "metadata": {
    "collapsed": true
   },
   "outputs": [],
   "source": [
    "file = \"/home/eurismar/notebooks/musegan/training_data/lpd/lpd_full/0/0a0a2b0e4d3b7bf4c5383ba025c4683e.npz\""
   ]
  },
  {
   "cell_type": "code",
   "execution_count": null,
   "metadata": {
    "collapsed": true
   },
   "outputs": [],
   "source": [
    "data = np.load(file)"
   ]
  },
  {
   "cell_type": "code",
   "execution_count": null,
   "metadata": {},
   "outputs": [],
   "source": [
    "type(data)"
   ]
  },
  {
   "cell_type": "code",
   "execution_count": null,
   "metadata": {},
   "outputs": [],
   "source": [
    "data"
   ]
  },
  {
   "cell_type": "code",
   "execution_count": null,
   "metadata": {},
   "outputs": [],
   "source": [
    "for item in data:\n",
    "    print(item)"
   ]
  },
  {
   "cell_type": "code",
   "execution_count": null,
   "metadata": {},
   "outputs": [],
   "source": [
    "data['pianoroll_0_csc_indices']"
   ]
  },
  {
   "cell_type": "code",
   "execution_count": null,
   "metadata": {},
   "outputs": [],
   "source": [
    "data['pianoroll_0_csc_shape']"
   ]
  },
  {
   "cell_type": "code",
   "execution_count": null,
   "metadata": {},
   "outputs": [],
   "source": [
    "data['tempo']"
   ]
  },
  {
   "cell_type": "code",
   "execution_count": null,
   "metadata": {},
   "outputs": [],
   "source": [
    "data['tempo'].shape"
   ]
  },
  {
   "cell_type": "code",
   "execution_count": null,
   "metadata": {},
   "outputs": [],
   "source": [
    "data['pianoroll_0_csc_indptr']"
   ]
  },
  {
   "cell_type": "code",
   "execution_count": null,
   "metadata": {},
   "outputs": [],
   "source": [
    "data['pianoroll_0_csc_indptr'].shape"
   ]
  },
  {
   "cell_type": "code",
   "execution_count": null,
   "metadata": {},
   "outputs": [],
   "source": [
    "data['pianoroll_0_csc_indices'].shape"
   ]
  },
  {
   "cell_type": "markdown",
   "metadata": {
    "collapsed": true
   },
   "source": [
    "# Pianoroll Exemplo"
   ]
  },
  {
   "cell_type": "code",
   "execution_count": 36,
   "metadata": {},
   "outputs": [
    {
     "data": {
      "image/png": "[encoded data removed]",
      "text/plain": [
       "<matplotlib.figure.Figure at 0x7fe900f885f8>"
      ]
     },
     "metadata": {},
     "output_type": "display_data"
    }
   ],
   "source": [
    "import numpy as np\n",
    "from pypianoroll import Multitrack, Track\n",
    "from matplotlib import pyplot as plt\n",
    "\n",
    "# Create a piano-roll matrix, where the first and second axes represent time\n",
    "# and pitch, respectively, and assign a C major chord to the piano-roll\n",
    "pianoroll = np.zeros((96, 128))\n",
    "C_maj = [60, 64, 67, 72, 76, 79, 84]\n",
    "pianoroll[0:95, C_maj] = 100\n",
    "\n",
    "# Create a `pypianoroll.Track` instance\n",
    "track = Track(pianoroll=pianoroll, program=0, is_drum=False,\n",
    "              name='my awesome piano')\n",
    "\n",
    "# Plot the piano-roll\n",
    "fig, ax = track.plot()\n",
    "plt.show()"
   ]
  },
  {
   "cell_type": "code",
   "execution_count": 38,
   "metadata": {},
   "outputs": [
    {
     "data": {
      "text/plain": [
       "(96, 128)"
      ]
     },
     "execution_count": 38,
     "metadata": {},
     "output_type": "execute_result"
    }
   ],
   "source": [
    "pianoroll.shape"
   ]
  },
  {
   "cell_type": "code",
   "execution_count": 39,
   "metadata": {},
   "outputs": [
    {
     "data": {
      "text/plain": [
       "array([[0., 0., 0., ..., 0., 0., 0.],\n",
       "       [0., 0., 0., ..., 0., 0., 0.],\n",
       "       [0., 0., 0., ..., 0., 0., 0.],\n",
       "       ...,\n",
       "       [0., 0., 0., ..., 0., 0., 0.],\n",
       "       [0., 0., 0., ..., 0., 0., 0.],\n",
       "       [0., 0., 0., ..., 0., 0., 0.]])"
      ]
     },
     "execution_count": 39,
     "metadata": {},
     "output_type": "execute_result"
    }
   ],
   "source": [
    "pianoroll"
   ]
  },
  {
   "cell_type": "code",
   "execution_count": 41,
   "metadata": {},
   "outputs": [],
   "source": [
    "data = np.load(\"/home/eurismar/notebooks/musegan/training_data/lpd/lpd_full/0/0a0a2b0e4d3b7bf4c5383ba025c4683e.npz\")"
   ]
  },
  {
   "cell_type": "code",
   "execution_count": 42,
   "metadata": {},
   "outputs": [
    {
     "data": {
      "text/plain": [
       "<numpy.lib.npyio.NpzFile at 0x7fe900f88048>"
      ]
     },
     "execution_count": 42,
     "metadata": {},
     "output_type": "execute_result"
    }
   ],
   "source": [
    "data"
   ]
  },
  {
   "cell_type": "code",
   "execution_count": 44,
   "metadata": {},
   "outputs": [
    {
     "name": "stdout",
     "output_type": "stream",
     "text": [
      "pianoroll_0_csc_indptr\n",
      "pianoroll_0_csc_indices\n",
      "pianoroll_2_csc_indices\n",
      "pianoroll_2_csc_shape\n",
      "pianoroll_1_csc_indptr\n",
      "pianoroll_3_csc_indptr\n",
      "pianoroll_1_csc_indices\n",
      "pianoroll_3_csc_shape\n",
      "pianoroll_0_csc_data\n",
      "pianoroll_1_csc_data\n",
      "pianoroll_1_csc_shape\n",
      "tempo\n",
      "pianoroll_4_csc_indices\n",
      "pianoroll_3_csc_indices\n",
      "pianoroll_4_csc_shape\n",
      "pianoroll_2_csc_data\n",
      "pianoroll_3_csc_data\n",
      "pianoroll_4_csc_data\n",
      "pianoroll_4_csc_indptr\n",
      "pianoroll_2_csc_indptr\n",
      "downbeat\n",
      "pianoroll_0_csc_shape\n",
      "info.json\n"
     ]
    }
   ],
   "source": [
    "for item in data:\n",
    "    print(item)"
   ]
  },
  {
   "cell_type": "code",
   "execution_count": 45,
   "metadata": {},
   "outputs": [
    {
     "data": {
      "text/plain": [
       "b'{\"name\": \"0a0a2b0e4d3b7bf4c5383ba025c4683e\", \"1\": {\"is_drum\": false, \"program\": 36, \"name\": \"base2\"}, \"0\": {\"is_drum\": true, \"program\": 4, \"name\": \"Drums2\"}, \"3\": {\"is_drum\": false, \"program\": 22, \"name\": \"voice2\"}, \"2\": {\"is_drum\": false, \"program\": 18, \"name\": \"piano2\"}, \"4\": {\"is_drum\": false, \"program\": 0, \"name\": \"piano23\"}, \"beat_resolution\": 24}'"
      ]
     },
     "execution_count": 45,
     "metadata": {},
     "output_type": "execute_result"
    }
   ],
   "source": [
    "data['info.json']"
   ]
  },
  {
   "cell_type": "code",
   "execution_count": 46,
   "metadata": {
    "collapsed": true
   },
   "outputs": [],
   "source": [
    "info = data['info.json']"
   ]
  },
  {
   "cell_type": "code",
   "execution_count": 47,
   "metadata": {},
   "outputs": [
    {
     "data": {
      "text/plain": [
       "b'{\"name\": \"0a0a2b0e4d3b7bf4c5383ba025c4683e\", \"1\": {\"is_drum\": false, \"program\": 36, \"name\": \"base2\"}, \"0\": {\"is_drum\": true, \"program\": 4, \"name\": \"Drums2\"}, \"3\": {\"is_drum\": false, \"program\": 22, \"name\": \"voice2\"}, \"2\": {\"is_drum\": false, \"program\": 18, \"name\": \"piano2\"}, \"4\": {\"is_drum\": false, \"program\": 0, \"name\": \"piano23\"}, \"beat_resolution\": 24}'"
      ]
     },
     "execution_count": 47,
     "metadata": {},
     "output_type": "execute_result"
    }
   ],
   "source": [
    "info"
   ]
  },
  {
   "cell_type": "code",
   "execution_count": 53,
   "metadata": {},
   "outputs": [
    {
     "data": {
      "text/plain": [
       "array([120., 120., 120., ..., 120., 120., 120.])"
      ]
     },
     "execution_count": 53,
     "metadata": {},
     "output_type": "execute_result"
    }
   ],
   "source": [
    "data['tempo']"
   ]
  },
  {
   "cell_type": "code",
   "execution_count": 54,
   "metadata": {},
   "outputs": [
    {
     "data": {
      "text/plain": [
       "<numpy.lib.npyio.NpzFile at 0x7fe900f88048>"
      ]
     },
     "execution_count": 54,
     "metadata": {},
     "output_type": "execute_result"
    }
   ],
   "source": [
    "data"
   ]
  },
  {
   "cell_type": "code",
   "execution_count": 55,
   "metadata": {},
   "outputs": [
    {
     "name": "stdout",
     "output_type": "stream",
     "text": [
      "pianoroll_0_csc_indptr\n",
      "pianoroll_0_csc_indices\n",
      "pianoroll_2_csc_indices\n",
      "pianoroll_2_csc_shape\n",
      "pianoroll_1_csc_indptr\n",
      "pianoroll_3_csc_indptr\n",
      "pianoroll_1_csc_indices\n",
      "pianoroll_3_csc_shape\n",
      "pianoroll_0_csc_data\n",
      "pianoroll_1_csc_data\n",
      "pianoroll_1_csc_shape\n",
      "tempo\n",
      "pianoroll_4_csc_indices\n",
      "pianoroll_3_csc_indices\n",
      "pianoroll_4_csc_shape\n",
      "pianoroll_2_csc_data\n",
      "pianoroll_3_csc_data\n",
      "pianoroll_4_csc_data\n",
      "pianoroll_4_csc_indptr\n",
      "pianoroll_2_csc_indptr\n",
      "downbeat\n",
      "pianoroll_0_csc_shape\n",
      "info.json\n"
     ]
    }
   ],
   "source": [
    "for item in data:\n",
    "    print(item)"
   ]
  },
  {
   "cell_type": "code",
   "execution_count": 57,
   "metadata": {},
   "outputs": [],
   "source": [
    "x_train = sa.attach(CONFIG['data']['training_data'])"
   ]
  },
  {
   "cell_type": "code",
   "execution_count": 58,
   "metadata": {},
   "outputs": [
    {
     "data": {
      "text/plain": [
       "(2074, 6, 4, 96, 84, 5)"
      ]
     },
     "execution_count": 58,
     "metadata": {},
     "output_type": "execute_result"
    }
   ],
   "source": [
    "x_train.shape"
   ]
  },
  {
   "cell_type": "code",
   "execution_count": 59,
   "metadata": {
    "collapsed": true
   },
   "outputs": [],
   "source": [
    "x_train_1 = x_train[0]"
   ]
  },
  {
   "cell_type": "code",
   "execution_count": 60,
   "metadata": {},
   "outputs": [
    {
     "data": {
      "text/plain": [
       "array([[[[[False, False, False, False, False],\n",
       "          [False, False, False, False, False],\n",
       "          [False, False, False, False, False],\n",
       "          ...,\n",
       "          [False, False, False, False, False],\n",
       "          [False, False, False, False, False],\n",
       "          [False, False, False, False, False]],\n",
       "\n",
       "         [[False, False, False, False, False],\n",
       "          [False, False, False, False, False],\n",
       "          [False, False, False, False, False],\n",
       "          ...,\n",
       "          [False, False, False, False, False],\n",
       "          [False, False, False, False, False],\n",
       "          [False, False, False, False, False]],\n",
       "\n",
       "         [[False, False, False, False, False],\n",
       "          [False, False, False, False, False],\n",
       "          [False, False, False, False, False],\n",
       "          ...,\n",
       "          [False, False, False, False, False],\n",
       "          [False, False, False, False, False],\n",
       "          [False, False, False, False, False]],\n",
       "\n",
       "         ...,\n",
       "\n",
       "         [[False, False, False, False, False],\n",
       "          [False, False, False, False, False],\n",
       "          [False, False, False, False, False],\n",
       "          ...,\n",
       "          [False, False, False, False, False],\n",
       "          [False, False, False, False, False],\n",
       "          [False, False, False, False, False]],\n",
       "\n",
       "         [[False, False, False, False, False],\n",
       "          [False, False, False, False, False],\n",
       "          [False, False, False, False, False],\n",
       "          ...,\n",
       "          [False, False, False, False, False],\n",
       "          [False, False, False, False, False],\n",
       "          [False, False, False, False, False]],\n",
       "\n",
       "         [[False, False, False, False, False],\n",
       "          [False, False, False, False, False],\n",
       "          [False, False, False, False, False],\n",
       "          ...,\n",
       "          [False, False, False, False, False],\n",
       "          [False, False, False, False, False],\n",
       "          [False, False, False, False, False]]],\n",
       "\n",
       "\n",
       "        [[[False, False, False, False, False],\n",
       "          [False, False, False, False, False],\n",
       "          [False, False, False, False, False],\n",
       "          ...,\n",
       "          [False, False, False, False, False],\n",
       "          [False, False, False, False, False],\n",
       "          [False, False, False, False, False]],\n",
       "\n",
       "         [[False, False, False, False, False],\n",
       "          [False, False, False, False, False],\n",
       "          [False, False, False, False, False],\n",
       "          ...,\n",
       "          [False, False, False, False, False],\n",
       "          [False, False, False, False, False],\n",
       "          [False, False, False, False, False]],\n",
       "\n",
       "         [[False, False, False, False, False],\n",
       "          [False, False, False, False, False],\n",
       "          [False, False, False, False, False],\n",
       "          ...,\n",
       "          [False, False, False, False, False],\n",
       "          [False, False, False, False, False],\n",
       "          [False, False, False, False, False]],\n",
       "\n",
       "         ...,\n",
       "\n",
       "         [[False, False, False, False, False],\n",
       "          [False, False, False, False, False],\n",
       "          [False, False, False, False, False],\n",
       "          ...,\n",
       "          [False, False, False, False, False],\n",
       "          [False, False, False, False, False],\n",
       "          [False, False, False, False, False]],\n",
       "\n",
       "         [[False, False, False, False, False],\n",
       "          [False, False, False, False, False],\n",
       "          [False, False, False, False, False],\n",
       "          ...,\n",
       "          [False, False, False, False, False],\n",
       "          [False, False, False, False, False],\n",
       "          [False, False, False, False, False]],\n",
       "\n",
       "         [[False, False, False, False, False],\n",
       "          [False, False, False, False, False],\n",
       "          [False, False, False, False, False],\n",
       "          ...,\n",
       "          [False, False, False, False, False],\n",
       "          [False, False, False, False, False],\n",
       "          [False, False, False, False, False]]],\n",
       "\n",
       "\n",
       "        [[[False, False, False, False, False],\n",
       "          [False, False, False, False, False],\n",
       "          [False, False, False, False, False],\n",
       "          ...,\n",
       "          [False, False, False, False, False],\n",
       "          [False, False, False, False, False],\n",
       "          [False, False, False, False, False]],\n",
       "\n",
       "         [[False, False, False, False, False],\n",
       "          [False, False, False, False, False],\n",
       "          [False, False, False, False, False],\n",
       "          ...,\n",
       "          [False, False, False, False, False],\n",
       "          [False, False, False, False, False],\n",
       "          [False, False, False, False, False]],\n",
       "\n",
       "         [[False, False, False, False, False],\n",
       "          [False, False, False, False, False],\n",
       "          [False, False, False, False, False],\n",
       "          ...,\n",
       "          [False, False, False, False, False],\n",
       "          [False, False, False, False, False],\n",
       "          [False, False, False, False, False]],\n",
       "\n",
       "         ...,\n",
       "\n",
       "         [[False, False, False, False, False],\n",
       "          [False, False, False, False, False],\n",
       "          [False, False, False, False, False],\n",
       "          ...,\n",
       "          [False, False, False, False, False],\n",
       "          [False, False, False, False, False],\n",
       "          [False, False, False, False, False]],\n",
       "\n",
       "         [[False, False, False, False, False],\n",
       "          [False, False, False, False, False],\n",
       "          [False, False, False, False, False],\n",
       "          ...,\n",
       "          [False, False, False, False, False],\n",
       "          [False, False, False, False, False],\n",
       "          [False, False, False, False, False]],\n",
       "\n",
       "         [[False, False, False, False, False],\n",
       "          [False, False, False, False, False],\n",
       "          [False, False, False, False, False],\n",
       "          ...,\n",
       "          [False, False, False, False, False],\n",
       "          [False, False, False, False, False],\n",
       "          [False, False, False, False, False]]],\n",
       "\n",
       "\n",
       "        [[[False, False, False, False, False],\n",
       "          [False, False, False, False, False],\n",
       "          [False, False, False, False, False],\n",
       "          ...,\n",
       "          [False, False, False, False, False],\n",
       "          [False, False, False, False, False],\n",
       "          [False, False, False, False, False]],\n",
       "\n",
       "         [[False, False, False, False, False],\n",
       "          [False, False, False, False, False],\n",
       "          [False, False, False, False, False],\n",
       "          ...,\n",
       "          [False, False, False, False, False],\n",
       "          [False, False, False, False, False],\n",
       "          [False, False, False, False, False]],\n",
       "\n",
       "         [[False, False, False, False, False],\n",
       "          [False, False, False, False, False],\n",
       "          [False, False, False, False, False],\n",
       "          ...,\n",
       "          [False, False, False, False, False],\n",
       "          [False, False, False, False, False],\n",
       "          [False, False, False, False, False]],\n",
       "\n",
       "         ...,\n",
       "\n",
       "         [[False, False, False, False, False],\n",
       "          [False, False, False, False, False],\n",
       "          [False, False, False, False, False],\n",
       "          ...,\n",
       "          [False, False, False, False, False],\n",
       "          [False, False, False, False, False],\n",
       "          [False, False, False, False, False]],\n",
       "\n",
       "         [[False, False, False, False, False],\n",
       "          [False, False, False, False, False],\n",
       "          [False, False, False, False, False],\n",
       "          ...,\n",
       "          [False, False, False, False, False],\n",
       "          [False, False, False, False, False],\n",
       "          [False, False, False, False, False]],\n",
       "\n",
       "         [[False, False, False, False, False],\n",
       "          [False, False, False, False, False],\n",
       "          [False, False, False, False, False],\n",
       "          ...,\n",
       "          [False, False, False, False, False],\n",
       "          [False, False, False, False, False],\n",
       "          [False, False, False, False, False]]]],\n",
       "\n",
       "\n",
       "\n",
       "       [[[[False, False, False, False, False],\n",
       "          [False, False, False, False, False],\n",
       "          [False, False, False, False, False],\n",
       "          ...,\n",
       "          [False, False, False, False, False],\n",
       "          [False, False, False, False, False],\n",
       "          [False, False, False, False, False]],\n",
       "\n",
       "         [[False, False, False, False, False],\n",
       "          [False, False, False, False, False],\n",
       "          [False, False, False, False, False],\n",
       "          ...,\n",
       "          [False, False, False, False, False],\n",
       "          [False, False, False, False, False],\n",
       "          [False, False, False, False, False]],\n",
       "\n",
       "         [[False, False, False, False, False],\n",
       "          [False, False, False, False, False],\n",
       "          [False, False, False, False, False],\n",
       "          ...,\n",
       "          [False, False, False, False, False],\n",
       "          [False, False, False, False, False],\n",
       "          [False, False, False, False, False]],\n",
       "\n",
       "         ...,\n",
       "\n",
       "         [[False, False, False, False, False],\n",
       "          [False, False, False, False, False],\n",
       "          [False, False, False, False, False],\n",
       "          ...,\n",
       "          [False, False, False, False, False],\n",
       "          [False, False, False, False, False],\n",
       "          [False, False, False, False, False]],\n",
       "\n",
       "         [[False, False, False, False, False],\n",
       "          [False, False, False, False, False],\n",
       "          [False, False, False, False, False],\n",
       "          ...,\n",
       "          [False, False, False, False, False],\n",
       "          [False, False, False, False, False],\n",
       "          [False, False, False, False, False]],\n",
       "\n",
       "         [[False, False, False, False, False],\n",
       "          [False, False, False, False, False],\n",
       "          [False, False, False, False, False],\n",
       "          ...,\n",
       "          [False, False, False, False, False],\n",
       "          [False, False, False, False, False],\n",
       "          [False, False, False, False, False]]],\n",
       "\n",
       "\n",
       "        [[[False, False, False, False, False],\n",
       "          [False, False, False, False, False],\n",
       "          [False, False, False, False, False],\n",
       "          ...,\n",
       "          [False, False, False, False, False],\n",
       "          [False, False, False, False, False],\n",
       "          [False, False, False, False, False]],\n",
       "\n",
       "         [[False, False, False, False, False],\n",
       "          [False, False, False, False, False],\n",
       "          [False, False, False, False, False],\n",
       "          ...,\n",
       "          [False, False, False, False, False],\n",
       "          [False, False, False, False, False],\n",
       "          [False, False, False, False, False]],\n",
       "\n",
       "         [[False, False, False, False, False],\n",
       "          [False, False, False, False, False],\n",
       "          [False, False, False, False, False],\n",
       "          ...,\n",
       "          [False, False, False, False, False],\n",
       "          [False, False, False, False, False],\n",
       "          [False, False, False, False, False]],\n",
       "\n",
       "         ...,\n",
       "\n",
       "         [[False, False, False, False, False],\n",
       "          [False, False, False, False, False],\n",
       "          [False, False, False, False, False],\n",
       "          ...,\n",
       "          [False, False, False, False, False],\n",
       "          [False, False, False, False, False],\n",
       "          [False, False, False, False, False]],\n",
       "\n",
       "         [[False, False, False, False, False],\n",
       "          [False, False, False, False, False],\n",
       "          [False, False, False, False, False],\n",
       "          ...,\n",
       "          [False, False, False, False, False],\n",
       "          [False, False, False, False, False],\n",
       "          [False, False, False, False, False]],\n",
       "\n",
       "         [[False, False, False, False, False],\n",
       "          [False, False, False, False, False],\n",
       "          [False, False, False, False, False],\n",
       "          ...,\n",
       "          [False, False, False, False, False],\n",
       "          [False, False, False, False, False],\n",
       "          [False, False, False, False, False]]],\n",
       "\n",
       "\n",
       "        [[[False, False, False, False, False],\n",
       "          [False, False, False, False, False],\n",
       "          [False, False, False, False, False],\n",
       "          ...,\n",
       "          [False, False, False, False, False],\n",
       "          [False, False, False, False, False],\n",
       "          [False, False, False, False, False]],\n",
       "\n",
       "         [[False, False, False, False, False],\n",
       "          [False, False, False, False, False],\n",
       "          [False, False, False, False, False],\n",
       "          ...,\n",
       "          [False, False, False, False, False],\n",
       "          [False, False, False, False, False],\n",
       "          [False, False, False, False, False]],\n",
       "\n",
       "         [[False, False, False, False, False],\n",
       "          [False, False, False, False, False],\n",
       "          [False, False, False, False, False],\n",
       "          ...,\n",
       "          [False, False, False, False, False],\n",
       "          [False, False, False, False, False],\n",
       "          [False, False, False, False, False]],\n",
       "\n",
       "         ...,\n",
       "\n",
       "         [[False, False, False, False, False],\n",
       "          [False, False, False, False, False],\n",
       "          [False, False, False, False, False],\n",
       "          ...,\n",
       "          [False, False, False, False, False],\n",
       "          [False, False, False, False, False],\n",
       "          [False, False, False, False, False]],\n",
       "\n",
       "         [[False, False, False, False, False],\n",
       "          [False, False, False, False, False],\n",
       "          [False, False, False, False, False],\n",
       "          ...,\n",
       "          [False, False, False, False, False],\n",
       "          [False, False, False, False, False],\n",
       "          [False, False, False, False, False]],\n",
       "\n",
       "         [[False, False, False, False, False],\n",
       "          [False, False, False, False, False],\n",
       "          [False, False, False, False, False],\n",
       "          ...,\n",
       "          [False, False, False, False, False],\n",
       "          [False, False, False, False, False],\n",
       "          [False, False, False, False, False]]],\n",
       "\n",
       "\n",
       "        [[[False, False, False, False, False],\n",
       "          [False, False, False, False, False],\n",
       "          [False, False, False, False, False],\n",
       "          ...,\n",
       "          [False, False, False, False, False],\n",
       "          [False, False, False, False, False],\n",
       "          [False, False, False, False, False]],\n",
       "\n",
       "         [[False, False, False, False, False],\n",
       "          [False, False, False, False, False],\n",
       "          [False, False, False, False, False],\n",
       "          ...,\n",
       "          [False, False, False, False, False],\n",
       "          [False, False, False, False, False],\n",
       "          [False, False, False, False, False]],\n",
       "\n",
       "         [[False, False, False, False, False],\n",
       "          [False, False, False, False, False],\n",
       "          [False, False, False, False, False],\n",
       "          ...,\n",
       "          [False, False, False, False, False],\n",
       "          [False, False, False, False, False],\n",
       "          [False, False, False, False, False]],\n",
       "\n",
       "         ...,\n",
       "\n",
       "         [[False, False, False, False, False],\n",
       "          [False, False, False, False, False],\n",
       "          [False, False, False, False, False],\n",
       "          ...,\n",
       "          [False, False, False, False, False],\n",
       "          [False, False, False, False, False],\n",
       "          [False, False, False, False, False]],\n",
       "\n",
       "         [[False, False, False, False, False],\n",
       "          [False, False, False, False, False],\n",
       "          [False, False, False, False, False],\n",
       "          ...,\n",
       "          [False, False, False, False, False],\n",
       "          [False, False, False, False, False],\n",
       "          [False, False, False, False, False]],\n",
       "\n",
       "         [[False, False, False, False, False],\n",
       "          [False, False, False, False, False],\n",
       "          [False, False, False, False, False],\n",
       "          ...,\n",
       "          [False, False, False, False, False],\n",
       "          [False, False, False, False, False],\n",
       "          [False, False, False, False, False]]]],\n",
       "\n",
       "\n",
       "\n",
       "       [[[[False, False, False, False, False],\n",
       "          [False, False, False, False, False],\n",
       "          [False, False, False, False, False],\n",
       "          ...,\n",
       "          [False, False, False, False, False],\n",
       "          [False, False, False, False, False],\n",
       "          [False, False, False, False, False]],\n",
       "\n",
       "         [[False, False, False, False, False],\n",
       "          [False, False, False, False, False],\n",
       "          [False, False, False, False, False],\n",
       "          ...,\n",
       "          [False, False, False, False, False],\n",
       "          [False, False, False, False, False],\n",
       "          [False, False, False, False, False]],\n",
       "\n",
       "         [[False, False, False, False, False],\n",
       "          [False, False, False, False, False],\n",
       "          [False, False, False, False, False],\n",
       "          ...,\n",
       "          [False, False, False, False, False],\n",
       "          [False, False, False, False, False],\n",
       "          [False, False, False, False, False]],\n",
       "\n",
       "         ...,\n",
       "\n",
       "         [[False, False, False, False, False],\n",
       "          [False, False, False, False, False],\n",
       "          [False, False, False, False, False],\n",
       "          ...,\n",
       "          [False, False, False, False, False],\n",
       "          [False, False, False, False, False],\n",
       "          [False, False, False, False, False]],\n",
       "\n",
       "         [[False, False, False, False, False],\n",
       "          [False, False, False, False, False],\n",
       "          [False, False, False, False, False],\n",
       "          ...,\n",
       "          [False, False, False, False, False],\n",
       "          [False, False, False, False, False],\n",
       "          [False, False, False, False, False]],\n",
       "\n",
       "         [[False, False, False, False, False],\n",
       "          [False, False, False, False, False],\n",
       "          [False, False, False, False, False],\n",
       "          ...,\n",
       "          [False, False, False, False, False],\n",
       "          [False, False, False, False, False],\n",
       "          [False, False, False, False, False]]],\n",
       "\n",
       "\n",
       "        [[[False, False, False, False, False],\n",
       "          [False, False, False, False, False],\n",
       "          [False, False, False, False, False],\n",
       "          ...,\n",
       "          [False, False, False, False, False],\n",
       "          [False, False, False, False, False],\n",
       "          [False, False, False, False, False]],\n",
       "\n",
       "         [[False, False, False, False, False],\n",
       "          [False, False, False, False, False],\n",
       "          [False, False, False, False, False],\n",
       "          ...,\n",
       "          [False, False, False, False, False],\n",
       "          [False, False, False, False, False],\n",
       "          [False, False, False, False, False]],\n",
       "\n",
       "         [[False, False, False, False, False],\n",
       "          [False, False, False, False, False],\n",
       "          [False, False, False, False, False],\n",
       "          ...,\n",
       "          [False, False, False, False, False],\n",
       "          [False, False, False, False, False],\n",
       "          [False, False, False, False, False]],\n",
       "\n",
       "         ...,\n",
       "\n",
       "         [[False, False, False, False, False],\n",
       "          [False, False, False, False, False],\n",
       "          [False, False, False, False, False],\n",
       "          ...,\n",
       "          [False, False, False, False, False],\n",
       "          [False, False, False, False, False],\n",
       "          [False, False, False, False, False]],\n",
       "\n",
       "         [[False, False, False, False, False],\n",
       "          [False, False, False, False, False],\n",
       "          [False, False, False, False, False],\n",
       "          ...,\n",
       "          [False, False, False, False, False],\n",
       "          [False, False, False, False, False],\n",
       "          [False, False, False, False, False]],\n",
       "\n",
       "         [[False, False, False, False, False],\n",
       "          [False, False, False, False, False],\n",
       "          [False, False, False, False, False],\n",
       "          ...,\n",
       "          [False, False, False, False, False],\n",
       "          [False, False, False, False, False],\n",
       "          [False, False, False, False, False]]],\n",
       "\n",
       "\n",
       "        [[[False, False, False, False, False],\n",
       "          [False, False, False, False, False],\n",
       "          [False, False, False, False, False],\n",
       "          ...,\n",
       "          [False, False, False, False, False],\n",
       "          [False, False, False, False, False],\n",
       "          [False, False, False, False, False]],\n",
       "\n",
       "         [[False, False, False, False, False],\n",
       "          [False, False, False, False, False],\n",
       "          [False, False, False, False, False],\n",
       "          ...,\n",
       "          [False, False, False, False, False],\n",
       "          [False, False, False, False, False],\n",
       "          [False, False, False, False, False]],\n",
       "\n",
       "         [[False, False, False, False, False],\n",
       "          [False, False, False, False, False],\n",
       "          [False, False, False, False, False],\n",
       "          ...,\n",
       "          [False, False, False, False, False],\n",
       "          [False, False, False, False, False],\n",
       "          [False, False, False, False, False]],\n",
       "\n",
       "         ...,\n",
       "\n",
       "         [[False, False, False, False, False],\n",
       "          [False, False, False, False, False],\n",
       "          [False, False, False, False, False],\n",
       "          ...,\n",
       "          [False, False, False, False, False],\n",
       "          [False, False, False, False, False],\n",
       "          [False, False, False, False, False]],\n",
       "\n",
       "         [[False, False, False, False, False],\n",
       "          [False, False, False, False, False],\n",
       "          [False, False, False, False, False],\n",
       "          ...,\n",
       "          [False, False, False, False, False],\n",
       "          [False, False, False, False, False],\n",
       "          [False, False, False, False, False]],\n",
       "\n",
       "         [[False, False, False, False, False],\n",
       "          [False, False, False, False, False],\n",
       "          [False, False, False, False, False],\n",
       "          ...,\n",
       "          [False, False, False, False, False],\n",
       "          [False, False, False, False, False],\n",
       "          [False, False, False, False, False]]],\n",
       "\n",
       "\n",
       "        [[[False, False, False, False, False],\n",
       "          [False, False, False, False, False],\n",
       "          [False, False, False, False, False],\n",
       "          ...,\n",
       "          [False, False, False, False, False],\n",
       "          [False, False, False, False, False],\n",
       "          [False, False, False, False, False]],\n",
       "\n",
       "         [[False, False, False, False, False],\n",
       "          [False, False, False, False, False],\n",
       "          [False, False, False, False, False],\n",
       "          ...,\n",
       "          [False, False, False, False, False],\n",
       "          [False, False, False, False, False],\n",
       "          [False, False, False, False, False]],\n",
       "\n",
       "         [[False, False, False, False, False],\n",
       "          [False, False, False, False, False],\n",
       "          [False, False, False, False, False],\n",
       "          ...,\n",
       "          [False, False, False, False, False],\n",
       "          [False, False, False, False, False],\n",
       "          [False, False, False, False, False]],\n",
       "\n",
       "         ...,\n",
       "\n",
       "         [[False, False, False, False, False],\n",
       "          [False, False, False, False, False],\n",
       "          [False, False, False, False, False],\n",
       "          ...,\n",
       "          [False, False, False, False, False],\n",
       "          [False, False, False, False, False],\n",
       "          [False, False, False, False, False]],\n",
       "\n",
       "         [[False, False, False, False, False],\n",
       "          [False, False, False, False, False],\n",
       "          [False, False, False, False, False],\n",
       "          ...,\n",
       "          [False, False, False, False, False],\n",
       "          [False, False, False, False, False],\n",
       "          [False, False, False, False, False]],\n",
       "\n",
       "         [[False, False, False, False, False],\n",
       "          [False, False, False, False, False],\n",
       "          [False, False, False, False, False],\n",
       "          ...,\n",
       "          [False, False, False, False, False],\n",
       "          [False, False, False, False, False],\n",
       "          [False, False, False, False, False]]]],\n",
       "\n",
       "\n",
       "\n",
       "       [[[[False, False, False, False, False],\n",
       "          [False, False, False, False, False],\n",
       "          [False, False, False, False, False],\n",
       "          ...,\n",
       "          [False, False, False, False, False],\n",
       "          [False, False, False, False, False],\n",
       "          [False, False, False, False, False]],\n",
       "\n",
       "         [[False, False, False, False, False],\n",
       "          [False, False, False, False, False],\n",
       "          [False, False, False, False, False],\n",
       "          ...,\n",
       "          [False, False, False, False, False],\n",
       "          [False, False, False, False, False],\n",
       "          [False, False, False, False, False]],\n",
       "\n",
       "         [[False, False, False, False, False],\n",
       "          [False, False, False, False, False],\n",
       "          [False, False, False, False, False],\n",
       "          ...,\n",
       "          [False, False, False, False, False],\n",
       "          [False, False, False, False, False],\n",
       "          [False, False, False, False, False]],\n",
       "\n",
       "         ...,\n",
       "\n",
       "         [[False, False, False, False, False],\n",
       "          [False, False, False, False, False],\n",
       "          [False, False, False, False, False],\n",
       "          ...,\n",
       "          [False, False, False, False, False],\n",
       "          [False, False, False, False, False],\n",
       "          [False, False, False, False, False]],\n",
       "\n",
       "         [[False, False, False, False, False],\n",
       "          [False, False, False, False, False],\n",
       "          [False, False, False, False, False],\n",
       "          ...,\n",
       "          [False, False, False, False, False],\n",
       "          [False, False, False, False, False],\n",
       "          [False, False, False, False, False]],\n",
       "\n",
       "         [[False, False, False, False, False],\n",
       "          [False, False, False, False, False],\n",
       "          [False, False, False, False, False],\n",
       "          ...,\n",
       "          [False, False, False, False, False],\n",
       "          [False, False, False, False, False],\n",
       "          [False, False, False, False, False]]],\n",
       "\n",
       "\n",
       "        [[[False, False, False, False, False],\n",
       "          [False, False, False, False, False],\n",
       "          [False, False, False, False, False],\n",
       "          ...,\n",
       "          [False, False, False, False, False],\n",
       "          [False, False, False, False, False],\n",
       "          [False, False, False, False, False]],\n",
       "\n",
       "         [[False, False, False, False, False],\n",
       "          [False, False, False, False, False],\n",
       "          [False, False, False, False, False],\n",
       "          ...,\n",
       "          [False, False, False, False, False],\n",
       "          [False, False, False, False, False],\n",
       "          [False, False, False, False, False]],\n",
       "\n",
       "         [[False, False, False, False, False],\n",
       "          [False, False, False, False, False],\n",
       "          [False, False, False, False, False],\n",
       "          ...,\n",
       "          [False, False, False, False, False],\n",
       "          [False, False, False, False, False],\n",
       "          [False, False, False, False, False]],\n",
       "\n",
       "         ...,\n",
       "\n",
       "         [[False, False, False, False, False],\n",
       "          [False, False, False, False, False],\n",
       "          [False, False, False, False, False],\n",
       "          ...,\n",
       "          [False, False, False, False, False],\n",
       "          [False, False, False, False, False],\n",
       "          [False, False, False, False, False]],\n",
       "\n",
       "         [[False, False, False, False, False],\n",
       "          [False, False, False, False, False],\n",
       "          [False, False, False, False, False],\n",
       "          ...,\n",
       "          [False, False, False, False, False],\n",
       "          [False, False, False, False, False],\n",
       "          [False, False, False, False, False]],\n",
       "\n",
       "         [[False, False, False, False, False],\n",
       "          [False, False, False, False, False],\n",
       "          [False, False, False, False, False],\n",
       "          ...,\n",
       "          [False, False, False, False, False],\n",
       "          [False, False, False, False, False],\n",
       "          [False, False, False, False, False]]],\n",
       "\n",
       "\n",
       "        [[[False, False, False, False, False],\n",
       "          [False, False, False, False, False],\n",
       "          [False, False, False, False, False],\n",
       "          ...,\n",
       "          [False, False, False, False, False],\n",
       "          [False, False, False, False, False],\n",
       "          [False, False, False, False, False]],\n",
       "\n",
       "         [[False, False, False, False, False],\n",
       "          [False, False, False, False, False],\n",
       "          [False, False, False, False, False],\n",
       "          ...,\n",
       "          [False, False, False, False, False],\n",
       "          [False, False, False, False, False],\n",
       "          [False, False, False, False, False]],\n",
       "\n",
       "         [[False, False, False, False, False],\n",
       "          [False, False, False, False, False],\n",
       "          [False, False, False, False, False],\n",
       "          ...,\n",
       "          [False, False, False, False, False],\n",
       "          [False, False, False, False, False],\n",
       "          [False, False, False, False, False]],\n",
       "\n",
       "         ...,\n",
       "\n",
       "         [[False, False, False, False, False],\n",
       "          [False, False, False, False, False],\n",
       "          [False, False, False, False, False],\n",
       "          ...,\n",
       "          [False, False, False, False, False],\n",
       "          [False, False, False, False, False],\n",
       "          [False, False, False, False, False]],\n",
       "\n",
       "         [[False, False, False, False, False],\n",
       "          [False, False, False, False, False],\n",
       "          [False, False, False, False, False],\n",
       "          ...,\n",
       "          [False, False, False, False, False],\n",
       "          [False, False, False, False, False],\n",
       "          [False, False, False, False, False]],\n",
       "\n",
       "         [[False, False, False, False, False],\n",
       "          [False, False, False, False, False],\n",
       "          [False, False, False, False, False],\n",
       "          ...,\n",
       "          [False, False, False, False, False],\n",
       "          [False, False, False, False, False],\n",
       "          [False, False, False, False, False]]],\n",
       "\n",
       "\n",
       "        [[[False, False, False, False, False],\n",
       "          [False, False, False, False, False],\n",
       "          [False, False, False, False, False],\n",
       "          ...,\n",
       "          [False, False, False, False, False],\n",
       "          [False, False, False, False, False],\n",
       "          [False, False, False, False, False]],\n",
       "\n",
       "         [[False, False, False, False, False],\n",
       "          [False, False, False, False, False],\n",
       "          [False, False, False, False, False],\n",
       "          ...,\n",
       "          [False, False, False, False, False],\n",
       "          [False, False, False, False, False],\n",
       "          [False, False, False, False, False]],\n",
       "\n",
       "         [[False, False, False, False, False],\n",
       "          [False, False, False, False, False],\n",
       "          [False, False, False, False, False],\n",
       "          ...,\n",
       "          [False, False, False, False, False],\n",
       "          [False, False, False, False, False],\n",
       "          [False, False, False, False, False]],\n",
       "\n",
       "         ...,\n",
       "\n",
       "         [[False, False, False, False, False],\n",
       "          [False, False, False, False, False],\n",
       "          [False, False, False, False, False],\n",
       "          ...,\n",
       "          [False, False, False, False, False],\n",
       "          [False, False, False, False, False],\n",
       "          [False, False, False, False, False]],\n",
       "\n",
       "         [[False, False, False, False, False],\n",
       "          [False, False, False, False, False],\n",
       "          [False, False, False, False, False],\n",
       "          ...,\n",
       "          [False, False, False, False, False],\n",
       "          [False, False, False, False, False],\n",
       "          [False, False, False, False, False]],\n",
       "\n",
       "         [[False, False, False, False, False],\n",
       "          [False, False, False, False, False],\n",
       "          [False, False, False, False, False],\n",
       "          ...,\n",
       "          [False, False, False, False, False],\n",
       "          [False, False, False, False, False],\n",
       "          [False, False, False, False, False]]]],\n",
       "\n",
       "\n",
       "\n",
       "       [[[[False, False, False, False, False],\n",
       "          [False, False, False, False, False],\n",
       "          [False, False, False, False, False],\n",
       "          ...,\n",
       "          [False, False, False, False, False],\n",
       "          [False, False, False, False, False],\n",
       "          [False, False, False, False, False]],\n",
       "\n",
       "         [[False, False, False, False, False],\n",
       "          [False, False, False, False, False],\n",
       "          [False, False, False, False, False],\n",
       "          ...,\n",
       "          [False, False, False, False, False],\n",
       "          [False, False, False, False, False],\n",
       "          [False, False, False, False, False]],\n",
       "\n",
       "         [[False, False, False, False, False],\n",
       "          [False, False, False, False, False],\n",
       "          [False, False, False, False, False],\n",
       "          ...,\n",
       "          [False, False, False, False, False],\n",
       "          [False, False, False, False, False],\n",
       "          [False, False, False, False, False]],\n",
       "\n",
       "         ...,\n",
       "\n",
       "         [[False, False, False, False, False],\n",
       "          [False, False, False, False, False],\n",
       "          [False, False, False, False, False],\n",
       "          ...,\n",
       "          [False, False, False, False, False],\n",
       "          [False, False, False, False, False],\n",
       "          [False, False, False, False, False]],\n",
       "\n",
       "         [[False, False, False, False, False],\n",
       "          [False, False, False, False, False],\n",
       "          [False, False, False, False, False],\n",
       "          ...,\n",
       "          [False, False, False, False, False],\n",
       "          [False, False, False, False, False],\n",
       "          [False, False, False, False, False]],\n",
       "\n",
       "         [[False, False, False, False, False],\n",
       "          [False, False, False, False, False],\n",
       "          [False, False, False, False, False],\n",
       "          ...,\n",
       "          [False, False, False, False, False],\n",
       "          [False, False, False, False, False],\n",
       "          [False, False, False, False, False]]],\n",
       "\n",
       "\n",
       "        [[[False, False, False, False, False],\n",
       "          [False, False, False, False, False],\n",
       "          [False, False, False, False, False],\n",
       "          ...,\n",
       "          [False, False, False, False, False],\n",
       "          [False, False, False, False, False],\n",
       "          [False, False, False, False, False]],\n",
       "\n",
       "         [[False, False, False, False, False],\n",
       "          [False, False, False, False, False],\n",
       "          [False, False, False, False, False],\n",
       "          ...,\n",
       "          [False, False, False, False, False],\n",
       "          [False, False, False, False, False],\n",
       "          [False, False, False, False, False]],\n",
       "\n",
       "         [[False, False, False, False, False],\n",
       "          [False, False, False, False, False],\n",
       "          [False, False, False, False, False],\n",
       "          ...,\n",
       "          [False, False, False, False, False],\n",
       "          [False, False, False, False, False],\n",
       "          [False, False, False, False, False]],\n",
       "\n",
       "         ...,\n",
       "\n",
       "         [[False, False, False, False, False],\n",
       "          [False, False, False, False, False],\n",
       "          [False, False, False, False, False],\n",
       "          ...,\n",
       "          [False, False, False, False, False],\n",
       "          [False, False, False, False, False],\n",
       "          [False, False, False, False, False]],\n",
       "\n",
       "         [[False, False, False, False, False],\n",
       "          [False, False, False, False, False],\n",
       "          [False, False, False, False, False],\n",
       "          ...,\n",
       "          [False, False, False, False, False],\n",
       "          [False, False, False, False, False],\n",
       "          [False, False, False, False, False]],\n",
       "\n",
       "         [[False, False, False, False, False],\n",
       "          [False, False, False, False, False],\n",
       "          [False, False, False, False, False],\n",
       "          ...,\n",
       "          [False, False, False, False, False],\n",
       "          [False, False, False, False, False],\n",
       "          [False, False, False, False, False]]],\n",
       "\n",
       "\n",
       "        [[[False, False, False, False, False],\n",
       "          [False, False, False, False, False],\n",
       "          [False, False, False, False, False],\n",
       "          ...,\n",
       "          [False, False, False, False, False],\n",
       "          [False, False, False, False, False],\n",
       "          [False, False, False, False, False]],\n",
       "\n",
       "         [[False, False, False, False, False],\n",
       "          [False, False, False, False, False],\n",
       "          [False, False, False, False, False],\n",
       "          ...,\n",
       "          [False, False, False, False, False],\n",
       "          [False, False, False, False, False],\n",
       "          [False, False, False, False, False]],\n",
       "\n",
       "         [[False, False, False, False, False],\n",
       "          [False, False, False, False, False],\n",
       "          [False, False, False, False, False],\n",
       "          ...,\n",
       "          [False, False, False, False, False],\n",
       "          [False, False, False, False, False],\n",
       "          [False, False, False, False, False]],\n",
       "\n",
       "         ...,\n",
       "\n",
       "         [[False, False, False, False, False],\n",
       "          [False, False, False, False, False],\n",
       "          [False, False, False, False, False],\n",
       "          ...,\n",
       "          [False, False, False, False, False],\n",
       "          [False, False, False, False, False],\n",
       "          [False, False, False, False, False]],\n",
       "\n",
       "         [[False, False, False, False, False],\n",
       "          [False, False, False, False, False],\n",
       "          [False, False, False, False, False],\n",
       "          ...,\n",
       "          [False, False, False, False, False],\n",
       "          [False, False, False, False, False],\n",
       "          [False, False, False, False, False]],\n",
       "\n",
       "         [[False, False, False, False, False],\n",
       "          [False, False, False, False, False],\n",
       "          [False, False, False, False, False],\n",
       "          ...,\n",
       "          [False, False, False, False, False],\n",
       "          [False, False, False, False, False],\n",
       "          [False, False, False, False, False]]],\n",
       "\n",
       "\n",
       "        [[[False, False, False, False, False],\n",
       "          [False, False, False, False, False],\n",
       "          [False, False, False, False, False],\n",
       "          ...,\n",
       "          [False, False, False, False, False],\n",
       "          [False, False, False, False, False],\n",
       "          [False, False, False, False, False]],\n",
       "\n",
       "         [[False, False, False, False, False],\n",
       "          [False, False, False, False, False],\n",
       "          [False, False, False, False, False],\n",
       "          ...,\n",
       "          [False, False, False, False, False],\n",
       "          [False, False, False, False, False],\n",
       "          [False, False, False, False, False]],\n",
       "\n",
       "         [[False, False, False, False, False],\n",
       "          [False, False, False, False, False],\n",
       "          [False, False, False, False, False],\n",
       "          ...,\n",
       "          [False, False, False, False, False],\n",
       "          [False, False, False, False, False],\n",
       "          [False, False, False, False, False]],\n",
       "\n",
       "         ...,\n",
       "\n",
       "         [[False, False, False, False, False],\n",
       "          [False, False, False, False, False],\n",
       "          [False, False, False, False, False],\n",
       "          ...,\n",
       "          [False, False, False, False, False],\n",
       "          [False, False, False, False, False],\n",
       "          [False, False, False, False, False]],\n",
       "\n",
       "         [[False, False, False, False, False],\n",
       "          [False, False, False, False, False],\n",
       "          [False, False, False, False, False],\n",
       "          ...,\n",
       "          [False, False, False, False, False],\n",
       "          [False, False, False, False, False],\n",
       "          [False, False, False, False, False]],\n",
       "\n",
       "         [[False, False, False, False, False],\n",
       "          [False, False, False, False, False],\n",
       "          [False, False, False, False, False],\n",
       "          ...,\n",
       "          [False, False, False, False, False],\n",
       "          [False, False, False, False, False],\n",
       "          [False, False, False, False, False]]]],\n",
       "\n",
       "\n",
       "\n",
       "       [[[[False, False, False, False, False],\n",
       "          [False, False, False, False, False],\n",
       "          [False, False, False, False, False],\n",
       "          ...,\n",
       "          [False, False, False, False, False],\n",
       "          [False, False, False, False, False],\n",
       "          [False, False, False, False, False]],\n",
       "\n",
       "         [[False, False, False, False, False],\n",
       "          [False, False, False, False, False],\n",
       "          [False, False, False, False, False],\n",
       "          ...,\n",
       "          [False, False, False, False, False],\n",
       "          [False, False, False, False, False],\n",
       "          [False, False, False, False, False]],\n",
       "\n",
       "         [[False, False, False, False, False],\n",
       "          [False, False, False, False, False],\n",
       "          [False, False, False, False, False],\n",
       "          ...,\n",
       "          [False, False, False, False, False],\n",
       "          [False, False, False, False, False],\n",
       "          [False, False, False, False, False]],\n",
       "\n",
       "         ...,\n",
       "\n",
       "         [[False, False, False, False, False],\n",
       "          [False, False, False, False, False],\n",
       "          [False, False, False, False, False],\n",
       "          ...,\n",
       "          [False, False, False, False, False],\n",
       "          [False, False, False, False, False],\n",
       "          [False, False, False, False, False]],\n",
       "\n",
       "         [[False, False, False, False, False],\n",
       "          [False, False, False, False, False],\n",
       "          [False, False, False, False, False],\n",
       "          ...,\n",
       "          [False, False, False, False, False],\n",
       "          [False, False, False, False, False],\n",
       "          [False, False, False, False, False]],\n",
       "\n",
       "         [[False, False, False, False, False],\n",
       "          [False, False, False, False, False],\n",
       "          [False, False, False, False, False],\n",
       "          ...,\n",
       "          [False, False, False, False, False],\n",
       "          [False, False, False, False, False],\n",
       "          [False, False, False, False, False]]],\n",
       "\n",
       "\n",
       "        [[[False, False, False, False, False],\n",
       "          [False, False, False, False, False],\n",
       "          [False, False, False, False, False],\n",
       "          ...,\n",
       "          [False, False, False, False, False],\n",
       "          [False, False, False, False, False],\n",
       "          [False, False, False, False, False]],\n",
       "\n",
       "         [[False, False, False, False, False],\n",
       "          [False, False, False, False, False],\n",
       "          [False, False, False, False, False],\n",
       "          ...,\n",
       "          [False, False, False, False, False],\n",
       "          [False, False, False, False, False],\n",
       "          [False, False, False, False, False]],\n",
       "\n",
       "         [[False, False, False, False, False],\n",
       "          [False, False, False, False, False],\n",
       "          [False, False, False, False, False],\n",
       "          ...,\n",
       "          [False, False, False, False, False],\n",
       "          [False, False, False, False, False],\n",
       "          [False, False, False, False, False]],\n",
       "\n",
       "         ...,\n",
       "\n",
       "         [[False, False, False, False, False],\n",
       "          [False, False, False, False, False],\n",
       "          [False, False, False, False, False],\n",
       "          ...,\n",
       "          [False, False, False, False, False],\n",
       "          [False, False, False, False, False],\n",
       "          [False, False, False, False, False]],\n",
       "\n",
       "         [[False, False, False, False, False],\n",
       "          [False, False, False, False, False],\n",
       "          [False, False, False, False, False],\n",
       "          ...,\n",
       "          [False, False, False, False, False],\n",
       "          [False, False, False, False, False],\n",
       "          [False, False, False, False, False]],\n",
       "\n",
       "         [[False, False, False, False, False],\n",
       "          [False, False, False, False, False],\n",
       "          [False, False, False, False, False],\n",
       "          ...,\n",
       "          [False, False, False, False, False],\n",
       "          [False, False, False, False, False],\n",
       "          [False, False, False, False, False]]],\n",
       "\n",
       "\n",
       "        [[[False, False, False, False, False],\n",
       "          [False, False, False, False, False],\n",
       "          [False, False, False, False, False],\n",
       "          ...,\n",
       "          [False, False, False, False, False],\n",
       "          [False, False, False, False, False],\n",
       "          [False, False, False, False, False]],\n",
       "\n",
       "         [[False, False, False, False, False],\n",
       "          [False, False, False, False, False],\n",
       "          [False, False, False, False, False],\n",
       "          ...,\n",
       "          [False, False, False, False, False],\n",
       "          [False, False, False, False, False],\n",
       "          [False, False, False, False, False]],\n",
       "\n",
       "         [[False, False, False, False, False],\n",
       "          [False, False, False, False, False],\n",
       "          [False, False, False, False, False],\n",
       "          ...,\n",
       "          [False, False, False, False, False],\n",
       "          [False, False, False, False, False],\n",
       "          [False, False, False, False, False]],\n",
       "\n",
       "         ...,\n",
       "\n",
       "         [[False, False, False, False, False],\n",
       "          [False, False, False, False, False],\n",
       "          [False, False, False, False, False],\n",
       "          ...,\n",
       "          [False, False, False, False, False],\n",
       "          [False, False, False, False, False],\n",
       "          [False, False, False, False, False]],\n",
       "\n",
       "         [[False, False, False, False, False],\n",
       "          [False, False, False, False, False],\n",
       "          [False, False, False, False, False],\n",
       "          ...,\n",
       "          [False, False, False, False, False],\n",
       "          [False, False, False, False, False],\n",
       "          [False, False, False, False, False]],\n",
       "\n",
       "         [[False, False, False, False, False],\n",
       "          [False, False, False, False, False],\n",
       "          [False, False, False, False, False],\n",
       "          ...,\n",
       "          [False, False, False, False, False],\n",
       "          [False, False, False, False, False],\n",
       "          [False, False, False, False, False]]],\n",
       "\n",
       "\n",
       "        [[[False, False, False, False, False],\n",
       "          [False, False, False, False, False],\n",
       "          [False, False, False, False, False],\n",
       "          ...,\n",
       "          [False, False, False, False, False],\n",
       "          [False, False, False, False, False],\n",
       "          [False, False, False, False, False]],\n",
       "\n",
       "         [[False, False, False, False, False],\n",
       "          [False, False, False, False, False],\n",
       "          [False, False, False, False, False],\n",
       "          ...,\n",
       "          [False, False, False, False, False],\n",
       "          [False, False, False, False, False],\n",
       "          [False, False, False, False, False]],\n",
       "\n",
       "         [[False, False, False, False, False],\n",
       "          [False, False, False, False, False],\n",
       "          [False, False, False, False, False],\n",
       "          ...,\n",
       "          [False, False, False, False, False],\n",
       "          [False, False, False, False, False],\n",
       "          [False, False, False, False, False]],\n",
       "\n",
       "         ...,\n",
       "\n",
       "         [[False, False, False, False, False],\n",
       "          [False, False, False, False, False],\n",
       "          [False, False, False, False, False],\n",
       "          ...,\n",
       "          [False, False, False, False, False],\n",
       "          [False, False, False, False, False],\n",
       "          [False, False, False, False, False]],\n",
       "\n",
       "         [[False, False, False, False, False],\n",
       "          [False, False, False, False, False],\n",
       "          [False, False, False, False, False],\n",
       "          ...,\n",
       "          [False, False, False, False, False],\n",
       "          [False, False, False, False, False],\n",
       "          [False, False, False, False, False]],\n",
       "\n",
       "         [[False, False, False, False, False],\n",
       "          [False, False, False, False, False],\n",
       "          [False, False, False, False, False],\n",
       "          ...,\n",
       "          [False, False, False, False, False],\n",
       "          [False, False, False, False, False],\n",
       "          [False, False, False, False, False]]]]])"
      ]
     },
     "execution_count": 60,
     "metadata": {},
     "output_type": "execute_result"
    }
   ],
   "source": [
    "x_train_1"
   ]
  },
  {
   "cell_type": "markdown",
   "metadata": {},
   "source": [
    "### página 5 slide https://salu133445.github.io/musegan/pdf/musegan-aaai2018-slides.pdf"
   ]
  },
  {
   "cell_type": "code",
   "execution_count": 65,
   "metadata": {},
   "outputs": [],
   "source": [
    "_,_, num_bar, num_timestep, num_pitch, num_track = x_train.shape"
   ]
  },
  {
   "cell_type": "code",
   "execution_count": 66,
   "metadata": {},
   "outputs": [
    {
     "data": {
      "text/plain": [
       "(2074, 6, 4, 96, 84, 5)"
      ]
     },
     "execution_count": 66,
     "metadata": {},
     "output_type": "execute_result"
    }
   ],
   "source": [
    "x_train.shape"
   ]
  },
  {
   "cell_type": "code",
   "execution_count": 67,
   "metadata": {},
   "outputs": [
    {
     "data": {
      "text/plain": [
       "4"
      ]
     },
     "execution_count": 67,
     "metadata": {},
     "output_type": "execute_result"
    }
   ],
   "source": [
    "num_bar"
   ]
  },
  {
   "cell_type": "code",
   "execution_count": 68,
   "metadata": {},
   "outputs": [
    {
     "data": {
      "text/plain": [
       "96"
      ]
     },
     "execution_count": 68,
     "metadata": {},
     "output_type": "execute_result"
    }
   ],
   "source": [
    "num_timestep"
   ]
  },
  {
   "cell_type": "code",
   "execution_count": 69,
   "metadata": {},
   "outputs": [
    {
     "data": {
      "text/plain": [
       "84"
      ]
     },
     "execution_count": 69,
     "metadata": {},
     "output_type": "execute_result"
    }
   ],
   "source": [
    "num_pitch"
   ]
  },
  {
   "cell_type": "code",
   "execution_count": 70,
   "metadata": {},
   "outputs": [
    {
     "data": {
      "text/plain": [
       "5"
      ]
     },
     "execution_count": 70,
     "metadata": {},
     "output_type": "execute_result"
    }
   ],
   "source": [
    "num_track"
   ]
  },
  {
   "cell_type": "code",
   "execution_count": 72,
   "metadata": {},
   "outputs": [
    {
     "data": {
      "text/plain": [
       "12444"
      ]
     },
     "execution_count": 72,
     "metadata": {},
     "output_type": "execute_result"
    }
   ],
   "source": [
    "2074*6 #contains 12,444 four-bar phrases"
   ]
  },
  {
   "cell_type": "markdown",
   "metadata": {},
   "source": [
    "### teste com reshape"
   ]
  },
  {
   "cell_type": "code",
   "execution_count": 83,
   "metadata": {},
   "outputs": [],
   "source": [
    "x = np.random.randn(3,2)"
   ]
  },
  {
   "cell_type": "code",
   "execution_count": 85,
   "metadata": {},
   "outputs": [
    {
     "data": {
      "text/plain": [
       "(3, 2)"
      ]
     },
     "execution_count": 85,
     "metadata": {},
     "output_type": "execute_result"
    }
   ],
   "source": [
    "x.shape"
   ]
  },
  {
   "cell_type": "code",
   "execution_count": 86,
   "metadata": {},
   "outputs": [
    {
     "data": {
      "text/plain": [
       "array([[ 0.58439223, -1.75494801],\n",
       "       [ 0.89833176,  1.33722465],\n",
       "       [ 0.9161476 ,  0.2505769 ]])"
      ]
     },
     "execution_count": 86,
     "metadata": {},
     "output_type": "execute_result"
    }
   ],
   "source": [
    "x"
   ]
  },
  {
   "cell_type": "code",
   "execution_count": 87,
   "metadata": {
    "collapsed": true
   },
   "outputs": [],
   "source": [
    "y = x.reshape(1,2,3)"
   ]
  },
  {
   "cell_type": "code",
   "execution_count": 88,
   "metadata": {},
   "outputs": [
    {
     "data": {
      "text/plain": [
       "(1, 2, 3)"
      ]
     },
     "execution_count": 88,
     "metadata": {},
     "output_type": "execute_result"
    }
   ],
   "source": [
    "y.shape"
   ]
  },
  {
   "cell_type": "code",
   "execution_count": 89,
   "metadata": {},
   "outputs": [
    {
     "data": {
      "text/plain": [
       "array([[[ 0.58439223, -1.75494801,  0.89833176],\n",
       "        [ 1.33722465,  0.9161476 ,  0.2505769 ]]])"
      ]
     },
     "execution_count": 89,
     "metadata": {},
     "output_type": "execute_result"
    }
   ],
   "source": [
    "y"
   ]
  },
  {
   "cell_type": "code",
   "execution_count": 91,
   "metadata": {},
   "outputs": [
    {
     "data": {
      "text/plain": [
       "(2074, 6, 4, 96, 84, 5)"
      ]
     },
     "execution_count": 91,
     "metadata": {},
     "output_type": "execute_result"
    }
   ],
   "source": [
    "x_train.shape"
   ]
  },
  {
   "cell_type": "code",
   "execution_count": 92,
   "metadata": {},
   "outputs": [
    {
     "data": {
      "text/plain": [
       "(4, 96, 84, 8)"
      ]
     },
     "execution_count": 92,
     "metadata": {},
     "output_type": "execute_result"
    }
   ],
   "source": [
    "CONFIG['model']['num_bar'], CONFIG['model']['num_timestep'],CONFIG['model']['num_pitch'], CONFIG['model']['num_track']"
   ]
  },
  {
   "cell_type": "code",
   "execution_count": 93,
   "metadata": {
    "collapsed": true
   },
   "outputs": [],
   "source": [
    "x_train1 = x_train.reshape(-1,4,96,84,5)"
   ]
  },
  {
   "cell_type": "code",
   "execution_count": 103,
   "metadata": {},
   "outputs": [
    {
     "data": {
      "text/plain": [
       "(12444, 4, 96, 84, 5)"
      ]
     },
     "execution_count": 103,
     "metadata": {},
     "output_type": "execute_result"
    }
   ],
   "source": [
    "x_train1.shape"
   ]
  },
  {
   "cell_type": "code",
   "execution_count": null,
   "metadata": {
    "collapsed": true
   },
   "outputs": [],
   "source": []
  },
  {
   "cell_type": "code",
   "execution_count": null,
   "metadata": {
    "collapsed": true
   },
   "outputs": [],
   "source": []
  },
  {
   "cell_type": "code",
   "execution_count": 96,
   "metadata": {},
   "outputs": [
    {
     "data": {
      "text/plain": [
       "(3, 2)"
      ]
     },
     "execution_count": 96,
     "metadata": {},
     "output_type": "execute_result"
    }
   ],
   "source": [
    "x.shape"
   ]
  },
  {
   "cell_type": "code",
   "execution_count": 102,
   "metadata": {},
   "outputs": [],
   "source": [
    "y = x.reshape(-1,2)"
   ]
  },
  {
   "cell_type": "code",
   "execution_count": 99,
   "metadata": {},
   "outputs": [
    {
     "data": {
      "text/plain": [
       "array([[ 0.58439223, -1.75494801],\n",
       "       [ 0.89833176,  1.33722465],\n",
       "       [ 0.9161476 ,  0.2505769 ]])"
      ]
     },
     "execution_count": 99,
     "metadata": {},
     "output_type": "execute_result"
    }
   ],
   "source": [
    "y"
   ]
  },
  {
   "cell_type": "code",
   "execution_count": 100,
   "metadata": {},
   "outputs": [
    {
     "data": {
      "text/plain": [
       "(3, 2)"
      ]
     },
     "execution_count": 100,
     "metadata": {},
     "output_type": "execute_result"
    }
   ],
   "source": [
    "y.shape"
   ]
  },
  {
   "cell_type": "code",
   "execution_count": null,
   "metadata": {
    "collapsed": true
   },
   "outputs": [],
   "source": []
  },
  {
   "cell_type": "code",
   "execution_count": null,
   "metadata": {
    "collapsed": true
   },
   "outputs": [],
   "source": []
  },
  {
   "cell_type": "code",
   "execution_count": 81,
   "metadata": {},
   "outputs": [
    {
     "ename": "ValueError",
     "evalue": "cannot reshape array of size 2006968320 into shape (4,96,84,8)",
     "output_type": "error",
     "traceback": [
      "\u001b[0;31m---------------------------------------------------------------------------\u001b[0m",
      "\u001b[0;31mValueError\u001b[0m                                Traceback (most recent call last)",
      "\u001b[0;32mteste\u001b[0m in \u001b[0;36m<module>\u001b[0;34m()\u001b[0m\n\u001b[1;32m      1\u001b[0m \u001b[0;31m# Reshape data\u001b[0m\u001b[0;34m\u001b[0m\u001b[0;34m\u001b[0m\u001b[0m\n\u001b[0;32m----> 2\u001b[0;31m \u001b[0mx_train_\u001b[0m \u001b[0;34m=\u001b[0m \u001b[0mx_train\u001b[0m\u001b[0;34m.\u001b[0m\u001b[0mreshape\u001b[0m\u001b[0;34m(\u001b[0m\u001b[0;34m-\u001b[0m\u001b[0;36m1\u001b[0m\u001b[0;34m,\u001b[0m \u001b[0mCONFIG\u001b[0m\u001b[0;34m[\u001b[0m\u001b[0;34m'model'\u001b[0m\u001b[0;34m]\u001b[0m\u001b[0;34m[\u001b[0m\u001b[0;34m'num_bar'\u001b[0m\u001b[0;34m]\u001b[0m\u001b[0;34m,\u001b[0m \u001b[0mCONFIG\u001b[0m\u001b[0;34m[\u001b[0m\u001b[0;34m'model'\u001b[0m\u001b[0;34m]\u001b[0m\u001b[0;34m[\u001b[0m\u001b[0;34m'num_timestep'\u001b[0m\u001b[0;34m]\u001b[0m\u001b[0;34m,\u001b[0m\u001b[0mCONFIG\u001b[0m\u001b[0;34m[\u001b[0m\u001b[0;34m'model'\u001b[0m\u001b[0;34m]\u001b[0m\u001b[0;34m[\u001b[0m\u001b[0;34m'num_pitch'\u001b[0m\u001b[0;34m]\u001b[0m\u001b[0;34m,\u001b[0m \u001b[0mCONFIG\u001b[0m\u001b[0;34m[\u001b[0m\u001b[0;34m'model'\u001b[0m\u001b[0;34m]\u001b[0m\u001b[0;34m[\u001b[0m\u001b[0;34m'num_track'\u001b[0m\u001b[0;34m]\u001b[0m\u001b[0;34m)\u001b[0m\u001b[0;34m\u001b[0m\u001b[0m\n\u001b[0m\u001b[1;32m      3\u001b[0m \u001b[0mprint\u001b[0m\u001b[0;34m(\u001b[0m\u001b[0;34m'Training set size:'\u001b[0m\u001b[0;34m,\u001b[0m \u001b[0mlen\u001b[0m\u001b[0;34m(\u001b[0m\u001b[0mx_train\u001b[0m\u001b[0;34m)\u001b[0m\u001b[0;34m)\u001b[0m\u001b[0;34m\u001b[0m\u001b[0m\n",
      "\u001b[0;31mValueError\u001b[0m: cannot reshape array of size 2006968320 into shape (4,96,84,8)"
     ]
    }
   ],
   "source": [
    " # Reshape data\n",
    "x_train_ = x_train.reshape(-1, CONFIG['model']['num_bar'], CONFIG['model']['num_timestep'],CONFIG['model']['num_pitch'], CONFIG['model']['num_track'])\n",
    "print('Training set size:', len(x_train))"
   ]
  },
  {
   "cell_type": "code",
   "execution_count": 80,
   "metadata": {},
   "outputs": [
    {
     "data": {
      "text/plain": [
       "(4, 96, 84, 8)"
      ]
     },
     "execution_count": 80,
     "metadata": {},
     "output_type": "execute_result"
    }
   ],
   "source": [
    "CONFIG['model']['num_bar'], CONFIG['model']['num_timestep'],CONFIG['model']['num_pitch'], CONFIG['model']['num_track']"
   ]
  },
  {
   "cell_type": "code",
   "execution_count": null,
   "metadata": {
    "collapsed": true
   },
   "outputs": [],
   "source": []
  }
 ],
 "metadata": {
  "kernelspec": {
   "display_name": "Python 3",
   "language": "python",
   "name": "python3"
  },
  "language_info": {
   "codemirror_mode": {
    "name": "ipython",
    "version": 3
   },
   "file_extension": ".py",
   "mimetype": "text/x-python",
   "name": "python",
   "nbconvert_exporter": "python",
   "pygments_lexer": "ipython3",
   "version": "3.6.3"
  }
 },
 "nbformat": 4,
 "nbformat_minor": 2
}
