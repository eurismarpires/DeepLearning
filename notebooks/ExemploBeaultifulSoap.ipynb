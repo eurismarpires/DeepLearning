{
 "cells": [
  {
   "cell_type": "code",
   "execution_count": 1,
   "metadata": {},
   "outputs": [],
   "source": [
    "import urllib2"
   ]
  },
  {
   "cell_type": "code",
   "execution_count": 2,
   "metadata": {
    "collapsed": true
   },
   "outputs": [],
   "source": [
    "arxiv = \"https://arxiv.org/abs/1709.07417\"\n",
    "arxiv = \"https://arxiv.org/abs/1709.07255\"\n",
    "arxiv = \"https://arxiv.org/abs/1709.06404\""
   ]
  },
  {
   "cell_type": "code",
   "execution_count": 3,
   "metadata": {},
   "outputs": [],
   "source": [
    "page = urllib2.urlopen(arxiv)"
   ]
  },
  {
   "cell_type": "code",
   "execution_count": 4,
   "metadata": {},
   "outputs": [
    {
     "data": {
      "text/plain": [
       "<addinfourl at 139683948066864 whose fp = <socket._fileobject object at 0x7f0ab420e8d0>>"
      ]
     },
     "execution_count": 4,
     "metadata": {},
     "output_type": "execute_result"
    }
   ],
   "source": [
    "page"
   ]
  },
  {
   "cell_type": "code",
   "execution_count": 5,
   "metadata": {},
   "outputs": [],
   "source": [
    "from bs4 import BeautifulSoup"
   ]
  },
  {
   "cell_type": "code",
   "execution_count": 6,
   "metadata": {},
   "outputs": [
    {
     "name": "stderr",
     "output_type": "stream",
     "text": [
      "/home/eurismar/anaconda3/envs/teste1/lib/python2.7/site-packages/beautifulsoup4-4.5.3-py2.7.egg/bs4/__init__.py:181: UserWarning: No parser was explicitly specified, so I'm using the best available HTML parser for this system (\"lxml\"). This usually isn't a problem, but if you run this code on another system, or in a different virtual environment, it may use a different parser and behave differently.\n",
      "\n",
      "The code that caused this warning is on line 174 of the file /home/eurismar/anaconda3/envs/teste1/lib/python2.7/runpy.py. To get rid of this warning, change code that looks like this:\n",
      "\n",
      " BeautifulSoup([your markup])\n",
      "\n",
      "to this:\n",
      "\n",
      " BeautifulSoup([your markup], \"lxml\")\n",
      "\n"
     ]
    }
   ],
   "source": [
    "soup = BeautifulSoup(page)"
   ]
  },
  {
   "cell_type": "code",
   "execution_count": 7,
   "metadata": {},
   "outputs": [],
   "source": [
    "texto = soup.get_text()"
   ]
  },
  {
   "cell_type": "code",
   "execution_count": 8,
   "metadata": {},
   "outputs": [],
   "source": [
    "posicao = texto.index(\"Abstract:\")"
   ]
  },
  {
   "cell_type": "code",
   "execution_count": 9,
   "metadata": {},
   "outputs": [],
   "source": [
    "posicao_final = texto.index(\"Subjects:\")"
   ]
  },
  {
   "cell_type": "code",
   "execution_count": 10,
   "metadata": {},
   "outputs": [
    {
     "data": {
      "text/plain": [
       "2341"
      ]
     },
     "execution_count": 10,
     "metadata": {},
     "output_type": "execute_result"
    }
   ],
   "source": [
    "posicao_final"
   ]
  },
  {
   "cell_type": "code",
   "execution_count": 11,
   "metadata": {},
   "outputs": [
    {
     "data": {
      "text/plain": [
       "1285"
      ]
     },
     "execution_count": 11,
     "metadata": {},
     "output_type": "execute_result"
    }
   ],
   "source": [
    "posicao"
   ]
  },
  {
   "cell_type": "code",
   "execution_count": 12,
   "metadata": {},
   "outputs": [],
   "source": [
    "resumo = texto[posicao:posicao_final]"
   ]
  },
  {
   "cell_type": "code",
   "execution_count": 13,
   "metadata": {},
   "outputs": [
    {
     "data": {
      "text/plain": [
       "u'Abstract: Recurrent Neural Networks (RNNS) are now widely used on sequence generation\\ntasks due to their ability to learn long-range dependencies and to generate\\nsequences of arbitrary length. However, their left-to-right generation\\nprocedure only allows a limited control from a potential user which makes them\\nunsuitable for interactive and creative usages such as interactive music\\ngeneration. This paper introduces a novel architecture called Anticipation-RNN\\nwhich possesses the assets of the RNN-based generative models while allowing to\\nenforce user-defined positional constraints. We demonstrate its efficiency on\\nthe task of generating melodies satisfying positional constraints in the style\\nof the soprano parts of the J.S. Bach chorale harmonizations. Sampling using\\nthe Anticipation-RNN is of the same order of complexity than sampling from the\\ntraditional RNN model. This fast and interactive generation of musical\\nsequences opens ways to devise real-time systems that could be used for\\ncreative purposes.\\n\\n\\n\\n\\n\\nComments:\\n\\n9 pages, 7 figures\\n\\n\\n'"
      ]
     },
     "execution_count": 13,
     "metadata": {},
     "output_type": "execute_result"
    }
   ],
   "source": [
    "resumo"
   ]
  },
  {
   "cell_type": "code",
   "execution_count": 14,
   "metadata": {},
   "outputs": [],
   "source": [
    "resumo = resumo.replace(\"\\n\",\" \")"
   ]
  },
  {
   "cell_type": "code",
   "execution_count": 15,
   "metadata": {},
   "outputs": [
    {
     "data": {
      "text/plain": [
       "u'Abstract: Recurrent Neural Networks (RNNS) are now widely used on sequence generation tasks due to their ability to learn long-range dependencies and to generate sequences of arbitrary length. However, their left-to-right generation procedure only allows a limited control from a potential user which makes them unsuitable for interactive and creative usages such as interactive music generation. This paper introduces a novel architecture called Anticipation-RNN which possesses the assets of the RNN-based generative models while allowing to enforce user-defined positional constraints. We demonstrate its efficiency on the task of generating melodies satisfying positional constraints in the style of the soprano parts of the J.S. Bach chorale harmonizations. Sampling using the Anticipation-RNN is of the same order of complexity than sampling from the traditional RNN model. This fast and interactive generation of musical sequences opens ways to devise real-time systems that could be used for creative purposes.      Comments:  9 pages, 7 figures   '"
      ]
     },
     "execution_count": 15,
     "metadata": {},
     "output_type": "execute_result"
    }
   ],
   "source": [
    "resumo"
   ]
  },
  {
   "cell_type": "code",
   "execution_count": 16,
   "metadata": {
    "collapsed": true
   },
   "outputs": [],
   "source": [
    "palavras = resumo.split(\" \")"
   ]
  },
  {
   "cell_type": "code",
   "execution_count": 17,
   "metadata": {},
   "outputs": [
    {
     "data": {
      "text/plain": [
       "{u'',\n",
       " u'(RNNS)',\n",
       " u'7',\n",
       " u'9',\n",
       " u'Abstract:',\n",
       " u'Anticipation-RNN',\n",
       " u'Bach',\n",
       " u'Comments:',\n",
       " u'However,',\n",
       " u'J.S.',\n",
       " u'Networks',\n",
       " u'Neural',\n",
       " u'RNN',\n",
       " u'RNN-based',\n",
       " u'Recurrent',\n",
       " u'Sampling',\n",
       " u'This',\n",
       " u'We',\n",
       " u'a',\n",
       " u'ability',\n",
       " u'allowing',\n",
       " u'allows',\n",
       " u'and',\n",
       " u'arbitrary',\n",
       " u'architecture',\n",
       " u'are',\n",
       " u'as',\n",
       " u'assets',\n",
       " u'be',\n",
       " u'called',\n",
       " u'chorale',\n",
       " u'complexity',\n",
       " u'constraints',\n",
       " u'constraints.',\n",
       " u'control',\n",
       " u'could',\n",
       " u'creative',\n",
       " u'demonstrate',\n",
       " u'dependencies',\n",
       " u'devise',\n",
       " u'due',\n",
       " u'efficiency',\n",
       " u'enforce',\n",
       " u'fast',\n",
       " u'figures',\n",
       " u'for',\n",
       " u'from',\n",
       " u'generate',\n",
       " u'generating',\n",
       " u'generation',\n",
       " u'generation.',\n",
       " u'generative',\n",
       " u'harmonizations.',\n",
       " u'in',\n",
       " u'interactive',\n",
       " u'introduces',\n",
       " u'is',\n",
       " u'its',\n",
       " u'learn',\n",
       " u'left-to-right',\n",
       " u'length.',\n",
       " u'limited',\n",
       " u'long-range',\n",
       " u'makes',\n",
       " u'melodies',\n",
       " u'model.',\n",
       " u'models',\n",
       " u'music',\n",
       " u'musical',\n",
       " u'novel',\n",
       " u'now',\n",
       " u'of',\n",
       " u'on',\n",
       " u'only',\n",
       " u'opens',\n",
       " u'order',\n",
       " u'pages,',\n",
       " u'paper',\n",
       " u'parts',\n",
       " u'positional',\n",
       " u'possesses',\n",
       " u'potential',\n",
       " u'procedure',\n",
       " u'purposes.',\n",
       " u'real-time',\n",
       " u'same',\n",
       " u'sampling',\n",
       " u'satisfying',\n",
       " u'sequence',\n",
       " u'sequences',\n",
       " u'soprano',\n",
       " u'style',\n",
       " u'such',\n",
       " u'systems',\n",
       " u'task',\n",
       " u'tasks',\n",
       " u'than',\n",
       " u'that',\n",
       " u'the',\n",
       " u'their',\n",
       " u'them',\n",
       " u'to',\n",
       " u'traditional',\n",
       " u'unsuitable',\n",
       " u'usages',\n",
       " u'used',\n",
       " u'user',\n",
       " u'user-defined',\n",
       " u'using',\n",
       " u'ways',\n",
       " u'which',\n",
       " u'while',\n",
       " u'widely'}"
      ]
     },
     "execution_count": 17,
     "metadata": {},
     "output_type": "execute_result"
    }
   ],
   "source": [
    "set(palavras)"
   ]
  },
  {
   "cell_type": "code",
   "execution_count": 18,
   "metadata": {},
   "outputs": [],
   "source": [
    "set_palavras = set(palavras)"
   ]
  },
  {
   "cell_type": "code",
   "execution_count": 19,
   "metadata": {},
   "outputs": [],
   "source": [
    "lista_palavras = list(set_palavras)"
   ]
  },
  {
   "cell_type": "code",
   "execution_count": 20,
   "metadata": {},
   "outputs": [],
   "source": [
    "lista_palavras.sort()"
   ]
  },
  {
   "cell_type": "code",
   "execution_count": 21,
   "metadata": {},
   "outputs": [
    {
     "name": "stdout",
     "output_type": "stream",
     "text": [
      "\n",
      "(RNNS)\n",
      "7\n",
      "9\n",
      "Abstract:\n",
      "Anticipation-RNN\n",
      "Bach\n",
      "Comments:\n",
      "However,\n",
      "J.S.\n",
      "Networks\n",
      "Neural\n",
      "RNN\n",
      "RNN-based\n",
      "Recurrent\n",
      "Sampling\n",
      "This\n",
      "We\n",
      "a\n",
      "ability\n",
      "allowing\n",
      "allows\n",
      "and\n",
      "arbitrary\n",
      "architecture\n",
      "are\n",
      "as\n",
      "assets\n",
      "be\n",
      "called\n",
      "chorale\n",
      "complexity\n",
      "constraints\n",
      "constraints.\n",
      "control\n",
      "could\n",
      "creative\n",
      "demonstrate\n",
      "dependencies\n",
      "devise\n",
      "due\n",
      "efficiency\n",
      "enforce\n",
      "fast\n",
      "figures\n",
      "for\n",
      "from\n",
      "generate\n",
      "generating\n",
      "generation\n",
      "generation.\n",
      "generative\n",
      "harmonizations.\n",
      "in\n",
      "interactive\n",
      "introduces\n",
      "is\n",
      "its\n",
      "learn\n",
      "left-to-right\n",
      "length.\n",
      "limited\n",
      "long-range\n",
      "makes\n",
      "melodies\n",
      "model.\n",
      "models\n",
      "music\n",
      "musical\n",
      "novel\n",
      "now\n",
      "of\n",
      "on\n",
      "only\n",
      "opens\n",
      "order\n",
      "pages,\n",
      "paper\n",
      "parts\n",
      "positional\n",
      "possesses\n",
      "potential\n",
      "procedure\n",
      "purposes.\n",
      "real-time\n",
      "same\n",
      "sampling\n",
      "satisfying\n",
      "sequence\n",
      "sequences\n",
      "soprano\n",
      "style\n",
      "such\n",
      "systems\n",
      "task\n",
      "tasks\n",
      "than\n",
      "that\n",
      "the\n",
      "their\n",
      "them\n",
      "to\n",
      "traditional\n",
      "unsuitable\n",
      "usages\n",
      "used\n",
      "user\n",
      "user-defined\n",
      "using\n",
      "ways\n",
      "which\n",
      "while\n",
      "widely\n"
     ]
    }
   ],
   "source": [
    "for p in lista_palavras:\n",
    "    print(p)"
   ]
  },
  {
   "cell_type": "code",
   "execution_count": 22,
   "metadata": {},
   "outputs": [
    {
     "data": {
      "text/plain": [
       "113"
      ]
     },
     "execution_count": 22,
     "metadata": {},
     "output_type": "execute_result"
    }
   ],
   "source": [
    "len(lista_palavras)"
   ]
  },
  {
   "cell_type": "code",
   "execution_count": null,
   "metadata": {
    "collapsed": true
   },
   "outputs": [],
   "source": []
  },
  {
   "cell_type": "code",
   "execution_count": null,
   "metadata": {
    "collapsed": true
   },
   "outputs": [],
   "source": []
  },
  {
   "cell_type": "code",
   "execution_count": null,
   "metadata": {
    "collapsed": true
   },
   "outputs": [],
   "source": []
  }
 ],
 "metadata": {
  "kernelspec": {
   "display_name": "Python [conda env:teste1]",
   "language": "python",
   "name": "conda-env-teste1-py"
  },
  "language_info": {
   "codemirror_mode": {
    "name": "ipython",
    "version": 2
   },
   "file_extension": ".py",
   "mimetype": "text/x-python",
   "name": "python",
   "nbconvert_exporter": "python",
   "pygments_lexer": "ipython2",
   "version": "2.7.13"
  }
 },
 "nbformat": 4,
 "nbformat_minor": 1
}
