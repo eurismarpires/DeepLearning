{
 "cells": [
  {
   "cell_type": "code",
   "execution_count": 4,
   "metadata": {},
   "outputs": [],
   "source": [
    "from keras.models import Sequential,Model\n",
    "from keras.layers import LSTM, Dense"
   ]
  },
  {
   "cell_type": "code",
   "execution_count": 29,
   "metadata": {},
   "outputs": [
    {
     "name": "stdout",
     "output_type": "stream",
     "text": [
      "_________________________________________________________________\n",
      "Layer (type)                 Output Shape              Param #   \n",
      "=================================================================\n",
      "lstm_71 (LSTM)               (None, 5, 100)            80400     \n",
      "_________________________________________________________________\n",
      "lstm_72 (LSTM)               (None, 5, 200)            240800    \n",
      "_________________________________________________________________\n",
      "lstm_73 (LSTM)               (None, 5, 300)            601200    \n",
      "_________________________________________________________________\n",
      "lstm_74 (LSTM)               (None, 5, 400)            1121600   \n",
      "_________________________________________________________________\n",
      "lstm_75 (LSTM)               (None, 5, 500)            1802000   \n",
      "_________________________________________________________________\n",
      "lstm_76 (LSTM)               (None, 600)               2642400   \n",
      "_________________________________________________________________\n",
      "dense_14 (Dense)             (None, 100)               60100     \n",
      "=================================================================\n",
      "Total params: 6,548,500\n",
      "Trainable params: 6,548,500\n",
      "Non-trainable params: 0\n",
      "_________________________________________________________________\n",
      "None\n"
     ]
    }
   ],
   "source": [
    "# define model\n",
    "length = 5\n",
    "n_features = 100\n",
    "model = Sequential()\n",
    "model.add(LSTM(100, input_shape=(length, n_features), return_sequences= True))\n",
    "model.add(LSTM(200, return_sequences= True))\n",
    "model.add(LSTM(300, return_sequences= True))\n",
    "model.add(LSTM(400, return_sequences= True))\n",
    "model.add(LSTM(500, return_sequences= True))\n",
    "model.add(LSTM(600))\n",
    "model.add(Dense(n_features, activation= 'softmax'))\n",
    "print(model.summary())"
   ]
  },
  {
   "cell_type": "code",
   "execution_count": 32,
   "metadata": {},
   "outputs": [
    {
     "name": "stdout",
     "output_type": "stream",
     "text": [
      "80400\n",
      "240800\n",
      "601200\n",
      "1121600\n",
      "1802000\n",
      "2642400\n",
      "60100\n",
      "Total params: 6548500\n"
     ]
    }
   ],
   "source": [
    "size_of_input = n_features\n",
    "size_of_output = 100\n",
    "layer1 = 4 * ((size_of_input + 1) * size_of_output + size_of_output**2)\n",
    "print(layer1)\n",
    "\n",
    "size_of_input = 100\n",
    "size_of_output = 200\n",
    "layer2 = 4 * ((size_of_input + 1) * size_of_output + size_of_output**2)\n",
    "print(layer2)\n",
    "\n",
    "size_of_input = 200\n",
    "size_of_output = 300\n",
    "layer3 = 4 * ((size_of_input + 1) * size_of_output + size_of_output**2)\n",
    "print(layer3)\n",
    "\n",
    "size_of_input = 300\n",
    "size_of_output = 400\n",
    "layer4 = 4 * ((size_of_input + 1) * size_of_output + size_of_output**2)\n",
    "print(layer4)\n",
    "\n",
    "size_of_input = 400\n",
    "size_of_output = 500\n",
    "layer5 = 4 * ((size_of_input + 1) * size_of_output + size_of_output**2)\n",
    "print(layer5)\n",
    "\n",
    "size_of_input = 500\n",
    "size_of_output = 600\n",
    "layer6 = 4 * ((size_of_input + 1) * size_of_output + size_of_output**2)\n",
    "print(layer6)\n",
    "\n",
    "layer7 = size_of_output * n_features + n_features\n",
    "print(layer7)\n",
    "\n",
    "params = layer1 + layer2 + layer3 + layer4 + layer5 + layer6 + layer7\n",
    "print('Total params: {}'.format(params))"
   ]
  },
  {
   "cell_type": "code",
   "execution_count": null,
   "metadata": {
    "collapsed": true
   },
   "outputs": [],
   "source": []
  },
  {
   "cell_type": "code",
   "execution_count": null,
   "metadata": {
    "collapsed": true
   },
   "outputs": [],
   "source": []
  }
 ],
 "metadata": {
  "kernelspec": {
   "display_name": "Python 3",
   "language": "python",
   "name": "python3"
  },
  "language_info": {
   "codemirror_mode": {
    "name": "ipython",
    "version": 3
   },
   "file_extension": ".py",
   "mimetype": "text/x-python",
   "name": "python",
   "nbconvert_exporter": "python",
   "pygments_lexer": "ipython3",
   "version": "3.6.3"
  }
 },
 "nbformat": 4,
 "nbformat_minor": 2
}
