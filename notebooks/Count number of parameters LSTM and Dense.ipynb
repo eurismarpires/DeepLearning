{
 "cells": [
  {
   "cell_type": "code",
   "execution_count": 4,
   "metadata": {},
   "outputs": [],
   "source": [
    "from keras.models import Sequential,Model\n",
    "from keras.layers import LSTM, Dense"
   ]
  },
  {
   "cell_type": "code",
   "execution_count": 5,
   "metadata": {},
   "outputs": [
    {
     "name": "stdout",
     "output_type": "stream",
     "text": [
      "_________________________________________________________________\n",
      "Layer (type)                 Output Shape              Param #   \n",
      "=================================================================\n",
      "lstm_3 (LSTM)                (None, 5, 250)            351000    \n",
      "_________________________________________________________________\n",
      "lstm_4 (LSTM)                (None, 512)               1562624   \n",
      "_________________________________________________________________\n",
      "dense_1 (Dense)              (None, 100)               51300     \n",
      "=================================================================\n",
      "Total params: 1,964,924\n",
      "Trainable params: 1,964,924\n",
      "Non-trainable params: 0\n",
      "_________________________________________________________________\n",
      "None\n"
     ]
    }
   ],
   "source": [
    "# define model\n",
    "length = 5\n",
    "n_features = 100\n",
    "model = Sequential()\n",
    "model.add(LSTM(250, input_shape=(length, n_features), return_sequences= True))\n",
    "model.add(LSTM(512))\n",
    "model.add(Dense(n_features, activation= 'softmax'))\n",
    "print(model.summary())"
   ]
  },
  {
   "cell_type": "code",
   "execution_count": 7,
   "metadata": {},
   "outputs": [
    {
     "name": "stdout",
     "output_type": "stream",
     "text": [
      "351000\n",
      "1562624\n",
      "51300\n",
      "Total params: 1964924\n"
     ]
    }
   ],
   "source": [
    "size_of_input = n_features\n",
    "size_of_output = 250\n",
    "layer1 = 4 * ((size_of_input + 1) * size_of_output + size_of_output**2)\n",
    "print(layer1)\n",
    "size_of_input = 250\n",
    "size_of_output = 512\n",
    "layer2 = 4 * ((size_of_input + 1) * size_of_output + size_of_output**2)\n",
    "print(layer2)\n",
    "layer3 = size_of_output * n_features + n_features\n",
    "print(layer3)\n",
    "params = layer1 + layer2 + layer3\n",
    "print('Total params: {}'.format(params))"
   ]
  },
  {
   "cell_type": "code",
   "execution_count": null,
   "metadata": {
    "collapsed": true
   },
   "outputs": [],
   "source": []
  }
 ],
 "metadata": {
  "kernelspec": {
   "display_name": "Python 3",
   "language": "python",
   "name": "python3"
  },
  "language_info": {
   "codemirror_mode": {
    "name": "ipython",
    "version": 3
   },
   "file_extension": ".py",
   "mimetype": "text/x-python",
   "name": "python",
   "nbconvert_exporter": "python",
   "pygments_lexer": "ipython3",
   "version": "3.6.3"
  }
 },
 "nbformat": 4,
 "nbformat_minor": 2
}
